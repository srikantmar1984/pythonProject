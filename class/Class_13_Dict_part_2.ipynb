{
 "cells": [
  {
   "cell_type": "markdown",
   "id": "a0bf07ff",
   "metadata": {},
   "source": [
    "# Dictionary"
   ]
  },
  {
   "cell_type": "code",
   "execution_count": 1,
   "id": "6f06ee67",
   "metadata": {},
   "outputs": [],
   "source": [
    "emp_data = {'emp_1':{'Age':29,'Salary':5600000,'Name':'Salahuddin'},\n",
    "           'emp_2':{'Age':39,'Salary':None,'Name':'Alan'},\n",
    "           'emp_3':{'Age':39,'Salary':9000000,'Name':'apurva'},\n",
    "           'emp_4':{'Age':40,'Salary':7600000,'Name':'apurva'}}"
   ]
  },
  {
   "cell_type": "code",
   "execution_count": null,
   "id": "4a245c11",
   "metadata": {},
   "outputs": [],
   "source": [
    "# Task 1- Try to extract  emp_4 and check the results\n",
    "# Task 2 - Try to extract emp_6 and check the results"
   ]
  },
  {
   "cell_type": "markdown",
   "id": "bb0bda9c",
   "metadata": {},
   "source": [
    "# Update the dictionary\n",
    "\n",
    "- If Key is present ----> The existing data will be modified\n",
    "\n",
    "- If Key is not present ---> It will add the data"
   ]
  },
  {
   "cell_type": "code",
   "execution_count": 45,
   "id": "62a6c4dd",
   "metadata": {},
   "outputs": [],
   "source": [
    "emp_data = {'emp_1':{'Age':29,'Salary':5600000,'Name':'Salahuddin'},\n",
    "           'emp_2':{'Age':39,'Salary':None,'Name':'Alan'},\n",
    "           'emp_3':{'Age':39,'Salary':9000000,'Name':'apurva'},\n",
    "           'emp_4':{'Age':40,'Salary':7600000,'Name':'apurva'}}\n",
    "\n",
    "emp_data['emp_4'] = {'Age':40,'Salary':9600000,'Name':'Amanpal'}\n"
   ]
  },
  {
   "cell_type": "code",
   "execution_count": 47,
   "id": "6c9913eb",
   "metadata": {},
   "outputs": [
    {
     "ename": "KeyError",
     "evalue": "'emp_5'",
     "output_type": "error",
     "traceback": [
      "\u001b[1;31m---------------------------------------------------------------------------\u001b[0m",
      "\u001b[1;31mKeyError\u001b[0m                                  Traceback (most recent call last)",
      "Input \u001b[1;32mIn [47]\u001b[0m, in \u001b[0;36m<cell line: 6>\u001b[1;34m()\u001b[0m\n\u001b[0;32m      1\u001b[0m emp_data \u001b[38;5;241m=\u001b[39m {\u001b[38;5;124m'\u001b[39m\u001b[38;5;124memp_1\u001b[39m\u001b[38;5;124m'\u001b[39m:{\u001b[38;5;124m'\u001b[39m\u001b[38;5;124mAge\u001b[39m\u001b[38;5;124m'\u001b[39m:\u001b[38;5;241m29\u001b[39m,\u001b[38;5;124m'\u001b[39m\u001b[38;5;124mSalary\u001b[39m\u001b[38;5;124m'\u001b[39m:\u001b[38;5;241m5600000\u001b[39m,\u001b[38;5;124m'\u001b[39m\u001b[38;5;124mName\u001b[39m\u001b[38;5;124m'\u001b[39m:\u001b[38;5;124m'\u001b[39m\u001b[38;5;124mSalahuddin\u001b[39m\u001b[38;5;124m'\u001b[39m},\n\u001b[0;32m      2\u001b[0m            \u001b[38;5;124m'\u001b[39m\u001b[38;5;124memp_2\u001b[39m\u001b[38;5;124m'\u001b[39m:{\u001b[38;5;124m'\u001b[39m\u001b[38;5;124mAge\u001b[39m\u001b[38;5;124m'\u001b[39m:\u001b[38;5;241m39\u001b[39m,\u001b[38;5;124m'\u001b[39m\u001b[38;5;124mSalary\u001b[39m\u001b[38;5;124m'\u001b[39m:\u001b[38;5;28;01mNone\u001b[39;00m,\u001b[38;5;124m'\u001b[39m\u001b[38;5;124mName\u001b[39m\u001b[38;5;124m'\u001b[39m:\u001b[38;5;124m'\u001b[39m\u001b[38;5;124mAlan\u001b[39m\u001b[38;5;124m'\u001b[39m},\n\u001b[0;32m      3\u001b[0m            \u001b[38;5;124m'\u001b[39m\u001b[38;5;124memp_3\u001b[39m\u001b[38;5;124m'\u001b[39m:{\u001b[38;5;124m'\u001b[39m\u001b[38;5;124mAge\u001b[39m\u001b[38;5;124m'\u001b[39m:\u001b[38;5;241m39\u001b[39m,\u001b[38;5;124m'\u001b[39m\u001b[38;5;124mSalary\u001b[39m\u001b[38;5;124m'\u001b[39m:\u001b[38;5;241m9000000\u001b[39m,\u001b[38;5;124m'\u001b[39m\u001b[38;5;124mName\u001b[39m\u001b[38;5;124m'\u001b[39m:\u001b[38;5;124m'\u001b[39m\u001b[38;5;124mapurva\u001b[39m\u001b[38;5;124m'\u001b[39m},\n\u001b[0;32m      4\u001b[0m            \u001b[38;5;124m'\u001b[39m\u001b[38;5;124memp_4\u001b[39m\u001b[38;5;124m'\u001b[39m:{\u001b[38;5;124m'\u001b[39m\u001b[38;5;124mAge\u001b[39m\u001b[38;5;124m'\u001b[39m:\u001b[38;5;241m40\u001b[39m,\u001b[38;5;124m'\u001b[39m\u001b[38;5;124mSalary\u001b[39m\u001b[38;5;124m'\u001b[39m:\u001b[38;5;241m7600000\u001b[39m,\u001b[38;5;124m'\u001b[39m\u001b[38;5;124mName\u001b[39m\u001b[38;5;124m'\u001b[39m:\u001b[38;5;124m'\u001b[39m\u001b[38;5;124mapurva\u001b[39m\u001b[38;5;124m'\u001b[39m}}\n\u001b[1;32m----> 6\u001b[0m \u001b[43memp_data\u001b[49m\u001b[43m[\u001b[49m\u001b[38;5;124;43m'\u001b[39;49m\u001b[38;5;124;43memp_5\u001b[39;49m\u001b[38;5;124;43m'\u001b[39;49m\u001b[43m]\u001b[49m\n",
      "\u001b[1;31mKeyError\u001b[0m: 'emp_5'"
     ]
    }
   ],
   "source": [
    "emp_data = {'emp_1':{'Age':29,'Salary':5600000,'Name':'Salahuddin'},\n",
    "           'emp_2':{'Age':39,'Salary':None,'Name':'Alan'},\n",
    "           'emp_3':{'Age':39,'Salary':9000000,'Name':'apurva'},\n",
    "           'emp_4':{'Age':40,'Salary':7600000,'Name':'apurva'}}\n",
    "\n",
    "emp_data['emp_5'] \n"
   ]
  },
  {
   "cell_type": "code",
   "execution_count": 6,
   "id": "1825fb81",
   "metadata": {},
   "outputs": [
    {
     "data": {
      "text/plain": [
       "{'emp_1': {'Age': 29, 'Salary': 5600000, 'Name': 'Salahuddin'},\n",
       " 'emp_2': {'Age': 39, 'Salary': None, 'Name': 'Alan'},\n",
       " 'emp_3': {'Age': 39, 'Salary': 9000000, 'Name': 'apurva'},\n",
       " 'emp_4': {'Age': 40, 'Salary': 7600000, 'Name': 'apurva'},\n",
       " 'emp_5': {'Age': 40, 'Salary': 9600000, 'Name': 'Devanshish'}}"
      ]
     },
     "execution_count": 6,
     "metadata": {},
     "output_type": "execute_result"
    }
   ],
   "source": [
    "emp_data = {'emp_1':{'Age':29,'Salary':5600000,'Name':'Salahuddin'},\n",
    "           'emp_2':{'Age':39,'Salary':None,'Name':'Alan'},\n",
    "           'emp_3':{'Age':39,'Salary':9000000,'Name':'apurva'},\n",
    "           'emp_4':{'Age':40,'Salary':7600000,'Name':'apurva'}}\n",
    "\n",
    "emp_data['emp_5'] = {'Age':40,'Salary':9600000,'Name':'Devanshish'}\n",
    "\n",
    "emp_data"
   ]
  },
  {
   "cell_type": "markdown",
   "id": "4e313d0a",
   "metadata": {},
   "source": [
    "# Methods of dic"
   ]
  },
  {
   "cell_type": "code",
   "execution_count": 7,
   "id": "7f12d859",
   "metadata": {},
   "outputs": [
    {
     "name": "stdout",
     "output_type": "stream",
     "text": [
      "['__class__', '__class_getitem__', '__contains__', '__delattr__', '__delitem__', '__dir__', '__doc__', '__eq__', '__format__', '__ge__', '__getattribute__', '__getitem__', '__gt__', '__hash__', '__init__', '__init_subclass__', '__ior__', '__iter__', '__le__', '__len__', '__lt__', '__ne__', '__new__', '__or__', '__reduce__', '__reduce_ex__', '__repr__', '__reversed__', '__ror__', '__setattr__', '__setitem__', '__sizeof__', '__str__', '__subclasshook__', 'clear', 'copy', 'fromkeys', 'get', 'items', 'keys', 'pop', 'popitem', 'setdefault', 'update', 'values']\n"
     ]
    }
   ],
   "source": [
    "print(dir(dict))"
   ]
  },
  {
   "cell_type": "markdown",
   "id": "c8d293ec",
   "metadata": {},
   "source": [
    "# Methods to add and access the elements from the dic\n",
    "\n",
    "- Get\n",
    "- Setdefault\n",
    "- update"
   ]
  },
  {
   "cell_type": "code",
   "execution_count": 48,
   "id": "e47a282f",
   "metadata": {},
   "outputs": [
    {
     "name": "stdout",
     "output_type": "stream",
     "text": [
      "{'Age': 40, 'Salary': 7600000, 'Name': 'apurva'}\n"
     ]
    }
   ],
   "source": [
    "# If key is present it will throw the values \n",
    "emp_data = {'emp_1':{'Age':29,'Salary':5600000,'Name':'Salahuddin'},\n",
    "           'emp_2':{'Age':39,'Salary':None,'Name':'Alan'},\n",
    "           'emp_3':{'Age':39,'Salary':9000000,'Name':'apurva'},\n",
    "           'emp_4':{'Age':40,'Salary':7600000,'Name':'apurva'}}\n",
    "\n",
    "print(emp_data.get('emp_4'))\n"
   ]
  },
  {
   "cell_type": "code",
   "execution_count": 49,
   "id": "dd044316",
   "metadata": {},
   "outputs": [
    {
     "name": "stdout",
     "output_type": "stream",
     "text": [
      "None\n"
     ]
    }
   ],
   "source": [
    "# If key is not present it will by default give None as an output \n",
    "emp_data = {'emp_1':{'Age':29,'Salary':5600000,'Name':'Salahuddin'},\n",
    "           'emp_2':{'Age':39,'Salary':None,'Name':'Alan'},\n",
    "           'emp_3':{'Age':39,'Salary':9000000,'Name':'apurva'},\n",
    "           'emp_4':{'Age':40,'Salary':7600000,'Name':'apurva'}}\n",
    "\n",
    "print(emp_data.get('emp_5'))\n"
   ]
  },
  {
   "cell_type": "code",
   "execution_count": 53,
   "id": "acaffff0",
   "metadata": {},
   "outputs": [
    {
     "name": "stdout",
     "output_type": "stream",
     "text": [
      "The employee details are not present\n"
     ]
    }
   ],
   "source": [
    "# If key is not present it will by default give None as an output but we can customize this\n",
    "emp_data = {'emp_1':{'Age':29,'Salary':5600000,'Name':'Salahuddin'},\n",
    "           'emp_2':{'Age':39,'Salary':None,'Name':'Alan'},\n",
    "           'emp_3':{'Age':39,'Salary':9000000,'Name':'apurva'},\n",
    "           'emp_4':{'Age':40,'Salary':7600000,'Name':'apurva'}}\n",
    "\n",
    "print(emp_data.get('emp_5','The employee details are not present'))\n",
    "\n",
    "#print(emp_data.get('emp_5') , {'Age':40,'Salary':7600000,'Name':'Alan'})"
   ]
  },
  {
   "cell_type": "markdown",
   "id": "54251f9b",
   "metadata": {},
   "source": [
    "# Setdefault"
   ]
  },
  {
   "cell_type": "code",
   "execution_count": 54,
   "id": "0be7324b",
   "metadata": {},
   "outputs": [
    {
     "name": "stdout",
     "output_type": "stream",
     "text": [
      "{'Age': 39, 'Salary': None, 'Name': 'Alan'}\n"
     ]
    }
   ],
   "source": [
    "# If key is present it will extract the values \n",
    "emp_data = {'emp_1':{'Age':29,'Salary':5600000,'Name':'Salahuddin'},\n",
    "           'emp_2':{'Age':39,'Salary':None,'Name':'Alan'},\n",
    "           'emp_3':{'Age':39,'Salary':9000000,'Name':'apurva'},\n",
    "           'emp_4':{'Age':40,'Salary':7600000,'Name':'apurva'}}\n",
    "\n",
    "\n",
    "print(emp_data.setdefault('emp_2'))"
   ]
  },
  {
   "cell_type": "code",
   "execution_count": 55,
   "id": "a2cecbce",
   "metadata": {},
   "outputs": [
    {
     "name": "stdout",
     "output_type": "stream",
     "text": [
      "None\n"
     ]
    }
   ],
   "source": [
    "# If key is not present instead of error it'll give me None by default\n",
    "emp_data = {'emp_1':{'Age':29,'Salary':5600000,'Name':'Salahuddin'},\n",
    "           'emp_2':{'Age':39,'Salary':None,'Name':'Alan'},\n",
    "           'emp_3':{'Age':39,'Salary':9000000,'Name':'apurva'},\n",
    "           'emp_4':{'Age':40,'Salary':7600000,'Name':'apurva'}}\n",
    "\n",
    "\n",
    "print(emp_data.setdefault('emp_5'))\n",
    "\n"
   ]
  },
  {
   "cell_type": "code",
   "execution_count": 56,
   "id": "9e26a15b",
   "metadata": {},
   "outputs": [
    {
     "name": "stdout",
     "output_type": "stream",
     "text": [
      "Key not present\n"
     ]
    }
   ],
   "source": [
    "# If key is not present I can customize the output\n",
    "emp_data = {'emp_1':{'Age':29,'Salary':5600000,'Name':'Salahuddin'},\n",
    "           'emp_2':{'Age':39,'Salary':None,'Name':'Alan'},\n",
    "           'emp_3':{'Age':39,'Salary':9000000,'Name':'apurva'},\n",
    "           'emp_4':{'Age':40,'Salary':7600000,'Name':'apurva'}}\n",
    "\n",
    "\n",
    "print(emp_data.setdefault('emp_5', 'Key not present'))\n"
   ]
  },
  {
   "cell_type": "code",
   "execution_count": 57,
   "id": "d347f691",
   "metadata": {},
   "outputs": [
    {
     "name": "stdout",
     "output_type": "stream",
     "text": [
      "{'Age': 40, 'Salary': 7600000, 'Name': 'Kalyan'}\n",
      "{'emp_1': {'Age': 29, 'Salary': 5600000, 'Name': 'Salahuddin'}, 'emp_2': {'Age': 39, 'Salary': None, 'Name': 'Alan'}, 'emp_3': {'Age': 39, 'Salary': 9000000, 'Name': 'apurva'}, 'emp_4': {'Age': 40, 'Salary': 7600000, 'Name': 'apurva'}, 'emp_5': {'Age': 40, 'Salary': 7600000, 'Name': 'Kalyan'}}\n"
     ]
    }
   ],
   "source": [
    "# If key is not present I can update the values but in get it is not possible\n",
    "emp_data = {'emp_1':{'Age':29,'Salary':5600000,'Name':'Salahuddin'},\n",
    "           'emp_2':{'Age':39,'Salary':None,'Name':'Alan'},\n",
    "           'emp_3':{'Age':39,'Salary':9000000,'Name':'apurva'},\n",
    "           'emp_4':{'Age':40,'Salary':7600000,'Name':'apurva'}}\n",
    "\n",
    "\n",
    "print(emp_data.setdefault('emp_5', {'Age':40,'Salary':7600000,'Name':'Kalyan'}))\n",
    "\n",
    "\n",
    "print(emp_data)"
   ]
  },
  {
   "cell_type": "markdown",
   "id": "eb63a5c5",
   "metadata": {},
   "source": [
    "# Update"
   ]
  },
  {
   "cell_type": "code",
   "execution_count": 58,
   "id": "554a66b9",
   "metadata": {},
   "outputs": [
    {
     "name": "stdout",
     "output_type": "stream",
     "text": [
      "None\n"
     ]
    }
   ],
   "source": [
    "emp_data = {'emp_1':{'Age':29,'Salary':5600000,'Name':'Salahuddin'},\n",
    "           'emp_2':{'Age':39,'Salary':None,'Name':'Alan'},\n",
    "           'emp_3':{'Age':39,'Salary':9000000,'Name':'apurva'},\n",
    "           'emp_4':{'Age':40,'Salary':7600000,'Name':'apurva'}}\n",
    "\n",
    "emp_data_1 = {'emp_5':{'Age':40,'Salary':7600000,'Name':'naiya'},\n",
    "             'emp_6':{'Age':40,'Salary':7600000,'Name':'ratuja'}}\n",
    "\n",
    "\n",
    "print(emp_data.update(emp_data_1))"
   ]
  },
  {
   "cell_type": "code",
   "execution_count": 59,
   "id": "a5235056",
   "metadata": {},
   "outputs": [
    {
     "data": {
      "text/plain": [
       "{'emp_1': {'Age': 29, 'Salary': 5600000, 'Name': 'Salahuddin'},\n",
       " 'emp_2': {'Age': 39, 'Salary': None, 'Name': 'Alan'},\n",
       " 'emp_3': {'Age': 39, 'Salary': 9000000, 'Name': 'apurva'},\n",
       " 'emp_4': {'Age': 40, 'Salary': 7600000, 'Name': 'apurva'},\n",
       " 'emp_5': {'Age': 40, 'Salary': 7600000, 'Name': 'naiya'},\n",
       " 'emp_6': {'Age': 40, 'Salary': 7600000, 'Name': 'ratuja'}}"
      ]
     },
     "execution_count": 59,
     "metadata": {},
     "output_type": "execute_result"
    }
   ],
   "source": [
    "emp_data"
   ]
  },
  {
   "cell_type": "code",
   "execution_count": 62,
   "id": "f39f828e",
   "metadata": {},
   "outputs": [
    {
     "name": "stdout",
     "output_type": "stream",
     "text": [
      "None\n"
     ]
    }
   ],
   "source": [
    "emp_data = {'emp_1':{'Age':29,'Salary':5600000,'Name':'Salahuddin'},\n",
    "           'emp_2':{'Age':39,'Salary':None,'Name':'Alan'},\n",
    "           'emp_3':{'Age':39,'Salary':9000000,'Name':'apurva'},\n",
    "           'emp_4':{'Age':40,'Salary':7600000,'Name':'apurva'}}\n",
    "\n",
    "emp_data_1 = {'emp_5':{'Age':40,'Salary':7600000},\n",
    "             'emp_6':None}\n",
    "\n",
    "\n",
    "print(emp_data.update(emp_data_1))"
   ]
  },
  {
   "cell_type": "code",
   "execution_count": 64,
   "id": "363fd454",
   "metadata": {},
   "outputs": [
    {
     "data": {
      "text/plain": [
       "{'Age': 40, 'Salary': 7600000}"
      ]
     },
     "execution_count": 64,
     "metadata": {},
     "output_type": "execute_result"
    }
   ],
   "source": [
    "emp_data['emp_5']"
   ]
  },
  {
   "cell_type": "markdown",
   "id": "e22f8e04",
   "metadata": {},
   "source": [
    "# Methods to remove the elements from the dic\n",
    "- Pop\n",
    "- popitem"
   ]
  },
  {
   "cell_type": "code",
   "execution_count": 66,
   "id": "e8c50b4a",
   "metadata": {},
   "outputs": [
    {
     "name": "stdout",
     "output_type": "stream",
     "text": [
      "['__class__', '__class_getitem__', '__contains__', '__delattr__', '__delitem__', '__dir__', '__doc__', '__eq__', '__format__', '__ge__', '__getattribute__', '__getitem__', '__gt__', '__hash__', '__init__', '__init_subclass__', '__ior__', '__iter__', '__le__', '__len__', '__lt__', '__ne__', '__new__', '__or__', '__reduce__', '__reduce_ex__', '__repr__', '__reversed__', '__ror__', '__setattr__', '__setitem__', '__sizeof__', '__str__', '__subclasshook__', 'clear', 'copy', 'fromkeys', 'get', 'items', 'keys', 'pop', 'popitem', 'setdefault', 'update', 'values']\n"
     ]
    }
   ],
   "source": [
    "print(dir(dict))"
   ]
  },
  {
   "cell_type": "code",
   "execution_count": 83,
   "id": "e6b79f29",
   "metadata": {},
   "outputs": [
    {
     "data": {
      "text/plain": [
       "{'Age': 39, 'Salary': 9000000, 'Name': 'apurva'}"
      ]
     },
     "execution_count": 83,
     "metadata": {},
     "output_type": "execute_result"
    }
   ],
   "source": [
    "# If key is present\n",
    "emp_data = {'emp_1':{'Age':29,'Salary':5600000,'Name':'Salahuddin'},\n",
    "           'emp_2':{'Age':39,'Salary':None,'Name':'Alan'},\n",
    "           'emp_3':{'Age':39,'Salary':9000000,'Name':'apurva'},\n",
    "           'emp_4':{'Age':40,'Salary':7600000,'Name':'apurva'}}\n",
    "\n",
    "emp_data.pop('emp_3')"
   ]
  },
  {
   "cell_type": "code",
   "execution_count": 68,
   "id": "5515799e",
   "metadata": {},
   "outputs": [
    {
     "data": {
      "text/plain": [
       "{'emp_1': {'Age': 29, 'Salary': 5600000, 'Name': 'Salahuddin'},\n",
       " 'emp_2': {'Age': 39, 'Salary': None, 'Name': 'Alan'},\n",
       " 'emp_4': {'Age': 40, 'Salary': 7600000, 'Name': 'apurva'}}"
      ]
     },
     "execution_count": 68,
     "metadata": {},
     "output_type": "execute_result"
    }
   ],
   "source": [
    "emp_data"
   ]
  },
  {
   "cell_type": "code",
   "execution_count": 89,
   "id": "de5ea9ac",
   "metadata": {},
   "outputs": [
    {
     "data": {
      "text/plain": [
       "'error'"
      ]
     },
     "execution_count": 89,
     "metadata": {},
     "output_type": "execute_result"
    }
   ],
   "source": [
    "# If key is not present\n",
    "emp_data = {'emp_1':{'Age':29,'Salary':5600000,'Name':'Salahuddin'},\n",
    "           'emp_2':{'Age':39,'Salary':None,'Name':'Alan'},\n",
    "           'emp_3':{'Age':39,'Salary':9000000,'Name':'apurva'},\n",
    "           'emp_4':{'Age':40,'Salary':7600000,'Name':'apurva'}}\n",
    "\n",
    "emp_data.pop('emp_5','error')\n"
   ]
  },
  {
   "cell_type": "markdown",
   "id": "17f63964",
   "metadata": {},
   "source": [
    "# Pop item"
   ]
  },
  {
   "cell_type": "code",
   "execution_count": 84,
   "id": "6114090b",
   "metadata": {},
   "outputs": [
    {
     "data": {
      "text/plain": [
       "('emp_4', {'Age': 40, 'Salary': 7600000, 'Name': 'apurva'})"
      ]
     },
     "execution_count": 84,
     "metadata": {},
     "output_type": "execute_result"
    }
   ],
   "source": [
    "# By default it will pop and give me the complete pair of my data\n",
    "emp_data = {'emp_1':{'Age':29,'Salary':5600000,'Name':'Salahuddin'},\n",
    "           'emp_2':{'Age':39,'Salary':None,'Name':'Alan'},\n",
    "           'emp_3':{'Age':39,'Salary':9000000,'Name':'apurva'},\n",
    "           'emp_4':{'Age':40,'Salary':7600000,'Name':'apurva'}}\n",
    "\n",
    "emp_data.popitem()"
   ]
  },
  {
   "cell_type": "code",
   "execution_count": 85,
   "id": "607097e1",
   "metadata": {},
   "outputs": [
    {
     "data": {
      "text/plain": [
       "{'emp_1': {'Age': 29, 'Salary': 5600000, 'Name': 'Salahuddin'},\n",
       " 'emp_2': {'Age': 39, 'Salary': None, 'Name': 'Alan'},\n",
       " 'emp_3': {'Age': 39, 'Salary': 9000000, 'Name': 'apurva'}}"
      ]
     },
     "execution_count": 85,
     "metadata": {},
     "output_type": "execute_result"
    }
   ],
   "source": [
    "emp_data"
   ]
  },
  {
   "cell_type": "code",
   "execution_count": 86,
   "id": "80838c0a",
   "metadata": {},
   "outputs": [
    {
     "data": {
      "text/plain": [
       "('emp_3', {'Age': 39, 'Salary': 9000000, 'Name': 'apurva'})"
      ]
     },
     "execution_count": 86,
     "metadata": {},
     "output_type": "execute_result"
    }
   ],
   "source": [
    "emp_data.popitem()"
   ]
  },
  {
   "cell_type": "code",
   "execution_count": 87,
   "id": "e90e9537",
   "metadata": {},
   "outputs": [
    {
     "data": {
      "text/plain": [
       "{'emp_1': {'Age': 29, 'Salary': 5600000, 'Name': 'Salahuddin'},\n",
       " 'emp_2': {'Age': 39, 'Salary': None, 'Name': 'Alan'}}"
      ]
     },
     "execution_count": 87,
     "metadata": {},
     "output_type": "execute_result"
    }
   ],
   "source": [
    "emp_data"
   ]
  },
  {
   "cell_type": "code",
   "execution_count": 80,
   "id": "9f1cd9a2",
   "metadata": {},
   "outputs": [
    {
     "data": {
      "text/plain": [
       "('emp_2', {'Age': 39, 'Salary': None, 'Name': 'Alan'})"
      ]
     },
     "execution_count": 80,
     "metadata": {},
     "output_type": "execute_result"
    }
   ],
   "source": [
    "emp_data.popitem()"
   ]
  },
  {
   "cell_type": "code",
   "execution_count": 81,
   "id": "a356cf4f",
   "metadata": {},
   "outputs": [
    {
     "data": {
      "text/plain": [
       "('emp_1', {'Age': 29, 'Salary': 5600000, 'Name': 'Salahuddin'})"
      ]
     },
     "execution_count": 81,
     "metadata": {},
     "output_type": "execute_result"
    }
   ],
   "source": [
    "emp_data.popitem()"
   ]
  },
  {
   "cell_type": "code",
   "execution_count": null,
   "id": "afba293b",
   "metadata": {},
   "outputs": [],
   "source": [
    "emp_data = {'emp_1':{'Age':29,'Salary':5600000,'Name':'Salahuddin'},\n",
    "           'emp_2':{'Age':39,'Salary':None,'Name':'Alan'},\n",
    "           'emp_3':{'Age':39,'Salary':9000000,'Name':'apurva'},\n",
    "           'emp_4':{'Age':40,'Salary':7600000,'Name':'apurva'}}\n",
    "\n",
    "emp_data.popitem()"
   ]
  },
  {
   "cell_type": "code",
   "execution_count": 90,
   "id": "b028250a",
   "metadata": {},
   "outputs": [
    {
     "name": "stdout",
     "output_type": "stream",
     "text": [
      "['__class__', '__class_getitem__', '__contains__', '__delattr__', '__delitem__', '__dir__', '__doc__', '__eq__', '__format__', '__ge__', '__getattribute__', '__getitem__', '__gt__', '__hash__', '__init__', '__init_subclass__', '__ior__', '__iter__', '__le__', '__len__', '__lt__', '__ne__', '__new__', '__or__', '__reduce__', '__reduce_ex__', '__repr__', '__reversed__', '__ror__', '__setattr__', '__setitem__', '__sizeof__', '__str__', '__subclasshook__', 'clear', 'copy', 'fromkeys', 'get', 'items', 'keys', 'pop', 'popitem', 'setdefault', 'update', 'values']\n"
     ]
    }
   ],
   "source": [
    "print(dir(dict))"
   ]
  },
  {
   "cell_type": "code",
   "execution_count": 96,
   "id": "1f81310c",
   "metadata": {},
   "outputs": [],
   "source": [
    "emp_data = {'emp_1':{'Age':29,'Salary':5600000,'Name':'Salahuddin'},\n",
    "           'emp_2':{'Age':39,'Salary':None,'Name':'Alan'},\n",
    "           'emp_3':{'Age':39,'Salary':9000000,'Name':'apurva'},\n",
    "           'emp_4':{'Age':40,'Salary':7600000,'Name':'apurva'}}\n",
    "\n",
    "emp_data_1 = {'emp_2':{'Age':39,'Salary':67767,'Name':'Alan'}}\n",
    "emp_data.update(emp_data_1)"
   ]
  },
  {
   "cell_type": "code",
   "execution_count": 99,
   "id": "26756ea6",
   "metadata": {},
   "outputs": [],
   "source": [
    "emp_data = {'emp_1':{'Age':29,'Salary':5600000,'Name':'Salahuddin'},\n",
    "           'emp_2':{'Age':39,'Salary':None,'Name':'Alan'},\n",
    "           'emp_3':{'Age':39,'Salary':9000000,'Name':'apurva'},\n",
    "           'emp_4':{'Age':40,'Salary':7600000,'Name':'apurva'}}\n",
    "\n",
    "emp_data['emp_5']  = {'Age':40,'Salary':7600000,'Name':'python'}\n",
    "#emp_data.update({'emp_2':{'Age':39,'Salary':67767,'Name':'Alan'}})"
   ]
  },
  {
   "cell_type": "code",
   "execution_count": 100,
   "id": "4d50e3f0",
   "metadata": {},
   "outputs": [
    {
     "data": {
      "text/plain": [
       "{'emp_1': {'Age': 29, 'Salary': 5600000, 'Name': 'Salahuddin'},\n",
       " 'emp_2': {'Age': 39, 'Salary': None, 'Name': 'Alan'},\n",
       " 'emp_3': {'Age': 39, 'Salary': 9000000, 'Name': 'apurva'},\n",
       " 'emp_4': {'Age': 40, 'Salary': 7600000, 'Name': 'apurva'},\n",
       " 'emp_5': {'Age': 40, 'Salary': 7600000, 'Name': 'python'}}"
      ]
     },
     "execution_count": 100,
     "metadata": {},
     "output_type": "execute_result"
    }
   ],
   "source": [
    "emp_data"
   ]
  },
  {
   "cell_type": "code",
   "execution_count": 103,
   "id": "c2ec06ed",
   "metadata": {},
   "outputs": [
    {
     "name": "stdout",
     "output_type": "stream",
     "text": [
      "dict_values([{'Age': 29, 'Salary': 5600000, 'Name': 'Salahuddin'}, {'Age': 39, 'Salary': None, 'Name': 'Alan'}, {'Age': 39, 'Salary': 9000000, 'Name': 'apurva'}, {'Age': 40, 'Salary': 7600000, 'Name': 'apurva'}, {'Age': 40, 'Salary': 7600000, 'Name': 'python'}])\n"
     ]
    }
   ],
   "source": [
    "print(emp_data.values())"
   ]
  },
  {
   "cell_type": "code",
   "execution_count": 104,
   "id": "e2cf5d4c",
   "metadata": {},
   "outputs": [
    {
     "name": "stdout",
     "output_type": "stream",
     "text": [
      "dict_values([29, 5600000, 'Salahuddin'])\n"
     ]
    }
   ],
   "source": [
    "print(emp_data['emp_1'].values())"
   ]
  },
  {
   "cell_type": "code",
   "execution_count": 105,
   "id": "321ff03b",
   "metadata": {},
   "outputs": [
    {
     "name": "stdout",
     "output_type": "stream",
     "text": [
      "dict_keys(['emp_1', 'emp_2', 'emp_3', 'emp_4', 'emp_5'])\n"
     ]
    }
   ],
   "source": [
    "print(emp_data.keys())"
   ]
  },
  {
   "cell_type": "code",
   "execution_count": 106,
   "id": "d99ba7cd",
   "metadata": {},
   "outputs": [
    {
     "name": "stdout",
     "output_type": "stream",
     "text": [
      "dict_items([('emp_1', {'Age': 29, 'Salary': 5600000, 'Name': 'Salahuddin'}), ('emp_2', {'Age': 39, 'Salary': None, 'Name': 'Alan'}), ('emp_3', {'Age': 39, 'Salary': 9000000, 'Name': 'apurva'}), ('emp_4', {'Age': 40, 'Salary': 7600000, 'Name': 'apurva'}), ('emp_5', {'Age': 40, 'Salary': 7600000, 'Name': 'python'})])\n"
     ]
    }
   ],
   "source": [
    "print(emp_data.items())"
   ]
  },
  {
   "cell_type": "code",
   "execution_count": 107,
   "id": "e4fc13fb",
   "metadata": {},
   "outputs": [
    {
     "name": "stdout",
     "output_type": "stream",
     "text": [
      "dict_items([('Age', 39), ('Salary', None), ('Name', 'Alan')])\n"
     ]
    }
   ],
   "source": [
    "print(emp_data['emp_2'].items())"
   ]
  },
  {
   "cell_type": "code",
   "execution_count": 108,
   "id": "fdf592e4",
   "metadata": {},
   "outputs": [
    {
     "name": "stdout",
     "output_type": "stream",
     "text": [
      "(10, 20, 30) <class 'tuple'>\n"
     ]
    }
   ],
   "source": [
    "a = 10,20,30\n",
    "\n",
    "print(a, type(a))"
   ]
  },
  {
   "cell_type": "code",
   "execution_count": 109,
   "id": "426e0803",
   "metadata": {},
   "outputs": [
    {
     "name": "stdout",
     "output_type": "stream",
     "text": [
      "10 <class 'int'>\n",
      "20\n",
      "30\n"
     ]
    }
   ],
   "source": [
    "a,b,c = 10,20,30\n",
    "\n",
    "print(a, type(a))\n",
    "print(b)\n",
    "print(c)"
   ]
  },
  {
   "cell_type": "code",
   "execution_count": 111,
   "id": "7d55bff1",
   "metadata": {},
   "outputs": [
    {
     "name": "stdout",
     "output_type": "stream",
     "text": [
      "2\n",
      "4\n"
     ]
    }
   ],
   "source": [
    "a = ((1,2),(3,4))\n",
    "\n",
    "for i,j in a:\n",
    "#    print(i)\n",
    "    print(j)"
   ]
  },
  {
   "cell_type": "code",
   "execution_count": 5,
   "id": "7eb2b1ab",
   "metadata": {},
   "outputs": [
    {
     "name": "stdout",
     "output_type": "stream",
     "text": [
      "10\n",
      "60\n"
     ]
    }
   ],
   "source": [
    "for a,b in ((10,40),(60,70)):\n",
    "    print(a)"
   ]
  },
  {
   "cell_type": "code",
   "execution_count": null,
   "id": "8fbdad9a",
   "metadata": {},
   "outputs": [],
   "source": [
    "a,b = 10,40"
   ]
  },
  {
   "cell_type": "code",
   "execution_count": null,
   "id": "d9ee6257",
   "metadata": {},
   "outputs": [],
   "source": []
  },
  {
   "cell_type": "code",
   "execution_count": 6,
   "id": "d6f6e763",
   "metadata": {},
   "outputs": [
    {
     "name": "stdout",
     "output_type": "stream",
     "text": [
      "['__class__', '__class_getitem__', '__contains__', '__delattr__', '__delitem__', '__dir__', '__doc__', '__eq__', '__format__', '__ge__', '__getattribute__', '__getitem__', '__gt__', '__hash__', '__init__', '__init_subclass__', '__ior__', '__iter__', '__le__', '__len__', '__lt__', '__ne__', '__new__', '__or__', '__reduce__', '__reduce_ex__', '__repr__', '__reversed__', '__ror__', '__setattr__', '__setitem__', '__sizeof__', '__str__', '__subclasshook__', 'clear', 'copy', 'fromkeys', 'get', 'items', 'keys', 'pop', 'popitem', 'setdefault', 'update', 'values']\n"
     ]
    }
   ],
   "source": [
    "print(dir(dict))"
   ]
  },
  {
   "cell_type": "markdown",
   "id": "d3fe38d4",
   "metadata": {},
   "source": [
    "# FromKeys"
   ]
  },
  {
   "cell_type": "code",
   "execution_count": 21,
   "id": "3d8b19df",
   "metadata": {},
   "outputs": [
    {
     "data": {
      "text/plain": [
       "{'player_1': None, 'player_2': None}"
      ]
     },
     "execution_count": 21,
     "metadata": {},
     "output_type": "execute_result"
    }
   ],
   "source": [
    "dict_2 = dict.fromkeys(['player_1', 'player_2'])\n",
    "\n",
    "dict_2"
   ]
  },
  {
   "cell_type": "code",
   "execution_count": 24,
   "id": "470f6dfd",
   "metadata": {},
   "outputs": [
    {
     "data": {
      "text/plain": [
       "{'player_1': 0, 'player_2': 0}"
      ]
     },
     "execution_count": 24,
     "metadata": {},
     "output_type": "execute_result"
    }
   ],
   "source": [
    "dict_2 = dict.fromkeys(['player_1', 'player_2'], 0)\n",
    "\n",
    "\n",
    "dict_2"
   ]
  },
  {
   "cell_type": "code",
   "execution_count": 25,
   "id": "02e819f0",
   "metadata": {},
   "outputs": [],
   "source": [
    "dict_2['player_2'] = 10"
   ]
  },
  {
   "cell_type": "code",
   "execution_count": 26,
   "id": "789250f6",
   "metadata": {},
   "outputs": [
    {
     "data": {
      "text/plain": [
       "{'player_1': 0, 'player_2': 10}"
      ]
     },
     "execution_count": 26,
     "metadata": {},
     "output_type": "execute_result"
    }
   ],
   "source": [
    "dict_2"
   ]
  },
  {
   "cell_type": "code",
   "execution_count": 28,
   "id": "ada3b01a",
   "metadata": {},
   "outputs": [
    {
     "data": {
      "text/plain": [
       "{'Age': 40, 'Salary': 7600000, 'Name': 'python'}"
      ]
     },
     "execution_count": 28,
     "metadata": {},
     "output_type": "execute_result"
    }
   ],
   "source": [
    "emp_data = {'emp_1':{'Age':29,'Salary':5600000,'Name':'Salahuddin'},\n",
    "           'emp_2':{'Age':39,'Salary':None,'Name':'Alan'},\n",
    "           'emp_3':{'Age':39,'Salary':9000000,'Name':'apurva'},\n",
    "           'emp_4':{'Age':40,'Salary':7600000,'Name':'apurva'}}\n",
    "\n",
    "emp_data.setdefault('emp_6',{'Age':40,'Salary':7600000,'Name':'python'})"
   ]
  },
  {
   "cell_type": "code",
   "execution_count": 34,
   "id": "3929e7d1",
   "metadata": {},
   "outputs": [],
   "source": [
    "emp_data = {'emp_1':{'Age':29,'Salary':5600000,'Name':'Salahuddin'},\n",
    "           'emp_2':{'Age':39,'Salary':None,'Name':'Alan'},\n",
    "           'emp_3':{'Age':39,'Salary':9000000,'Name':'apurva'},\n",
    "           'emp_4':{'Age':40,'Salary':7600000,'Name':'apurva'}}\n",
    "\n",
    "emp_data_2 = emp_data.copy()"
   ]
  },
  {
   "cell_type": "code",
   "execution_count": 35,
   "id": "ca67e264",
   "metadata": {},
   "outputs": [
    {
     "data": {
      "text/plain": [
       "{'emp_1': {'Age': 29, 'Salary': 5600000, 'Name': 'Salahuddin'},\n",
       " 'emp_2': {'Age': 39, 'Salary': None, 'Name': 'Alan'},\n",
       " 'emp_3': {'Age': 39, 'Salary': 9000000, 'Name': 'apurva'},\n",
       " 'emp_4': {'Age': 40, 'Salary': 7600000, 'Name': 'apurva'}}"
      ]
     },
     "execution_count": 35,
     "metadata": {},
     "output_type": "execute_result"
    }
   ],
   "source": [
    "emp_data_2"
   ]
  },
  {
   "cell_type": "code",
   "execution_count": 38,
   "id": "737a573f",
   "metadata": {},
   "outputs": [],
   "source": [
    "emp_data = {'emp_1':{'Age':29,'Salary':5600000,'Name':'Salahuddin'},\n",
    "           'emp_2':{'Age':39,'Salary':None,'Name':'Alan'},\n",
    "           'emp_3':{'Age':39,'Salary':9000000,'Name':'apurva'},\n",
    "           'emp_4':{'Age':40,'Salary':7600000,'Name':'apurva'}}\n",
    "\n",
    "del emp_data['emp_3']\n",
    "# emp_data.pop('emp_3')"
   ]
  },
  {
   "cell_type": "code",
   "execution_count": 39,
   "id": "96ff009c",
   "metadata": {},
   "outputs": [
    {
     "data": {
      "text/plain": [
       "{'emp_1': {'Age': 29, 'Salary': 5600000, 'Name': 'Salahuddin'},\n",
       " 'emp_2': {'Age': 39, 'Salary': None, 'Name': 'Alan'},\n",
       " 'emp_4': {'Age': 40, 'Salary': 7600000, 'Name': 'apurva'}}"
      ]
     },
     "execution_count": 39,
     "metadata": {},
     "output_type": "execute_result"
    }
   ],
   "source": [
    "emp_data"
   ]
  },
  {
   "cell_type": "code",
   "execution_count": 42,
   "id": "f59ac9d1",
   "metadata": {},
   "outputs": [],
   "source": [
    "# \n",
    "emp_data = {'emp_1':{'Age':29,'Salary':5600000,'Name':'Salahuddin'},\n",
    "           'emp_2':{'Age':39,'Salary':None,'Name':'Alan'},\n",
    "           'emp_3':{'Age':39,'Salary':9000000,'Name':'apurva'},\n",
    "           'emp_4':{'Age':40,'Salary':7600000,'Name':'apurva'}}\n",
    "\n"
   ]
  },
  {
   "cell_type": "code",
   "execution_count": 43,
   "id": "9bb32711",
   "metadata": {},
   "outputs": [],
   "source": [
    "# Set data type"
   ]
  },
  {
   "cell_type": "code",
   "execution_count": 48,
   "id": "573a6dc9",
   "metadata": {},
   "outputs": [
    {
     "name": "stdout",
     "output_type": "stream",
     "text": [
      "emp_1 {'Age': 29, 'Salary': 5600000, 'Name': 'Salahuddin'}\n"
     ]
    }
   ],
   "source": [
    "name1 = 'Salahuddin'\n",
    "\n",
    "for i in emp_data:\n",
    "    if emp_data[i]['Name'] == name1:\n",
    "        print(i,emp_data[i])\n"
   ]
  },
  {
   "cell_type": "code",
   "execution_count": 47,
   "id": "31224e6a",
   "metadata": {},
   "outputs": [
    {
     "data": {
      "text/plain": [
       "{'emp_1': {'Age': 29, 'Salary': 5600000, 'Name': 'Salahuddin'},\n",
       " 'emp_2': {'Age': 39, 'Salary': None, 'Name': 'Alan'},\n",
       " 'emp_3': {'Age': 39, 'Salary': 9000000, 'Name': 'apurva'},\n",
       " 'emp_4': {'Age': 40, 'Salary': 7600000, 'Name': 'apurva'}}"
      ]
     },
     "execution_count": 47,
     "metadata": {},
     "output_type": "execute_result"
    }
   ],
   "source": [
    "emp_data"
   ]
  },
  {
   "cell_type": "code",
   "execution_count": 49,
   "id": "0868c9b6",
   "metadata": {},
   "outputs": [
    {
     "name": "stdout",
     "output_type": "stream",
     "text": [
      "Please enter your Name :python\n",
      "Please enter your age:100\n",
      "Please enter your salary:5454\n",
      "{'emp_1': {'Age': 29, 'Salary': 5600000, 'Name': 'Salahuddin'}, 'emp_2': {'Age': 39, 'Salary': None, 'Name': 'Alan'}, 'emp_3': {'Age': 39, 'Salary': 9000000, 'Name': 'apurva'}, 'emp_4': {'Age': 40, 'Salary': 7600000, 'Name': 'apurva'}, 'emp_5': {'age': 100, 'Salary': 5454.0, 'Name': 'python'}}\n"
     ]
    }
   ],
   "source": [
    "emp_data = {'emp_1':{'Age':29,'Salary':5600000,'Name':'Salahuddin'},\n",
    "           'emp_2':{'Age':39,'Salary':None,'Name':'Alan'},\n",
    "           'emp_3':{'Age':39,'Salary':9000000,'Name':'apurva'},\n",
    "           'emp_4':{'Age':40,'Salary':7600000,'Name':'apurva'}}\n",
    "\n",
    "\n",
    "name  =input(\"Please enter your Name :\")\n",
    "age= int(input(\"Please enter your age:\"))\n",
    "salary = float(input(\"Please enter your salary:\"))\n",
    "\n",
    "\n",
    "emp_data['emp_5'] = {\"age\":age,\"Salary\":salary,\"Name\":name}\n",
    "\n",
    "print(emp_data)"
   ]
  },
  {
   "cell_type": "code",
   "execution_count": 51,
   "id": "90d9361d",
   "metadata": {},
   "outputs": [
    {
     "name": "stdout",
     "output_type": "stream",
     "text": [
      "Enter your age40\n",
      "Enter your salary55656\n",
      "Enter your Namenam\n",
      "emp_5\n",
      "{'emp_1': {'Age': 29, 'Salary': 5600000, 'Name': 'Salahuddin'}, 'emp_2': {'Age': 39, 'Salary': None, 'Name': 'Alan'}, 'emp_3': {'Age': 39, 'Salary': 9000000, 'Name': 'apurva'}, 'emp_4': {'Age': 40, 'Salary': 7600000, 'Name': 'apurva'}, 'emp_5': {'Age': 40, 'Salary': 55656.0, 'Name': 'nam'}}\n"
     ]
    }
   ],
   "source": [
    "# Srikant\n",
    "emp_data = {'emp_1':{'Age':29,'Salary':5600000,'Name':'Salahuddin'},\n",
    "           'emp_2':{'Age':39,'Salary':None,'Name':'Alan'},\n",
    "           'emp_3':{'Age':39,'Salary':9000000,'Name':'apurva'},\n",
    "           'emp_4':{'Age':40,'Salary':7600000,'Name':'apurva'}}\n",
    "\n",
    "\n",
    "age= int(input('Enter your age'))\n",
    "salary= float(input('Enter your salary'))\n",
    "nam= input('Enter your Name')\n",
    "\n",
    "l = f'emp_{len(emp_data)+1}'\n",
    "print(l)\n",
    "emp_data.setdefault(l,{'Age':age,'Salary':salary,'Name':nam})\n",
    "print(emp_data)\n"
   ]
  },
  {
   "cell_type": "code",
   "execution_count": 54,
   "id": "3b094b1b",
   "metadata": {},
   "outputs": [
    {
     "name": "stdout",
     "output_type": "stream",
     "text": [
      "Enter the name: python\n",
      "Enter the age: 434\n",
      "Enter the salary: 6353\n",
      "{'emp_1': {'Age': 29, 'Salary': 5600000, 'Name': 'Salahuddin'}, 'emp_2': {'Age': 39, 'Salary': None, 'Name': 'Alan'}, 'emp_3': {'Age': 39, 'Salary': 9000000, 'Name': 'apurva'}, 'emp_4': {'Age': 40, 'Salary': 7600000, 'Name': 'apurva'}, 'emp_5': {'Age': 434, 'Salary': 6353, 'Name': 'python'}}\n"
     ]
    }
   ],
   "source": [
    "emp_data = {'emp_1':{'Age':29,'Salary':5600000,'Name':'Salahuddin'},\n",
    "           'emp_2':{'Age':39,'Salary':None,'Name':'Alan'},\n",
    "           'emp_3':{'Age':39,'Salary':9000000,'Name':'apurva'},\n",
    "           'emp_4':{'Age':40,'Salary':7600000,'Name':'apurva'}}\n",
    "\n",
    "name=input(\"Enter the name: \")\n",
    "age=eval(input(\"Enter the age: \"))\n",
    "salary= eval(input(\"Enter the salary: \"))\n",
    "#emp_data[emp_5]= {'Age':age,'Salary':salary,'Name':name}\n",
    "emp_data.setdefault('emp_5',{'Age':age,'Salary':salary,'Name':name})\n",
    "print(emp_data)\n"
   ]
  },
  {
   "cell_type": "markdown",
   "id": "426fb4f4",
   "metadata": {},
   "source": [
    "# Set data type\n",
    "\n",
    "- Collection of values and it is not a seq data type\n",
    "- Indexing and slicing is not possible \n",
    "- Collection of unique values \n",
    "- Set cannot contain mutable data type eg: - List, set, dic\n"
   ]
  },
  {
   "cell_type": "code",
   "execution_count": 55,
   "id": "d2bd23f7",
   "metadata": {},
   "outputs": [
    {
     "name": "stdout",
     "output_type": "stream",
     "text": [
      "{1, 2, 3, 4, 5} <class 'set'>\n"
     ]
    }
   ],
   "source": [
    "a = {1,2,3,4,5}\n",
    "print(a , type(a))"
   ]
  },
  {
   "cell_type": "code",
   "execution_count": 56,
   "id": "6ced689d",
   "metadata": {},
   "outputs": [
    {
     "name": "stdout",
     "output_type": "stream",
     "text": [
      "{1, 2, 3, 4, 5} <class 'set'>\n"
     ]
    }
   ],
   "source": [
    "a = {1,2,3,4,5,1,1,1,1}\n",
    "print(a , type(a))"
   ]
  },
  {
   "cell_type": "code",
   "execution_count": 58,
   "id": "e388cffb",
   "metadata": {},
   "outputs": [
    {
     "ename": "TypeError",
     "evalue": "'set' object is not subscriptable",
     "output_type": "error",
     "traceback": [
      "\u001b[1;31m---------------------------------------------------------------------------\u001b[0m",
      "\u001b[1;31mTypeError\u001b[0m                                 Traceback (most recent call last)",
      "Input \u001b[1;32mIn [58]\u001b[0m, in \u001b[0;36m<cell line: 1>\u001b[1;34m()\u001b[0m\n\u001b[1;32m----> 1\u001b[0m \u001b[43ma\u001b[49m\u001b[43m[\u001b[49m\u001b[38;5;241;43m0\u001b[39;49m\u001b[43m:\u001b[49m\u001b[38;5;241;43m2\u001b[39;49m\u001b[43m]\u001b[49m\n",
      "\u001b[1;31mTypeError\u001b[0m: 'set' object is not subscriptable"
     ]
    }
   ],
   "source": [
    "a[0:2]"
   ]
  },
  {
   "cell_type": "code",
   "execution_count": 64,
   "id": "b96015fd",
   "metadata": {},
   "outputs": [
    {
     "ename": "TypeError",
     "evalue": "unhashable type: 'list'",
     "output_type": "error",
     "traceback": [
      "\u001b[1;31m---------------------------------------------------------------------------\u001b[0m",
      "\u001b[1;31mTypeError\u001b[0m                                 Traceback (most recent call last)",
      "Input \u001b[1;32mIn [64]\u001b[0m, in \u001b[0;36m<cell line: 1>\u001b[1;34m()\u001b[0m\n\u001b[1;32m----> 1\u001b[0m a \u001b[38;5;241m=\u001b[39m {\u001b[38;5;241m1\u001b[39m,\u001b[38;5;241m2.2\u001b[39m,\u001b[38;5;28;01mNone\u001b[39;00m,[\u001b[38;5;241m3\u001b[39m,\u001b[38;5;241m4\u001b[39m,\u001b[38;5;241m5\u001b[39m,\u001b[38;5;241m65\u001b[39m]}\n\u001b[0;32m      2\u001b[0m \u001b[38;5;28mprint\u001b[39m(a , \u001b[38;5;28mtype\u001b[39m(a))\n",
      "\u001b[1;31mTypeError\u001b[0m: unhashable type: 'list'"
     ]
    }
   ],
   "source": [
    "a = {1,2.2,None,[3,4,5,65]}\n",
    "print(a , type(a))"
   ]
  },
  {
   "cell_type": "code",
   "execution_count": 66,
   "id": "a15013ba",
   "metadata": {},
   "outputs": [
    {
     "name": "stdout",
     "output_type": "stream",
     "text": [
      "['__and__', '__class__', '__class_getitem__', '__contains__', '__delattr__', '__dir__', '__doc__', '__eq__', '__format__', '__ge__', '__getattribute__', '__gt__', '__hash__', '__iand__', '__init__', '__init_subclass__', '__ior__', '__isub__', '__iter__', '__ixor__', '__le__', '__len__', '__lt__', '__ne__', '__new__', '__or__', '__rand__', '__reduce__', '__reduce_ex__', '__repr__', '__ror__', '__rsub__', '__rxor__', '__setattr__', '__sizeof__', '__str__', '__sub__', '__subclasshook__', '__xor__', 'add', 'clear', 'copy', 'difference', 'difference_update', 'discard', 'intersection', 'intersection_update', 'isdisjoint', 'issubset', 'issuperset', 'pop', 'remove', 'symmetric_difference', 'symmetric_difference_update', 'union', 'update']\n"
     ]
    }
   ],
   "source": [
    "print(dir(set))"
   ]
  },
  {
   "cell_type": "code",
   "execution_count": 70,
   "id": "7612e345",
   "metadata": {},
   "outputs": [
    {
     "name": "stdout",
     "output_type": "stream",
     "text": [
      "2854708510272\n",
      "None\n",
      "2854708510272\n"
     ]
    }
   ],
   "source": [
    "a = {1,2,3,4,5}\n",
    "print(id(a))\n",
    "print(a.add('add'))\n",
    "print(id(a))"
   ]
  },
  {
   "cell_type": "code",
   "execution_count": 72,
   "id": "924b605b",
   "metadata": {},
   "outputs": [
    {
     "name": "stdout",
     "output_type": "stream",
     "text": [
      "{1, 2, 3, 4, 5, 'add'}\n"
     ]
    }
   ],
   "source": [
    "print(a)"
   ]
  },
  {
   "cell_type": "code",
   "execution_count": null,
   "id": "f59d61c2",
   "metadata": {},
   "outputs": [],
   "source": []
  },
  {
   "cell_type": "code",
   "execution_count": 73,
   "id": "affe93fd",
   "metadata": {},
   "outputs": [
    {
     "name": "stdout",
     "output_type": "stream",
     "text": [
      "['__and__', '__class__', '__class_getitem__', '__contains__', '__delattr__', '__dir__', '__doc__', '__eq__', '__format__', '__ge__', '__getattribute__', '__gt__', '__hash__', '__iand__', '__init__', '__init_subclass__', '__ior__', '__isub__', '__iter__', '__ixor__', '__le__', '__len__', '__lt__', '__ne__', '__new__', '__or__', '__rand__', '__reduce__', '__reduce_ex__', '__repr__', '__ror__', '__rsub__', '__rxor__', '__setattr__', '__sizeof__', '__str__', '__sub__', '__subclasshook__', '__xor__', 'add', 'clear', 'copy', 'difference', 'difference_update', 'discard', 'intersection', 'intersection_update', 'isdisjoint', 'issubset', 'issuperset', 'pop', 'remove', 'symmetric_difference', 'symmetric_difference_update', 'union', 'update']\n"
     ]
    }
   ],
   "source": [
    "print(dir(a))"
   ]
  },
  {
   "cell_type": "code",
   "execution_count": 74,
   "id": "a7d3871d",
   "metadata": {},
   "outputs": [
    {
     "name": "stdout",
     "output_type": "stream",
     "text": [
      "['__add__', '__class__', '__class_getitem__', '__contains__', '__delattr__', '__delitem__', '__dir__', '__doc__', '__eq__', '__format__', '__ge__', '__getattribute__', '__getitem__', '__gt__', '__hash__', '__iadd__', '__imul__', '__init__', '__init_subclass__', '__iter__', '__le__', '__len__', '__lt__', '__mul__', '__ne__', '__new__', '__reduce__', '__reduce_ex__', '__repr__', '__reversed__', '__rmul__', '__setattr__', '__setitem__', '__sizeof__', '__str__', '__subclasshook__', 'append', 'clear', 'copy', 'count', 'extend', 'index', 'insert', 'pop', 'remove', 'reverse', 'sort']\n"
     ]
    }
   ],
   "source": [
    "print(dir(list))"
   ]
  },
  {
   "cell_type": "code",
   "execution_count": 75,
   "id": "89f810d6",
   "metadata": {},
   "outputs": [
    {
     "name": "stdout",
     "output_type": "stream",
     "text": [
      "2854711366464\n",
      "None\n",
      "2854711366464\n"
     ]
    }
   ],
   "source": [
    "a = [1,2,3,45]\n",
    "\n",
    "print(id(a))\n",
    "\n",
    "print(a.append(7))\n",
    "\n",
    "print(id(a))"
   ]
  },
  {
   "cell_type": "markdown",
   "id": "aa4ee83b",
   "metadata": {},
   "source": [
    "# Conditional Statements"
   ]
  },
  {
   "cell_type": "code",
   "execution_count": null,
   "id": "e3101b53",
   "metadata": {},
   "outputs": [],
   "source": [
    "# If, elif , else"
   ]
  },
  {
   "cell_type": "code",
   "execution_count": null,
   "id": "36a0c135",
   "metadata": {},
   "outputs": [],
   "source": [
    "# If \n",
    "\n",
    "\n",
    "state 1 \n",
    "stat 2 \n",
    "stat 3 \n",
    "stat 4\n",
    "if condition:\n",
    "    stat 5 \n",
    "    stat 6\n",
    "stat 7 \n",
    "stat 8\n",
    "\n",
    "# True --> 1,2,3,4,5,6,7,8\n",
    "# False ---> 1,2,3,4,7,8"
   ]
  },
  {
   "cell_type": "code",
   "execution_count": null,
   "id": "3add647b",
   "metadata": {},
   "outputs": [],
   "source": [
    "# else \n",
    "\n",
    "\n",
    "state 1 \n",
    "stat 2 \n",
    "stat 3 \n",
    "stat 4\n",
    "if condition:\n",
    "    stat 5 \n",
    "    stat 6\n",
    "else:\n",
    "    stat 9\n",
    "    stat 10  \n",
    "stat 7 \n",
    "stat 8\n",
    "\n",
    "# True --> 1,2,3,4,5,6,7,8\n",
    "# False ---> 1,2,3,4,9,10,7,8"
   ]
  },
  {
   "cell_type": "code",
   "execution_count": null,
   "id": "8d30b501",
   "metadata": {},
   "outputs": [],
   "source": [
    "# else \n",
    "\n",
    "\n",
    "state 1 \n",
    "stat 2 \n",
    "stat 3 \n",
    "stat 4\n",
    "if condition1:\n",
    "    stat 5 \n",
    "    stat 6\n",
    "else:\n",
    "    stat 15\n",
    "    stat 16\n",
    "if condition2:\n",
    "    stat 11\n",
    "    stat 12\n",
    "if condition3:\n",
    "    stat 13\n",
    "    stat 14\n",
    "else:\n",
    "    stat 9\n",
    "    stat 10  \n",
    "stat 7 \n",
    "stat 8\n",
    "\n",
    "# if cond 1 is true and rest all is false --> 1,2,3,4,5,6,9,10,7,8\n",
    "# if all the cond are false -->1,2,3,4,15,16,9,10,7,8"
   ]
  },
  {
   "cell_type": "code",
   "execution_count": 77,
   "id": "86b412b7",
   "metadata": {},
   "outputs": [
    {
     "name": "stdout",
     "output_type": "stream",
     "text": [
      "catched\n",
      "Learnbay\n",
      "wrong\n",
      "data science\n"
     ]
    }
   ],
   "source": [
    "a = 10\n",
    "b = 20\n",
    "\n",
    "if a == b: # False\n",
    "    print('Hello world')\n",
    "else:\n",
    "    print('catched')\n",
    "if a < b: # True\n",
    "    print('Learnbay')\n",
    "    \n",
    "if a > b: # False\n",
    "    print('hi there')\n",
    "    \n",
    "else:\n",
    "    print('wrong')\n",
    "    \n",
    "print('data science')\n",
    "\n",
    "# 7,8,14,16"
   ]
  },
  {
   "cell_type": "code",
   "execution_count": 78,
   "id": "8777faf7",
   "metadata": {},
   "outputs": [
    {
     "name": "stdout",
     "output_type": "stream",
     "text": [
      "Hello world\n",
      "wrong\n",
      "data science\n"
     ]
    }
   ],
   "source": [
    "a = 10\n",
    "b = 10\n",
    "\n",
    "if a == b: # True\n",
    "    print('Hello world')\n",
    "else:\n",
    "    print('catched')\n",
    "if a < b: # False\n",
    "    print('Learnbay')\n",
    "    \n",
    "if a > b: # False\n",
    "    print('hi there')\n",
    "    \n",
    "else:\n",
    "    print('wrong')\n",
    "    \n",
    "print('data science')\n",
    "\n",
    "# 5,15,17"
   ]
  },
  {
   "cell_type": "code",
   "execution_count": 81,
   "id": "1c91941b",
   "metadata": {},
   "outputs": [
    {
     "name": "stdout",
     "output_type": "stream",
     "text": [
      "Enter the name: python\n",
      "Enter the age: 66\n",
      "Enter the salary: 8484\n",
      "{'emp_1': {'Age': 29, 'Salary': 5600000, 'Name': 'Salahuddin'}, 'emp_2': {'Age': 39, 'Salary': None, 'Name': 'Alan'}, 'emp_3': {'Age': 39, 'Salary': 9000000, 'Name': 'apurva'}, 'emp_4': {'Age': 40, 'Salary': 7600000, 'Name': 'apurva'}, 'emp_5': {'Age': 66, 'Salary': 8484, 'Name': 'python'}}\n"
     ]
    }
   ],
   "source": [
    "emp_data = {'emp_1':{'Age':29,'Salary':5600000,'Name':'Salahuddin'},\n",
    "           'emp_2':{'Age':39,'Salary':None,'Name':'Alan'},\n",
    "           'emp_3':{'Age':39,'Salary':9000000,'Name':'apurva'},\n",
    "           'emp_4':{'Age':40,'Salary':7600000,'Name':'apurva'}}\n",
    "\n",
    "a=input(\"Enter the name: \")\n",
    "b=eval(input(\"Enter the age: \"))\n",
    "c= eval(input(\"Enter the salary: \"))\n",
    "\n",
    "emp_data.setdefault('emp_5',{'Age':b,'Salary':c,'Name':a})\n",
    "print(emp_data)"
   ]
  },
  {
   "cell_type": "code",
   "execution_count": 80,
   "id": "7fedca22",
   "metadata": {},
   "outputs": [
    {
     "name": "stdout",
     "output_type": "stream",
     "text": [
      "the number is :  10\n"
     ]
    }
   ],
   "source": [
    "a = 10\n",
    "b = 49\n",
    "c = 'name'\n",
    "\n",
    "print('the number is : ',a)"
   ]
  },
  {
   "cell_type": "code",
   "execution_count": 83,
   "id": "abcd8278",
   "metadata": {},
   "outputs": [
    {
     "name": "stdout",
     "output_type": "stream",
     "text": [
      "Enter your age44\n",
      "Enter your salary7373\n",
      "Enter your Namepython\n",
      "emp_5\n",
      "{'emp_1': {'Age': 29, 'Salary': 5600000, 'Name': 'Salahuddin'}, 'emp_2': {'Age': 39, 'Salary': None, 'Name': 'Alan'}, 'emp_3': {'Age': 39, 'Salary': 9000000, 'Name': 'apurva'}, 'emp_4': {'Age': 40, 'Salary': 7600000, 'Name': 'apurva'}, 'emp_5': {'Age': 44, 'Salary': 7373.0, 'Name': 'python'}}\n"
     ]
    }
   ],
   "source": [
    "# Srikant\n",
    "emp_data = {'emp_1':{'Age':29,'Salary':5600000,'Name':'Salahuddin'},\n",
    "           'emp_2':{'Age':39,'Salary':None,'Name':'Alan'},\n",
    "           'emp_3':{'Age':39,'Salary':9000000,'Name':'apurva'},\n",
    "           'emp_4':{'Age':40,'Salary':7600000,'Name':'apurva'}}\n",
    "\n",
    "\n",
    "age= int(input('Enter your age'))\n",
    "salary= float(input('Enter your salary'))\n",
    "nam= input('Enter your Name')\n",
    "\n",
    "l = f'emp_{len(emp_data)+1}'\n",
    "print(l)\n",
    "emp_data.setdefault(l,{'Age':age,'Salary':salary,'Name':nam})\n",
    "print(emp_data)\n"
   ]
  },
  {
   "cell_type": "code",
   "execution_count": 113,
   "id": "be83876a",
   "metadata": {},
   "outputs": [],
   "source": [
    "l = f'emp_{len(emp_data)+1}'"
   ]
  },
  {
   "cell_type": "code",
   "execution_count": 112,
   "id": "e9aeaa95",
   "metadata": {},
   "outputs": [
    {
     "data": {
      "text/plain": [
       "5"
      ]
     },
     "execution_count": 112,
     "metadata": {},
     "output_type": "execute_result"
    }
   ],
   "source": [
    "\n",
    "emp_data = {'emp_1':{'Age':29,'Salary':5600000,'Name':'Salahuddin'},\n",
    "           'emp_2':{'Age':39,'Salary':None,'Name':'Alan'},\n",
    "           'emp_3':{'Age':39,'Salary':9000000,'Name':'apurva'},\n",
    "           'emp_4':{'Age':40,'Salary':7600000,'Name':'apurva'}}\n",
    "\n",
    "\n",
    "len(emp_data)+1"
   ]
  },
  {
   "cell_type": "code",
   "execution_count": 110,
   "id": "4749d873",
   "metadata": {},
   "outputs": [
    {
     "data": {
      "text/plain": [
       "5"
      ]
     },
     "execution_count": 110,
     "metadata": {},
     "output_type": "execute_result"
    }
   ],
   "source": [
    "len(emp_data)+1"
   ]
  },
  {
   "cell_type": "code",
   "execution_count": 82,
   "id": "6c9c4d4d",
   "metadata": {},
   "outputs": [
    {
     "data": {
      "text/plain": [
       "4"
      ]
     },
     "execution_count": 82,
     "metadata": {},
     "output_type": "execute_result"
    }
   ],
   "source": [
    "emp_data = {'emp_1':{'Age':29,'Salary':5600000,'Name':'Salahuddin'},\n",
    "           'emp_2':{'Age':39,'Salary':None,'Name':'Alan'},\n",
    "           'emp_3':{'Age':39,'Salary':9000000,'Name':'apurva'},\n",
    "           'emp_4':{'Age':40,'Salary':7600000,'Name':'apurva'}}\n",
    "len(emp_data)"
   ]
  },
  {
   "cell_type": "code",
   "execution_count": 85,
   "id": "85143713",
   "metadata": {},
   "outputs": [
    {
     "name": "stdout",
     "output_type": "stream",
     "text": [
      "{'emp_1': {'Age': 29, 'Salary': 5600000, 'Name': 'Salahuddin'}, 'emp_2': {'Age': 39, 'Salary': None, 'Name': 'Alan'}, 'emp_3': {'Age': 39, 'Salary': 9000000, 'Name': 'apurva'}, 'emp_4': {'Age': 40, 'Salary': 7600000, 'Name': 'apurva'}, 'emp_5': {'Age': 44, 'Salary': 7373.0, 'Name': 'python'}}\n"
     ]
    }
   ],
   "source": [
    "#l = f'emp_{len(emp_data)+1}'\n",
    "#print(l)\n",
    "emp_data.setdefault(l,{'Age':age,'Salary':salary,'Name':nam})\n",
    "print(emp_data)\n"
   ]
  },
  {
   "cell_type": "code",
   "execution_count": 86,
   "id": "9190b74c",
   "metadata": {},
   "outputs": [],
   "source": [
    "emp_data = {'emp_1':{'Age':29,'Salary':5600000,'Name':'Salahuddin'},\n",
    "           'emp_2':{'Age':39,'Salary':None,'Name':'Alan'},\n",
    "           'emp_3':{'Age':39,'Salary':9000000,'Name':'apurva'},\n",
    "           'emp_4':{'Age':40,'Salary':7600000,'Name':'apurva'}}\n"
   ]
  },
  {
   "cell_type": "code",
   "execution_count": 88,
   "id": "6d08d8b4",
   "metadata": {},
   "outputs": [
    {
     "name": "stdout",
     "output_type": "stream",
     "text": [
      "Enter the name: python\n",
      "Enter the age: 73\n",
      "Enter the salary: 9839832\n",
      "Do you want to continue? yes\n",
      "Enter the name: masoda\n",
      "Enter the age: 8484\n",
      "Enter the salary: 3434\n",
      "Do you want to continue? no\n",
      "{'emp_1': {'Age': 29, 'Salary': 5600000, 'Name': 'Salahuddin'}, 'emp_2': {'Age': 39, 'Salary': None, 'Name': 'Alan'}, 'emp_3': {'Age': 39, 'Salary': 9000000, 'Name': 'apurva'}, 'emp_4': {'Age': 40, 'Salary': 7600000, 'Name': 'apurva'}, 'emp_5': {'Age': 88, 'Salary': 3273, 'Name': 'python'}, 'emp_6': {'Age': 73, 'Salary': 9839832, 'Name': 'python'}, 'emp_7': {'Age': 8484, 'Salary': 3434, 'Name': 'masoda'}}\n"
     ]
    }
   ],
   "source": [
    "\n",
    "while(True):\n",
    "    name=input(\"Enter the name: \")\n",
    "    age=eval(input(\"Enter the age: \"))\n",
    "    salary= eval(input(\"Enter the salary: \"))\n",
    "    emp_data.setdefault(f'emp_{len(emp_data)+1}',{'Age':age,'Salary':salary,'Name':name})\n",
    "#    i+=1\n",
    "    st=input(\"Do you want to continue? \")\n",
    "    if st=='yes' or st=='Yes' or st=='YES':\n",
    "        continue\n",
    "    else:\n",
    "        break\n",
    "print(emp_data)"
   ]
  },
  {
   "cell_type": "code",
   "execution_count": 89,
   "id": "1e8a7590",
   "metadata": {},
   "outputs": [
    {
     "data": {
      "text/plain": [
       "{'emp_1': {'Age': 29, 'Salary': 5600000, 'Name': 'Salahuddin'},\n",
       " 'emp_2': {'Age': 39, 'Salary': None, 'Name': 'Alan'},\n",
       " 'emp_3': {'Age': 39, 'Salary': 9000000, 'Name': 'apurva'},\n",
       " 'emp_4': {'Age': 40, 'Salary': 7600000, 'Name': 'apurva'},\n",
       " 'emp_5': {'Age': 88, 'Salary': 3273, 'Name': 'python'},\n",
       " 'emp_6': {'Age': 73, 'Salary': 9839832, 'Name': 'python'},\n",
       " 'emp_7': {'Age': 8484, 'Salary': 3434, 'Name': 'masoda'}}"
      ]
     },
     "execution_count": 89,
     "metadata": {},
     "output_type": "execute_result"
    }
   ],
   "source": [
    "emp_data"
   ]
  },
  {
   "cell_type": "code",
   "execution_count": 99,
   "id": "15d9a82a",
   "metadata": {},
   "outputs": [],
   "source": [
    "# Srikant\n",
    "emp_data = {'emp_1':{'Age':29,'Salary':5600000,'Name':'Salahuddin'},\n",
    "           'emp_2':{'Age':39,'Salary':None,'Name':'Alan'},\n",
    "           'emp_3':{'Age':39,'Salary':9000000,'Name':'apurva'},\n",
    "           'emp_4':{'Age':40,'Salary':7600000,'Name':'apurva'}}\n",
    "\n"
   ]
  },
  {
   "cell_type": "code",
   "execution_count": 102,
   "id": "c6608fb0",
   "metadata": {},
   "outputs": [
    {
     "name": "stdout",
     "output_type": "stream",
     "text": [
      "Enter your age4545\n",
      "Enter your salary34343\n",
      "Enter your Namepppppp\n",
      "emp_6\n",
      "{'emp_1': {'Age': 29, 'Salary': 5600000, 'Name': 'Salahuddin'}, 'emp_2': {'Age': 39, 'Salary': None, 'Name': 'Alan'}, 'emp_3': {'Age': 39, 'Salary': 9000000, 'Name': 'apurva'}, 'emp_4': {'Age': 40, 'Salary': 7600000, 'Name': 'apurva'}, 'emp_5': {'Age': 44, 'Salary': 55.0, 'Name': 'python'}, 'emp_6': {'Age': 4545, 'Salary': 34343.0, 'Name': 'pppppp'}}\n"
     ]
    }
   ],
   "source": [
    "\n",
    "age= int(input('Enter your age'))\n",
    "salary= float(input('Enter your salary'))\n",
    "nam= input('Enter your Name')\n",
    "\n",
    "l = f'emp_{len(emp_data)+1}'\n",
    "print(l)\n",
    "emp_data.setdefault(l,{'Age':age,'Salary':salary,'Name':nam})\n",
    "print(emp_data)\n"
   ]
  },
  {
   "cell_type": "code",
   "execution_count": 104,
   "id": "cd5c6cb0",
   "metadata": {},
   "outputs": [
    {
     "name": "stdout",
     "output_type": "stream",
     "text": [
      "Enter your age84848\n",
      "Enter your salary292832\n",
      "Enter your Namemsdfs\n",
      "emp_7\n",
      "{'emp_1': {'Age': 29, 'Salary': 5600000, 'Name': 'Salahuddin'}, 'emp_2': {'Age': 39, 'Salary': None, 'Name': 'Alan'}, 'emp_3': {'Age': 39, 'Salary': 9000000, 'Name': 'apurva'}, 'emp_4': {'Age': 40, 'Salary': 7600000, 'Name': 'apurva'}, 'emp_5': {'Age': 44, 'Salary': 55.0, 'Name': 'python'}, 'emp_6': {'Age': 4545, 'Salary': 34343.0, 'Name': 'pppppp'}, 'emp_7': {'Age': 84848, 'Salary': 292832.0, 'Name': 'msdfs'}}\n"
     ]
    }
   ],
   "source": [
    "\n",
    "age= int(input('Enter your age'))\n",
    "salary= float(input('Enter your salary'))\n",
    "nam= input('Enter your Name')\n",
    "\n",
    "l = f'emp_{len(emp_data)+1}'\n",
    "print(l)\n",
    "emp_data.setdefault(l,{'Age':age,'Salary':salary,'Name':nam})\n",
    "print(emp_data)\n"
   ]
  },
  {
   "cell_type": "code",
   "execution_count": 105,
   "id": "7be1fc2e",
   "metadata": {},
   "outputs": [
    {
     "data": {
      "text/plain": [
       "{'emp_1': {'Age': 29, 'Salary': 5600000, 'Name': 'Salahuddin'},\n",
       " 'emp_2': {'Age': 39, 'Salary': None, 'Name': 'Alan'},\n",
       " 'emp_3': {'Age': 39, 'Salary': 9000000, 'Name': 'apurva'},\n",
       " 'emp_4': {'Age': 40, 'Salary': 7600000, 'Name': 'apurva'},\n",
       " 'emp_5': {'Age': 44, 'Salary': 55.0, 'Name': 'python'},\n",
       " 'emp_6': {'Age': 4545, 'Salary': 34343.0, 'Name': 'pppppp'},\n",
       " 'emp_7': {'Age': 84848, 'Salary': 292832.0, 'Name': 'msdfs'}}"
      ]
     },
     "execution_count": 105,
     "metadata": {},
     "output_type": "execute_result"
    }
   ],
   "source": [
    "emp_data"
   ]
  },
  {
   "cell_type": "code",
   "execution_count": null,
   "id": "ed804ee5",
   "metadata": {},
   "outputs": [],
   "source": []
  }
 ],
 "metadata": {
  "kernelspec": {
   "display_name": "Python 3 (ipykernel)",
   "language": "python",
   "name": "python3"
  },
  "language_info": {
   "codemirror_mode": {
    "name": "ipython",
    "version": 3
   },
   "file_extension": ".py",
   "mimetype": "text/x-python",
   "name": "python",
   "nbconvert_exporter": "python",
   "pygments_lexer": "ipython3",
   "version": "3.9.12"
  }
 },
 "nbformat": 4,
 "nbformat_minor": 5
}
