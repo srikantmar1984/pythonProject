{
 "cells": [
  {
   "cell_type": "markdown",
   "id": "f9edff98",
   "metadata": {},
   "source": [
    "# Bitwise operators\n",
    "\n",
    "1. & (bitwise and)\n",
    "2. ^ (bitwise xor)\n",
    "3. << (Left shift)\n",
    "4. >> (Right shift)\n",
    "5. ~ (Bitwise not)\n",
    "6. | (Bitwise or)"
   ]
  },
  {
   "cell_type": "markdown",
   "id": "014c7df2",
   "metadata": {},
   "source": [
    "# & (bitwise and)\n",
    "\n",
    "* It "
   ]
  },
  {
   "cell_type": "code",
   "execution_count": 7,
   "id": "93088ebc",
   "metadata": {},
   "outputs": [
    {
     "name": "stdout",
     "output_type": "stream",
     "text": [
      "0\n"
     ]
    }
   ],
   "source": [
    "x = 10\n",
    "y = 4\n",
    "\n",
    "print(x & y)\n",
    "\n",
    "# 1  0    1    0\n",
    "# 0   1    0    0\n",
    "    \n",
    "# 0   0     0     0"
   ]
  },
  {
   "cell_type": "code",
   "execution_count": 3,
   "id": "ecc3b0d8",
   "metadata": {},
   "outputs": [
    {
     "name": "stdout",
     "output_type": "stream",
     "text": [
      "0b100\n"
     ]
    }
   ],
   "source": [
    "print(bin(y))"
   ]
  },
  {
   "cell_type": "code",
   "execution_count": 6,
   "id": "66d09004",
   "metadata": {},
   "outputs": [
    {
     "name": "stdout",
     "output_type": "stream",
     "text": [
      "0\n"
     ]
    }
   ],
   "source": [
    "print(0b0000)"
   ]
  },
  {
   "cell_type": "code",
   "execution_count": 8,
   "id": "2bdadf15",
   "metadata": {},
   "outputs": [
    {
     "name": "stdout",
     "output_type": "stream",
     "text": [
      "6\n"
     ]
    }
   ],
   "source": [
    "x = 6  #----->  0110\n",
    "y = 15 # -----> 1111\n",
    "#  0110\n",
    "print(x&y)"
   ]
  },
  {
   "cell_type": "code",
   "execution_count": 1,
   "id": "8ed5af3c",
   "metadata": {},
   "outputs": [
    {
     "name": "stdout",
     "output_type": "stream",
     "text": [
      "0\n",
      "14\n",
      "0b1110\n"
     ]
    }
   ],
   "source": [
    "x = 10 # 1010\n",
    "y = 4 #  0100\n",
    "# 1110\n",
    "print(x & y)\n",
    "print(x ^ y)\n",
    "print(bin(14))"
   ]
  },
  {
   "cell_type": "code",
   "execution_count": 10,
   "id": "ca2560c3",
   "metadata": {},
   "outputs": [
    {
     "name": "stdout",
     "output_type": "stream",
     "text": [
      "80\n"
     ]
    }
   ],
   "source": [
    "# << left shift ----> A*(2**n)\n",
    "# 20(4)\n",
    "A = 20\n",
    "print(A<<2)"
   ]
  },
  {
   "cell_type": "code",
   "execution_count": 11,
   "id": "1b708c2f",
   "metadata": {},
   "outputs": [
    {
     "name": "stdout",
     "output_type": "stream",
     "text": [
      "5\n"
     ]
    }
   ],
   "source": [
    "# >> right shift ---> A//(2**n)\n",
    "#20//(4)\n",
    "x = 20\n",
    "print(x>>2)"
   ]
  },
  {
   "cell_type": "markdown",
   "id": "520b6210",
   "metadata": {},
   "source": [
    "# ~ \n",
    "1. it adds 1 value\n",
    "2. It'll convert the sign"
   ]
  },
  {
   "cell_type": "code",
   "execution_count": 12,
   "id": "68f7a309",
   "metadata": {},
   "outputs": [
    {
     "name": "stdout",
     "output_type": "stream",
     "text": [
      "-3\n"
     ]
    }
   ],
   "source": [
    "a = 2\n",
    "print(~a)"
   ]
  },
  {
   "cell_type": "code",
   "execution_count": 13,
   "id": "4ccbecef",
   "metadata": {},
   "outputs": [
    {
     "name": "stdout",
     "output_type": "stream",
     "text": [
      "0\n"
     ]
    }
   ],
   "source": [
    "a = -1\n",
    "print(~a)"
   ]
  },
  {
   "cell_type": "code",
   "execution_count": 15,
   "id": "dac0b751",
   "metadata": {},
   "outputs": [
    {
     "name": "stdout",
     "output_type": "stream",
     "text": [
      "100\n"
     ]
    }
   ],
   "source": [
    "a = -101\n",
    "print(~a)"
   ]
  },
  {
   "cell_type": "code",
   "execution_count": 19,
   "id": "ad614489",
   "metadata": {},
   "outputs": [
    {
     "name": "stdout",
     "output_type": "stream",
     "text": [
      "30\n"
     ]
    }
   ],
   "source": [
    "# | (Bitwise or)\n",
    "\n",
    "x = 10 # 01010\n",
    "y = 20 # 10100\n",
    "print(x|y) # 11110"
   ]
  },
  {
   "cell_type": "code",
   "execution_count": null,
   "id": "7f049d2c",
   "metadata": {},
   "outputs": [],
   "source": [
    "# Assignment operators\n",
    "= "
   ]
  },
  {
   "cell_type": "code",
   "execution_count": 25,
   "id": "5f0ec826",
   "metadata": {},
   "outputs": [
    {
     "name": "stdout",
     "output_type": "stream",
     "text": [
      "8\n"
     ]
    }
   ],
   "source": [
    "x = 10\n",
    "y = x - 2\n",
    "\n",
    "print(y)"
   ]
  },
  {
   "cell_type": "code",
   "execution_count": 33,
   "id": "50fd939d",
   "metadata": {},
   "outputs": [
    {
     "name": "stdout",
     "output_type": "stream",
     "text": [
      "5.0\n"
     ]
    }
   ],
   "source": [
    "x = 10\n",
    "x /= 2\n",
    "\n",
    "print(x)"
   ]
  },
  {
   "cell_type": "markdown",
   "id": "b2d8f5f3",
   "metadata": {},
   "source": [
    "# Identity operator"
   ]
  },
  {
   "cell_type": "code",
   "execution_count": 35,
   "id": "9ff801ed",
   "metadata": {},
   "outputs": [
    {
     "name": "stdout",
     "output_type": "stream",
     "text": [
      "1924811483728\n",
      "1924811484048\n"
     ]
    }
   ],
   "source": [
    "a = 10\n",
    "b = 20\n",
    "\n",
    "print(id(a))\n",
    "print(id(b))"
   ]
  },
  {
   "cell_type": "code",
   "execution_count": 36,
   "id": "3f63e195",
   "metadata": {},
   "outputs": [
    {
     "name": "stdout",
     "output_type": "stream",
     "text": [
      "1924811484048\n"
     ]
    }
   ],
   "source": [
    "c = 20\n",
    "print(id(c))"
   ]
  },
  {
   "cell_type": "code",
   "execution_count": 39,
   "id": "9bf6b9ff",
   "metadata": {},
   "outputs": [
    {
     "name": "stdout",
     "output_type": "stream",
     "text": [
      "1924927240560\n",
      "1924927241648\n"
     ]
    }
   ],
   "source": [
    "# -5 to 256\n",
    "\n",
    "a = 257\n",
    "b = 257\n",
    "print(id(a))\n",
    "print(id(b))"
   ]
  },
  {
   "cell_type": "code",
   "execution_count": 41,
   "id": "71ed187c",
   "metadata": {},
   "outputs": [
    {
     "name": "stdout",
     "output_type": "stream",
     "text": [
      "1924927240144\n",
      "1924927239792\n"
     ]
    }
   ],
   "source": [
    "a = -6\n",
    "b = -6\n",
    "print(id(a))\n",
    "print(id(b))"
   ]
  },
  {
   "cell_type": "markdown",
   "id": "8d0d4f16",
   "metadata": {},
   "source": [
    "1. Tells if the memory location of two variable is same or not\n",
    "2. Always returns bool"
   ]
  },
  {
   "cell_type": "code",
   "execution_count": 43,
   "id": "990165ab",
   "metadata": {},
   "outputs": [
    {
     "name": "stdout",
     "output_type": "stream",
     "text": [
      "1924811483728\n",
      "1924811483728\n",
      "True\n"
     ]
    }
   ],
   "source": [
    "a = 10\n",
    "b = 10\n",
    "\n",
    "print(id(a))\n",
    "print(id(b))\n",
    "print( a is b)"
   ]
  },
  {
   "cell_type": "code",
   "execution_count": 44,
   "id": "ba429d87",
   "metadata": {},
   "outputs": [
    {
     "name": "stdout",
     "output_type": "stream",
     "text": [
      "1924811483728\n",
      "1924811483728\n",
      "False\n"
     ]
    }
   ],
   "source": [
    "a = 10\n",
    "b = 10\n",
    "\n",
    "print(id(a))\n",
    "print(id(b))\n",
    "print( a is not b)"
   ]
  },
  {
   "cell_type": "code",
   "execution_count": 1,
   "id": "a4529d79",
   "metadata": {},
   "outputs": [
    {
     "name": "stdout",
     "output_type": "stream",
     "text": [
      "2786724571728\n",
      "2786724571728\n",
      "False\n"
     ]
    }
   ],
   "source": [
    "a = 10\n",
    "b = 10\n",
    "\n",
    "print(id(a))\n",
    "print(id(b))\n",
    "print( a is not b)"
   ]
  },
  {
   "cell_type": "code",
   "execution_count": null,
   "id": "764f9ed9",
   "metadata": {},
   "outputs": [],
   "source": [
    "2244180929104"
   ]
  },
  {
   "cell_type": "code",
   "execution_count": 48,
   "id": "47f2e3f9",
   "metadata": {},
   "outputs": [
    {
     "name": "stdout",
     "output_type": "stream",
     "text": [
      "1924927238800\n",
      "1924927242096\n",
      "True\n"
     ]
    }
   ],
   "source": [
    "a = 1.0 # \n",
    "b = 1.0 # \n",
    "\n",
    "print(id(a))\n",
    "print(id(b))\n",
    "print( a is not b)"
   ]
  },
  {
   "cell_type": "code",
   "execution_count": 50,
   "id": "94802365",
   "metadata": {},
   "outputs": [
    {
     "name": "stdout",
     "output_type": "stream",
     "text": [
      "1924811483728\n",
      "1924811483728\n",
      "True\n"
     ]
    }
   ],
   "source": [
    "a = 10\n",
    "b = int(10.45)  # 10\n",
    "\n",
    "print(id(a))\n",
    "print(id(b))\n",
    "print( a is b)"
   ]
  },
  {
   "cell_type": "code",
   "execution_count": 52,
   "id": "a515e6e8",
   "metadata": {},
   "outputs": [
    {
     "data": {
      "text/plain": [
       "10.45"
      ]
     },
     "execution_count": 52,
     "metadata": {},
     "output_type": "execute_result"
    }
   ],
   "source": [
    "b = 10.45\n",
    "b"
   ]
  },
  {
   "cell_type": "code",
   "execution_count": 51,
   "id": "e1ecd8b3",
   "metadata": {},
   "outputs": [
    {
     "name": "stdout",
     "output_type": "stream",
     "text": [
      "1924927240016\n"
     ]
    }
   ],
   "source": [
    "print(id(10.45))"
   ]
  },
  {
   "cell_type": "code",
   "execution_count": 53,
   "id": "78d53ea8",
   "metadata": {},
   "outputs": [
    {
     "name": "stdout",
     "output_type": "stream",
     "text": [
      "1924927240016\n"
     ]
    }
   ],
   "source": [
    "print(id(b))"
   ]
  },
  {
   "cell_type": "code",
   "execution_count": 54,
   "id": "8ea07aa6",
   "metadata": {},
   "outputs": [
    {
     "name": "stdout",
     "output_type": "stream",
     "text": [
      "1924927241200\n"
     ]
    }
   ],
   "source": [
    "c = 10.45\n",
    "print(id(c))"
   ]
  },
  {
   "cell_type": "code",
   "execution_count": null,
   "id": "0b10373a",
   "metadata": {},
   "outputs": [],
   "source": [
    "# 255 > -5"
   ]
  },
  {
   "cell_type": "code",
   "execution_count": 55,
   "id": "9d107e07",
   "metadata": {},
   "outputs": [
    {
     "name": "stdout",
     "output_type": "stream",
     "text": [
      "1924927733040\n",
      "1924927732720\n"
     ]
    }
   ],
   "source": [
    "a = 10+6j\n",
    "b = 10+6j\n",
    "print(id(a))\n",
    "print(id(b))"
   ]
  },
  {
   "cell_type": "markdown",
   "id": "473b97c2",
   "metadata": {},
   "source": [
    "# Memory reusability\n",
    "* int it'll work for -5 to 256\n",
    "* float it'll not work\n",
    "* complex it'll not work\n",
    "* Bool data type it'll work\n",
    "* None is same\n",
    "\n",
    "* string - memory reusibility will but if speacial characters are added it'll not work"
   ]
  },
  {
   "cell_type": "code",
   "execution_count": 65,
   "id": "f8527428",
   "metadata": {},
   "outputs": [
    {
     "name": "stdout",
     "output_type": "stream",
     "text": [
      "140705711365336\n",
      "140705711365336\n",
      "True\n"
     ]
    }
   ],
   "source": [
    "a = None\n",
    "b = None\n",
    "print(id(a))\n",
    "print(id(b))\n",
    "print(a is b)"
   ]
  },
  {
   "cell_type": "code",
   "execution_count": 66,
   "id": "22e72ad7",
   "metadata": {},
   "outputs": [
    {
     "data": {
      "text/plain": [
       "False"
      ]
     },
     "execution_count": 66,
     "metadata": {},
     "output_type": "execute_result"
    }
   ],
   "source": [
    "bool(None)"
   ]
  },
  {
   "cell_type": "code",
   "execution_count": 6,
   "id": "76f9e71f",
   "metadata": {},
   "outputs": [
    {
     "name": "stdout",
     "output_type": "stream",
     "text": [
      "2786767439792\n",
      "2786737604976\n"
     ]
    }
   ],
   "source": [
    "a = 'python'\n",
    "b = 'cython'\n",
    "print(id(a))\n",
    "print(id(b))"
   ]
  },
  {
   "cell_type": "code",
   "execution_count": 2,
   "id": "d06af5f3",
   "metadata": {},
   "outputs": [
    {
     "name": "stdout",
     "output_type": "stream",
     "text": [
      "2786733933296\n",
      "2786730460016\n"
     ]
    }
   ],
   "source": [
    "a = 'pYthon'\n",
    "b = 'cython'\n",
    "print(id(a[1]))\n",
    "print(id(b[1]))"
   ]
  },
  {
   "cell_type": "code",
   "execution_count": 7,
   "id": "1138697e",
   "metadata": {},
   "outputs": [
    {
     "data": {
      "text/plain": [
       "False"
      ]
     },
     "execution_count": 7,
     "metadata": {},
     "output_type": "execute_result"
    }
   ],
   "source": [
    "a[0] == b[0]"
   ]
  },
  {
   "cell_type": "code",
   "execution_count": 21,
   "id": "833913a2",
   "metadata": {},
   "outputs": [
    {
     "name": "stdout",
     "output_type": "stream",
     "text": [
      "2786724571568\n",
      "2786810984240\n",
      "False\n"
     ]
    }
   ],
   "source": [
    "a = 5\n",
    "b = 10/2 # 5.0\n",
    "print(id(a))\n",
    "print(id(b))\n",
    "print(a is b)"
   ]
  },
  {
   "cell_type": "code",
   "execution_count": 18,
   "id": "d62d5022",
   "metadata": {},
   "outputs": [
    {
     "name": "stdout",
     "output_type": "stream",
     "text": [
      "2786811192112\n",
      "2786811194480\n",
      "False\n"
     ]
    }
   ],
   "source": [
    "a = 'python@123'\n",
    "b = 'python@123'\n",
    "print(id(a))\n",
    "print(id(b))\n",
    "print(a is b)"
   ]
  },
  {
   "cell_type": "code",
   "execution_count": 19,
   "id": "2e7dd868",
   "metadata": {},
   "outputs": [
    {
     "name": "stdout",
     "output_type": "stream",
     "text": [
      "2786739952256\n",
      "2786739952256\n"
     ]
    }
   ],
   "source": [
    "a = 'abcdefghijklmnopqrstuvwxyz'\n",
    "b = 'abcdefghijklmnopqrstuvwxyz'\n",
    "print(id(a))\n",
    "print(id(b))"
   ]
  },
  {
   "cell_type": "code",
   "execution_count": 23,
   "id": "33e17659",
   "metadata": {},
   "outputs": [
    {
     "name": "stdout",
     "output_type": "stream",
     "text": [
      "2786725030960\n",
      "2786725281904\n",
      "False\n"
     ]
    }
   ],
   "source": [
    "a='python'\n",
    "b='cython'\n",
    "\n",
    "print(id(a[0]))\n",
    "print(id(b[0]))\n",
    "print(a is b)"
   ]
  },
  {
   "cell_type": "code",
   "execution_count": null,
   "id": "02cf4cf4",
   "metadata": {},
   "outputs": [],
   "source": [
    "# Output function \n",
    "print()"
   ]
  },
  {
   "cell_type": "code",
   "execution_count": 40,
   "id": "e6fcdad9",
   "metadata": {},
   "outputs": [
    {
     "name": "stdout",
     "output_type": "stream",
     "text": [
      "10\n",
      "20\n",
      "30\n"
     ]
    }
   ],
   "source": [
    "a = 10\n",
    "b = 20\n",
    "c = 30\n",
    "\n",
    "print(a)\n",
    "print(b)\n",
    "print(c)"
   ]
  },
  {
   "cell_type": "code",
   "execution_count": 42,
   "id": "d1ccb181",
   "metadata": {
    "scrolled": true
   },
   "outputs": [
    {
     "name": "stdout",
     "output_type": "stream",
     "text": [
      "10 20 30***Hey there\n"
     ]
    }
   ],
   "source": [
    "a = 10\n",
    "b = 20\n",
    "c = 30\n",
    "\n",
    "print(a,b,c,end = '***')\n",
    "print('Hey there')\n",
    "# 10 20 30***"
   ]
  },
  {
   "cell_type": "code",
   "execution_count": 34,
   "id": "928840ef",
   "metadata": {},
   "outputs": [
    {
     "name": "stdout",
     "output_type": "stream",
     "text": [
      "10$$$20\n",
      "20\n",
      "30\t"
     ]
    }
   ],
   "source": [
    "a = 10\n",
    "b = 20\n",
    "c = 30\n",
    "\n",
    "print(a,b ,sep= '$$$') # 10    20\n",
    "print(b, end = '\\n')\n",
    "print(c, end = '\\t')\n",
    "\n",
    "# 10$$20\n",
    "# 20\n",
    "# 30"
   ]
  },
  {
   "cell_type": "code",
   "execution_count": 37,
   "id": "91aeacb6",
   "metadata": {},
   "outputs": [
    {
     "name": "stdout",
     "output_type": "stream",
     "text": [
      "10$$$20***"
     ]
    }
   ],
   "source": [
    "a = 10\n",
    "b = 20\n",
    "c = 30\n",
    "\n",
    "print(a,b,end = '***', sep = '$$$')"
   ]
  },
  {
   "cell_type": "code",
   "execution_count": 39,
   "id": "73a21845",
   "metadata": {},
   "outputs": [
    {
     "name": "stdout",
     "output_type": "stream",
     "text": [
      "10++++20-----30\n",
      "40#######10%%%%%%%20%%%%%%%50@@@@@"
     ]
    }
   ],
   "source": [
    "a = 10\n",
    "b = 20\n",
    "c = 30\n",
    "d = 40\n",
    "e = 50\n",
    "\n",
    "print(a,b, sep = '++++', end='-----')\n",
    "print(c,sep = '$$$')\n",
    "\n",
    "print(d, end = '#######')\n",
    "print(a,b,e, sep='%%%%%%%', end = '@@@@@')"
   ]
  },
  {
   "cell_type": "code",
   "execution_count": null,
   "id": "de32c219",
   "metadata": {},
   "outputs": [],
   "source": []
  }
 ],
 "metadata": {
  "kernelspec": {
   "display_name": "Python 3 (ipykernel)",
   "language": "python",
   "name": "python3"
  },
  "language_info": {
   "codemirror_mode": {
    "name": "ipython",
    "version": 3
   },
   "file_extension": ".py",
   "mimetype": "text/x-python",
   "name": "python",
   "nbconvert_exporter": "python",
   "pygments_lexer": "ipython3",
   "version": "3.9.12"
  }
 },
 "nbformat": 4,
 "nbformat_minor": 5
}
