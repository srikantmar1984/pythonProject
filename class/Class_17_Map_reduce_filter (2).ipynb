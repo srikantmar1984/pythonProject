{
 "cells": [
  {
   "cell_type": "code",
   "execution_count": 2,
   "id": "2e1a8ce6",
   "metadata": {},
   "outputs": [],
   "source": [
    "lst_1 = [1,2,3,4,5]\n",
    "lst_2 = [5,6,87,9,9]"
   ]
  },
  {
   "cell_type": "code",
   "execution_count": 3,
   "id": "43c4cbdc",
   "metadata": {},
   "outputs": [],
   "source": [
    "def add(a,b):\n",
    "    return a+b"
   ]
  },
  {
   "cell_type": "code",
   "execution_count": 5,
   "id": "8e0a8c23",
   "metadata": {},
   "outputs": [],
   "source": [
    "x = lambda a,b: a+b"
   ]
  },
  {
   "cell_type": "code",
   "execution_count": 6,
   "id": "9e8249bf",
   "metadata": {},
   "outputs": [
    {
     "data": {
      "text/plain": [
       "[1, 2, 3, 4, 5, 5, 6, 87, 9, 9]"
      ]
     },
     "execution_count": 6,
     "metadata": {},
     "output_type": "execute_result"
    }
   ],
   "source": [
    "x(lst_1,lst_2)"
   ]
  },
  {
   "cell_type": "code",
   "execution_count": 9,
   "id": "15376600",
   "metadata": {},
   "outputs": [],
   "source": [
    "list_3 = list(map(add , lst_1, lst_2))"
   ]
  },
  {
   "cell_type": "code",
   "execution_count": 10,
   "id": "d19ef456",
   "metadata": {},
   "outputs": [
    {
     "data": {
      "text/plain": [
       "[6, 8, 90, 13, 14]"
      ]
     },
     "execution_count": 10,
     "metadata": {},
     "output_type": "execute_result"
    }
   ],
   "source": [
    "list_3"
   ]
  },
  {
   "cell_type": "code",
   "execution_count": 12,
   "id": "d573018d",
   "metadata": {},
   "outputs": [
    {
     "data": {
      "text/plain": [
       "[6, 8, 90, 13, 14]"
      ]
     },
     "execution_count": 12,
     "metadata": {},
     "output_type": "execute_result"
    }
   ],
   "source": [
    "list(map(lambda a,b: a+b , lst_1 , lst_2))"
   ]
  },
  {
   "cell_type": "code",
   "execution_count": 13,
   "id": "33022c05",
   "metadata": {},
   "outputs": [],
   "source": [
    "lst = ['akzelxw@hotmail.com',\n",
    "'elum@gmail.com',\n",
    "'akbar.caakaterasu@gmail.com',\n",
    "'akarui.kibuno@gmail.com',\n",
    "'ajsparkchick@hotmail.com',\n",
    "'ajmeia@yahoo.com',\n",
    "'ajhnstn87@gmail.com',\n",
    "'ailuvzhoko4@hotmail.com',\n",
    "'ailuvzhoko3@hotmail.com',\n",
    "'ailuvzhoko2@hotmail.com',\n",
    "'ailuvzhoko@hotmail.com',\n",
    "'aillensiquioco@aol.com',\n",
    "'ahmovic_ines@hotmail.com',\n",
    "'ahmed_g300@yahoo.com',\n",
    "'ahmadjazlan@gmail.com',\n",
    "'ahmad_ridho19@yahoo.com']\n"
   ]
  },
  {
   "cell_type": "code",
   "execution_count": 14,
   "id": "fadcdc76",
   "metadata": {},
   "outputs": [
    {
     "name": "stdout",
     "output_type": "stream",
     "text": [
      "['elum', 'akbar.caakaterasu', 'akarui.kibuno', 'ajhnstn87', 'ahmadjazlan']\n"
     ]
    }
   ],
   "source": [
    "result=list(map(lambda x: x.split('@')[0],[x for x in lst if x.split('@')[1]=='gmail.com']))\n",
    "print(result)\n"
   ]
  },
  {
   "cell_type": "code",
   "execution_count": 15,
   "id": "b069ad88",
   "metadata": {},
   "outputs": [
    {
     "data": {
      "text/plain": [
       "['elum', 'akbar.caakaterasu', 'akarui.kibuno', 'ajhnstn87', 'ahmadjazlan']"
      ]
     },
     "execution_count": 15,
     "metadata": {},
     "output_type": "execute_result"
    }
   ],
   "source": [
    "f = lambda x: [i.split('@')[0] for i in x if i.split('@')[1] == 'gmail.com']\n",
    "f(lst)\n"
   ]
  },
  {
   "cell_type": "markdown",
   "id": "4b08de60",
   "metadata": {},
   "source": [
    "# Reduce \n",
    "\n",
    "\n",
    "1. function\n",
    "2. iterable\n",
    "\n",
    "agregate , sum , min, max ,avg"
   ]
  },
  {
   "cell_type": "code",
   "execution_count": 1,
   "id": "ae6a4311",
   "metadata": {},
   "outputs": [],
   "source": [
    "from functools import reduce"
   ]
  },
  {
   "cell_type": "code",
   "execution_count": 4,
   "id": "27518837",
   "metadata": {},
   "outputs": [
    {
     "data": {
      "text/plain": [
       "48"
      ]
     },
     "execution_count": 4,
     "metadata": {},
     "output_type": "execute_result"
    }
   ],
   "source": [
    "# Sum of elements\n",
    "\n",
    "ls = [1,2,3,4,4,5,6,7,8,8]\n",
    "\n",
    "\n",
    "reduce(lambda a,b,: a+b , ls)"
   ]
  },
  {
   "cell_type": "code",
   "execution_count": null,
   "id": "d3434a4a",
   "metadata": {},
   "outputs": [],
   "source": [
    "1,2,3,4,4,5,6,7,8,8\n",
    "\n",
    "3,3,4,4,5,6,7,8,8\n",
    "\n",
    "6,4,4,5,6,7,8,8\n",
    "\n",
    "10,4,5,6,7,8,8\n",
    "\n",
    "14,5,6,7,8,8\n",
    "\n",
    "19,6,7,8,8\n",
    "\n",
    "48"
   ]
  },
  {
   "cell_type": "code",
   "execution_count": 5,
   "id": "d613c17a",
   "metadata": {},
   "outputs": [
    {
     "data": {
      "text/plain": [
       "4.8"
      ]
     },
     "execution_count": 5,
     "metadata": {},
     "output_type": "execute_result"
    }
   ],
   "source": [
    "# avg\n",
    "\n",
    "ls = [1,2,3,4,4,5,6,7,8,8]\n",
    "\n",
    "\n",
    "(reduce(lambda a,b,: a+b , ls))/len(ls)"
   ]
  },
  {
   "cell_type": "code",
   "execution_count": 6,
   "id": "64810505",
   "metadata": {},
   "outputs": [
    {
     "data": {
      "text/plain": [
       "24.5"
      ]
     },
     "execution_count": 6,
     "metadata": {},
     "output_type": "execute_result"
    }
   ],
   "source": [
    "# \n",
    "\n",
    "ls = [1,2,3,4,4,5,6,7,8,8]\n",
    "\n",
    "\n",
    "reduce(lambda a,b,: a+b/2 , ls)"
   ]
  },
  {
   "cell_type": "code",
   "execution_count": 11,
   "id": "3c12f9df",
   "metadata": {},
   "outputs": [
    {
     "data": {
      "text/plain": [
       "24.5"
      ]
     },
     "execution_count": 11,
     "metadata": {},
     "output_type": "execute_result"
    }
   ],
   "source": [
    "# mean\n",
    "\n",
    "ls = [1,2,3,4,4,5,6,7,8,8]\n",
    "\n",
    "\n",
    "reduce(lambda a,b,: a+b/2 , ls)"
   ]
  },
  {
   "cell_type": "code",
   "execution_count": 15,
   "id": "288b3f4d",
   "metadata": {},
   "outputs": [
    {
     "data": {
      "text/plain": [
       "3"
      ]
     },
     "execution_count": 15,
     "metadata": {},
     "output_type": "execute_result"
    }
   ],
   "source": [
    "# min\n",
    "\n",
    "ls = [2334,34,33,3,3,1232,43,432]\n",
    "\n",
    "\n",
    "reduce(lambda a,b,:a if a<b else b, ls)"
   ]
  },
  {
   "cell_type": "code",
   "execution_count": null,
   "id": "3a6b6965",
   "metadata": {},
   "outputs": [],
   "source": [
    "[1,2,3,4,4,5,6,7,8,8]\n",
    "\n",
    "1,3,4,4,5,6,7,8,8\n",
    "\n",
    "1"
   ]
  },
  {
   "cell_type": "code",
   "execution_count": 18,
   "id": "0feda87a",
   "metadata": {},
   "outputs": [
    {
     "data": {
      "text/plain": [
       "2334"
      ]
     },
     "execution_count": 18,
     "metadata": {},
     "output_type": "execute_result"
    }
   ],
   "source": [
    "# max\n",
    "\n",
    "ls = [2334,34,33,3,3,1232,43,432]\n",
    "\n",
    "\n",
    "reduce(lambda a,b:a if a>b else b, ls)"
   ]
  },
  {
   "cell_type": "code",
   "execution_count": 29,
   "id": "5cb35ff2",
   "metadata": {},
   "outputs": [],
   "source": [
    "date = ['2015-07-28','2015-07-11','2015-07-27','2015-07-01','2015-07-05']\n",
    "\n",
    "# reduce and lambda i want the min date as my output"
   ]
  },
  {
   "cell_type": "code",
   "execution_count": 30,
   "id": "42b9d187",
   "metadata": {},
   "outputs": [
    {
     "data": {
      "text/plain": [
       "'2015-07-28'"
      ]
     },
     "execution_count": 30,
     "metadata": {},
     "output_type": "execute_result"
    }
   ],
   "source": [
    "reduce(lambda a,b: a if a>b else b, date)"
   ]
  },
  {
   "cell_type": "code",
   "execution_count": 34,
   "id": "dac98a21",
   "metadata": {},
   "outputs": [
    {
     "name": "stdout",
     "output_type": "stream",
     "text": [
      "28\n"
     ]
    }
   ],
   "source": [
    "import functools\n",
    "date = ['2015-07-28','2015-07-11','2015-07-27','2015-07-01','2015-07-05']\n",
    "print(functools.reduce(lambda a,b: a[-2:] if a[-2:]>b [-2:]else b[-2:], date))\n"
   ]
  },
  {
   "cell_type": "code",
   "execution_count": 37,
   "id": "0b4d42f9",
   "metadata": {},
   "outputs": [
    {
     "data": {
      "text/plain": [
       "'2015-Aug-11'"
      ]
     },
     "execution_count": 37,
     "metadata": {},
     "output_type": "execute_result"
    }
   ],
   "source": [
    "import functools\n",
    "date = ['2015-Jul-28','2015-Aug-11','2015-Sep-27','2015-Feb-01','2015-Jan-05']\n",
    "\n",
    "reduce(lambda a,b: a if a<b else b, date)\n"
   ]
  },
  {
   "cell_type": "markdown",
   "id": "44508e06",
   "metadata": {},
   "source": [
    "# Filter\n",
    "\n",
    "1. function\n",
    "2. iterable\n",
    "\n",
    "\n",
    "* The filter function need a function as a first arg,\n",
    "* The function needs (should) return bool value \n",
    "* This function will be applied to every element of the iterable\n",
    "* Only if the function returns true then the element for which it returned will be added"
   ]
  },
  {
   "cell_type": "code",
   "execution_count": 38,
   "id": "110d778a",
   "metadata": {},
   "outputs": [
    {
     "data": {
      "text/plain": [
       "[24, 523432, 654324, 63242, 342, 4234, 432, 4]"
      ]
     },
     "execution_count": 38,
     "metadata": {},
     "output_type": "execute_result"
    }
   ],
   "source": [
    "lst = [143,24343,3,24,523432,654324,63242,342,23,4234,432,4]\n",
    "\n",
    "list(filter(lambda x: x%2 == 0 , lst))"
   ]
  },
  {
   "cell_type": "code",
   "execution_count": 43,
   "id": "47b2e2e5",
   "metadata": {},
   "outputs": [],
   "source": [
    "lst = ['akzelxw@hotmail.com',\n",
    "'elum@gmail.com',\n",
    "'akbar.caakaterasu@gmail.com',\n",
    "'akarui.kibuno@gmail.com',\n",
    "'ajsparkchick@hotmail.com',\n",
    "'ajmeia@yahoo.com',\n",
    "'ajhnstn87@gmail.com',\n",
    "'ailuvzhoko4@hotmail.com',\n",
    "'ailuvzhoko3@hotmail.com',\n",
    "'ailuvzhoko2@hotmail.com',\n",
    "'ailuvzhoko@hotmail.com',\n",
    "'aillensiquioco@aol.com',\n",
    "'ahmovic_ines@hotmail.com',\n",
    "'ahmed_g300@yahoo.com',\n",
    "'ahmadjazlan@gmail.com',\n",
    "'ahmad_ridho19@yahoo.com']"
   ]
  },
  {
   "cell_type": "code",
   "execution_count": 44,
   "id": "4f583813",
   "metadata": {},
   "outputs": [
    {
     "data": {
      "text/plain": [
       "['elum@gmail.com',\n",
       " 'akbar.caakaterasu@gmail.com',\n",
       " 'akarui.kibuno@gmail.com',\n",
       " 'ajhnstn87@gmail.com',\n",
       " 'ahmadjazlan@gmail.com']"
      ]
     },
     "execution_count": 44,
     "metadata": {},
     "output_type": "execute_result"
    }
   ],
   "source": [
    "# i want only gmail mail ids\n",
    "\n",
    "list(filter(lambda x: x.split('@')[1]=='gmail.com',lst))"
   ]
  },
  {
   "cell_type": "code",
   "execution_count": 45,
   "id": "05bd2979",
   "metadata": {},
   "outputs": [
    {
     "name": "stdout",
     "output_type": "stream",
     "text": [
      "['elum@gmail.com', 'akbar.caakaterasu@gmail.com', 'akarui.kibuno@gmail.com', 'ajhnstn87@gmail.com', 'ahmadjazlan@gmail.com']\n"
     ]
    }
   ],
   "source": [
    "print(list(filter(lambda x: 'gmail' in x,lst)))"
   ]
  },
  {
   "cell_type": "markdown",
   "id": "8cd98fea",
   "metadata": {},
   "source": [
    "# Enumerate"
   ]
  },
  {
   "cell_type": "code",
   "execution_count": 51,
   "id": "f061330b",
   "metadata": {},
   "outputs": [
    {
     "data": {
      "text/plain": [
       "[(0, 'p'),\n",
       " (1, 'y'),\n",
       " (2, 't'),\n",
       " (3, 'h'),\n",
       " (4, 'o'),\n",
       " (5, 'n'),\n",
       " (6, ' '),\n",
       " (7, 'b'),\n",
       " (8, 'a'),\n",
       " (9, 's'),\n",
       " (10, 'i'),\n",
       " (11, 'c'),\n",
       " (12, ' '),\n",
       " (13, 'c'),\n",
       " (14, 'l'),\n",
       " (15, 'a'),\n",
       " (16, 's'),\n",
       " (17, 's'),\n",
       " (18, ' '),\n",
       " (19, 'i'),\n",
       " (20, 's'),\n",
       " (21, ' '),\n",
       " (22, 'a'),\n",
       " (23, 'l'),\n",
       " (24, 'm'),\n",
       " (25, 'o'),\n",
       " (26, 's'),\n",
       " (27, 't'),\n",
       " (28, ' '),\n",
       " (29, 'o'),\n",
       " (30, 'v'),\n",
       " (31, 'e'),\n",
       " (32, 'r'),\n",
       " (33, ' '),\n",
       " (34, ','),\n",
       " (35, ' '),\n",
       " (36, 'c'),\n",
       " (37, 'l'),\n",
       " (38, 'a'),\n",
       " (39, 's'),\n",
       " (40, 's'),\n",
       " (41, ' '),\n",
       " (42, 'w'),\n",
       " (43, 'a'),\n",
       " (44, 's'),\n",
       " (45, ' '),\n",
       " (46, 'b'),\n",
       " (47, 'o'),\n",
       " (48, 'r'),\n",
       " (49, 'i'),\n",
       " (50, 'n'),\n",
       " (51, 'g'),\n",
       " (52, ' '),\n",
       " (53, ','),\n",
       " (54, ' '),\n",
       " (55, 'c'),\n",
       " (56, 'l'),\n",
       " (57, 'a'),\n",
       " (58, 's'),\n",
       " (59, 's'),\n",
       " (60, ' '),\n",
       " (61, 'i'),\n",
       " (62, 's'),\n",
       " (63, ' '),\n",
       " (64, 'c'),\n",
       " (65, 'l'),\n",
       " (66, 'a'),\n",
       " (67, 's'),\n",
       " (68, 's'),\n",
       " (69, '?')]"
      ]
     },
     "execution_count": 51,
     "metadata": {},
     "output_type": "execute_result"
    }
   ],
   "source": [
    "a = 'python basic class is almost over , class was boring , class is class?'\n",
    "\n",
    "list(enumerate(a))"
   ]
  },
  {
   "cell_type": "code",
   "execution_count": 55,
   "id": "002ac83f",
   "metadata": {},
   "outputs": [
    {
     "name": "stdout",
     "output_type": "stream",
     "text": [
      "9--->s\n",
      "16--->s\n",
      "17--->s\n",
      "20--->s\n",
      "26--->s\n",
      "39--->s\n",
      "40--->s\n",
      "44--->s\n",
      "58--->s\n",
      "59--->s\n",
      "62--->s\n",
      "67--->s\n",
      "68--->s\n"
     ]
    }
   ],
   "source": [
    "for i,j in enumerate(a):\n",
    "    if j == 's':\n",
    "        print(i,j, sep = '--->')"
   ]
  },
  {
   "cell_type": "code",
   "execution_count": 58,
   "id": "c4193bd8",
   "metadata": {},
   "outputs": [
    {
     "data": {
      "text/plain": [
       "[(0, 5), (1, 3), (2, 2), (3, 8)]"
      ]
     },
     "execution_count": 58,
     "metadata": {},
     "output_type": "execute_result"
    }
   ],
   "source": [
    "a = [5,3,2,8]\n",
    "\n",
    "list(enumerate(a))"
   ]
  },
  {
   "cell_type": "code",
   "execution_count": 59,
   "id": "6ddaff0b",
   "metadata": {},
   "outputs": [],
   "source": [
    "a = 'python basic class is almost over , class was boring , class is class?'\n",
    "b = a.split()"
   ]
  },
  {
   "cell_type": "code",
   "execution_count": 60,
   "id": "71a24792",
   "metadata": {},
   "outputs": [
    {
     "name": "stdout",
     "output_type": "stream",
     "text": [
      "['python', 'basic', 'class', 'is', 'almost', 'over', ',', 'class', 'was', 'boring', ',', 'class', 'is', 'class?']\n"
     ]
    }
   ],
   "source": [
    "print(b)"
   ]
  },
  {
   "cell_type": "code",
   "execution_count": 62,
   "id": "926f2fec",
   "metadata": {},
   "outputs": [
    {
     "name": "stdout",
     "output_type": "stream",
     "text": [
      "2---->class\n",
      "7---->class\n",
      "11---->class\n"
     ]
    }
   ],
   "source": [
    "for i,j in enumerate(b):\n",
    "    if j == 'class':\n",
    "        print(i ,j , sep= '---->')"
   ]
  },
  {
   "cell_type": "markdown",
   "id": "4a0b5fb3",
   "metadata": {},
   "source": [
    "# Iterable , Iterators"
   ]
  },
  {
   "cell_type": "code",
   "execution_count": null,
   "id": "7979a945",
   "metadata": {},
   "outputs": [],
   "source": [
    "# iterable\n",
    "- list, string, tuple , dic(key)\n",
    "\n",
    "when to say that an object is iter\n",
    "\n",
    "1. len func\n",
    "2. __iter__ should be there"
   ]
  },
  {
   "cell_type": "code",
   "execution_count": null,
   "id": "94310fbf",
   "metadata": {},
   "outputs": [],
   "source": [
    "# iterator\n",
    "- From the iterable object we can create an iterator\n",
    "- Concept is heavily used in for loop"
   ]
  },
  {
   "cell_type": "code",
   "execution_count": 71,
   "id": "6f7731ab",
   "metadata": {},
   "outputs": [
    {
     "name": "stdout",
     "output_type": "stream",
     "text": [
      "<class 'list_iterator'>\n",
      "2\n",
      "3\n",
      "32\n",
      "4\n",
      "4\n"
     ]
    },
    {
     "ename": "StopIteration",
     "evalue": "",
     "output_type": "error",
     "traceback": [
      "\u001b[1;31m---------------------------------------------------------------------------\u001b[0m",
      "\u001b[1;31mStopIteration\u001b[0m                             Traceback (most recent call last)",
      "Input \u001b[1;32mIn [71]\u001b[0m, in \u001b[0;36m<cell line: 16>\u001b[1;34m()\u001b[0m\n\u001b[0;32m     14\u001b[0m \u001b[38;5;28mprint\u001b[39m(\u001b[38;5;28mnext\u001b[39m(my_iter))\n\u001b[0;32m     15\u001b[0m \u001b[38;5;28mprint\u001b[39m(\u001b[38;5;28mnext\u001b[39m(my_iter))\n\u001b[1;32m---> 16\u001b[0m \u001b[38;5;28mprint\u001b[39m(\u001b[38;5;28;43mnext\u001b[39;49m\u001b[43m(\u001b[49m\u001b[43mmy_iter\u001b[49m\u001b[43m)\u001b[49m)\n",
      "\u001b[1;31mStopIteration\u001b[0m: "
     ]
    }
   ],
   "source": [
    "lst = [2,3,32,4,4]\n",
    "\n",
    "# Create a iterator from the list\n",
    "\n",
    "my_iter = iter(lst)\n",
    "print(type(my_iter))\n",
    "\n",
    "# every iterator object has a next function\n",
    "\n",
    "\n",
    "print(next(my_iter))\n",
    "print(next(my_iter))\n",
    "print(next(my_iter))\n",
    "print(next(my_iter))\n",
    "print(next(my_iter))\n",
    "print(next(my_iter))"
   ]
  },
  {
   "cell_type": "code",
   "execution_count": 72,
   "id": "d196f502",
   "metadata": {},
   "outputs": [
    {
     "name": "stdout",
     "output_type": "stream",
     "text": [
      "2\n",
      "3\n",
      "32\n",
      "4\n",
      "4\n"
     ]
    }
   ],
   "source": [
    "for i in lst:\n",
    "    print(i)"
   ]
  },
  {
   "cell_type": "code",
   "execution_count": 73,
   "id": "76fdd407",
   "metadata": {},
   "outputs": [],
   "source": [
    "lst_1 = [5,3,32,2,23,324,99]\n",
    "\n",
    "var = iter(lst_1)"
   ]
  },
  {
   "cell_type": "code",
   "execution_count": 98,
   "id": "60e2fa64",
   "metadata": {},
   "outputs": [
    {
     "ename": "StopIteration",
     "evalue": "",
     "output_type": "error",
     "traceback": [
      "\u001b[1;31m---------------------------------------------------------------------------\u001b[0m",
      "\u001b[1;31mStopIteration\u001b[0m                             Traceback (most recent call last)",
      "Input \u001b[1;32mIn [98]\u001b[0m, in \u001b[0;36m<cell line: 1>\u001b[1;34m()\u001b[0m\n\u001b[1;32m----> 1\u001b[0m \u001b[38;5;28mprint\u001b[39m(\u001b[38;5;28;43mnext\u001b[39;49m\u001b[43m(\u001b[49m\u001b[43mvar\u001b[49m\u001b[43m)\u001b[49m)\n",
      "\u001b[1;31mStopIteration\u001b[0m: "
     ]
    }
   ],
   "source": [
    "print(next(var))"
   ]
  },
  {
   "cell_type": "code",
   "execution_count": 99,
   "id": "cb31e7a0",
   "metadata": {},
   "outputs": [],
   "source": [
    "lst_1 = 'python'\n",
    "\n",
    "var = iter(lst_1)"
   ]
  },
  {
   "cell_type": "code",
   "execution_count": 108,
   "id": "778e9436",
   "metadata": {},
   "outputs": [],
   "source": [
    "try:\n",
    "    print(next(var))\n",
    "except:\n",
    "    pass\n"
   ]
  },
  {
   "cell_type": "code",
   "execution_count": 102,
   "id": "48dd244e",
   "metadata": {},
   "outputs": [
    {
     "name": "stdout",
     "output_type": "stream",
     "text": [
      "p\n",
      "y\n",
      "t\n",
      "h\n",
      "o\n",
      "n\n"
     ]
    }
   ],
   "source": [
    "for i in 'python':\n",
    "    print(i)"
   ]
  },
  {
   "cell_type": "markdown",
   "id": "4a6407ff",
   "metadata": {},
   "source": [
    "# Modules \n",
    "\n",
    "- A python file with an extension .py is called as a module\n",
    "\n",
    "\n",
    "# Types of modules \n",
    "\n",
    "1. Builtin module - math , datetime, functools , keyword\n",
    "2. User defined modules:- "
   ]
  },
  {
   "cell_type": "code",
   "execution_count": null,
   "id": "44ee111a",
   "metadata": {},
   "outputs": [],
   "source": [
    "# Cart\n",
    "\n",
    "# credit card\n",
    "# debit card\n",
    "# cod \n",
    "# upi"
   ]
  },
  {
   "cell_type": "code",
   "execution_count": 1,
   "id": "9162a1ba",
   "metadata": {},
   "outputs": [
    {
     "name": "stdout",
     "output_type": "stream",
     "text": [
      "['In', 'Out', '_', '__', '___', '__builtin__', '__builtins__', '__doc__', '__loader__', '__name__', '__package__', '__spec__', '_dh', '_i', '_i1', '_ih', '_ii', '_iii', '_oh', 'exit', 'get_ipython', 'quit']\n"
     ]
    }
   ],
   "source": [
    "# global work space\n",
    "print(dir())"
   ]
  },
  {
   "cell_type": "code",
   "execution_count": 2,
   "id": "bdd532ee",
   "metadata": {},
   "outputs": [],
   "source": [
    "a = 10"
   ]
  },
  {
   "cell_type": "code",
   "execution_count": 3,
   "id": "ada7f906",
   "metadata": {},
   "outputs": [
    {
     "name": "stdout",
     "output_type": "stream",
     "text": [
      "['In', 'Out', '_', '__', '___', '__builtin__', '__builtins__', '__doc__', '__loader__', '__name__', '__package__', '__spec__', '_dh', '_i', '_i1', '_i2', '_i3', '_ih', '_ii', '_iii', '_oh', 'a', 'exit', 'get_ipython', 'quit']\n"
     ]
    }
   ],
   "source": [
    "print(dir())"
   ]
  },
  {
   "cell_type": "code",
   "execution_count": 4,
   "id": "906452e2",
   "metadata": {},
   "outputs": [
    {
     "ename": "NameError",
     "evalue": "name 'b' is not defined",
     "output_type": "error",
     "traceback": [
      "\u001b[1;31m---------------------------------------------------------------------------\u001b[0m",
      "\u001b[1;31mNameError\u001b[0m                                 Traceback (most recent call last)",
      "Input \u001b[1;32mIn [4]\u001b[0m, in \u001b[0;36m<cell line: 1>\u001b[1;34m()\u001b[0m\n\u001b[1;32m----> 1\u001b[0m \u001b[38;5;28mprint\u001b[39m(\u001b[43mb\u001b[49m)\n",
      "\u001b[1;31mNameError\u001b[0m: name 'b' is not defined"
     ]
    }
   ],
   "source": [
    "print(b)"
   ]
  },
  {
   "cell_type": "code",
   "execution_count": 6,
   "id": "e9e6bd4c",
   "metadata": {},
   "outputs": [],
   "source": [
    "def sum_1(a,b):\n",
    "    print(a+b)"
   ]
  },
  {
   "cell_type": "code",
   "execution_count": 1,
   "id": "e8032597",
   "metadata": {},
   "outputs": [
    {
     "name": "stdout",
     "output_type": "stream",
     "text": [
      "['In', 'Out', '_', '__', '___', '__builtin__', '__builtins__', '__doc__', '__loader__', '__name__', '__package__', '__spec__', '_dh', '_i', '_i1', '_ih', '_ii', '_iii', '_oh', 'exit', 'get_ipython', 'quit']\n"
     ]
    }
   ],
   "source": [
    "print(dir())"
   ]
  },
  {
   "cell_type": "code",
   "execution_count": 8,
   "id": "a3cd42aa",
   "metadata": {},
   "outputs": [
    {
     "name": "stdout",
     "output_type": "stream",
     "text": [
      "1021\n"
     ]
    }
   ],
   "source": [
    "sum_1(39,982)"
   ]
  },
  {
   "cell_type": "code",
   "execution_count": 11,
   "id": "48ae19e6",
   "metadata": {},
   "outputs": [
    {
     "name": "stdout",
     "output_type": "stream",
     "text": [
      "['__add__', '__class__', '__class_getitem__', '__contains__', '__delattr__', '__delitem__', '__dir__', '__doc__', '__eq__', '__format__', '__ge__', '__getattribute__', '__getitem__', '__gt__', '__hash__', '__iadd__', '__imul__', '__init__', '__init_subclass__', '__iter__', '__le__', '__len__', '__lt__', '__mul__', '__ne__', '__new__', '__reduce__', '__reduce_ex__', '__repr__', '__reversed__', '__rmul__', '__setattr__', '__setitem__', '__sizeof__', '__str__', '__subclasshook__', 'append', 'clear', 'copy', 'count', 'extend', 'index', 'insert', 'pop', 'remove', 'reverse', 'sort']\n"
     ]
    }
   ],
   "source": [
    "print(dir(list))"
   ]
  },
  {
   "cell_type": "code",
   "execution_count": 12,
   "id": "553b4a67",
   "metadata": {},
   "outputs": [],
   "source": [
    "a = [1,2,3,4,45]\n",
    "a.index()"
   ]
  },
  {
   "cell_type": "code",
   "execution_count": 13,
   "id": "8fbd40da",
   "metadata": {},
   "outputs": [
    {
     "name": "stdout",
     "output_type": "stream",
     "text": [
      "['In', 'Out', '_', '__', '___', '__builtin__', '__builtins__', '__doc__', '__loader__', '__name__', '__package__', '__spec__', '_dh', '_i', '_i1', '_i10', '_i11', '_i12', '_i13', '_i2', '_i3', '_i4', '_i5', '_i6', '_i7', '_i8', '_i9', '_ih', '_ii', '_iii', '_oh', 'a', 'exit', 'get_ipython', 'quit', 'sum_1']\n"
     ]
    }
   ],
   "source": [
    "print(dir())"
   ]
  },
  {
   "cell_type": "markdown",
   "id": "f38cad28",
   "metadata": {},
   "source": [
    "# Different methods to import modules "
   ]
  },
  {
   "cell_type": "code",
   "execution_count": 7,
   "id": "b631dafa",
   "metadata": {},
   "outputs": [
    {
     "name": "stdout",
     "output_type": "stream",
     "text": [
      "['In', 'Out', '_', '_3', '__', '___', '__builtin__', '__builtins__', '__doc__', '__loader__', '__name__', '__package__', '__spec__', '_dh', '_i', '_i1', '_i2', '_i3', '_i4', '_i5', '_i6', '_i7', '_ih', '_ii', '_iii', '_oh', 'a', 'exit', 'get_ipython', 'math', 'quit']\n",
      "\n",
      "['In', 'Out', '_', '_3', '__', '___', '__builtin__', '__builtins__', '__doc__', '__loader__', '__name__', '__package__', '__spec__', '_dh', '_i', '_i1', '_i2', '_i3', '_i4', '_i5', '_i6', '_i7', '_ih', '_ii', '_iii', '_oh', 'a', 'exit', 'get_ipython', 'math', 'quit']\n"
     ]
    }
   ],
   "source": [
    "# 1. first method\n",
    "\n",
    "print(dir(), end = '\\n\\n')\n",
    "\n",
    "import math\n",
    "\n",
    "print(dir())"
   ]
  },
  {
   "cell_type": "code",
   "execution_count": 6,
   "id": "fe0f0476",
   "metadata": {},
   "outputs": [
    {
     "name": "stdout",
     "output_type": "stream",
     "text": [
      "['__doc__', '__loader__', '__name__', '__package__', '__spec__', 'acos', 'acosh', 'asin', 'asinh', 'atan', 'atan2', 'atanh', 'ceil', 'comb', 'copysign', 'cos', 'cosh', 'degrees', 'dist', 'e', 'erf', 'erfc', 'exp', 'expm1', 'fabs', 'factorial', 'floor', 'fmod', 'frexp', 'fsum', 'gamma', 'gcd', 'hypot', 'inf', 'isclose', 'isfinite', 'isinf', 'isnan', 'isqrt', 'lcm', 'ldexp', 'lgamma', 'log', 'log10', 'log1p', 'log2', 'modf', 'nan', 'nextafter', 'perm', 'pi', 'pow', 'prod', 'radians', 'remainder', 'sin', 'sinh', 'sqrt', 'tan', 'tanh', 'tau', 'trunc', 'ulp']\n"
     ]
    }
   ],
   "source": [
    "print(dir(math))"
   ]
  },
  {
   "cell_type": "code",
   "execution_count": 9,
   "id": "04b35553",
   "metadata": {},
   "outputs": [
    {
     "data": {
      "text/plain": [
       "7.416198487095663"
      ]
     },
     "execution_count": 9,
     "metadata": {},
     "output_type": "execute_result"
    }
   ],
   "source": [
    "math.sqrt(55)"
   ]
  },
  {
   "cell_type": "code",
   "execution_count": 10,
   "id": "739a9b3e",
   "metadata": {},
   "outputs": [
    {
     "name": "stdout",
     "output_type": "stream",
     "text": [
      "['In', 'Out', '_', '_3', '_9', '__', '___', '__builtin__', '__builtins__', '__doc__', '__loader__', '__name__', '__package__', '__spec__', '_dh', '_i', '_i1', '_i10', '_i2', '_i3', '_i4', '_i5', '_i6', '_i7', '_i8', '_i9', '_ih', '_ii', '_iii', '_oh', 'a', 'exit', 'get_ipython', 'math', 'quit']\n",
      "\n",
      "['In', 'Out', '_', '_3', '_9', '__', '___', '__builtin__', '__builtins__', '__doc__', '__loader__', '__name__', '__package__', '__spec__', '_dh', '_i', '_i1', '_i10', '_i2', '_i3', '_i4', '_i5', '_i6', '_i7', '_i8', '_i9', '_ih', '_ii', '_iii', '_oh', 'a', 'acos', 'acosh', 'asin', 'asinh', 'atan', 'atan2', 'atanh', 'ceil', 'comb', 'copysign', 'cos', 'cosh', 'degrees', 'dist', 'e', 'erf', 'erfc', 'exit', 'exp', 'expm1', 'fabs', 'factorial', 'floor', 'fmod', 'frexp', 'fsum', 'gamma', 'gcd', 'get_ipython', 'hypot', 'inf', 'isclose', 'isfinite', 'isinf', 'isnan', 'isqrt', 'lcm', 'ldexp', 'lgamma', 'log', 'log10', 'log1p', 'log2', 'math', 'modf', 'nan', 'nextafter', 'perm', 'pi', 'pow', 'prod', 'quit', 'radians', 'remainder', 'sin', 'sinh', 'sqrt', 'tan', 'tanh', 'tau', 'trunc', 'ulp']\n"
     ]
    }
   ],
   "source": [
    "# 2nd way \n",
    "\n",
    "\n",
    "print(dir(), end = '\\n\\n')\n",
    "\n",
    "from math import *\n",
    "\n",
    "print(dir())"
   ]
  },
  {
   "cell_type": "code",
   "execution_count": 11,
   "id": "53164be1",
   "metadata": {},
   "outputs": [
    {
     "data": {
      "text/plain": [
       "7.416198487095663"
      ]
     },
     "execution_count": 11,
     "metadata": {},
     "output_type": "execute_result"
    }
   ],
   "source": [
    "sqrt(55)"
   ]
  },
  {
   "cell_type": "code",
   "execution_count": 2,
   "id": "db1c32ca",
   "metadata": {},
   "outputs": [
    {
     "name": "stdout",
     "output_type": "stream",
     "text": [
      "['In', 'Out', '_', '__', '___', '__builtin__', '__builtins__', '__doc__', '__loader__', '__name__', '__package__', '__spec__', '_dh', '_i', '_i1', '_i2', '_ih', '_ii', '_iii', '_oh', 'exit', 'get_ipython', 'quit']\n",
      "\n",
      "['In', 'Out', '_', '__', '___', '__builtin__', '__builtins__', '__doc__', '__loader__', '__name__', '__package__', '__spec__', '_dh', '_i', '_i1', '_i2', '_ih', '_ii', '_iii', '_oh', 'exit', 'get_ipython', 'mt', 'quit']\n"
     ]
    }
   ],
   "source": [
    "# 3rd method using an alias name\n",
    "\n",
    "print(dir(), end = '\\n\\n')\n",
    "\n",
    "import math as mt\n",
    "\n",
    "print(dir())"
   ]
  },
  {
   "cell_type": "code",
   "execution_count": 3,
   "id": "446d69fc",
   "metadata": {},
   "outputs": [
    {
     "name": "stdout",
     "output_type": "stream",
     "text": [
      "['__doc__', '__loader__', '__name__', '__package__', '__spec__', 'acos', 'acosh', 'asin', 'asinh', 'atan', 'atan2', 'atanh', 'ceil', 'comb', 'copysign', 'cos', 'cosh', 'degrees', 'dist', 'e', 'erf', 'erfc', 'exp', 'expm1', 'fabs', 'factorial', 'floor', 'fmod', 'frexp', 'fsum', 'gamma', 'gcd', 'hypot', 'inf', 'isclose', 'isfinite', 'isinf', 'isnan', 'isqrt', 'lcm', 'ldexp', 'lgamma', 'log', 'log10', 'log1p', 'log2', 'modf', 'nan', 'nextafter', 'perm', 'pi', 'pow', 'prod', 'radians', 'remainder', 'sin', 'sinh', 'sqrt', 'tan', 'tanh', 'tau', 'trunc', 'ulp']\n"
     ]
    }
   ],
   "source": [
    "print(dir(mt))"
   ]
  },
  {
   "cell_type": "code",
   "execution_count": 4,
   "id": "f85b013c",
   "metadata": {},
   "outputs": [
    {
     "data": {
      "text/plain": [
       "7.416198487095663"
      ]
     },
     "execution_count": 4,
     "metadata": {},
     "output_type": "execute_result"
    }
   ],
   "source": [
    "mt.sqrt(55)"
   ]
  },
  {
   "cell_type": "code",
   "execution_count": 1,
   "id": "94b800f9",
   "metadata": {},
   "outputs": [
    {
     "name": "stdout",
     "output_type": "stream",
     "text": [
      "['In', 'Out', '_', '__', '___', '__builtin__', '__builtins__', '__doc__', '__loader__', '__name__', '__package__', '__spec__', '_dh', '_i', '_i1', '_ih', '_ii', '_iii', '_oh', 'exit', 'get_ipython', 'quit']\n",
      "\n",
      "['In', 'Out', '_', '__', '___', '__builtin__', '__builtins__', '__doc__', '__loader__', '__name__', '__package__', '__spec__', '_dh', '_i', '_i1', '_ih', '_ii', '_iii', '_oh', 'exit', 'get_ipython', 'plt', 'quit']\n"
     ]
    }
   ],
   "source": [
    "print(dir(), end = '\\n\\n')\n",
    "\n",
    "import matplotlib.pyplot as plt\n",
    "\n",
    "print(dir())"
   ]
  },
  {
   "cell_type": "code",
   "execution_count": 2,
   "id": "d9efa664",
   "metadata": {},
   "outputs": [
    {
     "name": "stdout",
     "output_type": "stream",
     "text": [
      "['Annotation', 'Arrow', 'Artist', 'AutoLocator', 'Axes', 'Button', 'Circle', 'Figure', 'FigureCanvasBase', 'FixedFormatter', 'FixedLocator', 'FormatStrFormatter', 'Formatter', 'FuncFormatter', 'GridSpec', 'IndexLocator', 'Line2D', 'LinearLocator', 'Locator', 'LogFormatter', 'LogFormatterExponent', 'LogFormatterMathtext', 'LogLocator', 'MaxNLocator', 'MouseButton', 'MultipleLocator', 'Normalize', 'NullFormatter', 'NullLocator', 'Number', 'PolarAxes', 'Polygon', 'Rectangle', 'ScalarFormatter', 'Slider', 'Subplot', 'SubplotSpec', 'Text', 'TickHelper', 'Widget', '_INSTALL_FIG_OBSERVER', '_IP_REGISTERED', '_IoffContext', '_IonContext', '__builtins__', '__cached__', '__doc__', '__file__', '__loader__', '__name__', '__package__', '__spec__', '_api', '_auto_draw_if_interactive', '_backend_mod', '_copy_docstring_and_deprecators', '_get_required_interactive_framework', '_interactive_bk', '_log', '_pylab_helpers', '_setup_pyplot_info_docstrings', '_warn_if_gui_out_of_main_thread', '_xkcd', 'acorr', 'angle_spectrum', 'annotate', 'arrow', 'autoscale', 'autumn', 'axes', 'axhline', 'axhspan', 'axis', 'axline', 'axvline', 'axvspan', 'bar', 'bar_label', 'barbs', 'barh', 'bone', 'box', 'boxplot', 'broken_barh', 'cbook', 'cla', 'clabel', 'clf', 'clim', 'close', 'cm', 'cohere', 'colorbar', 'colormaps', 'connect', 'contour', 'contourf', 'cool', 'copper', 'csd', 'cycler', 'delaxes', 'disconnect', 'docstring', 'draw', 'draw_all', 'draw_if_interactive', 'errorbar', 'eventplot', 'figaspect', 'figimage', 'figlegend', 'fignum_exists', 'figtext', 'figure', 'fill', 'fill_between', 'fill_betweenx', 'findobj', 'flag', 'functools', 'gca', 'gcf', 'gci', 'get', 'get_backend', 'get_cmap', 'get_current_fig_manager', 'get_figlabels', 'get_fignums', 'get_plot_commands', 'get_scale_names', 'getp', 'ginput', 'gray', 'grid', 'hexbin', 'hist', 'hist2d', 'hlines', 'hot', 'hsv', 'importlib', 'imread', 'imsave', 'imshow', 'inferno', 'inspect', 'install_repl_displayhook', 'interactive', 'ioff', 'ion', 'isinteractive', 'jet', 'legend', 'locator_params', 'logging', 'loglog', 'magma', 'magnitude_spectrum', 'margins', 'matplotlib', 'matshow', 'minorticks_off', 'minorticks_on', 'mlab', 'new_figure_manager', 'nipy_spectral', 'np', 'pause', 'pcolor', 'pcolormesh', 'phase_spectrum', 'pie', 'pink', 'plasma', 'plot', 'plot_date', 'plotting', 'polar', 'prism', 'psd', 'quiver', 'quiverkey', 'rc', 'rcParams', 'rcParamsDefault', 'rcParamsOrig', 'rc_context', 'rcdefaults', 'rcsetup', 're', 'register_cmap', 'rgrids', 'savefig', 'sca', 'scatter', 'sci', 'semilogx', 'semilogy', 'set_cmap', 'set_loglevel', 'setp', 'show', 'specgram', 'spring', 'spy', 'stackplot', 'stairs', 'stem', 'step', 'streamplot', 'style', 'subplot', 'subplot2grid', 'subplot_mosaic', 'subplot_tool', 'subplots', 'subplots_adjust', 'summer', 'suptitle', 'switch_backend', 'sys', 'table', 'text', 'thetagrids', 'threading', 'tick_params', 'ticklabel_format', 'tight_layout', 'time', 'title', 'tricontour', 'tricontourf', 'tripcolor', 'triplot', 'twinx', 'twiny', 'uninstall_repl_displayhook', 'violinplot', 'viridis', 'vlines', 'waitforbuttonpress', 'winter', 'xcorr', 'xkcd', 'xlabel', 'xlim', 'xscale', 'xticks', 'ylabel', 'ylim', 'yscale', 'yticks']\n"
     ]
    }
   ],
   "source": [
    "print(dir(plt))"
   ]
  },
  {
   "cell_type": "code",
   "execution_count": null,
   "id": "70bade22",
   "metadata": {},
   "outputs": [],
   "source": [
    "matplotlib.colors()"
   ]
  },
  {
   "cell_type": "code",
   "execution_count": null,
   "id": "76147a47",
   "metadata": {},
   "outputs": [],
   "source": [
    "plt.copper()"
   ]
  },
  {
   "cell_type": "code",
   "execution_count": null,
   "id": "ea4c1d45",
   "metadata": {},
   "outputs": [],
   "source": []
  },
  {
   "cell_type": "markdown",
   "id": "7ba70184",
   "metadata": {},
   "source": [
    "# Create an own module"
   ]
  },
  {
   "cell_type": "code",
   "execution_count": null,
   "id": "0f3ecf61",
   "metadata": {},
   "outputs": [],
   "source": []
  },
  {
   "cell_type": "code",
   "execution_count": 1,
   "id": "ef28567f",
   "metadata": {},
   "outputs": [
    {
     "name": "stdout",
     "output_type": "stream",
     "text": [
      "['In', 'Out', '_', '__', '___', '__builtin__', '__builtins__', '__doc__', '__loader__', '__name__', '__package__', '__spec__', '_dh', '_i', '_i1', '_ih', '_ii', '_iii', '_oh', 'exit', 'get_ipython', 'quit']\n",
      "\n",
      "['In', 'Out', '_', '__', '___', '__builtin__', '__builtins__', '__doc__', '__loader__', '__name__', '__package__', '__spec__', '_dh', '_i', '_i1', '_ih', '_ii', '_iii', '_oh', 'exit', 'get_ipython', 'my_module', 'quit']\n"
     ]
    }
   ],
   "source": [
    "print(dir(), end = '\\n\\n')\n",
    "\n",
    "import my_module\n",
    "\n",
    "print(dir())"
   ]
  },
  {
   "cell_type": "code",
   "execution_count": 2,
   "id": "aa2d2f6a",
   "metadata": {},
   "outputs": [
    {
     "name": "stdout",
     "output_type": "stream",
     "text": [
      "['__builtins__', '__cached__', '__doc__', '__file__', '__loader__', '__name__', '__package__', '__spec__', 'odd_even', 'palindrome']\n"
     ]
    }
   ],
   "source": [
    "print(dir(my_module))"
   ]
  },
  {
   "cell_type": "code",
   "execution_count": 3,
   "id": "5b553c03",
   "metadata": {},
   "outputs": [
    {
     "name": "stdout",
     "output_type": "stream",
     "text": [
      "yes\n"
     ]
    }
   ],
   "source": [
    "my_module.palindrome('level')"
   ]
  },
  {
   "cell_type": "code",
   "execution_count": null,
   "id": "e77bf3d5",
   "metadata": {},
   "outputs": [],
   "source": [
    "# Code to check the repo"
   ]
  }
 ],
 "metadata": {
  "kernelspec": {
   "display_name": "Python 3 (ipykernel)",
   "language": "python",
   "name": "python3"
  },
  "language_info": {
   "codemirror_mode": {
    "name": "ipython",
    "version": 3
   },
   "file_extension": ".py",
   "mimetype": "text/x-python",
   "name": "python",
   "nbconvert_exporter": "python",
   "pygments_lexer": "ipython3",
   "version": "3.9.12"
  }
 },
 "nbformat": 4,
 "nbformat_minor": 5
}
