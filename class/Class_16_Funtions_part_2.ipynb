{
 "cells": [
  {
   "cell_type": "markdown",
   "id": "b6ffa5cc",
   "metadata": {},
   "source": [
    "# Return"
   ]
  },
  {
   "cell_type": "code",
   "execution_count": null,
   "id": "2248076a",
   "metadata": {},
   "outputs": [],
   "source": [
    "# Write a function  where if you enter a number it should return even or odd"
   ]
  },
  {
   "cell_type": "code",
   "execution_count": 4,
   "id": "d1f5452d",
   "metadata": {},
   "outputs": [],
   "source": [
    "\n",
    "def even_odd(num):\n",
    "    if(num%2==0):\n",
    "        print(num,\" Is an even\")\n",
    "    else:\n",
    "        print(num,\" is an odd\")\n"
   ]
  },
  {
   "cell_type": "code",
   "execution_count": 5,
   "id": "86cc87bd",
   "metadata": {},
   "outputs": [
    {
     "name": "stdout",
     "output_type": "stream",
     "text": [
      "6  Is an even\n"
     ]
    }
   ],
   "source": [
    "even_odd(6)"
   ]
  },
  {
   "cell_type": "code",
   "execution_count": null,
   "id": "49cea163",
   "metadata": {},
   "outputs": [],
   "source": [
    "# Write a function  where if you enter a list it should return even list or odd list"
   ]
  },
  {
   "cell_type": "code",
   "execution_count": 6,
   "id": "a0468ed0",
   "metadata": {},
   "outputs": [],
   "source": [
    "a = [1,2,3,43,4,5,6,7]\n",
    "\n",
    "def odd_even(a):\n",
    "    even = []\n",
    "    odd = []\n",
    "    for i in a:\n",
    "        if i%2 == 0:\n",
    "            even.append(i)\n",
    "        else:\n",
    "            odd.append(i)\n",
    "    return \n",
    "    print(odd)"
   ]
  },
  {
   "cell_type": "code",
   "execution_count": 9,
   "id": "c990c319",
   "metadata": {},
   "outputs": [
    {
     "name": "stdout",
     "output_type": "stream",
     "text": [
      "[2, 4, 6]\n",
      "[1, 3, 43, 5, 7]\n",
      "None\n"
     ]
    }
   ],
   "source": [
    "b = odd_even(a)\n",
    "print(b)"
   ]
  },
  {
   "cell_type": "code",
   "execution_count": 5,
   "id": "bca1504a",
   "metadata": {},
   "outputs": [
    {
     "name": "stdout",
     "output_type": "stream",
     "text": [
      "40\n",
      "50\n",
      "50\n"
     ]
    }
   ],
   "source": [
    "# global and local variables\n",
    "x = 40\n",
    "y = 50\n",
    "\n",
    "def sum_1(a,b):\n",
    "    c = a+b\n",
    "    d = x+y\n",
    "    return c\n",
    "\n",
    "\n",
    "c = sum_1(10,40)\n",
    "\n",
    "print(x)\n",
    "print(y)\n",
    "\n",
    "print(c)"
   ]
  },
  {
   "cell_type": "code",
   "execution_count": null,
   "id": "7ed7c7f6",
   "metadata": {},
   "outputs": [],
   "source": []
  },
  {
   "cell_type": "code",
   "execution_count": 17,
   "id": "21d11e1c",
   "metadata": {},
   "outputs": [
    {
     "name": "stdout",
     "output_type": "stream",
     "text": [
      "40\n",
      "90\n",
      "0.8 <class 'float'>\n",
      "90 <class 'int'>\n"
     ]
    }
   ],
   "source": [
    "x = 40\n",
    "y = 50\n",
    "\n",
    "def sum_1(a,b):\n",
    "    c = x/y\n",
    "    d = x+y\n",
    "    e = x-y\n",
    "    return c,d,e\n",
    "\n",
    "z,y,p = sum_1(x,y) #50\n",
    "\n",
    "print(x)\n",
    "print(y)\n",
    "print(z, type(z))\n",
    "print(y , type(y))"
   ]
  },
  {
   "cell_type": "code",
   "execution_count": 9,
   "id": "0cfb43a3",
   "metadata": {},
   "outputs": [
    {
     "name": "stdout",
     "output_type": "stream",
     "text": [
      "(10, 80) <class 'tuple'>\n"
     ]
    }
   ],
   "source": [
    "tup,  = 10,80\n",
    "print(tup , type(tup))"
   ]
  },
  {
   "cell_type": "code",
   "execution_count": 13,
   "id": "75f3202a",
   "metadata": {},
   "outputs": [
    {
     "data": {
      "text/plain": [
       "0.8"
      ]
     },
     "execution_count": 13,
     "metadata": {},
     "output_type": "execute_result"
    }
   ],
   "source": [
    "x/y"
   ]
  },
  {
   "cell_type": "code",
   "execution_count": 26,
   "id": "415c0383",
   "metadata": {},
   "outputs": [],
   "source": [
    "\n",
    "def odd_even(a):\n",
    "    even = []\n",
    "    odd = []\n",
    "    for i in a:\n",
    "        if i%2 == 0:\n",
    "            even.append(i)\n",
    "        else:\n",
    "            odd.append(i)\n",
    "    return odd , even"
   ]
  },
  {
   "cell_type": "code",
   "execution_count": 27,
   "id": "ab05f387",
   "metadata": {},
   "outputs": [],
   "source": [
    "ls = [1,2,3,43,4,5,6,7]\n",
    "list_1 , list_2 = odd_even(ls)\n"
   ]
  },
  {
   "cell_type": "code",
   "execution_count": 28,
   "id": "8a106bbc",
   "metadata": {},
   "outputs": [
    {
     "name": "stdout",
     "output_type": "stream",
     "text": [
      "[1, 3, 43, 5, 7]\n"
     ]
    }
   ],
   "source": [
    "\n",
    "print(list_1)"
   ]
  },
  {
   "cell_type": "code",
   "execution_count": 30,
   "id": "9d9d4633",
   "metadata": {},
   "outputs": [
    {
     "name": "stdout",
     "output_type": "stream",
     "text": [
      "[2, 4, 6] <class 'list'>\n"
     ]
    }
   ],
   "source": [
    "print(list_2, type(list_2))"
   ]
  },
  {
   "cell_type": "code",
   "execution_count": 31,
   "id": "78f48d3e",
   "metadata": {},
   "outputs": [],
   "source": [
    "a=[1,2,3,4,5,6,7]\n",
    "def odd_even(a):\n",
    "    even=[]\n",
    "    odd=[]\n",
    "    for i in a:\n",
    "        if i%2==0:\n",
    "            even.append(i)\n",
    "        else:\n",
    "            odd.append(i)\n",
    "    return odd,even\n"
   ]
  },
  {
   "cell_type": "code",
   "execution_count": 36,
   "id": "7e680083",
   "metadata": {},
   "outputs": [
    {
     "name": "stdout",
     "output_type": "stream",
     "text": [
      "[1, 3, 5, 7]\n",
      "[2, 4, 6]\n"
     ]
    }
   ],
   "source": [
    "x,y=odd_even(a)\n",
    "print(x)\n",
    "print(y)"
   ]
  },
  {
   "cell_type": "markdown",
   "id": "a14eab9c",
   "metadata": {},
   "source": [
    "# Recursive function"
   ]
  },
  {
   "cell_type": "code",
   "execution_count": null,
   "id": "d8761972",
   "metadata": {},
   "outputs": [],
   "source": [
    "# Write a function which will return the fact of a num"
   ]
  },
  {
   "cell_type": "code",
   "execution_count": null,
   "id": "8d5635bf",
   "metadata": {},
   "outputs": [],
   "source": [
    "5 --> 5*4*3*2*1"
   ]
  },
  {
   "cell_type": "code",
   "execution_count": 42,
   "id": "2dad4c9b",
   "metadata": {},
   "outputs": [],
   "source": [
    "def fact(num):\n",
    "    if num == 0:\n",
    "        return 1\n",
    "    else:\n",
    "        return num * fact(num -1)"
   ]
  },
  {
   "cell_type": "code",
   "execution_count": 43,
   "id": "0a451838",
   "metadata": {},
   "outputs": [
    {
     "data": {
      "text/plain": [
       "120"
      ]
     },
     "execution_count": 43,
     "metadata": {},
     "output_type": "execute_result"
    }
   ],
   "source": [
    "fact(5)"
   ]
  },
  {
   "cell_type": "code",
   "execution_count": 47,
   "id": "95975a50",
   "metadata": {},
   "outputs": [
    {
     "name": "stdout",
     "output_type": "stream",
     "text": [
      "Fibonacci sequence:\n",
      "0\n",
      "1\n",
      "1\n",
      "2\n",
      "3\n",
      "5\n",
      "8\n",
      "13\n",
      "21\n",
      "34\n"
     ]
    }
   ],
   "source": [
    "def recur_fibo(n):\n",
    "   if n <= 1:\n",
    "       return n\n",
    "   else:\n",
    "       return(recur_fibo(n-1) + recur_fibo(n-2))\n",
    "    \n",
    "    \n",
    "nterms=10\n",
    "if nterms <= 0:\n",
    "   print(\"Plese enter a positive integer\")\n",
    "else:\n",
    "   print(\"Fibonacci sequence:\")\n",
    "   for i in range(nterms):\n",
    "       print(recur_fibo(i))\n"
   ]
  },
  {
   "cell_type": "code",
   "execution_count": 46,
   "id": "63e5e55c",
   "metadata": {},
   "outputs": [
    {
     "data": {
      "text/plain": [
       "8"
      ]
     },
     "execution_count": 46,
     "metadata": {},
     "output_type": "execute_result"
    }
   ],
   "source": [
    "recur_fibo(6)"
   ]
  },
  {
   "cell_type": "code",
   "execution_count": null,
   "id": "43d663fb",
   "metadata": {},
   "outputs": [],
   "source": [
    "# Anonymous function ( function without a name )\n",
    "\n",
    "\n",
    "- syntax\n",
    "lambda arg: expression \n",
    "\n",
    "# note - Lambda can take n number of args but only one expression"
   ]
  },
  {
   "cell_type": "code",
   "execution_count": 58,
   "id": "9aa17a8d",
   "metadata": {},
   "outputs": [],
   "source": [
    "def add(a,b):\n",
    "    return a+10"
   ]
  },
  {
   "cell_type": "code",
   "execution_count": 60,
   "id": "7b7c2d0d",
   "metadata": {},
   "outputs": [
    {
     "data": {
      "text/plain": [
       "15"
      ]
     },
     "execution_count": 60,
     "metadata": {},
     "output_type": "execute_result"
    }
   ],
   "source": [
    "add(5,77)"
   ]
  },
  {
   "cell_type": "code",
   "execution_count": 53,
   "id": "187d7021",
   "metadata": {},
   "outputs": [],
   "source": [
    "x = lambda a: a+10"
   ]
  },
  {
   "cell_type": "code",
   "execution_count": 54,
   "id": "d958d905",
   "metadata": {},
   "outputs": [
    {
     "data": {
      "text/plain": [
       "15"
      ]
     },
     "execution_count": 54,
     "metadata": {},
     "output_type": "execute_result"
    }
   ],
   "source": [
    "x(5)"
   ]
  },
  {
   "cell_type": "code",
   "execution_count": 55,
   "id": "af2df708",
   "metadata": {},
   "outputs": [],
   "source": [
    "x = (lambda a,b: a+10)(48,82) "
   ]
  },
  {
   "cell_type": "code",
   "execution_count": 57,
   "id": "3a7765b5",
   "metadata": {},
   "outputs": [
    {
     "name": "stdout",
     "output_type": "stream",
     "text": [
      "58\n"
     ]
    }
   ],
   "source": [
    "print(x)"
   ]
  },
  {
   "cell_type": "code",
   "execution_count": 61,
   "id": "e7b1da97",
   "metadata": {},
   "outputs": [],
   "source": [
    "a = 10733434\n",
    "\n",
    "\n",
    "def even_odd(num):\n",
    "    if(num%2==0):\n",
    "        print(num,\" Is an even\")\n",
    "    else:\n",
    "        print(num,\" is an odd\")"
   ]
  },
  {
   "cell_type": "code",
   "execution_count": 62,
   "id": "a4f87786",
   "metadata": {},
   "outputs": [
    {
     "name": "stdout",
     "output_type": "stream",
     "text": [
      "10733434  Is an even\n"
     ]
    }
   ],
   "source": [
    "even_odd(a)"
   ]
  },
  {
   "cell_type": "code",
   "execution_count": 63,
   "id": "60af5750",
   "metadata": {},
   "outputs": [],
   "source": [
    "e = lambda num: 'even' if num%2 == 0 else 'odd'"
   ]
  },
  {
   "cell_type": "code",
   "execution_count": 65,
   "id": "97821929",
   "metadata": {},
   "outputs": [
    {
     "data": {
      "text/plain": [
       "'even'"
      ]
     },
     "execution_count": 65,
     "metadata": {},
     "output_type": "execute_result"
    }
   ],
   "source": [
    "e(74364)"
   ]
  },
  {
   "cell_type": "code",
   "execution_count": 67,
   "id": "8a29e152",
   "metadata": {},
   "outputs": [
    {
     "name": "stdout",
     "output_type": "stream",
     "text": [
      "even\n"
     ]
    }
   ],
   "source": [
    "e = (lambda num: 'even' if num%2 == 0 else 'odd')(a)\n",
    "print(e)"
   ]
  },
  {
   "cell_type": "code",
   "execution_count": null,
   "id": "f3c0c0b4",
   "metadata": {},
   "outputs": [],
   "source": [
    "a = [1,2,3,43,4,5,6,7]\n",
    "\n",
    "def odd_even(a):\n",
    "    even = []\n",
    "    odd = []\n",
    "    for i in a:\n",
    "        if i%2 == 0:\n",
    "            even.append(i)\n",
    "        else:\n",
    "            odd.append(i)\n",
    "    return \n",
    "    print(odd)"
   ]
  },
  {
   "cell_type": "code",
   "execution_count": 75,
   "id": "6dedd5db",
   "metadata": {},
   "outputs": [
    {
     "name": "stdout",
     "output_type": "stream",
     "text": [
      "[2, 4, 6]\n",
      "[1, 3, 43, 5, 7]\n"
     ]
    }
   ],
   "source": [
    "a = [1,2,3,43,4,5,6,7]\n",
    "even = []\n",
    "odd = []\n",
    "\n",
    "e = (lambda a: [even.append(i) for i in a if i%2 ==0 ])(a)\n",
    "f = (lambda a: [odd.append(i) for i in a if i%2 !=0])(a)\n",
    "\n",
    "print(even)\n",
    "print(odd)"
   ]
  },
  {
   "cell_type": "code",
   "execution_count": null,
   "id": "32fb4e0f",
   "metadata": {},
   "outputs": [],
   "source": [
    "express for var in condi"
   ]
  },
  {
   "cell_type": "code",
   "execution_count": null,
   "id": "6728f5d5",
   "metadata": {},
   "outputs": [],
   "source": [
    "[even.append(i) for i in a if i%2 ==0 else odd.append(i)]"
   ]
  },
  {
   "cell_type": "markdown",
   "id": "a807fea4",
   "metadata": {},
   "source": [
    "# Map \n",
    "\n",
    "- The map is a finc that takes in 2 arg\n",
    "\n",
    "- function name\n",
    "- a seq\n",
    "\n",
    "syntax  map(function,seq)\n"
   ]
  },
  {
   "cell_type": "code",
   "execution_count": 79,
   "id": "37269662",
   "metadata": {},
   "outputs": [],
   "source": [
    "temp_cel = [0, 22.45, 40, 100]\n",
    "temp_far = []\n",
    "\n",
    "\n",
    "# ((9/5)*t)+ 32"
   ]
  },
  {
   "cell_type": "code",
   "execution_count": 77,
   "id": "8f962b81",
   "metadata": {},
   "outputs": [
    {
     "name": "stdout",
     "output_type": "stream",
     "text": [
      "[32.0, 72.41, 104.0, 212.0]\n"
     ]
    }
   ],
   "source": [
    "temp_cen=[0,22.45,40,100]\n",
    "def cen_to_fer(t):\n",
    "    return ((9/5)*t)+32\n",
    "\n",
    "temp_fer=[]\n",
    "for i in temp_cen:\n",
    "    temp_fer.append(cen_to_fer(i))\n",
    "print(temp_fer)\n"
   ]
  },
  {
   "cell_type": "code",
   "execution_count": 76,
   "id": "d37fc356",
   "metadata": {},
   "outputs": [
    {
     "name": "stdout",
     "output_type": "stream",
     "text": [
      "[35.6, 72.41, 104.0, 212.0]\n"
     ]
    }
   ],
   "source": [
    "tmp_c = [2,22.45,40,100]\n",
    "tmp_f=(lambda a:[((9/5)*i)+32 for i in a])(tmp_c)\n",
    "\n",
    "#((9/5)*t)+32\n",
    "\n",
    "print(tmp_f)\n"
   ]
  },
  {
   "cell_type": "code",
   "execution_count": 78,
   "id": "f0612bc9",
   "metadata": {},
   "outputs": [],
   "source": [
    "def temp_converter(T):\n",
    "    return ((9/5)*T)+32"
   ]
  },
  {
   "cell_type": "code",
   "execution_count": 81,
   "id": "ae63943b",
   "metadata": {},
   "outputs": [
    {
     "data": {
      "text/plain": [
       "[32.0, 72.41, 104.0, 212.0]"
      ]
     },
     "execution_count": 81,
     "metadata": {},
     "output_type": "execute_result"
    }
   ],
   "source": [
    "list(map(temp_converter , temp_cel))"
   ]
  },
  {
   "cell_type": "code",
   "execution_count": 82,
   "id": "5053ac36",
   "metadata": {},
   "outputs": [
    {
     "data": {
      "text/plain": [
       "[7, 9, 11, 13, 15]"
      ]
     },
     "execution_count": 82,
     "metadata": {},
     "output_type": "execute_result"
    }
   ],
   "source": [
    "a = [1,2,3,4,5]\n",
    "b = [6,7,8,9,10]\n",
    "\n",
    "\n",
    "\n",
    "list(map(lambda a,b: a+b ,a , b))"
   ]
  },
  {
   "cell_type": "code",
   "execution_count": 84,
   "id": "e243914d",
   "metadata": {},
   "outputs": [
    {
     "data": {
      "text/plain": [
       "['akzelxw',\n",
       " 'elum',\n",
       " 'akbar.caakaterasu',\n",
       " 'akarui.kibuno',\n",
       " 'ajsparkchick',\n",
       " 'ajmeia',\n",
       " 'ajhnstn87',\n",
       " 'ailuvzhoko4',\n",
       " 'ailuvzhoko3',\n",
       " 'ailuvzhoko2',\n",
       " 'ailuvzhoko',\n",
       " 'aillensiquioco',\n",
       " 'ahmovic_ines',\n",
       " 'ahmed_g300',\n",
       " 'ahmadjazlan',\n",
       " 'ahmad_ridho19']"
      ]
     },
     "execution_count": 84,
     "metadata": {},
     "output_type": "execute_result"
    }
   ],
   "source": [
    "lst = ['akzelxw@hotmail.com',\n",
    "'elum@gmail.com',\n",
    "'akbar.caakaterasu@gmail.com',\n",
    "'akarui.kibuno@gmail.com',\n",
    "'ajsparkchick@hotmail.com',\n",
    "'ajmeia@yahoo.com',\n",
    "'ajhnstn87@gmail.com',\n",
    "'ailuvzhoko4@hotmail.com',\n",
    "'ailuvzhoko3@hotmail.com',\n",
    "'ailuvzhoko2@hotmail.com',\n",
    "'ailuvzhoko@hotmail.com',\n",
    "'aillensiquioco@aol.com',\n",
    "'ahmovic_ines@hotmail.com',\n",
    "'ahmed_g300@yahoo.com',\n",
    "'ahmadjazlan@gmail.com',\n",
    "'ahmad_ridho19@yahoo.com']\n",
    "\n",
    "\n",
    "list(map(lambda x: x.split('@')[0] , lst))"
   ]
  },
  {
   "cell_type": "code",
   "execution_count": 86,
   "id": "74757a73",
   "metadata": {},
   "outputs": [
    {
     "data": {
      "text/plain": [
       "'akzelxw'"
      ]
     },
     "execution_count": 86,
     "metadata": {},
     "output_type": "execute_result"
    }
   ],
   "source": [
    "a = 'akzelxw@hotmail.com'\n",
    "\n",
    "a.split('@')[0]"
   ]
  },
  {
   "cell_type": "markdown",
   "id": "d29f31fc",
   "metadata": {},
   "source": [
    "# Task 2 extract only the gmail from the lis using lambda and map"
   ]
  },
  {
   "cell_type": "code",
   "execution_count": null,
   "id": "6ed0abb8",
   "metadata": {},
   "outputs": [],
   "source": []
  }
 ],
 "metadata": {
  "kernelspec": {
   "display_name": "Python 3 (ipykernel)",
   "language": "python",
   "name": "python3"
  },
  "language_info": {
   "codemirror_mode": {
    "name": "ipython",
    "version": 3
   },
   "file_extension": ".py",
   "mimetype": "text/x-python",
   "name": "python",
   "nbconvert_exporter": "python",
   "pygments_lexer": "ipython3",
   "version": "3.9.12"
  }
 },
 "nbformat": 4,
 "nbformat_minor": 5
}
