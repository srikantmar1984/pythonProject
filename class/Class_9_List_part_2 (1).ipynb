{
 "cells": [
  {
   "cell_type": "markdown",
   "id": "3c261529",
   "metadata": {},
   "source": [
    "# Basic op on list"
   ]
  },
  {
   "cell_type": "code",
   "execution_count": 16,
   "id": "6dd1840c",
   "metadata": {},
   "outputs": [
    {
     "name": "stdout",
     "output_type": "stream",
     "text": [
      "[1, 2, 3, 4, 5, 6, 6, 4, 6, 4]\n"
     ]
    }
   ],
   "source": [
    "# Concatination\n",
    "\n",
    "# op - +\n",
    "# operand - both the operand should be list\n",
    "\n",
    "a = [1,2,3,4,5]\n",
    "b = [6,6,4,6,4]\n",
    "\n",
    "print(a+b)"
   ]
  },
  {
   "cell_type": "code",
   "execution_count": 18,
   "id": "f4832fe7",
   "metadata": {},
   "outputs": [
    {
     "name": "stdout",
     "output_type": "stream",
     "text": [
      "[1, 2, 3, 1, 2, 3, 1, 2, 3, 1, 2, 3, 1, 2, 3]\n"
     ]
    }
   ],
   "source": [
    "# repetation\n",
    "\n",
    "# op - *\n",
    "# operand - one should be list and other should be int \n",
    "\n",
    "a = [1,2,3]\n",
    "print(a*5)"
   ]
  },
  {
   "cell_type": "code",
   "execution_count": 21,
   "id": "7fce50f1",
   "metadata": {},
   "outputs": [
    {
     "name": "stdout",
     "output_type": "stream",
     "text": [
      "1811051390400\n",
      "1811051352768\n",
      "True\n"
     ]
    }
   ],
   "source": [
    "# identity\n",
    "# op - is and is not\n",
    "\n",
    "a = [1,2,3,4,5]\n",
    "b = [1,2,3,4,5]\n",
    "\n",
    "print(id(a))\n",
    "print(id(b))\n",
    "\n",
    "print(a is not b)"
   ]
  },
  {
   "cell_type": "code",
   "execution_count": 26,
   "id": "6893241d",
   "metadata": {},
   "outputs": [
    {
     "name": "stdout",
     "output_type": "stream",
     "text": [
      "False\n"
     ]
    }
   ],
   "source": [
    "# membership operators\n",
    "# op - in and not in\n",
    "\n",
    "a = ['naiya','python','learnbay','rameshwar','alan']\n",
    "print('python' not in a)"
   ]
  },
  {
   "cell_type": "code",
   "execution_count": 83,
   "id": "39fac11f",
   "metadata": {},
   "outputs": [
    {
     "name": "stdout",
     "output_type": "stream",
     "text": [
      " nohtyp\n",
      "1811051742576\n",
      "1811051742960\n",
      "True\n"
     ]
    }
   ],
   "source": [
    "# identity\n",
    "# int  -5 - 256\n",
    "\n",
    "a = 'python '\n",
    "b = 'python '\n",
    "print(a[::-1])\n",
    "\n",
    "print(id(a))\n",
    "print(id(b))\n",
    "\n",
    "print(a is not b)"
   ]
  },
  {
   "cell_type": "markdown",
   "id": "1d932e65",
   "metadata": {},
   "source": [
    "# Nested list\n",
    "\n",
    "- List inside a list"
   ]
  },
  {
   "cell_type": "code",
   "execution_count": 33,
   "id": "903a137e",
   "metadata": {},
   "outputs": [],
   "source": [
    "a = [1,2,3,4,5] # list\n",
    "\n",
    "b = [[1,2,3],4,5,6] #Nested list"
   ]
  },
  {
   "cell_type": "code",
   "execution_count": 36,
   "id": "873b3474",
   "metadata": {},
   "outputs": [
    {
     "name": "stdout",
     "output_type": "stream",
     "text": [
      "2\n",
      "3\n"
     ]
    }
   ],
   "source": [
    "a = [1,2,3,4,5] # list\n",
    "print(a[1]) #+ve indexing\n",
    "print(a[-3]) # -ve indexing"
   ]
  },
  {
   "cell_type": "code",
   "execution_count": 39,
   "id": "0cca00de",
   "metadata": {},
   "outputs": [
    {
     "name": "stdout",
     "output_type": "stream",
     "text": [
      "2\n"
     ]
    }
   ],
   "source": [
    "b = [[1,2,3],4,5,6] #Nested list\n",
    "\n",
    "print(b[0][1])"
   ]
  },
  {
   "cell_type": "code",
   "execution_count": 53,
   "id": "34eca743",
   "metadata": {},
   "outputs": [
    {
     "name": "stdout",
     "output_type": "stream",
     "text": [
      "5\n"
     ]
    }
   ],
   "source": [
    "b = [1,2,3,[9,8,7,6],5,6] #Nested list\n",
    "\n",
    "print(b[4])"
   ]
  },
  {
   "cell_type": "code",
   "execution_count": 60,
   "id": "d889a48e",
   "metadata": {},
   "outputs": [
    {
     "name": "stdout",
     "output_type": "stream",
     "text": [
      "[2, 3, 4]\n",
      "[2, 3, 4]\n"
     ]
    }
   ],
   "source": [
    "a = [1,2,3,4,5] # list\n",
    "\n",
    "print(a[1:4]) #+ve indexing\n",
    "print(a[-4:-1]) # -ve indexing"
   ]
  },
  {
   "cell_type": "code",
   "execution_count": 66,
   "id": "fb208e8f",
   "metadata": {},
   "outputs": [
    {
     "name": "stdout",
     "output_type": "stream",
     "text": [
      "['c', 'd', 'e', 'f']\n"
     ]
    }
   ],
   "source": [
    "\n",
    "a = ['naiya','python',[\"a\", \"b\", \"c\", \"d\", \"e\", \"f\", \"g\", \"h\"],'learnbay','rameshwar','alan']\n",
    "print(a[2][2:6])\n"
   ]
  },
  {
   "cell_type": "code",
   "execution_count": 77,
   "id": "affc3de8",
   "metadata": {},
   "outputs": [],
   "source": [
    "nested_list = [[1,2,3,4],[5,6,7,78],[8,9,[10,11,['a','b']]]]"
   ]
  },
  {
   "cell_type": "code",
   "execution_count": null,
   "id": "b5738116",
   "metadata": {},
   "outputs": [],
   "source": [
    "# extract 'b'"
   ]
  },
  {
   "cell_type": "code",
   "execution_count": 81,
   "id": "ae086297",
   "metadata": {},
   "outputs": [
    {
     "name": "stdout",
     "output_type": "stream",
     "text": [
      "b\n"
     ]
    }
   ],
   "source": [
    "print(nested_list[2][2][2][1])\n",
    "#print(nested_list[-1][-1][-1][-1])"
   ]
  },
  {
   "cell_type": "code",
   "execution_count": 110,
   "id": "9b98bfcc",
   "metadata": {},
   "outputs": [],
   "source": [
    "nested_list = [[1,2,3,4],[5,6,['a','b','python',['learnbay','Alan',['messi','ronaldo']]],78],[8,9,[10,11,['a','b']]]]"
   ]
  },
  {
   "cell_type": "code",
   "execution_count": 111,
   "id": "0670ebb2",
   "metadata": {},
   "outputs": [
    {
     "name": "stdout",
     "output_type": "stream",
     "text": [
      "issem\n"
     ]
    }
   ],
   "source": [
    "print(nested_list[-2][-2][-1][-1][-2][-1:-6:-1])"
   ]
  },
  {
   "cell_type": "code",
   "execution_count": 93,
   "id": "428ab78f",
   "metadata": {},
   "outputs": [
    {
     "data": {
      "text/plain": [
       "'issem'"
      ]
     },
     "execution_count": 93,
     "metadata": {},
     "output_type": "execute_result"
    }
   ],
   "source": [
    "# messi ----> issem\n",
    "nested_list[1][2][3][2][0][::-1]"
   ]
  },
  {
   "cell_type": "code",
   "execution_count": 98,
   "id": "4ff1b7cf",
   "metadata": {},
   "outputs": [
    {
     "data": {
      "text/plain": [
       "[8, 9, [10, 11, ['a', 'b']]]"
      ]
     },
     "execution_count": 98,
     "metadata": {},
     "output_type": "execute_result"
    }
   ],
   "source": [
    "nested_list[2]"
   ]
  },
  {
   "cell_type": "code",
   "execution_count": null,
   "id": "b444e193",
   "metadata": {},
   "outputs": [],
   "source": [
    "# methods to "
   ]
  },
  {
   "cell_type": "code",
   "execution_count": 109,
   "id": "167a5e1c",
   "metadata": {},
   "outputs": [
    {
     "data": {
      "text/plain": [
       "5"
      ]
     },
     "execution_count": 109,
     "metadata": {},
     "output_type": "execute_result"
    }
   ],
   "source": [
    "a = [1,2,3,[4,['a','bat']],5]\n",
    "a[3][1][1][::-1]\n",
    "a[4]"
   ]
  },
  {
   "cell_type": "code",
   "execution_count": 107,
   "id": "70be6659",
   "metadata": {},
   "outputs": [
    {
     "data": {
      "text/plain": [
       "'tab'"
      ]
     },
     "execution_count": 107,
     "metadata": {},
     "output_type": "execute_result"
    }
   ],
   "source": [
    "a = 'bat'\n",
    "a[::-1]"
   ]
  },
  {
   "cell_type": "code",
   "execution_count": null,
   "id": "bb242b28",
   "metadata": {},
   "outputs": [],
   "source": []
  },
  {
   "cell_type": "code",
   "execution_count": 117,
   "id": "958338ac",
   "metadata": {},
   "outputs": [
    {
     "name": "stdout",
     "output_type": "stream",
     "text": [
      "j l s\n"
     ]
    }
   ],
   "source": [
    "a= [\"i\",\"j\",\"k\",\"l\",\"p\",\"q\",\"s\"]\n",
    "print(a[1],a[3],a[6])"
   ]
  },
  {
   "cell_type": "code",
   "execution_count": 119,
   "id": "ff56bf90",
   "metadata": {},
   "outputs": [],
   "source": [
    "nested_list = [[1,2,3,4],[5,6,['a','b','python',['learnbay','Alan',['messi','ronaldo']]],78],[8,9,[10,11,['a','b']]]]"
   ]
  },
  {
   "cell_type": "code",
   "execution_count": 124,
   "id": "a60dfee2",
   "metadata": {},
   "outputs": [
    {
     "name": "stdout",
     "output_type": "stream",
     "text": [
      "True\n"
     ]
    }
   ],
   "source": [
    "print('a' in nested_list[-1][-1][-1])"
   ]
  },
  {
   "cell_type": "code",
   "execution_count": 125,
   "id": "292ad48a",
   "metadata": {},
   "outputs": [
    {
     "name": "stdout",
     "output_type": "stream",
     "text": [
      "True\n"
     ]
    }
   ],
   "source": [
    "print('messi' in nested_list[1][2][3][2][0])"
   ]
  },
  {
   "cell_type": "code",
   "execution_count": 144,
   "id": "814278fc",
   "metadata": {},
   "outputs": [
    {
     "name": "stdout",
     "output_type": "stream",
     "text": [
      "['__add__', '__class__', '__class_getitem__', '__contains__', '__delattr__', '__delitem__', '__dir__', '__doc__', '__eq__', '__format__', '__ge__', '__getattribute__', '__getitem__', '__gt__', '__hash__', '__iadd__', '__imul__', '__init__', '__init_subclass__', '__iter__', '__le__', '__len__', '__lt__', '__mul__', '__ne__', '__new__', '__reduce__', '__reduce_ex__', '__repr__', '__reversed__', '__rmul__', '__setattr__', '__setitem__', '__sizeof__', '__str__', '__subclasshook__', 'append', 'clear', 'copy', 'count', 'extend', 'index', 'insert', 'pop', 'remove', 'reverse', 'sort']\n"
     ]
    }
   ],
   "source": [
    "print(dir(list))"
   ]
  },
  {
   "cell_type": "markdown",
   "id": "fc416b95",
   "metadata": {},
   "source": [
    "# methods to insert elements in the list \n",
    "* append \n",
    "* extend\n",
    "* insert\n"
   ]
  },
  {
   "cell_type": "code",
   "execution_count": 178,
   "id": "062654ed",
   "metadata": {},
   "outputs": [
    {
     "name": "stdout",
     "output_type": "stream",
     "text": [
      "None\n"
     ]
    }
   ],
   "source": [
    "# append\n",
    "a = [1,2,3,4,5]\n",
    "print(a.append(10))"
   ]
  },
  {
   "cell_type": "code",
   "execution_count": 179,
   "id": "c1969bdd",
   "metadata": {},
   "outputs": [
    {
     "name": "stdout",
     "output_type": "stream",
     "text": [
      "[1, 2, 3, 4, 5, 10]\n"
     ]
    }
   ],
   "source": [
    "print(a)"
   ]
  },
  {
   "cell_type": "code",
   "execution_count": 180,
   "id": "cbb98fac",
   "metadata": {},
   "outputs": [
    {
     "name": "stdout",
     "output_type": "stream",
     "text": [
      "None\n"
     ]
    }
   ],
   "source": [
    "print(a.append(10))"
   ]
  },
  {
   "cell_type": "code",
   "execution_count": 181,
   "id": "f8741280",
   "metadata": {},
   "outputs": [
    {
     "name": "stdout",
     "output_type": "stream",
     "text": [
      "[1, 2, 3, 4, 5, 10, 10]\n"
     ]
    }
   ],
   "source": [
    "print(a)"
   ]
  },
  {
   "cell_type": "markdown",
   "id": "c27375ad",
   "metadata": {},
   "source": [
    "# Extend - joining of 2 list\n",
    "It is simalar to concat but difference it doest not return a new abject but updates the existing one "
   ]
  },
  {
   "cell_type": "code",
   "execution_count": 152,
   "id": "15daa09b",
   "metadata": {},
   "outputs": [],
   "source": [
    "a = [1,2,3,4,5]\n",
    "b = [10,9,8,7,6]"
   ]
  },
  {
   "cell_type": "code",
   "execution_count": 146,
   "id": "0653e061",
   "metadata": {},
   "outputs": [
    {
     "name": "stdout",
     "output_type": "stream",
     "text": [
      "[1, 2, 3, 4, 5, 10, 9, 8, 7, 6]\n"
     ]
    }
   ],
   "source": [
    "print(a+b)"
   ]
  },
  {
   "cell_type": "code",
   "execution_count": 147,
   "id": "b62118c2",
   "metadata": {},
   "outputs": [
    {
     "name": "stdout",
     "output_type": "stream",
     "text": [
      "[1, 2, 3, 4, 5]\n",
      "[10, 9, 8, 7, 6]\n"
     ]
    }
   ],
   "source": [
    "print(a)\n",
    "print(b)"
   ]
  },
  {
   "cell_type": "code",
   "execution_count": 158,
   "id": "224ecb97",
   "metadata": {},
   "outputs": [
    {
     "name": "stdout",
     "output_type": "stream",
     "text": [
      "None\n"
     ]
    }
   ],
   "source": [
    "print(a.extend([[1,2,43],[65,5,65,5]]))"
   ]
  },
  {
   "cell_type": "code",
   "execution_count": 159,
   "id": "c02ad47a",
   "metadata": {},
   "outputs": [
    {
     "name": "stdout",
     "output_type": "stream",
     "text": [
      "[1, 2, 3, 4, 5, 43, 234, 23, 4324, 2, 42, 42, 1, 2, 43, [1, 2, 43], [65, 5, 65, 5]]\n",
      "[10, 9, 8, 7, 6]\n"
     ]
    }
   ],
   "source": [
    "print(a)\n",
    "print(b)"
   ]
  },
  {
   "cell_type": "code",
   "execution_count": 176,
   "id": "29348c5b",
   "metadata": {},
   "outputs": [
    {
     "name": "stdout",
     "output_type": "stream",
     "text": [
      "None\n",
      "[1, 2, 3, 4, 5, 0, 1, 2, 3, 4, 5, 6, 7, 8, 9, 10, 11, 12, 13, 14, 15, 16, 17, 18, 19, 20, 21, 22, 23, 24, 25, 26, 27, 28, 29, 30, 31, 32, 33, 34, 35, 36, 37, 38, 39, 40, 41, 42, 43, 44, 45, 46, 47, 48, 49]\n"
     ]
    }
   ],
   "source": [
    "a = list(range(0,50))\n",
    "b = [1,2,3,4,5]\n",
    "\n",
    "#print(b.append(a))\n",
    "print(b.extend(a))\n",
    "\n",
    "# print(a)\n",
    "print(b)"
   ]
  },
  {
   "cell_type": "code",
   "execution_count": 177,
   "id": "172cf773",
   "metadata": {},
   "outputs": [
    {
     "name": "stdout",
     "output_type": "stream",
     "text": [
      "55\n"
     ]
    }
   ],
   "source": [
    "print(len(b))"
   ]
  },
  {
   "cell_type": "markdown",
   "id": "f7020ed5",
   "metadata": {},
   "source": [
    "# Insert \n",
    "- insert methods insert the value at a particular index\n",
    "- only ine element can be inserted at a time\n",
    "\n",
    "syntax = lst_1.insert(index , element to be inserted)"
   ]
  },
  {
   "cell_type": "code",
   "execution_count": 187,
   "id": "0b6ad22c",
   "metadata": {},
   "outputs": [
    {
     "name": "stdout",
     "output_type": "stream",
     "text": [
      "None\n"
     ]
    }
   ],
   "source": [
    "lst_1 = [1,2,3,4,65] # 89\n",
    "print(lst_1.insert(2,[89,77,88]))"
   ]
  },
  {
   "cell_type": "code",
   "execution_count": 188,
   "id": "304a53fb",
   "metadata": {},
   "outputs": [
    {
     "data": {
      "text/plain": [
       "[1, 2, [89, 77, 88], 3, 4, 65]"
      ]
     },
     "execution_count": 188,
     "metadata": {},
     "output_type": "execute_result"
    }
   ],
   "source": [
    "lst_1"
   ]
  },
  {
   "cell_type": "code",
   "execution_count": 192,
   "id": "b3b40afe",
   "metadata": {},
   "outputs": [
    {
     "name": "stdout",
     "output_type": "stream",
     "text": [
      "None\n"
     ]
    }
   ],
   "source": [
    "a = [1,2,3,4,5]\n",
    "print(a.insert(3,7))"
   ]
  },
  {
   "cell_type": "code",
   "execution_count": 193,
   "id": "474053bd",
   "metadata": {},
   "outputs": [
    {
     "name": "stdout",
     "output_type": "stream",
     "text": [
      "[1, 2, 3, 7, 4, 5]\n"
     ]
    }
   ],
   "source": [
    "print(a)"
   ]
  },
  {
   "cell_type": "markdown",
   "id": "cdbc0c14",
   "metadata": {},
   "source": [
    "# Removing elements from the list\n",
    "1. remove\n",
    "2. pop"
   ]
  },
  {
   "cell_type": "code",
   "execution_count": 194,
   "id": "a46be493",
   "metadata": {},
   "outputs": [
    {
     "name": "stdout",
     "output_type": "stream",
     "text": [
      "['__add__', '__class__', '__class_getitem__', '__contains__', '__delattr__', '__delitem__', '__dir__', '__doc__', '__eq__', '__format__', '__ge__', '__getattribute__', '__getitem__', '__gt__', '__hash__', '__iadd__', '__imul__', '__init__', '__init_subclass__', '__iter__', '__le__', '__len__', '__lt__', '__mul__', '__ne__', '__new__', '__reduce__', '__reduce_ex__', '__repr__', '__reversed__', '__rmul__', '__setattr__', '__setitem__', '__sizeof__', '__str__', '__subclasshook__', 'append', 'clear', 'copy', 'count', 'extend', 'index', 'insert', 'pop', 'remove', 'reverse', 'sort']\n"
     ]
    }
   ],
   "source": [
    "print(dir(list))"
   ]
  },
  {
   "cell_type": "code",
   "execution_count": 214,
   "id": "410762f8",
   "metadata": {},
   "outputs": [],
   "source": [
    "# Pop - we can remove one value at a time\n",
    "l = [1,2,3,4,5,6,7,8]\n",
    "removed_values = l.pop(6)"
   ]
  },
  {
   "cell_type": "code",
   "execution_count": 213,
   "id": "5dfff7dc",
   "metadata": {},
   "outputs": [
    {
     "name": "stdout",
     "output_type": "stream",
     "text": [
      "[1, 2, 3, 4, 5, 6, 8]\n"
     ]
    }
   ],
   "source": [
    "print(l)"
   ]
  },
  {
   "cell_type": "code",
   "execution_count": 215,
   "id": "62b64616",
   "metadata": {},
   "outputs": [
    {
     "name": "stdout",
     "output_type": "stream",
     "text": [
      "7\n"
     ]
    }
   ],
   "source": [
    "print(removed_values)"
   ]
  },
  {
   "cell_type": "code",
   "execution_count": 242,
   "id": "538e8571",
   "metadata": {},
   "outputs": [
    {
     "name": "stdout",
     "output_type": "stream",
     "text": [
      "None\n"
     ]
    }
   ],
   "source": [
    "# remove \n",
    "l = [[1,2,3],\"i\",\"j\",\"k\",\"j\",[1,2,3],[1,2,3],\"j\",\"l\",\"p\",\"q\",\"s\"]\n",
    "\n",
    "#print(l.remove(l[2]))\n",
    "print(l.remove('k'))"
   ]
  },
  {
   "cell_type": "code",
   "execution_count": 241,
   "id": "82a61052",
   "metadata": {},
   "outputs": [
    {
     "name": "stdout",
     "output_type": "stream",
     "text": [
      "k\n"
     ]
    }
   ],
   "source": [
    "print(l[2])"
   ]
  },
  {
   "cell_type": "code",
   "execution_count": 243,
   "id": "23a9d34e",
   "metadata": {
    "scrolled": true
   },
   "outputs": [
    {
     "name": "stdout",
     "output_type": "stream",
     "text": [
      "[[1, 2, 3], 'i', 'j', 'j', [1, 2, 3], [1, 2, 3], 'j', 'l', 'p', 'q', 's']\n"
     ]
    }
   ],
   "source": [
    "print(l)"
   ]
  },
  {
   "cell_type": "markdown",
   "id": "206af575",
   "metadata": {},
   "source": [
    "# Count "
   ]
  },
  {
   "cell_type": "code",
   "execution_count": 223,
   "id": "3c781331",
   "metadata": {},
   "outputs": [
    {
     "data": {
      "text/plain": [
       "[1, 2, 3]"
      ]
     },
     "execution_count": 223,
     "metadata": {},
     "output_type": "execute_result"
    }
   ],
   "source": [
    "# remove \n",
    "l = [[1,2,3],\"i\",\"j\",\"k\",\"j\",[1,2,3],[1,2,3],\"j\",\"l\",\"p\",\"q\",\"s\"]\n",
    "l.pop(0)"
   ]
  },
  {
   "cell_type": "code",
   "execution_count": 224,
   "id": "4f7261e4",
   "metadata": {},
   "outputs": [
    {
     "data": {
      "text/plain": [
       "['i', 'j', 'k', 'j', [1, 2, 3], [1, 2, 3], 'j', 'l', 'p', 'q', 's']"
      ]
     },
     "execution_count": 224,
     "metadata": {},
     "output_type": "execute_result"
    }
   ],
   "source": [
    "l"
   ]
  },
  {
   "cell_type": "code",
   "execution_count": 240,
   "id": "6bdcb142",
   "metadata": {},
   "outputs": [
    {
     "name": "stdout",
     "output_type": "stream",
     "text": [
      "[1, 2, 3, 4, 5, 6, 'a', 'b', 'python', 'learnbay', 'Alan', 'messi', 'ronaldo', 78, 8, 9, 10, 11, 'a', 'b']\n"
     ]
    }
   ],
   "source": [
    "k = [[1,2,3,4],[5,6,['a','b','python',['learnbay','Alan',['messi','ronaldo']]],78],[8,9,[10,11,['a','b']]]]\n",
    "o = str(k)\n",
    "u = o.split(',')\n",
    "single_list = []\n",
    "for i in u:\n",
    "    single_list.append(eval(i.strip(' []')))\n",
    "print(single_list)"
   ]
  },
  {
   "cell_type": "code",
   "execution_count": 247,
   "id": "5b4e0de5",
   "metadata": {},
   "outputs": [
    {
     "name": "stdout",
     "output_type": "stream",
     "text": [
      "None\n"
     ]
    }
   ],
   "source": [
    "l = [1,2,3,4]\n",
    "print(l.remove(l[3]))"
   ]
  },
  {
   "cell_type": "code",
   "execution_count": 248,
   "id": "3df487a1",
   "metadata": {},
   "outputs": [
    {
     "name": "stdout",
     "output_type": "stream",
     "text": [
      "[1, 2, 3]\n"
     ]
    }
   ],
   "source": [
    "print(l)"
   ]
  },
  {
   "cell_type": "code",
   "execution_count": null,
   "id": "192d1c06",
   "metadata": {},
   "outputs": [],
   "source": []
  }
 ],
 "metadata": {
  "kernelspec": {
   "display_name": "Python 3 (ipykernel)",
   "language": "python",
   "name": "python3"
  },
  "language_info": {
   "codemirror_mode": {
    "name": "ipython",
    "version": 3
   },
   "file_extension": ".py",
   "mimetype": "text/x-python",
   "name": "python",
   "nbconvert_exporter": "python",
   "pygments_lexer": "ipython3",
   "version": "3.9.12"
  }
 },
 "nbformat": 4,
 "nbformat_minor": 5
}
