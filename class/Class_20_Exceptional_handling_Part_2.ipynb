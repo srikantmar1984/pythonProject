{
 "cells": [
  {
   "cell_type": "markdown",
   "id": "b51f253c",
   "metadata": {},
   "source": [
    "# Finally"
   ]
  },
  {
   "cell_type": "code",
   "execution_count": 2,
   "id": "c5198383",
   "metadata": {},
   "outputs": [
    {
     "name": "stdout",
     "output_type": "stream",
     "text": [
      "Hey check you numbers\n",
      "next function\n"
     ]
    }
   ],
   "source": [
    "num1 = 10\n",
    "num2 = 'str'\n",
    "\n",
    "try:\n",
    "    print(num1/num2)\n",
    "\n",
    "except:\n",
    "    print('Hey check you numbers')\n",
    "\n",
    "else:\n",
    "    print('Code sucessful')\n",
    "    \n",
    "print('next function')"
   ]
  },
  {
   "cell_type": "code",
   "execution_count": null,
   "id": "95f49e6f",
   "metadata": {},
   "outputs": [],
   "source": [
    "* Finally - It will be executed if error is raised or not"
   ]
  },
  {
   "cell_type": "code",
   "execution_count": 17,
   "id": "f78d9535",
   "metadata": {},
   "outputs": [
    {
     "name": "stdout",
     "output_type": "stream",
     "text": [
      "Hey check you numbers\n",
      "hello\n",
      "next function\n"
     ]
    }
   ],
   "source": [
    "num1 = 'str'\n",
    "num2 = 'str'\n",
    "\n",
    "try:\n",
    "    print(num1/num2)\n",
    "\n",
    "except:\n",
    "    print('Hey check you numbers')\n",
    "\n",
    "else:\n",
    "    print('Code sucessful')\n",
    "    \n",
    "finally:\n",
    "    print('hello')\n",
    "    \n",
    "print('next function')"
   ]
  },
  {
   "cell_type": "code",
   "execution_count": 14,
   "id": "76764746",
   "metadata": {},
   "outputs": [
    {
     "name": "stdout",
     "output_type": "stream",
     "text": [
      "something\n",
      "hello\n",
      "next function\n"
     ]
    }
   ],
   "source": [
    "num1 = 10\n",
    "num2 = 'str'\n",
    "\n",
    "try:\n",
    "    print(num1/num_2)\n",
    "except:\n",
    "    print('something')\n",
    "\n",
    "finally:\n",
    "    print('hello')\n",
    "    \n",
    "print('next function')"
   ]
  },
  {
   "cell_type": "code",
   "execution_count": 22,
   "id": "49c170b6",
   "metadata": {},
   "outputs": [
    {
     "name": "stdout",
     "output_type": "stream",
     "text": [
      "something\n",
      "hello\n",
      "next function\n"
     ]
    }
   ],
   "source": [
    "num1 = 10\n",
    "num2 = 'str'\n",
    "\n",
    "try:\n",
    "    print(num1/num2)\n",
    "except:\n",
    "    print('something')\n",
    "\n",
    "finally:\n",
    "    print('hello')\n",
    "    \n",
    "print('next function')"
   ]
  },
  {
   "cell_type": "code",
   "execution_count": null,
   "id": "2773bd9a",
   "metadata": {},
   "outputs": [],
   "source": [
    "# Showing cooding error to users "
   ]
  },
  {
   "cell_type": "code",
   "execution_count": 29,
   "id": "2e4f7087",
   "metadata": {},
   "outputs": [
    {
     "name": "stdout",
     "output_type": "stream",
     "text": [
      "division by zero\n",
      "something\n",
      "hello\n",
      "next function\n"
     ]
    }
   ],
   "source": [
    "num1 = 10\n",
    "num2 = 0\n",
    "\n",
    "try:\n",
    "    print(num1/num2)\n",
    "except ZeroDivisionError as e:\n",
    "    print(e)\n",
    "    print('something')\n",
    "\n",
    "finally:\n",
    "    print('hello')\n",
    "    \n",
    "print('next function')"
   ]
  },
  {
   "cell_type": "code",
   "execution_count": 31,
   "id": "c7a09332",
   "metadata": {},
   "outputs": [
    {
     "ename": "ZeroDivisionError",
     "evalue": "division by zero",
     "output_type": "error",
     "traceback": [
      "\u001b[1;31m---------------------------------------------------------------------------\u001b[0m",
      "\u001b[1;31mZeroDivisionError\u001b[0m                         Traceback (most recent call last)",
      "Input \u001b[1;32mIn [31]\u001b[0m, in \u001b[0;36m<cell line: 4>\u001b[1;34m()\u001b[0m\n\u001b[0;32m      1\u001b[0m num1 \u001b[38;5;241m=\u001b[39m \u001b[38;5;241m10\u001b[39m\n\u001b[0;32m      2\u001b[0m num2 \u001b[38;5;241m=\u001b[39m \u001b[38;5;241m0\u001b[39m\n\u001b[1;32m----> 4\u001b[0m \u001b[38;5;28mprint\u001b[39m(\u001b[43mnum1\u001b[49m\u001b[38;5;241;43m/\u001b[39;49m\u001b[43mnum2\u001b[49m)\n",
      "\u001b[1;31mZeroDivisionError\u001b[0m: division by zero"
     ]
    }
   ],
   "source": [
    "num1 = 10\n",
    "num2 = 0\n",
    "\n",
    "print(num1/num2)"
   ]
  },
  {
   "cell_type": "code",
   "execution_count": 33,
   "id": "a8423682",
   "metadata": {},
   "outputs": [
    {
     "name": "stdout",
     "output_type": "stream",
     "text": [
      "name 'num_2' is not defined\n",
      "coding backing up\n",
      "hello\n",
      "next function\n"
     ]
    }
   ],
   "source": [
    "num1 = 10\n",
    "num2 = 2\n",
    "\n",
    "try:\n",
    "    print(num1/num_2)\n",
    "    \n",
    "except ZeroDivisionError as e:\n",
    "    print(e)\n",
    "    print('something')\n",
    "    \n",
    "except NameError as e:\n",
    "    print(e)\n",
    "    print('coding backing up')\n",
    "    \n",
    "    \n",
    "finally:\n",
    "    print('hello')\n",
    "    \n",
    "print('next function')"
   ]
  },
  {
   "cell_type": "code",
   "execution_count": 37,
   "id": "eed0df4f",
   "metadata": {},
   "outputs": [
    {
     "name": "stdout",
     "output_type": "stream",
     "text": [
      "division by zero\n",
      "something\n",
      "name 'num_2' is not defined\n",
      "coding backing up\n",
      "hello\n",
      "next function\n"
     ]
    }
   ],
   "source": [
    "num1 = 10\n",
    "num2 = 0\n",
    "try:\n",
    "    try:\n",
    "        print(num1/num2)\n",
    "        \n",
    "    except ZeroDivisionError as e:\n",
    "        print(e)\n",
    "        print('something')\n",
    "        \n",
    "    try:\n",
    "        print(num1/num_2)\n",
    "    \n",
    "    \n",
    "    except NameError as e:\n",
    "        print(e)\n",
    "        print('coding backing up')\n",
    "         \n",
    "\n",
    "    \n",
    "    \n",
    "finally:\n",
    "    print('hello')\n",
    "    \n",
    "print('next function')"
   ]
  },
  {
   "cell_type": "code",
   "execution_count": 45,
   "id": "adfd1254",
   "metadata": {},
   "outputs": [
    {
     "name": "stdout",
     "output_type": "stream",
     "text": [
      "5.0\n",
      "sucessfull\n",
      "Success\n"
     ]
    }
   ],
   "source": [
    "a=10\n",
    "b=2\n",
    "try:\n",
    "    print(a/b)\n",
    "except ZeroDivisionError as e:\n",
    "    print(e)\n",
    "except NameError as e:\n",
    "    print(e)\n",
    "else:\n",
    "    print('sucessfull')\n",
    "finally:\n",
    "    print('Success')\n"
   ]
  },
  {
   "cell_type": "code",
   "execution_count": 56,
   "id": "6301b848",
   "metadata": {},
   "outputs": [
    {
     "name": "stdout",
     "output_type": "stream",
     "text": [
      "enter a num2.3\n",
      "invalid literal for int() with base 10: '2.3'\n",
      "something\n",
      "continued\n"
     ]
    }
   ],
   "source": [
    "try:\n",
    "    num1 = 10\n",
    "    num2 = 'str'\n",
    "    print(num1/num2)\n",
    "\n",
    "    \n",
    "except Exception as e:\n",
    "    print(e)\n",
    "    print('something')\n",
    "\n",
    "print('continued')"
   ]
  },
  {
   "cell_type": "code",
   "execution_count": 53,
   "id": "d370c400",
   "metadata": {},
   "outputs": [
    {
     "ename": "NameError",
     "evalue": "name 'num_2' is not defined",
     "output_type": "error",
     "traceback": [
      "\u001b[1;31m---------------------------------------------------------------------------\u001b[0m",
      "\u001b[1;31mNameError\u001b[0m                                 Traceback (most recent call last)",
      "Input \u001b[1;32mIn [53]\u001b[0m, in \u001b[0;36m<cell line: 5>\u001b[1;34m()\u001b[0m\n\u001b[0;32m      1\u001b[0m num1 \u001b[38;5;241m=\u001b[39m \u001b[38;5;241m10\u001b[39m\n\u001b[0;32m      2\u001b[0m num2 \u001b[38;5;241m=\u001b[39m \u001b[38;5;241m2\u001b[39m\n\u001b[1;32m----> 5\u001b[0m \u001b[38;5;28mprint\u001b[39m(num1\u001b[38;5;241m/\u001b[39m\u001b[43mnum_2\u001b[49m)\n\u001b[0;32m      8\u001b[0m \u001b[38;5;28mprint\u001b[39m(\u001b[38;5;124m'\u001b[39m\u001b[38;5;124mcontinued\u001b[39m\u001b[38;5;124m'\u001b[39m)\n",
      "\u001b[1;31mNameError\u001b[0m: name 'num_2' is not defined"
     ]
    }
   ],
   "source": [
    "num1 = 10\n",
    "num2 = 2\n",
    "\n",
    "\n",
    "print(num1/num_2)\n",
    "\n",
    "\n",
    "print('continued')"
   ]
  },
  {
   "cell_type": "code",
   "execution_count": 58,
   "id": "ba06ff22",
   "metadata": {},
   "outputs": [],
   "source": [
    "def err(a,b):\n",
    "    try:\n",
    "        num = a/b\n",
    "        return num\n",
    "\n",
    "   \n",
    "    except Exception as e:\n",
    "        return e\n",
    "\n",
    "    print('continued')"
   ]
  },
  {
   "cell_type": "code",
   "execution_count": 60,
   "id": "55e544ed",
   "metadata": {},
   "outputs": [
    {
     "data": {
      "text/plain": [
       "TypeError(\"unsupported operand type(s) for /: 'int' and 'str'\")"
      ]
     },
     "execution_count": 60,
     "metadata": {},
     "output_type": "execute_result"
    }
   ],
   "source": [
    "err(112 ,'str')"
   ]
  },
  {
   "cell_type": "code",
   "execution_count": 69,
   "id": "47ce3b67",
   "metadata": {},
   "outputs": [
    {
     "name": "stdout",
     "output_type": "stream",
     "text": [
      "name 'num_2' is not defined\n",
      "something\n",
      "continued\n"
     ]
    }
   ],
   "source": [
    "# open one file\n",
    "f = open('error_log.txt', 'a')\n",
    "try:\n",
    "    num1 = 10\n",
    "    num2 = 0\n",
    "    print(num1/num_2)\n",
    "\n",
    "    \n",
    "except Exception as e:\n",
    "    f.write('\\n'+str(e))\n",
    "    print(e)\n",
    "    print('something')\n",
    "\n",
    "    \n",
    "finally:\n",
    "    f.close()\n",
    "print('continued')"
   ]
  },
  {
   "cell_type": "code",
   "execution_count": 72,
   "id": "2d587d77",
   "metadata": {},
   "outputs": [
    {
     "name": "stdout",
     "output_type": "stream",
     "text": [
      "please enter a number : 10\n",
      "please enter the second number : 0\n",
      "division by zero\n"
     ]
    }
   ],
   "source": [
    "# Nested Try\n",
    "try:\n",
    "    a = int(input('please enter a number : '))\n",
    "    b = int(input('please enter the second number : '))\n",
    "    try:\n",
    "        print(a/b)\n",
    "    except ZeroDivisionError as e:\n",
    "        print(e)\n",
    "    except NameError as e:\n",
    "        print(e)\n",
    "except Exception as e:\n",
    "    print(e)\n"
   ]
  },
  {
   "cell_type": "code",
   "execution_count": 76,
   "id": "da741008",
   "metadata": {},
   "outputs": [
    {
     "name": "stdout",
     "output_type": "stream",
     "text": [
      "please enter a number : 'name'\n",
      "line 11 exception invalid literal for int() with base 10: \"'name'\"\n"
     ]
    }
   ],
   "source": [
    "# Nested Try\n",
    "try:\n",
    "    a = int(input('please enter a number : '))\n",
    "    b = int(input('please enter the second number : '))\n",
    "    try:\n",
    "        print(a/c)\n",
    "    except Exception as e:\n",
    "        print('line 7 exeption',e)\n",
    "\n",
    "except Exception as e:\n",
    "    print('line 11 exception',e)\n"
   ]
  },
  {
   "cell_type": "code",
   "execution_count": null,
   "id": "ced81952",
   "metadata": {},
   "outputs": [],
   "source": [
    "# Userdefined errors - raise"
   ]
  },
  {
   "cell_type": "code",
   "execution_count": 82,
   "id": "03b8214b",
   "metadata": {},
   "outputs": [
    {
     "name": "stdout",
     "output_type": "stream",
     "text": [
      "please enter the amount : 70000\n",
      "amount exceeded\n",
      "continue code\n"
     ]
    }
   ],
   "source": [
    "# CDM 50k \n",
    "\n",
    "amt = int(input('please enter the amount : '))\n",
    "\n",
    "try:\n",
    "    if amt > 50000:\n",
    "        print('amount exceeded')\n",
    "        print('continue code')\n",
    "    else:\n",
    "        print('amount deposited')\n",
    "        \n",
    "except Exception as e:\n",
    "    print(e)"
   ]
  },
  {
   "cell_type": "code",
   "execution_count": 78,
   "id": "314816eb",
   "metadata": {},
   "outputs": [],
   "source": [
    "class amount_error(Exception):\n",
    "    def __init__(self,msg):\n",
    "        self.msg = msg"
   ]
  },
  {
   "cell_type": "code",
   "execution_count": 83,
   "id": "9b662daa",
   "metadata": {},
   "outputs": [
    {
     "name": "stdout",
     "output_type": "stream",
     "text": [
      "please enter the amount : 70000\n",
      "OVER LIMIT\n"
     ]
    }
   ],
   "source": [
    "# CDM 50k \n",
    "\n",
    "\n",
    "        \n",
    "amt = int(input('please enter the amount : '))\n",
    "\n",
    "try:\n",
    "    if amt > 50000:\n",
    "        raise amount_error ('OVER LIMIT')\n",
    "        print('continue code')\n",
    "    else:\n",
    "        print('amount deposited')\n",
    "        \n",
    "except Exception as e:\n",
    "    print(e)"
   ]
  },
  {
   "cell_type": "code",
   "execution_count": 85,
   "id": "fb3486f1",
   "metadata": {},
   "outputs": [
    {
     "name": "stdout",
     "output_type": "stream",
     "text": [
      "please enter the amount : 70000\n",
      "stop\n"
     ]
    }
   ],
   "source": [
    "# CDM 50k \n",
    "\n",
    "amt = int(input('please enter the amount : '))\n",
    "\n",
    "try:\n",
    "    if amt > 50000:\n",
    "        raise ZeroDivisionError('stop')\n",
    "        print('continue code')\n",
    "    else:\n",
    "        print('amount deposited')\n",
    "        \n",
    "except Exception as e:\n",
    "    print(e)"
   ]
  },
  {
   "cell_type": "code",
   "execution_count": 89,
   "id": "bccdbdf7",
   "metadata": {},
   "outputs": [
    {
     "ename": "amount_error",
     "evalue": "OVER LIMIT",
     "output_type": "error",
     "traceback": [
      "\u001b[1;31m---------------------------------------------------------------------------\u001b[0m",
      "\u001b[1;31mamount_error\u001b[0m                              Traceback (most recent call last)",
      "Input \u001b[1;32mIn [89]\u001b[0m, in \u001b[0;36m<cell line: 6>\u001b[1;34m()\u001b[0m\n\u001b[0;32m      3\u001b[0m amt \u001b[38;5;241m=\u001b[39m \u001b[38;5;241m100000\u001b[39m\n\u001b[0;32m      6\u001b[0m \u001b[38;5;28;01mif\u001b[39;00m amt \u001b[38;5;241m>\u001b[39m \u001b[38;5;241m50000\u001b[39m:\n\u001b[1;32m----> 7\u001b[0m     \u001b[38;5;28;01mraise\u001b[39;00m amount_error(\u001b[38;5;124m'\u001b[39m\u001b[38;5;124mOVER LIMIT\u001b[39m\u001b[38;5;124m'\u001b[39m)\n\u001b[0;32m      8\u001b[0m     \u001b[38;5;28mprint\u001b[39m(\u001b[38;5;124m'\u001b[39m\u001b[38;5;124mcontinue code\u001b[39m\u001b[38;5;124m'\u001b[39m)\n\u001b[0;32m      9\u001b[0m \u001b[38;5;28;01melse\u001b[39;00m:\n",
      "\u001b[1;31mamount_error\u001b[0m: OVER LIMIT"
     ]
    }
   ],
   "source": [
    "# CDM 50k \n",
    "\n",
    "amt = 100000\n",
    "\n",
    "\n",
    "if amt > 50000:\n",
    "    raise amount_error('OVER LIMIT')\n",
    "    print('continue code')\n",
    "else:\n",
    "    print('amount deposited')\n",
    "        "
   ]
  },
  {
   "cell_type": "code",
   "execution_count": null,
   "id": "f4101103",
   "metadata": {},
   "outputs": [],
   "source": [
    "# Build me an gpay app\n",
    "\n",
    "which takes as amt from the user\n",
    "* if amt entered is less than 50k ('CODE FOR SENDING THE AMOUNT EXECUTED')\n",
    "* If the amt is between 50k- 60k it has to ask me the PAN number\n",
    "* If the PAN num's len is 10 ('Give me 2 minutes We will verifify and deposit the amount')\n",
    "* If the len PAN num is not 10 (please enter correct pan number)"
   ]
  },
  {
   "cell_type": "code",
   "execution_count": null,
   "id": "a861bcf8",
   "metadata": {},
   "outputs": [],
   "source": [
    "class my_\n",
    "\n",
    "\n",
    "def submit_pan():\n",
    "    if len of pan 10:\n",
    "        'Give me 2 minutes We will verifify and deposit the amount'\n",
    "    else:\n",
    "        raise my_exc ('please enter correct pan number ')\n",
    "\n",
    "\n",
    "def amount_deposite():\n",
    "    if amt < 50k:\n",
    "        print( amount depo)\n",
    "    elif amt 50 k 60k:\n",
    "        pan = input ('please enter the pAN number')\n",
    "        if len of pan == 10:\n",
    "            print Give me 2 minutes We will verifify and deposit the amoun\n",
    "        else:\n",
    "            raise my_exc ('wrong pan number')\n",
    "    else:\n",
    "        raise my_ex"
   ]
  },
  {
   "cell_type": "code",
   "execution_count": null,
   "id": "5c3f2ffd",
   "metadata": {},
   "outputs": [],
   "source": [
    "try amount_deposite(amt):\n",
    "    \n",
    "exept my_ex as e:\n",
    "    print(e)"
   ]
  },
  {
   "cell_type": "code",
   "execution_count": null,
   "id": "3aa4d980",
   "metadata": {},
   "outputs": [],
   "source": []
  },
  {
   "cell_type": "code",
   "execution_count": null,
   "id": "043b0c1f",
   "metadata": {},
   "outputs": [],
   "source": []
  },
  {
   "cell_type": "code",
   "execution_count": null,
   "id": "8b0da230",
   "metadata": {},
   "outputs": [],
   "source": []
  },
  {
   "cell_type": "code",
   "execution_count": null,
   "id": "dea46985",
   "metadata": {},
   "outputs": [],
   "source": []
  },
  {
   "cell_type": "code",
   "execution_count": null,
   "id": "67fb2971",
   "metadata": {},
   "outputs": [],
   "source": []
  }
 ],
 "metadata": {
  "kernelspec": {
   "display_name": "Python 3 (ipykernel)",
   "language": "python",
   "name": "python3"
  },
  "language_info": {
   "codemirror_mode": {
    "name": "ipython",
    "version": 3
   },
   "file_extension": ".py",
   "mimetype": "text/x-python",
   "name": "python",
   "nbconvert_exporter": "python",
   "pygments_lexer": "ipython3",
   "version": "3.9.12"
  }
 },
 "nbformat": 4,
 "nbformat_minor": 5
}
