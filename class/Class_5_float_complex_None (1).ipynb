{
 "cells": [
  {
   "cell_type": "markdown",
   "id": "e8d62c46",
   "metadata": {},
   "source": [
    "# operator precedence\n",
    "\n",
    "() - paranthesis\n",
    "** --> expoent\n",
    "+x , -x , ~x --> unary plus , unary minus , bitwise not\n",
    "* , / , // , %\n",
    "+ , -\n",
    "<< , >>\n",
    "&\n",
    "^\n",
    "|\n",
    "== , != , > , ?= , < , <=\n",
    "not\n",
    "and\n",
    "or"
   ]
  },
  {
   "cell_type": "code",
   "execution_count": 23,
   "id": "0214ee57",
   "metadata": {},
   "outputs": [
    {
     "name": "stdout",
     "output_type": "stream",
     "text": [
      "0b11110\n"
     ]
    }
   ],
   "source": [
    "x = 10\n",
    "y = 20\n",
    "print(bin(x+y))"
   ]
  },
  {
   "cell_type": "markdown",
   "id": "2bdf6464",
   "metadata": {},
   "source": [
    "# Float\n",
    "\n",
    "- Any numbers with decimal point"
   ]
  },
  {
   "cell_type": "code",
   "execution_count": 24,
   "id": "3e5beff4",
   "metadata": {},
   "outputs": [
    {
     "name": "stdout",
     "output_type": "stream",
     "text": [
      "11.2 <class 'float'>\n"
     ]
    }
   ],
   "source": [
    "a = 11.2\n",
    "print(a , type(a))"
   ]
  },
  {
   "cell_type": "code",
   "execution_count": null,
   "id": "10f5622f",
   "metadata": {},
   "outputs": [],
   "source": [
    "# Operations possible on float\n",
    "\n",
    "- arithmatic operations\n",
    "- Comparision operations\n",
    "- Equality operators\n",
    "- logical operations\n",
    "- Assignment operations except bitwise \n",
    "- Identity operation\n",
    "\n",
    "\n",
    "# Operations not possible \n",
    "- Assignment operations with bitwise\n",
    "- bitwise operations\n",
    "\n",
    "# Object reusability is not applicable"
   ]
  },
  {
   "cell_type": "code",
   "execution_count": 25,
   "id": "ac9df526",
   "metadata": {},
   "outputs": [
    {
     "name": "stdout",
     "output_type": "stream",
     "text": [
      "31.0\n"
     ]
    }
   ],
   "source": [
    "# \n",
    "a = 10.4\n",
    "b = 20.6\n",
    "\n",
    "print(a+b)"
   ]
  },
  {
   "cell_type": "code",
   "execution_count": 29,
   "id": "475664f9",
   "metadata": {},
   "outputs": [
    {
     "name": "stdout",
     "output_type": "stream",
     "text": [
      "True\n"
     ]
    }
   ],
   "source": [
    "# Comparision\n",
    "a = 10.4\n",
    "b = 10.4\n",
    "\n",
    "print(a<=b)"
   ]
  },
  {
   "cell_type": "code",
   "execution_count": 32,
   "id": "3bdbe9c2",
   "metadata": {},
   "outputs": [
    {
     "ename": "TypeError",
     "evalue": "unsupported operand type(s) for |=: 'float' and 'float'",
     "output_type": "error",
     "traceback": [
      "\u001b[1;31m---------------------------------------------------------------------------\u001b[0m",
      "\u001b[1;31mTypeError\u001b[0m                                 Traceback (most recent call last)",
      "Input \u001b[1;32mIn [32]\u001b[0m, in \u001b[0;36m<cell line: 1>\u001b[1;34m()\u001b[0m\n\u001b[1;32m----> 1\u001b[0m x \u001b[38;5;241m|\u001b[39m\u001b[38;5;241m=\u001b[39m \u001b[38;5;241m10.5\u001b[39m\n\u001b[0;32m      2\u001b[0m \u001b[38;5;28mprint\u001b[39m(x)\n",
      "\u001b[1;31mTypeError\u001b[0m: unsupported operand type(s) for |=: 'float' and 'float'"
     ]
    }
   ],
   "source": [
    "x |= 10.5\n",
    "print(x)"
   ]
  },
  {
   "cell_type": "code",
   "execution_count": 22,
   "id": "85627894",
   "metadata": {},
   "outputs": [
    {
     "name": "stdout",
     "output_type": "stream",
     "text": [
      "3061255924304\n",
      "3061255924304\n",
      "True\n"
     ]
    }
   ],
   "source": [
    "a = 10\n",
    "b = 10\n",
    "\n",
    "print(id(a)) # 2559719272656\n",
    "print(id(b))\n",
    "print(a is b)"
   ]
  },
  {
   "cell_type": "code",
   "execution_count": 36,
   "id": "3d0dd125",
   "metadata": {},
   "outputs": [
    {
     "name": "stdout",
     "output_type": "stream",
     "text": [
      "20.5\n"
     ]
    }
   ],
   "source": [
    "a = 10.4\n",
    "b = 20.5\n",
    "\n",
    "print(a and b)"
   ]
  },
  {
   "cell_type": "code",
   "execution_count": 15,
   "id": "9a1a6d97",
   "metadata": {},
   "outputs": [
    {
     "name": "stdout",
     "output_type": "stream",
     "text": [
      "40\n"
     ]
    }
   ],
   "source": [
    "print(0 or 40)"
   ]
  },
  {
   "cell_type": "code",
   "execution_count": null,
   "id": "5734d3c7",
   "metadata": {},
   "outputs": [],
   "source": [
    "# A and B ---> result will be A if  A is False other than that it is  B\n",
    "# A or B ---> result will be A if A is True else B"
   ]
  },
  {
   "cell_type": "markdown",
   "id": "7cf668ca",
   "metadata": {},
   "source": [
    "# Complex \n",
    "\n",
    "- Any number that can be represented in form of a+bj where a is real and b is imag"
   ]
  },
  {
   "cell_type": "code",
   "execution_count": 16,
   "id": "a3505bbe",
   "metadata": {},
   "outputs": [
    {
     "name": "stdout",
     "output_type": "stream",
     "text": [
      "(10+5j) <class 'complex'>\n"
     ]
    }
   ],
   "source": [
    "a = 10+5j\n",
    "print(a, type(a))"
   ]
  },
  {
   "cell_type": "code",
   "execution_count": 17,
   "id": "898997c9",
   "metadata": {},
   "outputs": [
    {
     "name": "stdout",
     "output_type": "stream",
     "text": [
      "(10+5j) <class 'complex'>\n",
      "10.0\n",
      "5.0\n"
     ]
    }
   ],
   "source": [
    "a = 10+5j\n",
    "print(a, type(a))\n",
    "print(a.real)\n",
    "print(a.imag)"
   ]
  },
  {
   "cell_type": "code",
   "execution_count": 29,
   "id": "4b8a080b",
   "metadata": {},
   "outputs": [
    {
     "name": "stdout",
     "output_type": "stream",
     "text": [
      "<class 'float'>\n",
      "<class 'float'>\n",
      "3061369933648\n",
      "3061342337488\n",
      "False\n"
     ]
    }
   ],
   "source": [
    "a = 10+10j\n",
    "\n",
    "e = a.real\n",
    "f = a.imag\n",
    "\n",
    "print(type(e))\n",
    "print(type(f))\n",
    "\n",
    "print(id(e))\n",
    "print(id(f))\n",
    "\n",
    "print(e is f)"
   ]
  },
  {
   "cell_type": "code",
   "execution_count": null,
   "id": "b3720feb",
   "metadata": {},
   "outputs": [],
   "source": [
    "# Operations possible on complex \n",
    "\n",
    "- arithmetic operation except modulo and floor division\n",
    "- Logical operations\n",
    "- Equality operations\n",
    "- Assignment except modulo, floor, bitwise\n",
    "- Identity operators \n",
    "\n",
    "\n",
    "# Operations not possible on complex \n",
    "- Comparision operations\n",
    "- bitwise \n",
    "- Assignment with modulo, floor, bitwise\n",
    "\n",
    "\n",
    "# Object reusability is not applicable"
   ]
  },
  {
   "cell_type": "code",
   "execution_count": 28,
   "id": "f7035986",
   "metadata": {},
   "outputs": [
    {
     "ename": "TypeError",
     "evalue": "can't mod complex numbers.",
     "output_type": "error",
     "traceback": [
      "\u001b[1;31m---------------------------------------------------------------------------\u001b[0m",
      "\u001b[1;31mTypeError\u001b[0m                                 Traceback (most recent call last)",
      "Input \u001b[1;32mIn [28]\u001b[0m, in \u001b[0;36m<cell line: 5>\u001b[1;34m()\u001b[0m\n\u001b[0;32m      1\u001b[0m a \u001b[38;5;241m=\u001b[39m \u001b[38;5;241m10\u001b[39m\u001b[38;5;241m+\u001b[39m\u001b[38;5;241m5\u001b[39mj\n\u001b[0;32m      2\u001b[0m b \u001b[38;5;241m=\u001b[39m \u001b[38;5;241m3\u001b[39m\u001b[38;5;241m+\u001b[39m\u001b[38;5;241m7\u001b[39mj\n\u001b[1;32m----> 5\u001b[0m \u001b[38;5;28mprint\u001b[39m(\u001b[43ma\u001b[49m\u001b[38;5;241;43m%\u001b[39;49m\u001b[43mb\u001b[49m)\n",
      "\u001b[1;31mTypeError\u001b[0m: can't mod complex numbers."
     ]
    }
   ],
   "source": [
    "a = 10+5j\n",
    "b = 3+7j\n",
    "\n",
    "\n",
    "print(a%b)"
   ]
  },
  {
   "cell_type": "code",
   "execution_count": null,
   "id": "59e4d531",
   "metadata": {},
   "outputs": [],
   "source": [
    "a = 10+5j\n",
    "b = 3+7j\n",
    "\n",
    "\n",
    "print(a%b)"
   ]
  },
  {
   "cell_type": "code",
   "execution_count": 32,
   "id": "472b7055",
   "metadata": {},
   "outputs": [],
   "source": [
    "x = 10+4j"
   ]
  },
  {
   "cell_type": "code",
   "execution_count": 36,
   "id": "8fe5e75d",
   "metadata": {},
   "outputs": [
    {
     "ename": "TypeError",
     "evalue": "unsupported operand type(s) for &=: 'complex' and 'int'",
     "output_type": "error",
     "traceback": [
      "\u001b[1;31m---------------------------------------------------------------------------\u001b[0m",
      "\u001b[1;31mTypeError\u001b[0m                                 Traceback (most recent call last)",
      "Input \u001b[1;32mIn [36]\u001b[0m, in \u001b[0;36m<cell line: 1>\u001b[1;34m()\u001b[0m\n\u001b[1;32m----> 1\u001b[0m x \u001b[38;5;241m&\u001b[39m\u001b[38;5;241m=\u001b[39m\u001b[38;5;241m5\u001b[39m\n\u001b[0;32m      2\u001b[0m \u001b[38;5;28mprint\u001b[39m(x)\n",
      "\u001b[1;31mTypeError\u001b[0m: unsupported operand type(s) for &=: 'complex' and 'int'"
     ]
    }
   ],
   "source": [
    "x &=5\n",
    "print(x)"
   ]
  },
  {
   "cell_type": "code",
   "execution_count": 37,
   "id": "df5bd61b",
   "metadata": {},
   "outputs": [
    {
     "data": {
      "text/plain": [
       "(6+15j)"
      ]
     },
     "execution_count": 37,
     "metadata": {},
     "output_type": "execute_result"
    }
   ],
   "source": [
    "2+8j + 4+7j"
   ]
  },
  {
   "cell_type": "markdown",
   "id": "382891d3",
   "metadata": {},
   "source": [
    "# None data type\n",
    "\n",
    "- None is used to represent empty data"
   ]
  },
  {
   "cell_type": "code",
   "execution_count": 43,
   "id": "c0cd84ff",
   "metadata": {},
   "outputs": [
    {
     "name": "stdout",
     "output_type": "stream",
     "text": [
      "True\n"
     ]
    }
   ],
   "source": [
    "a = None\n",
    "b = None # ----> nan\n",
    "print(a == b)"
   ]
  },
  {
   "cell_type": "code",
   "execution_count": null,
   "id": "61c391cf",
   "metadata": {},
   "outputs": [],
   "source": [
    "c = 1,2,2.4,4,5"
   ]
  },
  {
   "cell_type": "code",
   "execution_count": 45,
   "id": "39474015",
   "metadata": {},
   "outputs": [
    {
     "data": {
      "text/plain": [
       "2.4"
      ]
     },
     "execution_count": 45,
     "metadata": {},
     "output_type": "execute_result"
    }
   ],
   "source": [
    "12/5"
   ]
  },
  {
   "cell_type": "code",
   "execution_count": null,
   "id": "8627d595",
   "metadata": {},
   "outputs": [],
   "source": [
    "avg = 2.4"
   ]
  },
  {
   "cell_type": "code",
   "execution_count": 46,
   "id": "e72b2b82",
   "metadata": {},
   "outputs": [
    {
     "data": {
      "text/plain": [
       "3.0"
      ]
     },
     "execution_count": 46,
     "metadata": {},
     "output_type": "execute_result"
    }
   ],
   "source": [
    "80% of values as nan -->"
   ]
  },
  {
   "cell_type": "markdown",
   "id": "8911a600",
   "metadata": {},
   "source": [
    "# Bool \n",
    "True and False "
   ]
  },
  {
   "cell_type": "code",
   "execution_count": 47,
   "id": "68e7f5b6",
   "metadata": {},
   "outputs": [
    {
     "data": {
      "text/plain": [
       "True"
      ]
     },
     "execution_count": 47,
     "metadata": {},
     "output_type": "execute_result"
    }
   ],
   "source": [
    "True == 1"
   ]
  },
  {
   "cell_type": "code",
   "execution_count": 48,
   "id": "d43cfa03",
   "metadata": {},
   "outputs": [
    {
     "data": {
      "text/plain": [
       "True"
      ]
     },
     "execution_count": 48,
     "metadata": {},
     "output_type": "execute_result"
    }
   ],
   "source": [
    "False == 0 "
   ]
  },
  {
   "cell_type": "code",
   "execution_count": 50,
   "id": "53fd20d6",
   "metadata": {},
   "outputs": [
    {
     "name": "stdout",
     "output_type": "stream",
     "text": [
      "3\n"
     ]
    }
   ],
   "source": [
    "print(True + True + True)"
   ]
  },
  {
   "cell_type": "code",
   "execution_count": 85,
   "id": "485cf7a9",
   "metadata": {},
   "outputs": [
    {
     "data": {
      "text/plain": [
       "False"
      ]
     },
     "execution_count": 85,
     "metadata": {},
     "output_type": "execute_result"
    }
   ],
   "source": [
    "# Type casting \n",
    "\n",
    "int()\n",
    "float()\n",
    "str()\n",
    "complex()\n",
    "bool()"
   ]
  },
  {
   "cell_type": "code",
   "execution_count": 76,
   "id": "695d62ca",
   "metadata": {},
   "outputs": [
    {
     "data": {
      "text/plain": [
       "True"
      ]
     },
     "execution_count": 76,
     "metadata": {},
     "output_type": "execute_result"
    }
   ],
   "source": [
    "# for bool\n",
    "bool('0')"
   ]
  },
  {
   "cell_type": "code",
   "execution_count": 3,
   "id": "7685e731",
   "metadata": {},
   "outputs": [
    {
     "name": "stdout",
     "output_type": "stream",
     "text": [
      "30\n"
     ]
    }
   ],
   "source": [
    "# Input function\n",
    "\n",
    "print(int(30.5))"
   ]
  },
  {
   "cell_type": "code",
   "execution_count": 13,
   "id": "55109a69",
   "metadata": {},
   "outputs": [
    {
     "name": "stdout",
     "output_type": "stream",
     "text": [
      "please enter a number : py887we\n"
     ]
    },
    {
     "ename": "ValueError",
     "evalue": "invalid literal for int() with base 10: 'py887we'",
     "output_type": "error",
     "traceback": [
      "\u001b[1;31m---------------------------------------------------------------------------\u001b[0m",
      "\u001b[1;31mValueError\u001b[0m                                Traceback (most recent call last)",
      "Input \u001b[1;32mIn [13]\u001b[0m, in \u001b[0;36m<cell line: 1>\u001b[1;34m()\u001b[0m\n\u001b[1;32m----> 1\u001b[0m a \u001b[38;5;241m=\u001b[39m \u001b[38;5;28;43mint\u001b[39;49m\u001b[43m(\u001b[49m\u001b[38;5;28;43minput\u001b[39;49m\u001b[43m(\u001b[49m\u001b[38;5;124;43m\"\u001b[39;49m\u001b[38;5;124;43mplease enter a number : \u001b[39;49m\u001b[38;5;124;43m\"\u001b[39;49m\u001b[43m)\u001b[49m\u001b[43m)\u001b[49m\n\u001b[0;32m      2\u001b[0m \u001b[38;5;66;03m#b = float(input(\"please enter a number : \"))\u001b[39;00m\n\u001b[0;32m      4\u001b[0m \u001b[38;5;28mprint\u001b[39m(a , \u001b[38;5;28mtype\u001b[39m(a))\n",
      "\u001b[1;31mValueError\u001b[0m: invalid literal for int() with base 10: 'py887we'"
     ]
    }
   ],
   "source": [
    "a = int(input(\"please enter a number : \"))\n",
    "#b = float(input(\"please enter a number : \"))\n",
    "\n",
    "print(a , type(a))\n",
    "#print(b , type(b))\n",
    "#print(a+b)"
   ]
  },
  {
   "cell_type": "code",
   "execution_count": 18,
   "id": "a159db52",
   "metadata": {},
   "outputs": [
    {
     "name": "stdout",
     "output_type": "stream",
     "text": [
      "please enter a number : 6.8\n",
      "please enter a number : 23.8\n",
      "<class 'float'>\n",
      "<class 'float'>\n",
      "30.6\n"
     ]
    }
   ],
   "source": [
    "a = eval(input(\"please enter a number : \"))\n",
    "b = eval(input(\"please enter a number : \"))\n",
    "\n",
    "print(type(a))\n",
    "print(type(b))\n",
    "print(a+b)"
   ]
  },
  {
   "cell_type": "code",
   "execution_count": 4,
   "id": "07dd3779",
   "metadata": {},
   "outputs": [
    {
     "name": "stdout",
     "output_type": "stream",
     "text": [
      "0\n",
      "0\n"
     ]
    }
   ],
   "source": [
    "a = input()\n",
    "print(a)"
   ]
  },
  {
   "cell_type": "code",
   "execution_count": 7,
   "id": "ab830caf",
   "metadata": {},
   "outputs": [
    {
     "ename": "ValueError",
     "evalue": "invalid literal for int() with base 10: '30.76'",
     "output_type": "error",
     "traceback": [
      "\u001b[1;31m---------------------------------------------------------------------------\u001b[0m",
      "\u001b[1;31mValueError\u001b[0m                                Traceback (most recent call last)",
      "Input \u001b[1;32mIn [7]\u001b[0m, in \u001b[0;36m<cell line: 1>\u001b[1;34m()\u001b[0m\n\u001b[1;32m----> 1\u001b[0m a \u001b[38;5;241m=\u001b[39m \u001b[38;5;28;43mint\u001b[39;49m\u001b[43m(\u001b[49m\u001b[38;5;124;43m'\u001b[39;49m\u001b[38;5;124;43m30.76\u001b[39;49m\u001b[38;5;124;43m'\u001b[39;49m\u001b[43m)\u001b[49m\n\u001b[0;32m      2\u001b[0m \u001b[38;5;28mprint\u001b[39m(a , \u001b[38;5;28mtype\u001b[39m(a))\n",
      "\u001b[1;31mValueError\u001b[0m: invalid literal for int() with base 10: '30.76'"
     ]
    }
   ],
   "source": [
    "a = int('30.76')\n",
    "print(a , type(a))"
   ]
  },
  {
   "cell_type": "code",
   "execution_count": 8,
   "id": "b33d4a77",
   "metadata": {},
   "outputs": [
    {
     "name": "stdout",
     "output_type": "stream",
     "text": [
      "30.76 <class 'float'>\n"
     ]
    }
   ],
   "source": [
    "a = float('30.76')\n",
    "print(a , type(a))"
   ]
  },
  {
   "cell_type": "code",
   "execution_count": 10,
   "id": "0c1b4e1c",
   "metadata": {},
   "outputs": [
    {
     "name": "stdout",
     "output_type": "stream",
     "text": [
      "50 <class 'int'>\n"
     ]
    }
   ],
   "source": [
    "a = int(50.7)\n",
    "print(a , type(a))"
   ]
  },
  {
   "cell_type": "code",
   "execution_count": 24,
   "id": "9f3db50a",
   "metadata": {},
   "outputs": [
    {
     "data": {
      "text/plain": [
       "'python+python'"
      ]
     },
     "execution_count": 24,
     "metadata": {},
     "output_type": "execute_result"
    }
   ],
   "source": [
    "eval(\" 'python+python' \")"
   ]
  },
  {
   "cell_type": "code",
   "execution_count": 29,
   "id": "e6686200",
   "metadata": {},
   "outputs": [
    {
     "name": "stdout",
     "output_type": "stream",
     "text": [
      "please enter a number : 'Python + Python'\n",
      "please enter a number : 'Learnbay'\n",
      "<class 'str'>\n",
      "<class 'str'>\n",
      "Python + PythonLearnbay\n"
     ]
    }
   ],
   "source": [
    "a = eval(input(\"please enter a number : \"))\n",
    "b = eval(input(\"please enter a number : \"))\n",
    "\n",
    "print(type(a))\n",
    "print(type(b))\n",
    "print(a+b)"
   ]
  },
  {
   "cell_type": "code",
   "execution_count": 30,
   "id": "6da1bde1",
   "metadata": {},
   "outputs": [
    {
     "data": {
      "text/plain": [
       "'python+python'"
      ]
     },
     "execution_count": 30,
     "metadata": {},
     "output_type": "execute_result"
    }
   ],
   "source": [
    "eval(\" 'python+python' \")"
   ]
  },
  {
   "cell_type": "code",
   "execution_count": 26,
   "id": "7987da68",
   "metadata": {},
   "outputs": [
    {
     "name": "stdout",
     "output_type": "stream",
     "text": [
      "True\n",
      "False\n"
     ]
    }
   ],
   "source": [
    "print(bool(3))\n",
    "print(bool(0))"
   ]
  },
  {
   "cell_type": "markdown",
   "id": "ecf79c4b",
   "metadata": {},
   "source": [
    "# Output functions"
   ]
  },
  {
   "cell_type": "code",
   "execution_count": null,
   "id": "1e3b7ce3",
   "metadata": {},
   "outputs": [],
   "source": [
    "{My first name is xyz and my second name is abc}"
   ]
  },
  {
   "cell_type": "code",
   "execution_count": 40,
   "id": "8f39c379",
   "metadata": {},
   "outputs": [],
   "source": [
    "# python\n",
    "# learnbay\n",
    "\n",
    "# My first name is python and my second name is learnbay"
   ]
  },
  {
   "cell_type": "code",
   "execution_count": 33,
   "id": "bbc5d638",
   "metadata": {},
   "outputs": [
    {
     "name": "stdout",
     "output_type": "stream",
     "text": [
      "Please enter your first namepython\n",
      "Please enter your second namelearnbay\n",
      "My first name is python and my second name is learnbay\n"
     ]
    }
   ],
   "source": [
    "a = input('Please enter your first name :')\n",
    "b = input('Please enter your second name :')\n",
    "\n",
    "print('My first name is '+a + ' and my second name is ' + b)"
   ]
  },
  {
   "cell_type": "code",
   "execution_count": 38,
   "id": "d3015dc4",
   "metadata": {},
   "outputs": [
    {
     "name": "stdout",
     "output_type": "stream",
     "text": [
      "My first name is learnbay and my second name is python\n"
     ]
    }
   ],
   "source": [
    "a = 'python'\n",
    "b = 'learnbay'\n",
    "\n",
    "print('My first name is {} and my second name is {}'.format(b,a))"
   ]
  },
  {
   "cell_type": "code",
   "execution_count": 39,
   "id": "fdaa5553",
   "metadata": {},
   "outputs": [
    {
     "name": "stdout",
     "output_type": "stream",
     "text": [
      "My first name is python and my second name is learnbay\n"
     ]
    }
   ],
   "source": [
    "# format string\n",
    "\n",
    "a = 'python'\n",
    "b = 'learnbay'\n",
    "\n",
    "print(f'My first name is {a} and my second name is {b}')"
   ]
  },
  {
   "cell_type": "code",
   "execution_count": null,
   "id": "749e3d30",
   "metadata": {},
   "outputs": [],
   "source": []
  },
  {
   "cell_type": "code",
   "execution_count": 41,
   "id": "442ab349",
   "metadata": {},
   "outputs": [
    {
     "name": "stdout",
     "output_type": "stream",
     "text": [
      "10.0 <class 'float'>\n"
     ]
    }
   ],
   "source": [
    "# 1st way\n",
    "a = float(10)\n",
    "print(a , type(a))"
   ]
  },
  {
   "cell_type": "code",
   "execution_count": 42,
   "id": "f445f5b9",
   "metadata": {},
   "outputs": [
    {
     "name": "stdout",
     "output_type": "stream",
     "text": [
      "10.0 <class 'int'>\n"
     ]
    }
   ],
   "source": [
    "# 2nd method\n",
    "a = 10\n",
    "print(float(a) , type(a))"
   ]
  },
  {
   "cell_type": "code",
   "execution_count": null,
   "id": "1c5a9ea3",
   "metadata": {},
   "outputs": [],
   "source": []
  },
  {
   "cell_type": "code",
   "execution_count": 43,
   "id": "f2c781a9",
   "metadata": {},
   "outputs": [],
   "source": [
    "# Strings"
   ]
  },
  {
   "cell_type": "code",
   "execution_count": null,
   "id": "041eea7c",
   "metadata": {},
   "outputs": [],
   "source": []
  },
  {
   "cell_type": "code",
   "execution_count": null,
   "id": "49169e49",
   "metadata": {},
   "outputs": [],
   "source": []
  },
  {
   "cell_type": "code",
   "execution_count": 49,
   "id": "c071e103",
   "metadata": {},
   "outputs": [
    {
     "name": "stderr",
     "output_type": "stream",
     "text": [
      "\n",
      "KeyboardInterrupt\n",
      "\n"
     ]
    }
   ],
   "source": [
    "username = 'learnbay.python@gmail.com'\n",
    "password = 'python'\n",
    "\n",
    "\n",
    "a = input('Please enter the email id : ')\n",
    "\n",
    "if a == username:\n",
    "    b = input('Please enter the password : ')\n",
    "    if password == b:\n",
    "        print('Logged IN')\n",
    "    else:print('wrong pass')\n",
    "else:print('wrong user name')"
   ]
  },
  {
   "cell_type": "code",
   "execution_count": 45,
   "id": "7e1b94e6",
   "metadata": {},
   "outputs": [
    {
     "name": "stdout",
     "output_type": "stream",
     "text": [
      "Hello world\n"
     ]
    }
   ],
   "source": [
    "a = 7\n",
    "\n",
    "if a<10:\n",
    "    print('Hello world')\n",
    "else: \n",
    "    print('Wrong')"
   ]
  },
  {
   "cell_type": "code",
   "execution_count": 1,
   "id": "11c48a05",
   "metadata": {},
   "outputs": [
    {
     "name": "stdout",
     "output_type": "stream",
     "text": [
      "Please enter the email id : learnbay.python@gmail.com\n",
      "Please enter the password : python\n",
      "Logged IN\n"
     ]
    }
   ],
   "source": [
    "username = 'learnbay.python@gmail.com'\n",
    "password = 'python'\n",
    "\n",
    "\n",
    "a = input('Please enter the email id : ')\n",
    "b = input('Please enter the password : ')\n",
    "\n",
    "if a == username and b ==password:\n",
    "    print('Logged IN')\n",
    "else:\n",
    "    print('Wrong input')\n"
   ]
  },
  {
   "cell_type": "code",
   "execution_count": null,
   "id": "010314e2",
   "metadata": {},
   "outputs": [],
   "source": []
  },
  {
   "cell_type": "code",
   "execution_count": 2,
   "id": "034a2a25",
   "metadata": {},
   "outputs": [
    {
     "name": "stdout",
     "output_type": "stream",
     "text": [
      "['In', 'Out', '_', '__', '___', '__builtin__', '__builtins__', '__doc__', '__loader__', '__name__', '__package__', '__spec__', '_dh', '_i', '_i1', '_i2', '_ih', '_ii', '_iii', '_oh', 'exit', 'get_ipython', 'quit']\n"
     ]
    }
   ],
   "source": [
    "print(dir())"
   ]
  },
  {
   "cell_type": "code",
   "execution_count": 3,
   "id": "1ec836ad",
   "metadata": {},
   "outputs": [],
   "source": [
    "a = 10"
   ]
  },
  {
   "cell_type": "code",
   "execution_count": 1,
   "id": "7d7758dd",
   "metadata": {},
   "outputs": [
    {
     "name": "stdout",
     "output_type": "stream",
     "text": [
      "['In', 'Out', '_', '__', '___', '__builtin__', '__builtins__', '__doc__', '__loader__', '__name__', '__package__', '__spec__', '_dh', '_i', '_i1', '_ih', '_ii', '_iii', '_oh', 'exit', 'get_ipython', 'quit']\n"
     ]
    }
   ],
   "source": [
    "print(dir())"
   ]
  },
  {
   "cell_type": "code",
   "execution_count": null,
   "id": "3a421396",
   "metadata": {},
   "outputs": [],
   "source": []
  }
 ],
 "metadata": {
  "kernelspec": {
   "display_name": "Python 3 (ipykernel)",
   "language": "python",
   "name": "python3"
  },
  "language_info": {
   "codemirror_mode": {
    "name": "ipython",
    "version": 3
   },
   "file_extension": ".py",
   "mimetype": "text/x-python",
   "name": "python",
   "nbconvert_exporter": "python",
   "pygments_lexer": "ipython3",
   "version": "3.9.12"
  }
 },
 "nbformat": 4,
 "nbformat_minor": 5
}
