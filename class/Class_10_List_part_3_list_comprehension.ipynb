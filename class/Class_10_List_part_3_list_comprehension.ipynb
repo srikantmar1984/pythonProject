{
 "cells": [
  {
   "cell_type": "markdown",
   "id": "458c7693",
   "metadata": {},
   "source": [
    "# Reverse"
   ]
  },
  {
   "cell_type": "code",
   "execution_count": 47,
   "id": "8faf8f46",
   "metadata": {},
   "outputs": [
    {
     "name": "stdout",
     "output_type": "stream",
     "text": [
      "None\n",
      "[10, 7, 4, 8, 6]\n"
     ]
    }
   ],
   "source": [
    "lst = [6,8,4,7,10]\n",
    "\n",
    "print(lst.reverse())\n",
    "\n",
    "print(lst)"
   ]
  },
  {
   "cell_type": "code",
   "execution_count": 30,
   "id": "cf9c01bf",
   "metadata": {},
   "outputs": [
    {
     "name": "stdout",
     "output_type": "stream",
     "text": [
      "[5, 4, 3, 2, 1]\n"
     ]
    }
   ],
   "source": [
    "print(lst)"
   ]
  },
  {
   "cell_type": "markdown",
   "id": "f24c58fc",
   "metadata": {},
   "source": [
    "# Sort\n",
    "\n",
    "- Sort will sort \n",
    "- Note -\n"
   ]
  },
  {
   "cell_type": "code",
   "execution_count": 48,
   "id": "c0080a5d",
   "metadata": {},
   "outputs": [
    {
     "name": "stdout",
     "output_type": "stream",
     "text": [
      "None\n",
      "[4, 6, 7, 8, 10]\n",
      "None\n",
      "[10, 8, 7, 6, 4]\n"
     ]
    }
   ],
   "source": [
    "lst = [6,8,4,7,10]\n",
    "\n",
    "print(lst.sort(reverse=False)) # Ascending order\n",
    "print(lst)\n",
    "\n",
    "print(lst.sort(reverse = True)) # Decending order\n",
    "print(lst)"
   ]
  },
  {
   "cell_type": "code",
   "execution_count": 34,
   "id": "af652fcc",
   "metadata": {},
   "outputs": [
    {
     "ename": "TypeError",
     "evalue": "'<' not supported between instances of 'str' and 'int'",
     "output_type": "error",
     "traceback": [
      "\u001b[1;31m---------------------------------------------------------------------------\u001b[0m",
      "\u001b[1;31mTypeError\u001b[0m                                 Traceback (most recent call last)",
      "Input \u001b[1;32mIn [34]\u001b[0m, in \u001b[0;36m<cell line: 3>\u001b[1;34m()\u001b[0m\n\u001b[0;32m      1\u001b[0m lst \u001b[38;5;241m=\u001b[39m [\u001b[38;5;241m6\u001b[39m,\u001b[38;5;241m8\u001b[39m,\u001b[38;5;124m'\u001b[39m\u001b[38;5;124mpython\u001b[39m\u001b[38;5;124m'\u001b[39m,\u001b[38;5;241m7\u001b[39m,\u001b[38;5;241m10\u001b[39m]\n\u001b[1;32m----> 3\u001b[0m \u001b[38;5;28mprint\u001b[39m(\u001b[43mlst\u001b[49m\u001b[38;5;241;43m.\u001b[39;49m\u001b[43msort\u001b[49m\u001b[43m(\u001b[49m\u001b[43m)\u001b[49m)\n\u001b[0;32m      4\u001b[0m \u001b[38;5;28mprint\u001b[39m(lst)\n",
      "\u001b[1;31mTypeError\u001b[0m: '<' not supported between instances of 'str' and 'int'"
     ]
    }
   ],
   "source": [
    "lst = [6,8,'python',7,10]\n",
    "\n",
    "print(lst.sort())\n",
    "print(lst)"
   ]
  },
  {
   "cell_type": "code",
   "execution_count": 44,
   "id": "700d3e44",
   "metadata": {},
   "outputs": [
    {
     "name": "stdout",
     "output_type": "stream",
     "text": [
      "None\n",
      "['Arange', 'Python', 'Zebra', 'monkey']\n"
     ]
    }
   ],
   "source": [
    "lst = ['Python','Arange','Zebra','monkey'] # 80\n",
    "\n",
    "print(lst.sort())\n",
    "print(lst)"
   ]
  },
  {
   "cell_type": "code",
   "execution_count": 41,
   "id": "23fc5577",
   "metadata": {},
   "outputs": [
    {
     "name": "stdout",
     "output_type": "stream",
     "text": [
      "None\n",
      "[10, 8, 7, 6, 4]\n"
     ]
    }
   ],
   "source": [
    "lst = [6,8,4,7,10]\n",
    "\n",
    "print(lst.sort(reverse= True))\n",
    "print(lst)"
   ]
  },
  {
   "cell_type": "markdown",
   "id": "0bbac9ac",
   "metadata": {},
   "source": [
    "# Clear"
   ]
  },
  {
   "cell_type": "code",
   "execution_count": 53,
   "id": "e5350582",
   "metadata": {},
   "outputs": [
    {
     "name": "stdout",
     "output_type": "stream",
     "text": [
      "None\n",
      "[]\n"
     ]
    }
   ],
   "source": [
    "a = [1,2,[3,4,5,6],4,5]\n",
    "\n",
    "print(a.clear())\n",
    "print(a)"
   ]
  },
  {
   "cell_type": "code",
   "execution_count": 52,
   "id": "e7dcb35f",
   "metadata": {},
   "outputs": [
    {
     "name": "stdout",
     "output_type": "stream",
     "text": [
      "[]\n"
     ]
    }
   ],
   "source": [
    "print(a)"
   ]
  },
  {
   "cell_type": "code",
   "execution_count": 58,
   "id": "d6d21308",
   "metadata": {},
   "outputs": [],
   "source": [
    "# Delete\n",
    "del a"
   ]
  },
  {
   "cell_type": "code",
   "execution_count": 59,
   "id": "7ebfe05b",
   "metadata": {},
   "outputs": [
    {
     "ename": "NameError",
     "evalue": "name 'a' is not defined",
     "output_type": "error",
     "traceback": [
      "\u001b[1;31m---------------------------------------------------------------------------\u001b[0m",
      "\u001b[1;31mNameError\u001b[0m                                 Traceback (most recent call last)",
      "Input \u001b[1;32mIn [59]\u001b[0m, in \u001b[0;36m<cell line: 1>\u001b[1;34m()\u001b[0m\n\u001b[1;32m----> 1\u001b[0m \u001b[38;5;28mprint\u001b[39m(\u001b[43ma\u001b[49m)\n",
      "\u001b[1;31mNameError\u001b[0m: name 'a' is not defined"
     ]
    }
   ],
   "source": [
    "print(a)"
   ]
  },
  {
   "cell_type": "markdown",
   "id": "57e15a5c",
   "metadata": {},
   "source": [
    "# Shallow copy and deep copy\n",
    "\n",
    "syntax\n",
    "\n",
    "# aliasing\n",
    "a = b\n",
    "\n",
    "# Shallow copy \n",
    "a = [1,2,3,4]\n",
    "b = a.copy()\n",
    "\n",
    "\n",
    "# Deep copy\n",
    "* from copy import deepcopy\n",
    "a = [1,2,3,4,5]\n",
    "b = deepcopy(a)"
   ]
  },
  {
   "cell_type": "code",
   "execution_count": 71,
   "id": "4c3a2c73",
   "metadata": {},
   "outputs": [
    {
     "name": "stdout",
     "output_type": "stream",
     "text": [
      "1852518133568\n",
      "1852517926976\n"
     ]
    }
   ],
   "source": [
    "a = [1,2,3,4,5,6]\n",
    "b = [1,2,3,4,5,6]\n",
    "\n",
    "print(id(a))\n",
    "print(id(b))\n",
    "\n",
    "# # b[0] = 100\n",
    "\n",
    "# print(id(a[0]))\n",
    "# print(id(b[0]))\n",
    "# print(a)\n",
    "# print(b)"
   ]
  },
  {
   "cell_type": "code",
   "execution_count": 70,
   "id": "40be6633",
   "metadata": {},
   "outputs": [
    {
     "name": "stdout",
     "output_type": "stream",
     "text": [
      "1852518208448\n",
      "1852518208448\n",
      "[100, 2, 3, 4, 5, 6]\n",
      "[100, 2, 3, 4, 5, 6]\n"
     ]
    }
   ],
   "source": [
    "# Alising - \n",
    "\n",
    "a = [1,2,3,4,5,6]\n",
    "b = a\n",
    "\n",
    "print(id(a))\n",
    "print(id(b))\n",
    "\n",
    "a[0] = 100\n",
    "\n",
    "print(a)\n",
    "print(b)"
   ]
  },
  {
   "cell_type": "code",
   "execution_count": 69,
   "id": "4aad8138",
   "metadata": {},
   "outputs": [
    {
     "name": "stdout",
     "output_type": "stream",
     "text": [
      "[1, 2, 3, 4, 5, 6]\n",
      "[1, 2, 3, 4, 5, 6]\n",
      "1852517966208\n",
      "1852518095552\n",
      "[1, 2, 3, 4, 5, 6]\n",
      "[100, 2, 3, 4, 5, 6]\n"
     ]
    }
   ],
   "source": [
    "# Shallow copy\n",
    "\n",
    "a = [1,2,3,4,5,6]\n",
    "b = a.copy()\n",
    "\n",
    "print(a)\n",
    "print(b)\n",
    "\n",
    "print(id(a))\n",
    "print(id(b))\n",
    "\n",
    "b[0] = 100\n",
    "\n",
    "print(a)\n",
    "print(b)"
   ]
  },
  {
   "cell_type": "code",
   "execution_count": 74,
   "id": "df7697a2",
   "metadata": {},
   "outputs": [
    {
     "name": "stdout",
     "output_type": "stream",
     "text": [
      "[1, 2, 3, 4, 5, 6]\n",
      "[1, 2, 3, 4, 5, 6]\n",
      "1852392434000\n",
      "1852392434000\n",
      "1852392433968\n",
      "1852392625616\n",
      "[1, 2, 3, 4, 5, 6]\n",
      "[100, 2, 3, 4, 5, 6]\n"
     ]
    }
   ],
   "source": [
    "# Shallow copy\n",
    "\n",
    "a = [1,2,3,4,5,6]\n",
    "b = a.copy()\n",
    "\n",
    "print(a)\n",
    "print(b)\n",
    "\n",
    "print(id(a[1]))\n",
    "print(id(b[1]))\n",
    "\n",
    "b[0] = 100\n",
    "\n",
    "\n",
    "print(id(a[0]))\n",
    "print(id(b[0]))\n",
    "print(a)\n",
    "print(b)"
   ]
  },
  {
   "cell_type": "code",
   "execution_count": 87,
   "id": "4d01895f",
   "metadata": {},
   "outputs": [
    {
     "name": "stdout",
     "output_type": "stream",
     "text": [
      "[1, 2, 3, 4, 5, 6, [7, 8, 9, 10]]\n",
      "[1, 2, 3, 4, 5, 6, [7, 8, 9, 10]]\n",
      "1852518104704\n",
      "1852518104704\n",
      "1852392433968\n",
      "1852392433968\n",
      "[1, 2, 3, 4, 5, 6, [7, 8, 100, 10]]\n",
      "[1, 2, 3, 4, 5, 6, [7, 8, 100, 10]]\n"
     ]
    }
   ],
   "source": [
    "# Failing point of shallow copy\n",
    "\n",
    "\n",
    "a = [1,2,3,4,5,6,[7,8,9,10]]\n",
    "b = a.copy()\n",
    "\n",
    "print(a)\n",
    "print(b)\n",
    "\n",
    "print(id(a[-1]))\n",
    "print(id(b[-1]))\n",
    "\n",
    "b[-1][-2] = 100\n",
    "\n",
    "\n",
    "print(id(a[0]))\n",
    "print(id(b[0]))\n",
    "print(a)\n",
    "print(b)"
   ]
  },
  {
   "cell_type": "code",
   "execution_count": 93,
   "id": "8b4c4b97",
   "metadata": {},
   "outputs": [
    {
     "name": "stdout",
     "output_type": "stream",
     "text": [
      "[1, 2, 3, 4, 5, 6, [7, 8, 9, 10]]\n",
      "[1, 2, 3, 4, 5, 6, [7, 8, 9, 10]]\n",
      "********\n",
      "1852392434192\n",
      "1852392434192\n",
      "********\n",
      "[1, 2, 3, 4, 5, 6, [7, 8, 9, 10]]\n",
      "[1, 2, 3, 4, 5, 6, [7, 8, 100, 10]]\n"
     ]
    }
   ],
   "source": [
    "# Deep copy\n",
    "\n",
    "from copy import deepcopy\n",
    "\n",
    "a = [1,2,3,4,5,6,[7,8,9,10]]\n",
    "b = deepcopy(a)\n",
    "\n",
    "print(a)\n",
    "print(b)\n",
    "print('********')\n",
    "\n",
    "\n",
    "print(id(a[-1][1]))\n",
    "print(id(b[-1][1]))\n",
    "\n",
    "b[-1][-2] = 100\n",
    "\n",
    "print('********')\n",
    "\n",
    "print(a)\n",
    "print(b)"
   ]
  },
  {
   "cell_type": "code",
   "execution_count": null,
   "id": "966ba0e0",
   "metadata": {},
   "outputs": [],
   "source": []
  },
  {
   "cell_type": "code",
   "execution_count": 104,
   "id": "1830e045",
   "metadata": {},
   "outputs": [
    {
     "name": "stdout",
     "output_type": "stream",
     "text": [
      "1852517926976\n",
      "1852517167552\n",
      "*******\n",
      "1852394755632\n",
      "1852394755632\n"
     ]
    }
   ],
   "source": [
    "a = ['a','b','c']\n",
    "b = ['a','b','c','a']\n",
    "print(id(a))\n",
    "print(id(b))\n",
    "\n",
    "print('*******')\n",
    "\n",
    "print(id(a[0]))\n",
    "print(id(b[-1]))\n",
    "\n"
   ]
  },
  {
   "cell_type": "code",
   "execution_count": 106,
   "id": "56f7ab32",
   "metadata": {},
   "outputs": [
    {
     "name": "stdout",
     "output_type": "stream",
     "text": [
      "['a', 'b', 'c']\n",
      "['a', 'b', 'c', 'd']\n",
      "*******\n",
      "1852394755632\n",
      "1852394315568\n"
     ]
    }
   ],
   "source": [
    "a = ['a','b','c']\n",
    "b = ['a','b','c','a']\n",
    "\n",
    "b[-1] = 'd'\n",
    "\n",
    "print(a)\n",
    "print(b)\n",
    "print('*******')\n",
    "\n",
    "print(id(a[0]))\n",
    "print(id(b[-1]))"
   ]
  },
  {
   "cell_type": "code",
   "execution_count": 108,
   "id": "da53e48b",
   "metadata": {},
   "outputs": [
    {
     "name": "stdout",
     "output_type": "stream",
     "text": [
      "1852518396736\n",
      "1852518396736\n",
      "['d', 'b', 'c', 'a']\n",
      "['d', 'b', 'c', 'a']\n"
     ]
    }
   ],
   "source": [
    "a = ['a','b','c','a']\n",
    "b = a\n",
    "\n",
    "print(id(a))\n",
    "print(id(b))\n",
    "\n",
    "b[0] = 'd'\n",
    "\n",
    "print(a)\n",
    "print(b)"
   ]
  },
  {
   "cell_type": "code",
   "execution_count": 111,
   "id": "a1e1f7bc",
   "metadata": {},
   "outputs": [
    {
     "name": "stdout",
     "output_type": "stream",
     "text": [
      "['a', 'b', 'c', 'a']\n",
      "['a', 'b', 'c', 'a']\n",
      "*********\n",
      "1852394755632\n",
      "1852394755632\n",
      "******\n",
      "1852518083328\n",
      "1852512910016\n",
      "['a', 'b', 'c', 'a']\n",
      "['hello', 'b', 'c', 'a']\n"
     ]
    }
   ],
   "source": [
    "a = ['a','b','c','a']\n",
    "b = a.copy()\n",
    "\n",
    "print(a)\n",
    "print(b)\n",
    "\n",
    "print('*********')\n",
    "print(id(a[0]))\n",
    "print(id(b[0]))\n",
    "\n",
    "print('******')\n",
    "\n",
    "print(id(a))\n",
    "print(id(b))\n",
    "\n",
    "b[0] = 'hello'\n",
    "\n",
    "\n",
    "print(a)\n",
    "print(b)"
   ]
  },
  {
   "cell_type": "code",
   "execution_count": 115,
   "id": "7bb0a09a",
   "metadata": {},
   "outputs": [
    {
     "name": "stdout",
     "output_type": "stream",
     "text": [
      "['a', 'b', 'c', 'a', ['hello', 'world']]\n",
      "['a', 'b', 'c', 'a', ['hello', 'world']]\n",
      "*************\n",
      "1852517960192\n",
      "1852518132224\n",
      "*************\n",
      "1852518066880\n",
      "1852518066880\n",
      "*****\n",
      "['a', 'b', 'c', 'a', ['hello', 'python']]\n",
      "['a', 'b', 'c', 'a', ['hello', 'python']]\n"
     ]
    }
   ],
   "source": [
    "a = ['a','b','c','a',['hello','world']]\n",
    "b = a.copy()\n",
    "\n",
    "print(a)\n",
    "print(b)\n",
    "\n",
    "print('*************')\n",
    "print(id(a))\n",
    "print(id(b))\n",
    "\n",
    "\n",
    "print('*************')\n",
    "print(id(a[-1]))\n",
    "print(id(b[-1]))\n",
    "\n",
    "b[-1][-1] = 'python'\n",
    "\n",
    "print('*****')\n",
    "\n",
    "print(a)\n",
    "print(b)\n",
    "\n",
    "\n"
   ]
  },
  {
   "cell_type": "code",
   "execution_count": 120,
   "id": "65976220",
   "metadata": {},
   "outputs": [
    {
     "name": "stdout",
     "output_type": "stream",
     "text": [
      "['a', 'b', 'c', 'a', ['hello', 'world']]\n",
      "['a', 'b', 'c', 'a', ['hello', 'world']]\n",
      "*************\n",
      "1852518133248\n",
      "1852479316672\n",
      "*************\n",
      "1852518120192\n",
      "1852518489344\n",
      "*****\n",
      "['a', 'b', 'c', 'a', ['hello', 'world']]\n",
      "['a', 'b', 'c', 'a', ['hello', 'python']]\n"
     ]
    }
   ],
   "source": [
    "from copy import deepcopy\n",
    "\n",
    "a = ['a','b','c','a',['hello','world']]\n",
    "b = deepcopy(a)\n",
    "\n",
    "print(a)\n",
    "print(b)\n",
    "\n",
    "print('*************')\n",
    "print(id(a))\n",
    "print(id(b))\n",
    "\n",
    "\n",
    "print('*************')\n",
    "print(id(a[-1]))\n",
    "print(id(b[-1]))\n",
    "\n",
    "b[-1][-1] = 'python'\n",
    "\n",
    "print('*****')\n",
    "\n",
    "print(a)\n",
    "print(b)"
   ]
  },
  {
   "cell_type": "code",
   "execution_count": 122,
   "id": "60a15a27",
   "metadata": {},
   "outputs": [
    {
     "name": "stdout",
     "output_type": "stream",
     "text": [
      "1852518370176\n",
      "1852518489344\n",
      "*******\n",
      "1852518112000\n",
      "1852518198656\n",
      "*******\n",
      "['a', 'b', 'c', 'a', ['hello', 'world']]\n",
      "['a', 'b', 'c', 'a', ['hello', 'python']]\n"
     ]
    }
   ],
   "source": [
    "a = ['a', 'b', 'c', 'a', ['hello', 'world']]\n",
    "b = ['a', 'b', 'c', 'a', ['hello', 'world']]\n",
    "\n",
    "print(id(a))\n",
    "print(id(b))\n",
    "print('*******')\n",
    "print(id(a[-1]))\n",
    "print(id(b[-1]))\n",
    "\n",
    "print('*******')\n",
    "\n",
    "b[-1][-1] = 'python'\n",
    "\n",
    "print(a)\n",
    "print(b)"
   ]
  },
  {
   "cell_type": "markdown",
   "id": "4cc00162",
   "metadata": {},
   "source": [
    "# For loop"
   ]
  },
  {
   "cell_type": "code",
   "execution_count": null,
   "id": "61c39a34",
   "metadata": {},
   "outputs": [],
   "source": [
    "Syntax - \n",
    "\n",
    "for var in iterable:\n",
    "    stat1\n",
    "    stat2\n",
    "    stat3"
   ]
  },
  {
   "cell_type": "code",
   "execution_count": null,
   "id": "68aeefa0",
   "metadata": {},
   "outputs": [],
   "source": [
    "# how to identify an iterable\n",
    "- len function should work\n",
    "- dir(object) ---> should have __iter__"
   ]
  },
  {
   "cell_type": "code",
   "execution_count": 124,
   "id": "66e6ce54",
   "metadata": {},
   "outputs": [
    {
     "name": "stdout",
     "output_type": "stream",
     "text": [
      "['__add__', '__class__', '__contains__', '__delattr__', '__dir__', '__doc__', '__eq__', '__format__', '__ge__', '__getattribute__', '__getitem__', '__getnewargs__', '__gt__', '__hash__', '__init__', '__init_subclass__', '__iter__', '__le__', '__len__', '__lt__', '__mod__', '__mul__', '__ne__', '__new__', '__reduce__', '__reduce_ex__', '__repr__', '__rmod__', '__rmul__', '__setattr__', '__sizeof__', '__str__', '__subclasshook__', 'capitalize', 'casefold', 'center', 'count', 'encode', 'endswith', 'expandtabs', 'find', 'format', 'format_map', 'index', 'isalnum', 'isalpha', 'isascii', 'isdecimal', 'isdigit', 'isidentifier', 'islower', 'isnumeric', 'isprintable', 'isspace', 'istitle', 'isupper', 'join', 'ljust', 'lower', 'lstrip', 'maketrans', 'partition', 'removeprefix', 'removesuffix', 'replace', 'rfind', 'rindex', 'rjust', 'rpartition', 'rsplit', 'rstrip', 'split', 'splitlines', 'startswith', 'strip', 'swapcase', 'title', 'translate', 'upper', 'zfill']\n"
     ]
    }
   ],
   "source": [
    "print(dir(str))"
   ]
  },
  {
   "cell_type": "code",
   "execution_count": 131,
   "id": "5be8964b",
   "metadata": {},
   "outputs": [
    {
     "name": "stdout",
     "output_type": "stream",
     "text": [
      "hello\n",
      "p\n",
      "*****\n",
      "hello\n",
      "y\n",
      "*****\n",
      "hello\n",
      "t\n",
      "*****\n",
      "hello\n",
      "h\n",
      "*****\n",
      "hello\n",
      "o\n",
      "*****\n",
      "hello\n",
      "n\n",
      "*****\n"
     ]
    }
   ],
   "source": [
    "a = 'python'\n",
    "\n",
    "for i in a:\n",
    "    print('hello')\n",
    "    print(i)\n",
    "    print('*****')"
   ]
  },
  {
   "cell_type": "code",
   "execution_count": 130,
   "id": "8da410c3",
   "metadata": {},
   "outputs": [
    {
     "ename": "SyntaxError",
     "evalue": "invalid syntax (407073367.py, line 1)",
     "output_type": "error",
     "traceback": [
      "\u001b[1;36m  Input \u001b[1;32mIn [130]\u001b[1;36m\u001b[0m\n\u001b[1;33m    for the 1st time\u001b[0m\n\u001b[1;37m            ^\u001b[0m\n\u001b[1;31mSyntaxError\u001b[0m\u001b[1;31m:\u001b[0m invalid syntax\n"
     ]
    }
   ],
   "source": [
    "for the 1st time \n",
    "hello\n",
    "p\n",
    "\n",
    "2. \n",
    "hello\n",
    "y\n",
    "\n",
    "3.\n",
    "hello\n",
    "t\n"
   ]
  },
  {
   "cell_type": "code",
   "execution_count": 132,
   "id": "159625c0",
   "metadata": {},
   "outputs": [
    {
     "name": "stdout",
     "output_type": "stream",
     "text": [
      "hello\n",
      "python\n",
      "*****\n",
      "hello\n",
      "learnbay\n",
      "*****\n"
     ]
    }
   ],
   "source": [
    "a = ['python','learnbay']\n",
    "\n",
    "for i in a:\n",
    "    print('hello')\n",
    "    print(i)\n",
    "    print('*****')"
   ]
  },
  {
   "cell_type": "code",
   "execution_count": null,
   "id": "334bcc5d",
   "metadata": {},
   "outputs": [],
   "source": [
    "# Write a python pogram using for loop\n",
    "\n",
    "# 2 * 1 = 2\n",
    "# 2 * 2 = 4\n",
    ".\n",
    ".\n",
    "# 2 * 10 = 20"
   ]
  },
  {
   "cell_type": "code",
   "execution_count": null,
   "id": "b3e4b7eb",
   "metadata": {},
   "outputs": [],
   "source": []
  },
  {
   "cell_type": "code",
   "execution_count": null,
   "id": "99423ca5",
   "metadata": {},
   "outputs": [],
   "source": []
  },
  {
   "cell_type": "code",
   "execution_count": null,
   "id": "71e682dd",
   "metadata": {},
   "outputs": [],
   "source": []
  },
  {
   "cell_type": "code",
   "execution_count": null,
   "id": "ffa26624",
   "metadata": {},
   "outputs": [],
   "source": []
  }
 ],
 "metadata": {
  "kernelspec": {
   "display_name": "Python 3 (ipykernel)",
   "language": "python",
   "name": "python3"
  },
  "language_info": {
   "codemirror_mode": {
    "name": "ipython",
    "version": 3
   },
   "file_extension": ".py",
   "mimetype": "text/x-python",
   "name": "python",
   "nbconvert_exporter": "python",
   "pygments_lexer": "ipython3",
   "version": "3.9.12"
  }
 },
 "nbformat": 4,
 "nbformat_minor": 5
}
