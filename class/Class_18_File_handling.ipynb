{
 "cells": [
  {
   "cell_type": "code",
   "execution_count": 1,
   "id": "2722f894",
   "metadata": {},
   "outputs": [],
   "source": [
    "import module_1 as mod"
   ]
  },
  {
   "cell_type": "code",
   "execution_count": 2,
   "id": "7c52e638",
   "metadata": {},
   "outputs": [
    {
     "name": "stdout",
     "output_type": "stream",
     "text": [
      "['__builtins__', '__cached__', '__doc__', '__file__', '__loader__', '__name__', '__package__', '__spec__', 'odd_even', 'palindrome']\n"
     ]
    }
   ],
   "source": [
    "print(dir(mod))"
   ]
  },
  {
   "cell_type": "code",
   "execution_count": 4,
   "id": "5051c06d",
   "metadata": {},
   "outputs": [
    {
     "name": "stdout",
     "output_type": "stream",
     "text": [
      "Even\n"
     ]
    }
   ],
   "source": [
    "a = 10\n",
    "mod.odd_even(a)"
   ]
  },
  {
   "cell_type": "code",
   "execution_count": 5,
   "id": "4c38f9b2",
   "metadata": {},
   "outputs": [
    {
     "name": "stdout",
     "output_type": "stream",
     "text": [
      "yes\n"
     ]
    }
   ],
   "source": [
    "a = 'level'\n",
    "mod.palindrome(a)"
   ]
  },
  {
   "cell_type": "code",
   "execution_count": 1,
   "id": "c62e06b2",
   "metadata": {},
   "outputs": [
    {
     "ename": "SyntaxError",
     "evalue": "unexpected EOF while parsing (module_1.py, line 19)",
     "output_type": "error",
     "traceback": [
      "Traceback \u001b[1;36m(most recent call last)\u001b[0m:\n",
      "  File \u001b[0;32m~\\anaconda3\\lib\\site-packages\\IPython\\core\\interactiveshell.py:3369\u001b[0m in \u001b[0;35mrun_code\u001b[0m\n    exec(code_obj, self.user_global_ns, self.user_ns)\n",
      "\u001b[1;36m  Input \u001b[1;32mIn [1]\u001b[1;36m in \u001b[1;35m<cell line: 1>\u001b[1;36m\u001b[0m\n\u001b[1;33m    import module_1 as mod\u001b[0m\n",
      "\u001b[1;36m  File \u001b[1;32m~\\Desktop\\ongoing classes\\Jul_11_python\\module_1.py:19\u001b[1;36m\u001b[0m\n\u001b[1;33m    \u001b[0m\n\u001b[1;37m    ^\u001b[0m\n\u001b[1;31mSyntaxError\u001b[0m\u001b[1;31m:\u001b[0m unexpected EOF while parsing\n"
     ]
    }
   ],
   "source": [
    "import module_1 as mod"
   ]
  },
  {
   "cell_type": "code",
   "execution_count": 2,
   "id": "3f713ca2",
   "metadata": {},
   "outputs": [],
   "source": [
    "import sys"
   ]
  },
  {
   "cell_type": "code",
   "execution_count": 4,
   "id": "2988b71d",
   "metadata": {},
   "outputs": [
    {
     "name": "stdout",
     "output_type": "stream",
     "text": [
      "['C:\\\\Users\\\\MIT\\\\Desktop\\\\ongoing classes\\\\Jul_11_python', 'C:\\\\Users\\\\MIT\\\\anaconda3\\\\python39.zip', 'C:\\\\Users\\\\MIT\\\\anaconda3\\\\DLLs', 'C:\\\\Users\\\\MIT\\\\anaconda3\\\\lib', 'C:\\\\Users\\\\MIT\\\\anaconda3', '', 'C:\\\\Users\\\\MIT\\\\anaconda3\\\\lib\\\\site-packages', 'C:\\\\Users\\\\MIT\\\\anaconda3\\\\lib\\\\site-packages\\\\win32', 'C:\\\\Users\\\\MIT\\\\anaconda3\\\\lib\\\\site-packages\\\\win32\\\\lib', 'C:\\\\Users\\\\MIT\\\\anaconda3\\\\lib\\\\site-packages\\\\Pythonwin']\n"
     ]
    }
   ],
   "source": [
    "print(sys.path)"
   ]
  },
  {
   "cell_type": "code",
   "execution_count": null,
   "id": "6d72d51a",
   "metadata": {},
   "outputs": [],
   "source": [
    "    \n",
    "if __name__ == '__main__':\n",
    "    print('test results')\n",
    "    print(odd_even(10)) # EVEn\n",
    "    print(palindrome('level')) # Yes\n",
    "else:\n",
    "    print('code ran successfully')\n",
    "    "
   ]
  },
  {
   "cell_type": "markdown",
   "id": "7c0cbd43",
   "metadata": {},
   "source": [
    "# File handling"
   ]
  },
  {
   "cell_type": "code",
   "execution_count": null,
   "id": "c7ae8e4e",
   "metadata": {},
   "outputs": [],
   "source": [
    "# text - txt, pdf , notepad\n",
    "# binary - images , videos, audio."
   ]
  },
  {
   "cell_type": "code",
   "execution_count": null,
   "id": "955a50cc",
   "metadata": {},
   "outputs": [],
   "source": [
    "# Points to keep in mind\n",
    "\n",
    "1. to read a file using file handling we have to open \n",
    "syntax - var = open('file_name.ext' , 'mode')\n",
    "\n",
    "2. we have to close the file only then the changes will be saved.\n",
    "syntax - var.close()\n",
    "\n",
    "3. Data read from the file will always be an str\n",
    "\n"
   ]
  },
  {
   "cell_type": "code",
   "execution_count": null,
   "id": "172a223d",
   "metadata": {},
   "outputs": [],
   "source": [
    "4. modes of operations - text file\n",
    "\n",
    "\n",
    "* read mode - 'r'\n",
    "* write mode - 'w'\n",
    "* append mode - 'a'\n",
    "* read and write mode - 'r+'\n",
    "* write and read mode - 'w+'\n",
    "* append and read mode - 'a+'"
   ]
  },
  {
   "cell_type": "code",
   "execution_count": null,
   "id": "c57020ae",
   "metadata": {},
   "outputs": [],
   "source": [
    "5. modes of operations - binary files\n",
    "\n",
    "\n",
    "* read mode - 'rb'\n",
    "* write mode - 'wb'\n",
    "* append mode - 'ab'\n",
    "* read and write mode - 'r+b'\n",
    "* write and read mode - 'w+b'\n",
    "* append and read mode - 'a+b'"
   ]
  },
  {
   "cell_type": "code",
   "execution_count": null,
   "id": "3c85b9f6",
   "metadata": {},
   "outputs": [],
   "source": [
    "* .seek() --> moves the cursor to a specific index location\n",
    "* .tell() ---> tells us the position of the cursor\n",
    "* .read() ---> reads the content of the file\n",
    "* .write() ---> write the content on the file"
   ]
  },
  {
   "cell_type": "markdown",
   "id": "e0acc732",
   "metadata": {},
   "source": [
    "# 1. read mode - 'r'\n",
    "\n",
    "* If the file exist only then it will open the file, \n",
    "* if it doen not exist it'll through an error : FileNotFound\n",
    "* If the file exist only then it will open the file, and places the cursor at the begining of the file\n",
    "* You are only allowed to read from it, you cannot write in the file"
   ]
  },
  {
   "cell_type": "code",
   "execution_count": 7,
   "id": "fcfc3b60",
   "metadata": {},
   "outputs": [
    {
     "name": "stdout",
     "output_type": "stream",
     "text": [
      " Volume in drive C has no label.\n",
      " Volume Serial Number is 185C-C476\n",
      "\n",
      " Directory of C:\\Users\\MIT\\Desktop\\ongoing classes\\Jul_11_python\n",
      "\n",
      "08-08-2022  21:07    <DIR>          .\n",
      "08-08-2022  21:07    <DIR>          ..\n",
      "08-08-2022  19:55    <DIR>          .ipynb_checkpoints\n",
      "08-08-2022  20:41    <DIR>          __pycache__\n",
      "12-07-2022  19:58             6,996 Class_1.ipynb\n",
      "12-07-2022  21:53             3,597 Class_1_repeat.ipynb\n",
      "26-07-2022  22:04            20,339 Class_10_List_part_3_list_comprehension.ipynb\n",
      "28-07-2022  20:07            21,443 Class_11_For_loop_List_comprehension.ipynb\n",
      "29-07-2022  19:49            35,108 Class_12_Dic.ipynb\n",
      "02-08-2022  20:12            60,755 Class_13_Dict_part_2.ipynb\n",
      "03-08-2022  20:11        16,457,519 Class_14_Conditional_statements_part_2.ipynb\n",
      "03-08-2022  22:06            26,720 Class_15_Loops.ipynb\n",
      "08-08-2022  20:23            17,717 Class_16_Funtions_part_2.ipynb\n",
      "08-08-2022  19:46            37,704 Class_17_Map_reduce_filter.ipynb\n",
      "08-08-2022  21:07             7,617 Class_18_File_handling.ipynb\n",
      "13-07-2022  22:06            20,920 Class_2_datatypes_variables.ipynb\n",
      "15-07-2022  20:21            18,540 Class_3_comments_int.ipynb\n",
      "15-07-2022  22:08            17,194 Class_4_bitwise_memory.ipynb\n",
      "18-07-2022  22:21            25,676 Class_5_float_complex_None.ipynb\n",
      "19-07-2022  22:11             9,565 Class_6_string_part_1.ipynb\n",
      "20-07-2022  22:22            19,123 Class_7_Strings_part_2.ipynb\n",
      "22-07-2022  21:42            21,084 Class_8_String_part_3_list_part_1.ipynb\n",
      "22-07-2022  22:08            20,664 Class_9_List_part_2.ipynb\n",
      "28-07-2022  20:42    <DIR>          datasets\n",
      "08-08-2022  20:46               485 module_1.py\n",
      "05-08-2022  21:59               207 my_module.py\n",
      "12-07-2022  21:56                45 test.py\n",
      "              22 File(s)     16,849,018 bytes\n",
      "               5 Dir(s)  402,406,465,536 bytes free\n"
     ]
    }
   ],
   "source": [
    "ls"
   ]
  },
  {
   "cell_type": "code",
   "execution_count": 8,
   "id": "c818a017",
   "metadata": {},
   "outputs": [
    {
     "ename": "FileNotFoundError",
     "evalue": "[Errno 2] No such file or directory: 'read_mode.txt'",
     "output_type": "error",
     "traceback": [
      "\u001b[1;31m---------------------------------------------------------------------------\u001b[0m",
      "\u001b[1;31mFileNotFoundError\u001b[0m                         Traceback (most recent call last)",
      "Input \u001b[1;32mIn [8]\u001b[0m, in \u001b[0;36m<cell line: 1>\u001b[1;34m()\u001b[0m\n\u001b[1;32m----> 1\u001b[0m f \u001b[38;5;241m=\u001b[39m \u001b[38;5;28;43mopen\u001b[39;49m\u001b[43m(\u001b[49m\u001b[38;5;124;43m'\u001b[39;49m\u001b[38;5;124;43mread_mode.txt\u001b[39;49m\u001b[38;5;124;43m'\u001b[39;49m\u001b[43m \u001b[49m\u001b[43m,\u001b[49m\u001b[43m \u001b[49m\u001b[38;5;124;43m'\u001b[39;49m\u001b[38;5;124;43mr\u001b[39;49m\u001b[38;5;124;43m'\u001b[39;49m\u001b[43m)\u001b[49m\n",
      "\u001b[1;31mFileNotFoundError\u001b[0m: [Errno 2] No such file or directory: 'read_mode.txt'"
     ]
    }
   ],
   "source": [
    "f = open('read_mode.txt' , 'r')"
   ]
  },
  {
   "cell_type": "code",
   "execution_count": 14,
   "id": "3e7dc766",
   "metadata": {},
   "outputs": [
    {
     "name": "stdout",
     "output_type": "stream",
     "text": [
      "0\n",
      "hello world\n",
      "ioiy\n",
      "kyhku\n",
      "22\n",
      "6\n",
      "world\n",
      "ioiy\n",
      "kyhku\n"
     ]
    }
   ],
   "source": [
    "f = open('read_mode.txt' , 'r')\n",
    "\n",
    "print(f.tell())\n",
    "print(f.read())\n",
    "print(f.tell())\n",
    "print(f.seek(6))\n",
    "print(f.read())"
   ]
  },
  {
   "cell_type": "code",
   "execution_count": 18,
   "id": "9a2fcfb1",
   "metadata": {},
   "outputs": [],
   "source": [
    "f = open('read_mode.txt' , 'r')\n",
    "\n",
    "data = f.read()"
   ]
  },
  {
   "cell_type": "code",
   "execution_count": 19,
   "id": "065841da",
   "metadata": {},
   "outputs": [
    {
     "name": "stdout",
     "output_type": "stream",
     "text": [
      "<class 'str'>\n"
     ]
    }
   ],
   "source": [
    "print(type(data))"
   ]
  },
  {
   "cell_type": "code",
   "execution_count": 21,
   "id": "15ed4175",
   "metadata": {},
   "outputs": [
    {
     "name": "stdout",
     "output_type": "stream",
     "text": [
      "0\n",
      "10123213123\n",
      "232432423\n",
      "32432432423\n",
      "324234234\n",
      "4324234423\n",
      "54\n",
      "6\n"
     ]
    },
    {
     "ename": "UnsupportedOperation",
     "evalue": "not writable",
     "output_type": "error",
     "traceback": [
      "\u001b[1;31m---------------------------------------------------------------------------\u001b[0m",
      "\u001b[1;31mUnsupportedOperation\u001b[0m                      Traceback (most recent call last)",
      "Input \u001b[1;32mIn [21]\u001b[0m, in \u001b[0;36m<cell line: 7>\u001b[1;34m()\u001b[0m\n\u001b[0;32m      5\u001b[0m \u001b[38;5;28mprint\u001b[39m(f\u001b[38;5;241m.\u001b[39mtell())\n\u001b[0;32m      6\u001b[0m \u001b[38;5;28mprint\u001b[39m(f\u001b[38;5;241m.\u001b[39mseek(\u001b[38;5;241m6\u001b[39m))\n\u001b[1;32m----> 7\u001b[0m \u001b[38;5;28mprint\u001b[39m(\u001b[43mf\u001b[49m\u001b[38;5;241;43m.\u001b[39;49m\u001b[43mwrite\u001b[49m\u001b[43m(\u001b[49m\u001b[38;5;124;43m'\u001b[39;49m\u001b[38;5;124;43mand\u001b[39;49m\u001b[38;5;124;43m'\u001b[39;49m\u001b[43m)\u001b[49m)\n",
      "\u001b[1;31mUnsupportedOperation\u001b[0m: not writable"
     ]
    }
   ],
   "source": [
    "f = open('read_mode.txt' , 'r')\n",
    "\n",
    "print(f.tell())\n",
    "print(f.read())\n",
    "print(f.tell())\n",
    "print(f.seek(6))\n",
    "print(f.write('and'))"
   ]
  },
  {
   "cell_type": "markdown",
   "id": "659c4db9",
   "metadata": {},
   "source": [
    "# Write mode - 'w'\n",
    "\n",
    "* if the file exists then it will open the file and deletes all the contents from the file\n",
    "* If the file does not exist it will create a file by its own by the give ext\n",
    "* you are only allowed to write in the file but not allowed to read from it."
   ]
  },
  {
   "cell_type": "code",
   "execution_count": 22,
   "id": "48c9b87e",
   "metadata": {},
   "outputs": [],
   "source": [
    "# if the file does not exist\n",
    "\n",
    "f = open('write_mode.txt', 'w')\n"
   ]
  },
  {
   "cell_type": "code",
   "execution_count": 27,
   "id": "3c98100b",
   "metadata": {},
   "outputs": [
    {
     "name": "stdout",
     "output_type": "stream",
     "text": [
      "0\n",
      "12\n",
      "0\n"
     ]
    },
    {
     "ename": "UnsupportedOperation",
     "evalue": "not readable",
     "output_type": "error",
     "traceback": [
      "\u001b[1;31m---------------------------------------------------------------------------\u001b[0m",
      "\u001b[1;31mUnsupportedOperation\u001b[0m                      Traceback (most recent call last)",
      "Input \u001b[1;32mIn [27]\u001b[0m, in \u001b[0;36m<cell line: 7>\u001b[1;34m()\u001b[0m\n\u001b[0;32m      5\u001b[0m \u001b[38;5;28mprint\u001b[39m(f\u001b[38;5;241m.\u001b[39mwrite(\u001b[38;5;124m'\u001b[39m\u001b[38;5;124mhey learnbay\u001b[39m\u001b[38;5;124m'\u001b[39m))\n\u001b[0;32m      6\u001b[0m \u001b[38;5;28mprint\u001b[39m(f\u001b[38;5;241m.\u001b[39mseek(\u001b[38;5;241m0\u001b[39m))\n\u001b[1;32m----> 7\u001b[0m \u001b[38;5;28mprint\u001b[39m(\u001b[43mf\u001b[49m\u001b[38;5;241;43m.\u001b[39;49m\u001b[43mread\u001b[49m\u001b[43m(\u001b[49m\u001b[43m)\u001b[49m)\n",
      "\u001b[1;31mUnsupportedOperation\u001b[0m: not readable"
     ]
    }
   ],
   "source": [
    "# if the exists \n",
    "\n",
    "f = open('write_mode.txt', 'w')\n",
    "print(f.tell())\n",
    "print(f.write('hey learnbay'))\n",
    "print(f.seek(0))\n",
    "print(f.read())"
   ]
  },
  {
   "cell_type": "markdown",
   "id": "889a24bc",
   "metadata": {},
   "source": [
    "# append mode ---> 'a'\n",
    "\n",
    "* If the file exists then it will openthe file in write mode and places the cursor at the end of the file\n",
    "* If the file does not exists the it will create a new file\n",
    "* you are allowed only to write into the file but not allowed to read from it\n",
    "* append will always write the contend at the end of the file \n",
    "* even if you seek() it will only write at the end of the file"
   ]
  },
  {
   "cell_type": "code",
   "execution_count": 28,
   "id": "687f6359",
   "metadata": {},
   "outputs": [],
   "source": [
    "# If the file does not exist\n",
    "f = open('append_mode.txt' , 'a')"
   ]
  },
  {
   "cell_type": "code",
   "execution_count": 33,
   "id": "2daf9277",
   "metadata": {},
   "outputs": [
    {
     "name": "stdout",
     "output_type": "stream",
     "text": [
      "75\n",
      "8\n",
      "0\n",
      "10\n"
     ]
    }
   ],
   "source": [
    "# If the file exist it'll open the file and place the cursor at the end\n",
    "f = open('append_mode.txt' , 'a')\n",
    "print(f.tell())\n",
    "print(f.write('new_data'))\n",
    "print(f.seek(0))\n",
    "print(f.write('new_data_1'))"
   ]
  },
  {
   "cell_type": "code",
   "execution_count": 3,
   "id": "6a1b478c",
   "metadata": {},
   "outputs": [
    {
     "name": "stdout",
     "output_type": "stream",
     "text": [
      "0\n",
      "3\n",
      "0\n",
      "3\n"
     ]
    }
   ],
   "source": [
    "# If the file exist it'll open the file and place the cursor at the end\n",
    "\n",
    "f = open('append_mode.txt' , 'a')\n",
    "print(f.tell())\n",
    "print(f.write('123'))\n",
    "print(f.seek(0))\n",
    "print(f.write('abc'))\n",
    "f.close()"
   ]
  },
  {
   "cell_type": "markdown",
   "id": "9e028871",
   "metadata": {},
   "source": [
    "# Write and read mode - 'w+'\n",
    "\n",
    "* if the file exists then it will open the file in write mode and deletes the content\n",
    "* if the file does not exist it'll create a new file\n",
    "* you are to write and read from the file"
   ]
  },
  {
   "cell_type": "code",
   "execution_count": 4,
   "id": "5d87a67c",
   "metadata": {},
   "outputs": [
    {
     "name": "stdout",
     "output_type": "stream",
     "text": [
      "0\n"
     ]
    }
   ],
   "source": [
    "# If the file does not exist\n",
    "f = open('write_read_mode.txt' , 'w+')\n",
    "print(f.tell())\n"
   ]
  },
  {
   "cell_type": "code",
   "execution_count": 6,
   "id": "2306ac56",
   "metadata": {},
   "outputs": [
    {
     "name": "stdout",
     "output_type": "stream",
     "text": [
      "0\n",
      "5\n"
     ]
    }
   ],
   "source": [
    "# If the file  exist\n",
    "f = open('write_read_mode.txt' , 'w+')\n",
    "print(f.tell())\n",
    "print(f.write('paris'))\n",
    "f.close()\n",
    "\n"
   ]
  },
  {
   "cell_type": "code",
   "execution_count": 7,
   "id": "f948ee2b",
   "metadata": {},
   "outputs": [
    {
     "name": "stdout",
     "output_type": "stream",
     "text": [
      "0\n",
      "5\n",
      "0\n",
      "paris\n"
     ]
    }
   ],
   "source": [
    "# If the file  exist\n",
    "\n",
    "f = open('write_read_mode.txt' , 'w+')\n",
    "print(f.tell())\n",
    "print(f.write('paris'))\n",
    "print(f.seek(0))\n",
    "print(f.read())\n",
    "f.close()\n",
    "\n"
   ]
  },
  {
   "cell_type": "markdown",
   "id": "ef708c6a",
   "metadata": {},
   "source": [
    "# read and write - 'r+'\n",
    "\n",
    "* if the file exists then it will open the file in read mode and places the cusor at the begining\n",
    "* if the file does not exist it will throw an error\n",
    "* you are to write and read from the file"
   ]
  },
  {
   "cell_type": "markdown",
   "id": "599e2d1e",
   "metadata": {},
   "source": [
    "# Continue"
   ]
  },
  {
   "cell_type": "code",
   "execution_count": null,
   "id": "adce03cd",
   "metadata": {},
   "outputs": [],
   "source": []
  },
  {
   "cell_type": "code",
   "execution_count": null,
   "id": "267f2aa2",
   "metadata": {},
   "outputs": [],
   "source": []
  }
 ],
 "metadata": {
  "kernelspec": {
   "display_name": "Python 3 (ipykernel)",
   "language": "python",
   "name": "python3"
  },
  "language_info": {
   "codemirror_mode": {
    "name": "ipython",
    "version": 3
   },
   "file_extension": ".py",
   "mimetype": "text/x-python",
   "name": "python",
   "nbconvert_exporter": "python",
   "pygments_lexer": "ipython3",
   "version": "3.9.12"
  }
 },
 "nbformat": 4,
 "nbformat_minor": 5
}
