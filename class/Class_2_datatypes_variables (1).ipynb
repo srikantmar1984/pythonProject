{
 "cells": [
  {
   "cell_type": "markdown",
   "id": "d6195adb",
   "metadata": {},
   "source": [
    "# Indentifiers "
   ]
  },
  {
   "cell_type": "code",
   "execution_count": null,
   "id": "560e3a74",
   "metadata": {},
   "outputs": [],
   "source": [
    "a = 10\n",
    "b = 20\n"
   ]
  },
  {
   "cell_type": "code",
   "execution_count": null,
   "id": "a5df886f",
   "metadata": {},
   "outputs": [],
   "source": [
    "a ----> variable\n",
    "= ----> operator\n",
    "10 ---> literal, value, datatype"
   ]
  },
  {
   "cell_type": "markdown",
   "id": "3482135a",
   "metadata": {},
   "source": [
    "# rules\n",
    "1. allowed character are from a-z,A-Z,0-9,_\n",
    "2. not allowed char are speacial char\n",
    "3. you cannot start with a number\n",
    "4. You cannot use reseved words \n",
    "5. Its case sensitive"
   ]
  },
  {
   "cell_type": "code",
   "execution_count": 1,
   "id": "eb6fe947",
   "metadata": {},
   "outputs": [
    {
     "name": "stdout",
     "output_type": "stream",
     "text": [
      "10\n"
     ]
    }
   ],
   "source": [
    "python_123243 = 10\n",
    "print(python_123243)"
   ]
  },
  {
   "cell_type": "code",
   "execution_count": 3,
   "id": "2666699d",
   "metadata": {},
   "outputs": [
    {
     "name": "stdout",
     "output_type": "stream",
     "text": [
      "10\n"
     ]
    }
   ],
   "source": [
    "PyThOn_123 = 10\n",
    "print(PyThOn_123)"
   ]
  },
  {
   "cell_type": "code",
   "execution_count": 4,
   "id": "02512e15",
   "metadata": {},
   "outputs": [
    {
     "ename": "SyntaxError",
     "evalue": "invalid decimal literal (4066016766.py, line 1)",
     "output_type": "error",
     "traceback": [
      "\u001b[1;36m  Input \u001b[1;32mIn [4]\u001b[1;36m\u001b[0m\n\u001b[1;33m    123_pthon = 20\u001b[0m\n\u001b[1;37m       ^\u001b[0m\n\u001b[1;31mSyntaxError\u001b[0m\u001b[1;31m:\u001b[0m invalid decimal literal\n"
     ]
    }
   ],
   "source": [
    "123_pthon = 20\n",
    "print(123_pthon)"
   ]
  },
  {
   "cell_type": "code",
   "execution_count": 5,
   "id": "de84fb59",
   "metadata": {},
   "outputs": [
    {
     "ename": "SyntaxError",
     "evalue": "cannot assign to True (1888372918.py, line 1)",
     "output_type": "error",
     "traceback": [
      "\u001b[1;36m  Input \u001b[1;32mIn [5]\u001b[1;36m\u001b[0m\n\u001b[1;33m    True = 20\u001b[0m\n\u001b[1;37m    ^\u001b[0m\n\u001b[1;31mSyntaxError\u001b[0m\u001b[1;31m:\u001b[0m cannot assign to True\n"
     ]
    }
   ],
   "source": [
    "True = 20\n",
    "print(True)"
   ]
  },
  {
   "cell_type": "code",
   "execution_count": 6,
   "id": "db40448d",
   "metadata": {},
   "outputs": [
    {
     "name": "stdout",
     "output_type": "stream",
     "text": [
      "['False', 'None', 'True', '__peg_parser__', 'and', 'as', 'assert', 'async', 'await', 'break', 'class', 'continue', 'def', 'del', 'elif', 'else', 'except', 'finally', 'for', 'from', 'global', 'if', 'import', 'in', 'is', 'lambda', 'nonlocal', 'not', 'or', 'pass', 'raise', 'return', 'try', 'while', 'with', 'yield']\n"
     ]
    }
   ],
   "source": [
    "import keyword\n",
    "print(keyword.kwlist)"
   ]
  },
  {
   "cell_type": "code",
   "execution_count": 7,
   "id": "761a78eb",
   "metadata": {},
   "outputs": [
    {
     "ename": "SyntaxError",
     "evalue": "invalid syntax (401842247.py, line 1)",
     "output_type": "error",
     "traceback": [
      "\u001b[1;36m  Input \u001b[1;32mIn [7]\u001b[1;36m\u001b[0m\n\u001b[1;33m    class = 20\u001b[0m\n\u001b[1;37m          ^\u001b[0m\n\u001b[1;31mSyntaxError\u001b[0m\u001b[1;31m:\u001b[0m invalid syntax\n"
     ]
    }
   ],
   "source": [
    "class = 20"
   ]
  },
  {
   "cell_type": "code",
   "execution_count": 9,
   "id": "aea1abc3",
   "metadata": {},
   "outputs": [
    {
     "name": "stdout",
     "output_type": "stream",
     "text": [
      "['ArithmeticError', 'AssertionError', 'AttributeError', 'BaseException', 'BlockingIOError', 'BrokenPipeError', 'BufferError', 'BytesWarning', 'ChildProcessError', 'ConnectionAbortedError', 'ConnectionError', 'ConnectionRefusedError', 'ConnectionResetError', 'DeprecationWarning', 'EOFError', 'Ellipsis', 'EnvironmentError', 'Exception', 'False', 'FileExistsError', 'FileNotFoundError', 'FloatingPointError', 'FutureWarning', 'GeneratorExit', 'IOError', 'ImportError', 'ImportWarning', 'IndentationError', 'IndexError', 'InterruptedError', 'IsADirectoryError', 'KeyError', 'KeyboardInterrupt', 'LookupError', 'MemoryError', 'ModuleNotFoundError', 'NameError', 'None', 'NotADirectoryError', 'NotImplemented', 'NotImplementedError', 'OSError', 'OverflowError', 'PendingDeprecationWarning', 'PermissionError', 'ProcessLookupError', 'RecursionError', 'ReferenceError', 'ResourceWarning', 'RuntimeError', 'RuntimeWarning', 'StopAsyncIteration', 'StopIteration', 'SyntaxError', 'SyntaxWarning', 'SystemError', 'SystemExit', 'TabError', 'TimeoutError', 'True', 'TypeError', 'UnboundLocalError', 'UnicodeDecodeError', 'UnicodeEncodeError', 'UnicodeError', 'UnicodeTranslateError', 'UnicodeWarning', 'UserWarning', 'ValueError', 'Warning', 'WindowsError', 'ZeroDivisionError', '__IPYTHON__', '__build_class__', '__debug__', '__doc__', '__import__', '__loader__', '__name__', '__package__', '__spec__', 'abs', 'all', 'any', 'ascii', 'bin', 'bool', 'breakpoint', 'bytearray', 'bytes', 'callable', 'chr', 'classmethod', 'compile', 'complex', 'copyright', 'credits', 'delattr', 'dict', 'dir', 'display', 'divmod', 'enumerate', 'eval', 'exec', 'execfile', 'filter', 'float', 'format', 'frozenset', 'get_ipython', 'getattr', 'globals', 'hasattr', 'hash', 'help', 'hex', 'id', 'input', 'int', 'isinstance', 'issubclass', 'iter', 'len', 'license', 'list', 'locals', 'map', 'max', 'memoryview', 'min', 'next', 'object', 'oct', 'open', 'ord', 'pow', 'print', 'property', 'range', 'repr', 'reversed', 'round', 'runfile', 'set', 'setattr', 'slice', 'sorted', 'staticmethod', 'str', 'sum', 'super', 'tuple', 'type', 'vars', 'zip']\n"
     ]
    }
   ],
   "source": [
    "print(dir(__builtins__))"
   ]
  },
  {
   "cell_type": "code",
   "execution_count": 10,
   "id": "2b31f5dc",
   "metadata": {},
   "outputs": [
    {
     "name": "stdout",
     "output_type": "stream",
     "text": [
      "10\n"
     ]
    }
   ],
   "source": [
    "print(10)"
   ]
  },
  {
   "cell_type": "code",
   "execution_count": 5,
   "id": "1b0fac06",
   "metadata": {},
   "outputs": [],
   "source": [
    "print = 20"
   ]
  },
  {
   "cell_type": "code",
   "execution_count": 6,
   "id": "2b1dbe15",
   "metadata": {},
   "outputs": [
    {
     "data": {
      "text/plain": [
       "20"
      ]
     },
     "execution_count": 6,
     "metadata": {},
     "output_type": "execute_result"
    }
   ],
   "source": [
    "print"
   ]
  },
  {
   "cell_type": "code",
   "execution_count": 1,
   "id": "4185e1ca",
   "metadata": {},
   "outputs": [
    {
     "name": "stdout",
     "output_type": "stream",
     "text": [
      "10\n"
     ]
    }
   ],
   "source": [
    "print(10)"
   ]
  },
  {
   "cell_type": "code",
   "execution_count": 4,
   "id": "13d2a501",
   "metadata": {},
   "outputs": [
    {
     "ename": "SyntaxError",
     "evalue": "invalid syntax (370321495.py, line 1)",
     "output_type": "error",
     "traceback": [
      "\u001b[1;36m  Input \u001b[1;32mIn [4]\u001b[1;36m\u001b[0m\n\u001b[1;33m    return = 40\u001b[0m\n\u001b[1;37m           ^\u001b[0m\n\u001b[1;31mSyntaxError\u001b[0m\u001b[1;31m:\u001b[0m invalid syntax\n"
     ]
    }
   ],
   "source": [
    "return = 40"
   ]
  },
  {
   "cell_type": "code",
   "execution_count": 7,
   "id": "166a9280",
   "metadata": {},
   "outputs": [
    {
     "data": {
      "text/plain": [
       "30"
      ]
     },
     "execution_count": 7,
     "metadata": {},
     "output_type": "execute_result"
    }
   ],
   "source": [
    "print + 10"
   ]
  },
  {
   "cell_type": "code",
   "execution_count": 4,
   "id": "17c3e601",
   "metadata": {},
   "outputs": [
    {
     "ename": "TypeError",
     "evalue": "'int' object is not callable",
     "output_type": "error",
     "traceback": [
      "\u001b[1;31m---------------------------------------------------------------------------\u001b[0m",
      "\u001b[1;31mTypeError\u001b[0m                                 Traceback (most recent call last)",
      "Input \u001b[1;32mIn [4]\u001b[0m, in \u001b[0;36m<cell line: 5>\u001b[1;34m()\u001b[0m\n\u001b[0;32m      3\u001b[0m c \u001b[38;5;241m=\u001b[39m \u001b[38;5;28;01mNone\u001b[39;00m\n\u001b[0;32m      4\u001b[0m \u001b[38;5;28mprint\u001b[39m\n\u001b[1;32m----> 5\u001b[0m \u001b[38;5;28;43mprint\u001b[39;49m\u001b[43m(\u001b[49m\u001b[43ma\u001b[49m\u001b[43m)\u001b[49m\n\u001b[0;32m      6\u001b[0m \u001b[38;5;28mprint\u001b[39m(b)\n\u001b[0;32m      7\u001b[0m \u001b[38;5;28mprint\u001b[39m(c)\n",
      "\u001b[1;31mTypeError\u001b[0m: 'int' object is not callable"
     ]
    }
   ],
   "source": [
    "a = 'Hello world'\n",
    "b = 20\n",
    "c = None\n",
    "print\n",
    "print(a)\n",
    "print(b)\n",
    "print(c)\n"
   ]
  },
  {
   "cell_type": "code",
   "execution_count": 5,
   "id": "5cf5b4f0",
   "metadata": {},
   "outputs": [
    {
     "name": "stdout",
     "output_type": "stream",
     "text": [
      "10\n",
      "20\n",
      "30\n"
     ]
    }
   ],
   "source": [
    "a = 10\n",
    "b = 20\n",
    "c = 30\n",
    "print(a)\n",
    "print(b)\n",
    "print(c)\n"
   ]
  },
  {
   "cell_type": "code",
   "execution_count": null,
   "id": "f84b236a",
   "metadata": {},
   "outputs": [],
   "source": [
    "abc = 1\n",
    "abc@1 = 0 \n",
    "python*_123 = 0\n",
    "false = \n",
    "true = "
   ]
  },
  {
   "cell_type": "code",
   "execution_count": 9,
   "id": "b093ead2",
   "metadata": {},
   "outputs": [
    {
     "name": "stdout",
     "output_type": "stream",
     "text": [
      "['False', 'None', 'True', '__peg_parser__', 'and', 'as', 'assert', 'async', 'await', 'break', 'class', 'continue', 'def', 'del', 'elif', 'else', 'except', 'finally', 'for', 'from', 'global', 'if', 'import', 'in', 'is', 'lambda', 'nonlocal', 'not', 'or', 'pass', 'raise', 'return', 'try', 'while', 'with', 'yield']\n"
     ]
    }
   ],
   "source": [
    "import keyword\n",
    "print(keyword.kwlist)"
   ]
  },
  {
   "cell_type": "code",
   "execution_count": 12,
   "id": "8f0ef5be",
   "metadata": {},
   "outputs": [
    {
     "name": "stdout",
     "output_type": "stream",
     "text": [
      "40\n"
     ]
    }
   ],
   "source": [
    "python = 20\n",
    "Python = 40\n",
    "print(Python)"
   ]
  },
  {
   "cell_type": "code",
   "execution_count": null,
   "id": "30210e19",
   "metadata": {},
   "outputs": [],
   "source": [
    "# Literals (datatypes)\n",
    "1. fundamental data types \n",
    "- int are those data without decimal point -100,-99,55,2334, 0\n",
    "- float are those data types with decimal point -100.0, -99.1, 0.0\n",
    "- string - are '_', \"_\", '''_''', \"\"\"_\"\"\"\n",
    "- bool - True and False \n",
    "- None - Empty\n",
    "- complex - are a+bj\n",
    "\n",
    "2. Derived data types\n",
    "- list - [] - mutable\n",
    "- tuple - () - immutable\n",
    "- dic - {Key:value}\n",
    "- set - {}"
   ]
  },
  {
   "cell_type": "code",
   "execution_count": 40,
   "id": "6121dd4d",
   "metadata": {},
   "outputs": [
    {
     "name": "stdout",
     "output_type": "stream",
     "text": [
      "(1, 2.0, 'str', None, True, [1, 2, 3], (2, 3, 4, 5))\n",
      "<class 'tuple'>\n"
     ]
    }
   ],
   "source": [
    "a = (1,2.0,'str',None,True,[1,2,3],(2,3,4,5))\n",
    "\n",
    "print(a)\n",
    "print(type(a))"
   ]
  },
  {
   "cell_type": "code",
   "execution_count": null,
   "id": "2acf6319",
   "metadata": {},
   "outputs": [],
   "source": [
    "col1     col2          col3        col4\n",
    "\n",
    "1        sdfs           None       654\n",
    "2         65           'str'       987435\n",
    "3       sdg            True        None\n",
    "4       876            10+4j       None"
   ]
  },
  {
   "cell_type": "code",
   "execution_count": 45,
   "id": "91782b08",
   "metadata": {},
   "outputs": [
    {
     "ename": "TypeError",
     "evalue": "'tuple' object does not support item assignment",
     "output_type": "error",
     "traceback": [
      "\u001b[1;31m---------------------------------------------------------------------------\u001b[0m",
      "\u001b[1;31mTypeError\u001b[0m                                 Traceback (most recent call last)",
      "Input \u001b[1;32mIn [45]\u001b[0m, in \u001b[0;36m<cell line: 3>\u001b[1;34m()\u001b[0m\n\u001b[0;32m      1\u001b[0m a \u001b[38;5;241m=\u001b[39m (\u001b[38;5;241m1\u001b[39m,\u001b[38;5;241m2.0\u001b[39m,\u001b[38;5;124m'\u001b[39m\u001b[38;5;124mstr\u001b[39m\u001b[38;5;124m'\u001b[39m,\u001b[38;5;28;01mNone\u001b[39;00m,\u001b[38;5;28;01mTrue\u001b[39;00m,[\u001b[38;5;241m1\u001b[39m,\u001b[38;5;241m2\u001b[39m,\u001b[38;5;241m3\u001b[39m],(\u001b[38;5;241m2\u001b[39m,\u001b[38;5;241m3\u001b[39m,\u001b[38;5;241m4\u001b[39m,\u001b[38;5;241m5\u001b[39m))\n\u001b[1;32m----> 3\u001b[0m a[\u001b[38;5;241m0\u001b[39m] \u001b[38;5;241m=\u001b[39m \u001b[38;5;241m20\u001b[39m\n\u001b[0;32m      4\u001b[0m \u001b[38;5;28mprint\u001b[39m(a)\n",
      "\u001b[1;31mTypeError\u001b[0m: 'tuple' object does not support item assignment"
     ]
    }
   ],
   "source": [
    "a = (1,2.0,'str',None,True,[1,2,3],(2,3,4,5))\n",
    "\n",
    "a[0] = 20\n",
    "print(a)"
   ]
  },
  {
   "cell_type": "code",
   "execution_count": 44,
   "id": "ca0f9763",
   "metadata": {},
   "outputs": [
    {
     "name": "stdout",
     "output_type": "stream",
     "text": [
      "[20, 2.0, 'str', None, True, [1, 2, 3], (2, 3, 4, 5)]\n"
     ]
    }
   ],
   "source": [
    "a = [1,2.0,'str',None,True,[1,2,3],(2,3,4,5)]\n",
    "\n",
    "a[0] = 20\n",
    "print(a)"
   ]
  },
  {
   "cell_type": "code",
   "execution_count": 47,
   "id": "d6df9815",
   "metadata": {},
   "outputs": [
    {
     "name": "stdout",
     "output_type": "stream",
     "text": [
      "{1, 2, 3, 4, 5}\n"
     ]
    }
   ],
   "source": [
    "a = {1,2,3,4,5,1,2,2,2,2}\n",
    "print(a)# Unique values"
   ]
  },
  {
   "cell_type": "code",
   "execution_count": 57,
   "id": "0e28a0b3",
   "metadata": {},
   "outputs": [
    {
     "name": "stdout",
     "output_type": "stream",
     "text": [
      "<class 'dict'>\n",
      "dict_keys(['Salahuddin', 'rohit'])\n",
      "dict_values([{'2nd pu': 66, '10': 70, 'engg': 80}, {'2nd pu': 90, '10': 95, 'engg': 100}])\n"
     ]
    }
   ],
   "source": [
    "a = {'Salahuddin':{'2nd pu': 66,'10': 70,'engg':80},\n",
    "     'Salahuddin':{'2nd pu': 66,'10': 70,'engg':80},\n",
    "    'rohit':{'2nd pu': 90,'10': 95,'engg':100}}\n",
    "print(type(a))\n",
    "print(a.keys())\n",
    "print(a.values())"
   ]
  },
  {
   "cell_type": "code",
   "execution_count": 60,
   "id": "5297f633",
   "metadata": {},
   "outputs": [
    {
     "name": "stdout",
     "output_type": "stream",
     "text": [
      "{'prem', 'rohit', 'Salahuddin'}\n"
     ]
    }
   ],
   "source": [
    "a = {'Salahuddin', 'Salahuddin', 'rohit' , 'rohit' ,'rohit','prem'}\n",
    "print(a)"
   ]
  },
  {
   "cell_type": "code",
   "execution_count": 48,
   "id": "0cc52c82",
   "metadata": {},
   "outputs": [
    {
     "name": "stdout",
     "output_type": "stream",
     "text": [
      "[1, 2, 3, 4, 5, 1, 2, 2, 2, 2]\n"
     ]
    }
   ],
   "source": [
    "a= [1,2,3,4,5,1,2,2,2,2]\n",
    "print(a)"
   ]
  },
  {
   "cell_type": "code",
   "execution_count": null,
   "id": "102ef3a9",
   "metadata": {},
   "outputs": [],
   "source": [
    "# Python components\n",
    "\n",
    "\n",
    "literals - data types\n",
    "1. fundamental data types \n",
    "- int are those data without decimal point -100,-99,55,2334, 0\n",
    "- float are those data types with decimal point -100.0, -99.1, 0.0\n",
    "- string - are '_', \"_\", '''_''', \"\"\"_\"\"\"\n",
    "- bool - True and False \n",
    "- None - Empty\n",
    "- complex - are a+bj\n",
    "\n",
    "2. Derived data types\n",
    "- list - [] - mutable\n",
    "- tuple - () - immutable\n",
    "- dic - {Key:value}\n",
    "- set - {}\n",
    "\n",
    "\n",
    "constants\n",
    "variables\n",
    "identifiers \n",
    "reserved words \n",
    "statements and expression\n",
    "blocks and indentation\n",
    "comments"
   ]
  },
  {
   "cell_type": "code",
   "execution_count": 63,
   "id": "ec50b054",
   "metadata": {},
   "outputs": [
    {
     "name": "stdout",
     "output_type": "stream",
     "text": [
      "3.14\n"
     ]
    }
   ],
   "source": [
    "# Area of a circle\n",
    "PI = 3.14\n",
    "r = 2\n",
    "\n",
    "\n",
    "# A = PI *(r**2)\n",
    "# print(A)\n",
    "print(PI)"
   ]
  },
  {
   "cell_type": "code",
   "execution_count": null,
   "id": "698ca775",
   "metadata": {},
   "outputs": [],
   "source": [
    "# statements and expression\n",
    "\n",
    "Statement - The code which will not give an output\n",
    "Expression - The code which will give an output"
   ]
  },
  {
   "cell_type": "code",
   "execution_count": 64,
   "id": "6a38a1d0",
   "metadata": {},
   "outputs": [
    {
     "data": {
      "text/plain": [
       "30"
      ]
     },
     "execution_count": 64,
     "metadata": {},
     "output_type": "execute_result"
    }
   ],
   "source": [
    "10+20 # Expression"
   ]
  },
  {
   "cell_type": "code",
   "execution_count": 69,
   "id": "586b6522",
   "metadata": {},
   "outputs": [],
   "source": [
    "a = 10 # Statement\n",
    "b = 39\n",
    "c = a+b"
   ]
  },
  {
   "cell_type": "code",
   "execution_count": 72,
   "id": "7db4f0b0",
   "metadata": {},
   "outputs": [
    {
     "name": "stdout",
     "output_type": "stream",
     "text": [
      "pythonlearnbay\n",
      "pythonlearnbaylearnbay\n"
     ]
    }
   ],
   "source": [
    "a = 'python' # Statement\n",
    "b = 'learnbay' # state\n",
    "c = a+b # stat\n",
    "print(c) # exp\n",
    "d = c+b # sta\n",
    "print(d) # exp"
   ]
  },
  {
   "cell_type": "code",
   "execution_count": null,
   "id": "e6377881",
   "metadata": {},
   "outputs": [],
   "source": [
    "# blocks and indentation\n",
    "stat1\n",
    "stat2\n",
    "stat3\n",
    "stat4\n",
    "stat5\n",
    "stat6\n",
    "stat7\n",
    "\n",
    "excetution - 1,2,3,4,5,6,7\n",
    "\n",
    "stat1\n",
    "stat2\n",
    "stat3\n",
    "if condition:\n",
    "    stat8\n",
    "    stat9\n",
    "    stat10\n",
    "stat4\n",
    "stat5\n",
    "stat6\n",
    "stat7\n",
    "\n",
    "True\n",
    "excetution - 1,2,3,8,9,10,4,5,6,7\n",
    "\n",
    "False\n",
    "excetution - 1,2,3,4,5,6,7"
   ]
  },
  {
   "cell_type": "code",
   "execution_count": 77,
   "id": "4b951cd3",
   "metadata": {},
   "outputs": [
    {
     "name": "stdout",
     "output_type": "stream",
     "text": [
      "Rohit\n",
      "python\n",
      "asus\n",
      "vaibav\n"
     ]
    }
   ],
   "source": [
    "a = 10\n",
    "print('Rohit')\n",
    "print('python')\n",
    "if a < 5:\n",
    "    print('Alan')\n",
    "    print('kk')\n",
    "print('asus')\n",
    "print('vaibav')\n",
    "\n",
    "\n",
    "# False ;-  1,2,3,7,8"
   ]
  },
  {
   "cell_type": "code",
   "execution_count": 92,
   "id": "5e0670e6",
   "metadata": {},
   "outputs": [
    {
     "name": "stdout",
     "output_type": "stream",
     "text": [
      "Rohit\n",
      "python\n",
      "Alan\n",
      "kk\n",
      "Hello\n",
      "world\n",
      "asus\n",
      "vaibav\n"
     ]
    }
   ],
   "source": [
    "a = 9\n",
    "print('Rohit')\n",
    "print('python')\n",
    "\n",
    "if (a==6) or (a<10):\n",
    "    print('Alan')\n",
    "    print('kk')\n",
    "#     if a == 7:\n",
    "#         print('something')\n",
    "    print('Hello')\n",
    "    print('world')\n",
    "print('asus')\n",
    "print('vaibav')\n",
    "\n",
    "\n",
    "# \n",
    "# "
   ]
  },
  {
   "cell_type": "code",
   "execution_count": 88,
   "id": "00c0782d",
   "metadata": {},
   "outputs": [
    {
     "name": "stdout",
     "output_type": "stream",
     "text": [
      "10\n",
      "True\n"
     ]
    }
   ],
   "source": [
    "a = 10\n",
    "print(a)\n",
    "\n",
    "print(a == 10)"
   ]
  },
  {
   "cell_type": "code",
   "execution_count": null,
   "id": "1c4135d2",
   "metadata": {},
   "outputs": [],
   "source": []
  }
 ],
 "metadata": {
  "kernelspec": {
   "display_name": "Python 3 (ipykernel)",
   "language": "python",
   "name": "python3"
  },
  "language_info": {
   "codemirror_mode": {
    "name": "ipython",
    "version": 3
   },
   "file_extension": ".py",
   "mimetype": "text/x-python",
   "name": "python",
   "nbconvert_exporter": "python",
   "pygments_lexer": "ipython3",
   "version": "3.9.12"
  }
 },
 "nbformat": 4,
 "nbformat_minor": 5
}
