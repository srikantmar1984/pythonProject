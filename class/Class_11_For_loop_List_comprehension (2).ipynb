{
 "cells": [
  {
   "cell_type": "code",
   "execution_count": 4,
   "id": "02a7b9dd",
   "metadata": {},
   "outputs": [
    {
     "name": "stdout",
     "output_type": "stream",
     "text": [
      "2  *  1  =  2\n",
      "2  *  2  =  4\n",
      "2  *  3  =  6\n",
      "2  *  4  =  8\n",
      "2  *  5  =  10\n",
      "2  *  6  =  12\n",
      "2  *  7  =  14\n",
      "2  *  8  =  16\n",
      "2  *  9  =  18\n",
      "2  *  10  =  20\n"
     ]
    }
   ],
   "source": [
    "# Using for loop for 2 table\n",
    "\n",
    "a = [1,2,3,4,5,6,7,8,9,10]\n",
    "\n",
    "for i in a:\n",
    "    print(f'2  *  {i}  =  {2*i}')"
   ]
  },
  {
   "cell_type": "code",
   "execution_count": 7,
   "id": "e5078e44",
   "metadata": {},
   "outputs": [
    {
     "name": "stdout",
     "output_type": "stream",
     "text": [
      "2  *  1  =  2\n",
      "2  *  2  =  4\n",
      "2  *  3  =  6\n",
      "2  *  4  =  8\n",
      "2  *  5  =  10\n",
      "2  *  6  =  12\n",
      "2  *  7  =  14\n",
      "2  *  8  =  16\n",
      "2  *  9  =  18\n",
      "2  *  10  =  20\n"
     ]
    }
   ],
   "source": [
    "# Using a range function\n",
    "\n",
    "for i in range(1,11):\n",
    "    print(f'2  *  {i}  =  {2*i}')\n",
    "    \n"
   ]
  },
  {
   "cell_type": "code",
   "execution_count": 8,
   "id": "dac3e180",
   "metadata": {},
   "outputs": [
    {
     "name": "stdout",
     "output_type": "stream",
     "text": [
      "Hi my name is python and second name is learnbay\n"
     ]
    }
   ],
   "source": [
    "a = 'python'\n",
    "b = 'learnbay'\n",
    "\n",
    "print('Hi my name is {} and second name is {}'.format(a,b))"
   ]
  },
  {
   "cell_type": "code",
   "execution_count": 9,
   "id": "3a3a2aed",
   "metadata": {},
   "outputs": [
    {
     "name": "stdout",
     "output_type": "stream",
     "text": [
      "Hi my name is python and second name is learnbay\n"
     ]
    }
   ],
   "source": [
    "a = 'python'\n",
    "b = 'learnbay'\n",
    "\n",
    "print(f'Hi my name is {a} and second name is {b}')"
   ]
  },
  {
   "cell_type": "code",
   "execution_count": null,
   "id": "00688dc7",
   "metadata": {},
   "outputs": [],
   "source": [
    "# "
   ]
  },
  {
   "cell_type": "code",
   "execution_count": null,
   "id": "ded064eb",
   "metadata": {},
   "outputs": [],
   "source": [
    "\n",
    "for i in [1,2,3,4,5,6,7,8,9,10]:\n",
    "    print(f'2  *  {i}  =  {2*i}')\n",
    "    \n",
    "    \n"
   ]
  },
  {
   "cell_type": "code",
   "execution_count": 24,
   "id": "11c6fad3",
   "metadata": {},
   "outputs": [
    {
     "name": "stdout",
     "output_type": "stream",
     "text": [
      "2 * 1 = 2\n",
      "2 * 2 = 4\n",
      "2 * 3 = 6\n",
      "2 * 4 = 8\n",
      "2 * 5 = 10\n",
      "2 * 6 = 12\n"
     ]
    }
   ],
   "source": [
    "name = 1\n",
    "print('2 * ' + str(name) + ' = ' +str(name*2))\n",
    "\n",
    "name = 2\n",
    "print('2 * ' + str(name) + ' = ' +str(name*2))\n",
    "\n",
    "name = 3\n",
    "print('2 * ' + str(name) + ' = ' +str(name*2))\n",
    "\n",
    "name = 4\n",
    "print('2 * ' + str(name) + ' = ' +str(name*2))\n",
    "\n",
    "name =5\n",
    "print('2 * ' + str(name) + ' = ' +str(name*2))\n",
    "\n",
    "name = 6\n",
    "print('2 * ' + str(name) + ' = ' +str(name*2))"
   ]
  },
  {
   "cell_type": "code",
   "execution_count": 30,
   "id": "bbe84ef3",
   "metadata": {},
   "outputs": [
    {
     "name": "stdout",
     "output_type": "stream",
     "text": [
      "2 * 1 = 2\n",
      "2 * 2 = 4\n",
      "2 * 3 = 6\n",
      "2 * 4 = 8\n",
      "2 * 5 = 10\n",
      "2 * 6 = 12\n",
      "2 * 7 = 14\n",
      "2 * 8 = 16\n",
      "2 * 9 = 18\n",
      "2 * 10 = 20\n"
     ]
    }
   ],
   "source": [
    "for i in [1,2,3,4,5,6,7,8,9,10]:\n",
    "    print( '2 * ' + str(i) + ' = '+ str(i *2))"
   ]
  },
  {
   "cell_type": "code",
   "execution_count": 33,
   "id": "03aee6e0",
   "metadata": {},
   "outputs": [
    {
     "name": "stdout",
     "output_type": "stream",
     "text": [
      "Please enter the table of your choice : 999\n",
      "999 * 1 = 999\n",
      "999 * 2 = 1998\n",
      "999 * 3 = 2997\n",
      "999 * 4 = 3996\n",
      "999 * 5 = 4995\n",
      "999 * 6 = 5994\n",
      "999 * 7 = 6993\n",
      "999 * 8 = 7992\n",
      "999 * 9 = 8991\n",
      "999 * 10 = 9990\n"
     ]
    }
   ],
   "source": [
    "# user defined table\n",
    "\n",
    "num = int(input('Please enter the table of your choice : '))\n",
    "\n",
    "for i in range(1,11):\n",
    "    print(f'{num} * {i} = {num*i}')\n",
    "\n",
    "# using list comprehension\n"
   ]
  },
  {
   "cell_type": "code",
   "execution_count": 46,
   "id": "c8136ce0",
   "metadata": {},
   "outputs": [],
   "source": [
    "mail = ['python.learnbay@gmail.com', 'alan.john@yahoo.com', 'naiya.shah@gmail.com','sagnik.123@outlook.com',\n",
    "        'abhishek.hero@hotmail.com']"
   ]
  },
  {
   "cell_type": "code",
   "execution_count": 50,
   "id": "3b042071",
   "metadata": {},
   "outputs": [
    {
     "name": "stdout",
     "output_type": "stream",
     "text": [
      "python.learnbay@gmail.com\n",
      "naiya.shah@gmail.com\n"
     ]
    }
   ],
   "source": [
    "# 1. Extract those mail id which are from gmail\n",
    "\n",
    "for i in mail:\n",
    "    if i.endswith('@gmail.com') == True:\n",
    "        print(i)"
   ]
  },
  {
   "cell_type": "code",
   "execution_count": 53,
   "id": "e7f31d31",
   "metadata": {},
   "outputs": [
    {
     "name": "stdout",
     "output_type": "stream",
     "text": [
      "python.learnbay\n",
      "alan.john\n",
      "naiya.shah\n",
      "sagnik.123\n",
      "abhishek.hero\n"
     ]
    }
   ],
   "source": [
    "# 2. Extract only the user names\n",
    "\n",
    "for i in mail:\n",
    "    \n",
    "    print(i.split('@')[0])\n",
    "\n"
   ]
  },
  {
   "cell_type": "code",
   "execution_count": 55,
   "id": "65d824d5",
   "metadata": {},
   "outputs": [
    {
     "name": "stdout",
     "output_type": "stream",
     "text": [
      "['python.learnbay', 'gmail.com']\n"
     ]
    }
   ],
   "source": [
    "a = 'python.learnbay@gmail.com'\n",
    "print(a.split('@'))"
   ]
  },
  {
   "cell_type": "code",
   "execution_count": 69,
   "id": "4d2a0a98",
   "metadata": {},
   "outputs": [
    {
     "name": "stdout",
     "output_type": "stream",
     "text": [
      "['python.learnbay', 'naiya.shah']\n"
     ]
    }
   ],
   "source": [
    "# 2. Extract only the user names\n",
    "\n",
    "for i in mail:\n",
    "    if i.endswith('@gmail.com') == True:\n",
    "        pass\n",
    "#        print(i.split('@')[0])\n",
    "        \n",
    "c = [i.split('@')[0] for i in mail if i.endswith('@gmail.com') == True]\n",
    "print(c)"
   ]
  },
  {
   "cell_type": "code",
   "execution_count": 60,
   "id": "66779e5b",
   "metadata": {},
   "outputs": [
    {
     "name": "stdout",
     "output_type": "stream",
     "text": [
      "[2, 32, 6, 4, 2, 2]\n"
     ]
    }
   ],
   "source": [
    "# Extract only the even numbers\n",
    "a = [1,2,32,343,5,5,6,4,43,2,2,3,465,7,7,7]\n",
    "b = []\n",
    "\n",
    "for i in a:\n",
    "    if i%2 == 0:\n",
    "        b.append(i)\n",
    "print(b)"
   ]
  },
  {
   "cell_type": "markdown",
   "id": "db86927f",
   "metadata": {},
   "source": [
    "# List comprehension\n",
    "\n",
    "- syntax ---> [expression for var in iterables if condition]"
   ]
  },
  {
   "cell_type": "code",
   "execution_count": 65,
   "id": "a35301f4",
   "metadata": {
    "scrolled": true
   },
   "outputs": [
    {
     "name": "stdout",
     "output_type": "stream",
     "text": [
      "[2, 32, 6, 4, 2, 2]\n",
      "[2, 32, 6, 4, 2, 2]\n"
     ]
    }
   ],
   "source": [
    "# Using for loop\n",
    "a = [1,2,32,343,5,5,6,4,43,2,2,3,465,7,7,7]\n",
    "b = []\n",
    "\n",
    "for i in a:\n",
    "    if i%2 == 0:\n",
    "        b.append(i)\n",
    "print(b)\n",
    "\n",
    "c = [i for i in a if i%2 == 0]\n",
    "print(c)"
   ]
  },
  {
   "cell_type": "code",
   "execution_count": 64,
   "id": "c66f09b4",
   "metadata": {},
   "outputs": [
    {
     "name": "stdout",
     "output_type": "stream",
     "text": [
      "[2, 4, 6, 8, 10, 12]\n",
      "[2, 4, 6, 8, 10, 12]\n"
     ]
    }
   ],
   "source": [
    "a = [1,2,3,4,5,6]\n",
    "\n",
    "b = []\n",
    "\n",
    "for i in a:\n",
    "    b.append(i*2)\n",
    "    \n",
    "print(b)\n",
    "\n",
    "c = [j*2 for j in a]\n",
    "print(c)"
   ]
  },
  {
   "cell_type": "code",
   "execution_count": 95,
   "id": "94d1311f",
   "metadata": {},
   "outputs": [
    {
     "name": "stdout",
     "output_type": "stream",
     "text": [
      "Hi my first name is python My second name is learnbay\n"
     ]
    }
   ],
   "source": [
    "# String formating\n",
    "a = 'python'\n",
    "b = 'learnbay'\n",
    "\n",
    "print(f'Hi my first name is {a} My second name is {b}')\n",
    "\n",
    "print(f' 2  *  {i} = {i*2}')"
   ]
  },
  {
   "cell_type": "code",
   "execution_count": 85,
   "id": "0c569fb3",
   "metadata": {},
   "outputs": [
    {
     "name": "stdout",
     "output_type": "stream",
     "text": [
      "2  *  1 = 2\n",
      "2  *  2 = 4\n",
      "2  *  3 = 6\n",
      "2  *  4 = 8\n",
      "2  *  5 = 10\n",
      "2  *  6 = 12\n",
      "2  *  7 = 14\n",
      "2  *  8 = 16\n",
      "2  *  9 = 18\n",
      "2  *  10 = 20\n"
     ]
    }
   ],
   "source": [
    "# For loop\n",
    "\n",
    "a = [1,2,3,4,5,6,7,8,9,10]\n",
    "\n",
    "c = [print(f'2  *  {i} = {i*2}') for i in a]\n"
   ]
  },
  {
   "cell_type": "code",
   "execution_count": 80,
   "id": "7c59e4e3",
   "metadata": {},
   "outputs": [
    {
     "name": "stdout",
     "output_type": "stream",
     "text": [
      "[1, 3, 45, 65]\n",
      "[1, 3, 45, 65]\n"
     ]
    }
   ],
   "source": [
    "a = [1,2,3,4,45,65,76]\n",
    "b = []\n",
    "\n",
    "for i in a:\n",
    "    if i%2 != 0:\n",
    "        b.append(i)\n",
    "print(b)\n",
    "\n",
    "c=[i for i in a if i%2 != 0]\n",
    "print(c)"
   ]
  },
  {
   "cell_type": "code",
   "execution_count": 88,
   "id": "dbd9628b",
   "metadata": {},
   "outputs": [
    {
     "name": "stdout",
     "output_type": "stream",
     "text": [
      "[1, 2, 3, 4, 5, 6, 7, 8, 9, 10]\n"
     ]
    }
   ],
   "source": [
    "# For loop\n",
    "\n",
    "a = [1,2,3,4,5,6,7,8,9,10]\n",
    "\n",
    "c = [i for i in a]\n",
    "print(c)"
   ]
  },
  {
   "cell_type": "markdown",
   "id": "75ed282f",
   "metadata": {},
   "source": [
    "# Tuple\n",
    "\n",
    "- Anything writen inside a round bracket and the elements are sep by comma\n",
    "- It is hetrogenous\n"
   ]
  },
  {
   "cell_type": "code",
   "execution_count": 97,
   "id": "c012367c",
   "metadata": {},
   "outputs": [
    {
     "name": "stdout",
     "output_type": "stream",
     "text": [
      "(1, 2.4, None, True, (10+5j)) <class 'tuple'>\n"
     ]
    }
   ],
   "source": [
    "a = (1,2.4,None,True,10+5j)\n",
    "print(a , type(a))\n"
   ]
  },
  {
   "cell_type": "markdown",
   "id": "fbc11938",
   "metadata": {},
   "source": [
    "# Creating a tuple"
   ]
  },
  {
   "cell_type": "code",
   "execution_count": 98,
   "id": "a1439e24",
   "metadata": {},
   "outputs": [
    {
     "name": "stdout",
     "output_type": "stream",
     "text": [
      "(1, 2, 3, 4, 5)\n"
     ]
    }
   ],
   "source": [
    "# 1. You already know the elements\n",
    "tup = (1,2,3,4,5)\n",
    "print(tup)"
   ]
  },
  {
   "cell_type": "code",
   "execution_count": 105,
   "id": "78c426f1",
   "metadata": {},
   "outputs": [
    {
     "name": "stdout",
     "output_type": "stream",
     "text": [
      "Please enter the numbers 1,2,2,3,4\n",
      "(1, 2, 2, 3, 4) <class 'tuple'>\n"
     ]
    }
   ],
   "source": [
    "# Taking a user input\n",
    "\n",
    "tup = eval(input('Please enter the numbers '))\n",
    "print(tup, type(tup))"
   ]
  },
  {
   "cell_type": "markdown",
   "id": "337dc102",
   "metadata": {},
   "source": [
    "# Type casting"
   ]
  },
  {
   "cell_type": "code",
   "execution_count": 107,
   "id": "1cc1533e",
   "metadata": {},
   "outputs": [
    {
     "name": "stdout",
     "output_type": "stream",
     "text": [
      "('s', 't', 'r')\n",
      "(1, 2, 4, 45)\n"
     ]
    }
   ],
   "source": [
    "a = 'str'\n",
    "b = [1,2,4,45]\n",
    "\n",
    "print(tuple(a))\n",
    "print(tuple(b))"
   ]
  },
  {
   "cell_type": "code",
   "execution_count": 109,
   "id": "fc9cce32",
   "metadata": {},
   "outputs": [
    {
     "name": "stdout",
     "output_type": "stream",
     "text": [
      "(1, 23, 4, 5, 6) <class 'tuple'>\n",
      "(6, 5, 3, 2, 2) <class 'tuple'>\n"
     ]
    }
   ],
   "source": [
    "# 4th way\n",
    "\n",
    "a = (1,23,4,5,6)\n",
    "print(a,type(a))\n",
    "\n",
    "b = 6,5,3,2,2\n",
    "print(b , type(b))"
   ]
  },
  {
   "cell_type": "code",
   "execution_count": 130,
   "id": "5d8ede44",
   "metadata": {},
   "outputs": [
    {
     "name": "stdout",
     "output_type": "stream",
     "text": [
      "('python', None, 1, 1.3, (92, 3, 4), [2, 3, 4, 5]) <class 'tuple'>\n"
     ]
    }
   ],
   "source": [
    "a = 'python' , None , 1 ,1.3, (92,3,4,) , [2,3,4,5]\n",
    "print(a , type(a))"
   ]
  },
  {
   "cell_type": "code",
   "execution_count": 115,
   "id": "f6397e03",
   "metadata": {},
   "outputs": [
    {
     "name": "stdout",
     "output_type": "stream",
     "text": [
      "(10,) <class 'tuple'>\n"
     ]
    }
   ],
   "source": [
    "a = (10,)\n",
    "print(a , type(a))"
   ]
  },
  {
   "cell_type": "markdown",
   "id": "e3b910eb",
   "metadata": {},
   "source": [
    "# Properties of a tuple\n",
    "\n",
    "- seq data type\n",
    "- +ve and - ve index is supported\n",
    "- Can hold any data type\n",
    "- Immutable\n",
    "- Allows duplication\n",
    "- basic op - concat, identity, Membership, repetition"
   ]
  },
  {
   "cell_type": "code",
   "execution_count": 116,
   "id": "d2b55924",
   "metadata": {},
   "outputs": [
    {
     "name": "stdout",
     "output_type": "stream",
     "text": [
      "23\n"
     ]
    }
   ],
   "source": [
    "# +ve Indexing \n",
    "a = (1,2,23,4,5,65)\n",
    "print(a[2])\n"
   ]
  },
  {
   "cell_type": "code",
   "execution_count": 117,
   "id": "ec114f4c",
   "metadata": {},
   "outputs": [
    {
     "name": "stdout",
     "output_type": "stream",
     "text": [
      "23\n"
     ]
    }
   ],
   "source": [
    "# -ve Indexing \n",
    "a = (1,2,23,4,5,65)\n",
    "print(a[-4])\n"
   ]
  },
  {
   "cell_type": "code",
   "execution_count": 123,
   "id": "24fcd621",
   "metadata": {},
   "outputs": [
    {
     "name": "stdout",
     "output_type": "stream",
     "text": [
      "(23, 4, 5)\n",
      "(23, 4, 5)\n",
      "(5, 4, 23)\n"
     ]
    }
   ],
   "source": [
    "# slicing \n",
    "a = (1,2,23,4,5,65)\n",
    "print(a[2:5])\n",
    "print(a[-4:-1])\n",
    "print(a[-2:-5:-1])"
   ]
  },
  {
   "cell_type": "code",
   "execution_count": 124,
   "id": "9d149675",
   "metadata": {},
   "outputs": [
    {
     "name": "stdout",
     "output_type": "stream",
     "text": [
      "(1, 2, 3, 4, 5, 6, 7, 8)\n"
     ]
    }
   ],
   "source": [
    "# Concat\n",
    "# op----> +\n",
    "# both should be tuple\n",
    "\n",
    "a = (1,2,3,4)\n",
    "b = (5,6,7,8)\n",
    "print(a+b)"
   ]
  },
  {
   "cell_type": "code",
   "execution_count": 125,
   "id": "4b1cc61e",
   "metadata": {},
   "outputs": [
    {
     "name": "stdout",
     "output_type": "stream",
     "text": [
      "(1, 2, 3, 4, 1, 2, 3, 4, 1, 2, 3, 4, 1, 2, 3, 4, 1, 2, 3, 4, 1, 2, 3, 4, 1, 2, 3, 4, 1, 2, 3, 4)\n"
     ]
    }
   ],
   "source": [
    "# repetition\n",
    "# op----> *\n",
    "# one should be tuple and other should be int\n",
    "\n",
    "a = (1,2,3,4)\n",
    "b = 8\n",
    "print(a*b)"
   ]
  },
  {
   "cell_type": "code",
   "execution_count": 127,
   "id": "34606be3",
   "metadata": {},
   "outputs": [
    {
     "name": "stdout",
     "output_type": "stream",
     "text": [
      "1850311959152\n",
      "1850311958752\n",
      "False\n"
     ]
    }
   ],
   "source": [
    "# identity\n",
    "# op----> is and is not\n",
    "# Checks for the ID \n",
    "\n",
    "a = (1,2,3,4)\n",
    "b = (1,2,3,4)\n",
    "print(id(a))\n",
    "print(id(b))\n",
    "print(a is b)"
   ]
  },
  {
   "cell_type": "code",
   "execution_count": 128,
   "id": "2565a0ad",
   "metadata": {},
   "outputs": [
    {
     "name": "stdout",
     "output_type": "stream",
     "text": [
      "True\n"
     ]
    }
   ],
   "source": [
    "# Membership operators\n",
    "# op----> in and not in\n",
    "# Checks for the value in the seq\n",
    "\n",
    "a = (1,2,3,4)\n",
    "\n",
    "print(2 in a)\n"
   ]
  },
  {
   "cell_type": "code",
   "execution_count": 143,
   "id": "4cd15070",
   "metadata": {},
   "outputs": [
    {
     "ename": "TypeError",
     "evalue": "'tuple' object does not support item assignment",
     "output_type": "error",
     "traceback": [
      "\u001b[1;31m---------------------------------------------------------------------------\u001b[0m",
      "\u001b[1;31mTypeError\u001b[0m                                 Traceback (most recent call last)",
      "Input \u001b[1;32mIn [143]\u001b[0m, in \u001b[0;36m<cell line: 7>\u001b[1;34m()\u001b[0m\n\u001b[0;32m      4\u001b[0m b \u001b[38;5;241m=\u001b[39m [\u001b[38;5;241m3\u001b[39m,\u001b[38;5;241m4\u001b[39m,\u001b[38;5;241m5\u001b[39m,\u001b[38;5;241m6\u001b[39m]\n\u001b[0;32m      6\u001b[0m \u001b[38;5;66;03m# b[-1] = 'hey there'\u001b[39;00m\n\u001b[1;32m----> 7\u001b[0m a[\u001b[38;5;241m0\u001b[39m] \u001b[38;5;241m=\u001b[39m \u001b[38;5;241m78\u001b[39m\n\u001b[0;32m      8\u001b[0m \u001b[38;5;28mprint\u001b[39m(a)\n",
      "\u001b[1;31mTypeError\u001b[0m: 'tuple' object does not support item assignment"
     ]
    }
   ],
   "source": [
    "# Tuple is immutable\n",
    "\n",
    "a = ([5,6,7,8],2,3,4,5)\n",
    "b = [3,4,5,6]\n",
    "\n",
    "# b[-1] = 'hey there'\n",
    "a[0] = 78\n",
    "print(a)"
   ]
  },
  {
   "cell_type": "markdown",
   "id": "71db8128",
   "metadata": {},
   "source": [
    "# Methods of tuple"
   ]
  },
  {
   "cell_type": "code",
   "execution_count": 131,
   "id": "bffdecee",
   "metadata": {},
   "outputs": [
    {
     "name": "stdout",
     "output_type": "stream",
     "text": [
      "['__add__', '__class__', '__class_getitem__', '__contains__', '__delattr__', '__dir__', '__doc__', '__eq__', '__format__', '__ge__', '__getattribute__', '__getitem__', '__getnewargs__', '__gt__', '__hash__', '__init__', '__init_subclass__', '__iter__', '__le__', '__len__', '__lt__', '__mul__', '__ne__', '__new__', '__reduce__', '__reduce_ex__', '__repr__', '__rmul__', '__setattr__', '__sizeof__', '__str__', '__subclasshook__', 'count', 'index']\n"
     ]
    }
   ],
   "source": [
    "print(dir(tuple))"
   ]
  },
  {
   "cell_type": "markdown",
   "id": "0e70bbfb",
   "metadata": {},
   "source": [
    "# Count"
   ]
  },
  {
   "cell_type": "code",
   "execution_count": 153,
   "id": "ed69d4f0",
   "metadata": {},
   "outputs": [
    {
     "name": "stdout",
     "output_type": "stream",
     "text": [
      "1\n"
     ]
    }
   ],
   "source": [
    "# \n",
    "a = (1,2,3,4,5,6,1,1,1,1)\n",
    "print(a.count(2))\n"
   ]
  },
  {
   "cell_type": "markdown",
   "id": "c7c3708e",
   "metadata": {},
   "source": [
    "# Index"
   ]
  },
  {
   "cell_type": "code",
   "execution_count": 155,
   "id": "b0cb2dba",
   "metadata": {},
   "outputs": [
    {
     "name": "stdout",
     "output_type": "stream",
     "text": [
      "3\n"
     ]
    }
   ],
   "source": [
    "# \n",
    "a = (1,2,3,4,5,6,1,1,1,1)\n",
    "print(a.index(4))\n"
   ]
  },
  {
   "cell_type": "code",
   "execution_count": 156,
   "id": "613871a0",
   "metadata": {},
   "outputs": [
    {
     "data": {
      "text/plain": [
       "10"
      ]
     },
     "execution_count": 156,
     "metadata": {},
     "output_type": "execute_result"
    }
   ],
   "source": [
    "len(a)"
   ]
  },
  {
   "cell_type": "markdown",
   "id": "5d355815",
   "metadata": {},
   "source": [
    "# Tuple packing and unpacking ---> continue"
   ]
  },
  {
   "cell_type": "code",
   "execution_count": 157,
   "id": "7b2ad932",
   "metadata": {},
   "outputs": [
    {
     "name": "stdout",
     "output_type": "stream",
     "text": [
      "The number 4 is not a prime number. \n",
      "The number 6 is not a prime number. \n",
      "The number 8 is not a prime number. \n",
      "The number 10 is not a prime number. \n",
      "The number 12 is not a prime number. \n",
      "The number 114 is not a prime number. \n",
      "All the prime numbers\n",
      "[1, 2, 3, 5, 7, 9, 11, 113, 15]\n"
     ]
    }
   ],
   "source": [
    "lis=[1,2,3,4,5,6,7,8,9,10,11,12,113,114,15]\n",
    "prime_lis=[]\n",
    "for i in lis:\n",
    "    if i==1 or i==2:\n",
    "        prime_lis.append(i)\n",
    "    if i!=1 and i!=2:\n",
    "        if i%2==0:\n",
    "            print(f\"The number {i} is not a prime number. \")\n",
    "        else:\n",
    "            prime_lis.append(i)\n",
    "print(\"All the prime numbers\" )\n",
    "print(prime_lis)\n"
   ]
  },
  {
   "cell_type": "code",
   "execution_count": 158,
   "id": "8878d02e",
   "metadata": {},
   "outputs": [
    {
     "name": "stdout",
     "output_type": "stream",
     "text": [
      "1\n"
     ]
    }
   ],
   "source": [
    "print(3 %2)"
   ]
  },
  {
   "cell_type": "code",
   "execution_count": 161,
   "id": "3755e6e6",
   "metadata": {},
   "outputs": [
    {
     "name": "stdout",
     "output_type": "stream",
     "text": [
      "This is a prime nume\n"
     ]
    }
   ],
   "source": [
    "lis=[1,2,3,4,5,6,7,8,9,10,11,12,113,114,15]\n",
    "b = []\n",
    "c = 0\n",
    "for i in lis:\n",
    "    if i%2 == 0:\n",
    "        c+=1\n",
    "        if c == 2 :\n",
    "            b.append(i)"
   ]
  },
  {
   "cell_type": "code",
   "execution_count": null,
   "id": "808679b3",
   "metadata": {},
   "outputs": [],
   "source": []
  },
  {
   "cell_type": "code",
   "execution_count": null,
   "id": "9c79677f",
   "metadata": {},
   "outputs": [],
   "source": []
  }
 ],
 "metadata": {
  "kernelspec": {
   "display_name": "Python 3 (ipykernel)",
   "language": "python",
   "name": "python3"
  },
  "language_info": {
   "codemirror_mode": {
    "name": "ipython",
    "version": 3
   },
   "file_extension": ".py",
   "mimetype": "text/x-python",
   "name": "python",
   "nbconvert_exporter": "python",
   "pygments_lexer": "ipython3",
   "version": "3.9.12"
  }
 },
 "nbformat": 4,
 "nbformat_minor": 5
}
