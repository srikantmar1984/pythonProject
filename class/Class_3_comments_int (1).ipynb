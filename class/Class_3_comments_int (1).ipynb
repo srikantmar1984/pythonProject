{
 "cells": [
  {
   "cell_type": "code",
   "execution_count": 41,
   "id": "67cf6e58",
   "metadata": {},
   "outputs": [
    {
     "name": "stdout",
     "output_type": "stream",
     "text": [
      "10.5 <class 'float'>\n"
     ]
    },
    {
     "data": {
      "text/plain": [
       "bool"
      ]
     },
     "execution_count": 41,
     "metadata": {},
     "output_type": "execute_result"
    }
   ],
   "source": [
    "# type casting ----> converting one data type to another \n",
    "\n",
    "# int(2.33)\n",
    "# float(10)\n",
    "# str --> int\n",
    "\n",
    "a = float('10.5')\n",
    "print(a, type(a))\n",
    "bool"
   ]
  },
  {
   "cell_type": "code",
   "execution_count": 42,
   "id": "6b86ecc3",
   "metadata": {},
   "outputs": [],
   "source": [
    "# int 0 is always false and rest is true\n",
    "# float 0.0 is always false and rest all is true\n",
    "# string '' is false rest all is true\n",
    "# None is always false\n",
    "# list,tuple,set (),{},[] is always false and the rest all is true\n"
   ]
  },
  {
   "cell_type": "code",
   "execution_count": 43,
   "id": "d5aec740",
   "metadata": {},
   "outputs": [
    {
     "name": "stdout",
     "output_type": "stream",
     "text": [
      "True <class 'bool'>\n"
     ]
    }
   ],
   "source": [
    "a = bool([None])\n",
    "print(a , type(a))"
   ]
  },
  {
   "cell_type": "markdown",
   "id": "954d1c08",
   "metadata": {},
   "source": [
    "# Comments\n",
    "1. Comment are used to explain the code\n",
    "2. Coments are used to stop the execution \n",
    "3. Comments are used to make the code more readable"
   ]
  },
  {
   "cell_type": "code",
   "execution_count": 4,
   "id": "e0dc30a2",
   "metadata": {},
   "outputs": [
    {
     "name": "stdout",
     "output_type": "stream",
     "text": [
      "4\n"
     ]
    }
   ],
   "source": [
    "PI = 3.14 # Value of pi\n",
    "r = 2 # Side of the square \n",
    "A = r*r # Area of the square\n",
    "print(A)"
   ]
  },
  {
   "cell_type": "code",
   "execution_count": 7,
   "id": "1965dd4a",
   "metadata": {},
   "outputs": [
    {
     "name": "stdout",
     "output_type": "stream",
     "text": [
      "10\n",
      "20\n",
      "30\n",
      "40\n"
     ]
    }
   ],
   "source": [
    "a = 10\n",
    "b = 20\n",
    "c = 30\n",
    "d = 40\n",
    "\n",
    "print(a)\n",
    "print(b)\n",
    "print(c)\n",
    "print(d)"
   ]
  },
  {
   "cell_type": "markdown",
   "id": "50b4a327",
   "metadata": {},
   "source": [
    "# Int \n",
    "\n",
    "- Any number without decimal points"
   ]
  },
  {
   "cell_type": "code",
   "execution_count": 8,
   "id": "1827e48f",
   "metadata": {},
   "outputs": [
    {
     "name": "stdout",
     "output_type": "stream",
     "text": [
      "<class 'int'>\n"
     ]
    }
   ],
   "source": [
    "a = 10\n",
    "print(type(a))"
   ]
  },
  {
   "cell_type": "markdown",
   "id": "106d8dc8",
   "metadata": {},
   "source": [
    "# Operations that we can perform on interger"
   ]
  },
  {
   "cell_type": "markdown",
   "id": "4082113a",
   "metadata": {},
   "source": [
    "# Arithmetic operations\n",
    "+, -, * , /(float division) , // (Floor division), % (modulus)-> (remainder), ** (exponent)"
   ]
  },
  {
   "cell_type": "code",
   "execution_count": 141,
   "id": "96bb1385",
   "metadata": {},
   "outputs": [
    {
     "name": "stdout",
     "output_type": "stream",
     "text": [
      "30\n",
      "10\n",
      "63\n",
      "-3\n"
     ]
    }
   ],
   "source": [
    "print(10+20) # addition\n",
    "print(20-10) # substraction\n",
    "print(9*7) # multiplication\n",
    "print(-50//19) # division --> answer will always be in float"
   ]
  },
  {
   "cell_type": "code",
   "execution_count": 46,
   "id": "d467b5de",
   "metadata": {},
   "outputs": [
    {
     "data": {
      "text/plain": [
       "2.4"
      ]
     },
     "execution_count": 46,
     "metadata": {},
     "output_type": "execute_result"
    }
   ],
   "source": [
    "# // Floor\n",
    "\n",
    "12/5\n",
    "\n",
    "floor value       exact value        cieling value\n",
    "\n",
    "-3                       -2.6             -2"
   ]
  },
  {
   "cell_type": "code",
   "execution_count": 53,
   "id": "40d6191c",
   "metadata": {},
   "outputs": [
    {
     "name": "stdout",
     "output_type": "stream",
     "text": [
      "-3\n"
     ]
    }
   ],
   "source": [
    "print(-12//5)"
   ]
  },
  {
   "cell_type": "code",
   "execution_count": 50,
   "id": "c575e65c",
   "metadata": {},
   "outputs": [
    {
     "name": "stdout",
     "output_type": "stream",
     "text": [
      "1\n"
     ]
    }
   ],
   "source": [
    "print(50//30)"
   ]
  },
  {
   "cell_type": "code",
   "execution_count": 55,
   "id": "54015568",
   "metadata": {},
   "outputs": [
    {
     "data": {
      "text/plain": [
       "16"
      ]
     },
     "execution_count": 55,
     "metadata": {},
     "output_type": "execute_result"
    }
   ],
   "source": [
    "# Exponent \n",
    "2**4 #(2*2*2*2)"
   ]
  },
  {
   "cell_type": "code",
   "execution_count": 58,
   "id": "72907492",
   "metadata": {},
   "outputs": [
    {
     "name": "stdout",
     "output_type": "stream",
     "text": [
      "1\n"
     ]
    }
   ],
   "source": [
    "# Modulous % remainder \n",
    "print(5%2)"
   ]
  },
  {
   "cell_type": "code",
   "execution_count": 60,
   "id": "10b86ccb",
   "metadata": {},
   "outputs": [
    {
     "name": "stdout",
     "output_type": "stream",
     "text": [
      "2.0\n"
     ]
    }
   ],
   "source": [
    "print(10/5)"
   ]
  },
  {
   "cell_type": "markdown",
   "id": "5157873a",
   "metadata": {},
   "source": [
    "Bodmas\n",
    "b ---> bracket\n",
    "o ---> off\n",
    "d----> division\n",
    "m ---> multiplication\n",
    "a ---> add\n",
    "s --> sub"
   ]
  },
  {
   "cell_type": "code",
   "execution_count": null,
   "id": "8d45a465",
   "metadata": {},
   "outputs": [],
   "source": [
    "# Comparision opearators\n",
    "# equality operators \n",
    "# logical operators"
   ]
  },
  {
   "cell_type": "code",
   "execution_count": null,
   "id": "0ac3f5d6",
   "metadata": {},
   "outputs": [],
   "source": [
    "# Comparision operations\n",
    "< , > , >= , <=\n",
    "\n",
    "- always returns bool data type\n",
    "- can be performed on int and floats\n",
    "- can be performed on bool\n",
    "- can be performed on str - str\n",
    "- cannot be performed on the complex\n",
    "- cannot be performed on None"
   ]
  },
  {
   "cell_type": "code",
   "execution_count": 132,
   "id": "8d00da12",
   "metadata": {},
   "outputs": [
    {
     "name": "stdout",
     "output_type": "stream",
     "text": [
      "False\n"
     ]
    }
   ],
   "source": [
    "a = '10'\n",
    "b = 'str'\n",
    "print(a > b)"
   ]
  },
  {
   "cell_type": "code",
   "execution_count": 75,
   "id": "30352064",
   "metadata": {},
   "outputs": [
    {
     "name": "stdout",
     "output_type": "stream",
     "text": [
      "False\n"
     ]
    }
   ],
   "source": [
    "a = 44\n",
    "b = 44\n",
    "print(a>b)"
   ]
  },
  {
   "cell_type": "code",
   "execution_count": 74,
   "id": "b1773325",
   "metadata": {},
   "outputs": [
    {
     "name": "stdout",
     "output_type": "stream",
     "text": [
      "False\n"
     ]
    }
   ],
   "source": [
    "a = False # (1)\n",
    "b = True # (0)\n",
    "print(a>=b)"
   ]
  },
  {
   "cell_type": "code",
   "execution_count": 105,
   "id": "ca5d4f2a",
   "metadata": {},
   "outputs": [
    {
     "name": "stdout",
     "output_type": "stream",
     "text": [
      "False\n"
     ]
    }
   ],
   "source": [
    "a = 'abc' # 97 \n",
    "b = 'abcd' # 65 \n",
    "print(a>=b)"
   ]
  },
  {
   "cell_type": "code",
   "execution_count": 83,
   "id": "65d27680",
   "metadata": {},
   "outputs": [
    {
     "name": "stdout",
     "output_type": "stream",
     "text": [
      "['ArithmeticError', 'AssertionError', 'AttributeError', 'BaseException', 'BlockingIOError', 'BrokenPipeError', 'BufferError', 'BytesWarning', 'ChildProcessError', 'ConnectionAbortedError', 'ConnectionError', 'ConnectionRefusedError', 'ConnectionResetError', 'DeprecationWarning', 'EOFError', 'Ellipsis', 'EnvironmentError', 'Exception', 'False', 'FileExistsError', 'FileNotFoundError', 'FloatingPointError', 'FutureWarning', 'GeneratorExit', 'IOError', 'ImportError', 'ImportWarning', 'IndentationError', 'IndexError', 'InterruptedError', 'IsADirectoryError', 'KeyError', 'KeyboardInterrupt', 'LookupError', 'MemoryError', 'ModuleNotFoundError', 'NameError', 'None', 'NotADirectoryError', 'NotImplemented', 'NotImplementedError', 'OSError', 'OverflowError', 'PendingDeprecationWarning', 'PermissionError', 'ProcessLookupError', 'RecursionError', 'ReferenceError', 'ResourceWarning', 'RuntimeError', 'RuntimeWarning', 'StopAsyncIteration', 'StopIteration', 'SyntaxError', 'SyntaxWarning', 'SystemError', 'SystemExit', 'TabError', 'TimeoutError', 'True', 'TypeError', 'UnboundLocalError', 'UnicodeDecodeError', 'UnicodeEncodeError', 'UnicodeError', 'UnicodeTranslateError', 'UnicodeWarning', 'UserWarning', 'ValueError', 'Warning', 'WindowsError', 'ZeroDivisionError', '__IPYTHON__', '__build_class__', '__debug__', '__doc__', '__import__', '__loader__', '__name__', '__package__', '__spec__', 'abs', 'all', 'any', 'ascii', 'bin', 'bool', 'breakpoint', 'bytearray', 'bytes', 'callable', 'chr', 'classmethod', 'compile', 'complex', 'copyright', 'credits', 'delattr', 'dict', 'dir', 'display', 'divmod', 'enumerate', 'eval', 'exec', 'execfile', 'filter', 'float', 'format', 'frozenset', 'get_ipython', 'getattr', 'globals', 'hasattr', 'hash', 'help', 'hex', 'id', 'input', 'int', 'isinstance', 'issubclass', 'iter', 'len', 'license', 'list', 'locals', 'map', 'max', 'memoryview', 'min', 'next', 'object', 'oct', 'open', 'ord', 'pow', 'print', 'property', 'range', 'repr', 'reversed', 'round', 'runfile', 'set', 'setattr', 'slice', 'sorted', 'staticmethod', 'str', 'sum', 'super', 'tuple', 'type', 'vars', 'zip']\n"
     ]
    }
   ],
   "source": [
    "# Asci values \n",
    "print(dir(__builtins__))"
   ]
  },
  {
   "cell_type": "code",
   "execution_count": 89,
   "id": "35a9abbd",
   "metadata": {},
   "outputs": [
    {
     "data": {
      "text/plain": [
       "'\\x83'"
      ]
     },
     "execution_count": 89,
     "metadata": {},
     "output_type": "execute_result"
    }
   ],
   "source": [
    "a = 'A'\n",
    "b = 'B'\n",
    "a_1 = ord(a) # 65\n",
    "b_1 = ord(b) # 66\n",
    "#print(a_1+b_1)\n",
    "chr(a_1+b_1)"
   ]
  },
  {
   "cell_type": "code",
   "execution_count": 85,
   "id": "6d68ca41",
   "metadata": {},
   "outputs": [
    {
     "data": {
      "text/plain": [
       "'A'"
      ]
     },
     "execution_count": 85,
     "metadata": {},
     "output_type": "execute_result"
    }
   ],
   "source": [
    "a = 65\n",
    "chr(a)"
   ]
  },
  {
   "cell_type": "code",
   "execution_count": 87,
   "id": "24db0509",
   "metadata": {},
   "outputs": [
    {
     "data": {
      "text/plain": [
       "'0b1000001'"
      ]
     },
     "execution_count": 87,
     "metadata": {},
     "output_type": "execute_result"
    }
   ],
   "source": [
    "bin(65)"
   ]
  },
  {
   "cell_type": "code",
   "execution_count": 98,
   "id": "8eaaa3af",
   "metadata": {},
   "outputs": [
    {
     "name": "stdout",
     "output_type": "stream",
     "text": [
      "20.0\n",
      "<class 'float'>\n",
      "False\n"
     ]
    }
   ],
   "source": [
    "a = 20+8j \n",
    "b = 25\n",
    "print(a.real)\n",
    "print(type(a.imag))\n",
    "print((a.imag)>(b))"
   ]
  },
  {
   "cell_type": "code",
   "execution_count": null,
   "id": "75705832",
   "metadata": {},
   "outputs": [],
   "source": [
    "a = '20+6j'\n",
    "b = '25'\n",
    "print(a)"
   ]
  },
  {
   "cell_type": "markdown",
   "id": "feb33160",
   "metadata": {},
   "source": [
    "# Equality operators\n",
    "\n",
    "== , !="
   ]
  },
  {
   "cell_type": "code",
   "execution_count": 115,
   "id": "37dd127d",
   "metadata": {},
   "outputs": [
    {
     "name": "stdout",
     "output_type": "stream",
     "text": [
      "False\n"
     ]
    }
   ],
   "source": [
    "a = 'python'\n",
    "b = 'pyt'\n",
    "\n",
    "print(a == b)"
   ]
  },
  {
   "cell_type": "code",
   "execution_count": 116,
   "id": "a63b8e9d",
   "metadata": {},
   "outputs": [
    {
     "name": "stdout",
     "output_type": "stream",
     "text": [
      "A\n",
      "B\n"
     ]
    }
   ],
   "source": [
    "a = 'A'\n",
    "b = 'B'\n",
    "a_1 = ord(a)\n",
    "b_1 = ord(b)\n",
    "#print(a_1+b_1)\n",
    "print(chr(a_1))\n",
    "print(chr(b_1))\n",
    "#print(chr(a_1),chr(b_1))\n"
   ]
  },
  {
   "cell_type": "code",
   "execution_count": 117,
   "id": "0a562460",
   "metadata": {},
   "outputs": [
    {
     "name": "stdout",
     "output_type": "stream",
     "text": [
      "True\n"
     ]
    }
   ],
   "source": [
    "print('A'<= chr(65))\n",
    "# "
   ]
  },
  {
   "cell_type": "code",
   "execution_count": 118,
   "id": "3e24d9c7",
   "metadata": {},
   "outputs": [
    {
     "name": "stdout",
     "output_type": "stream",
     "text": [
      "False\n"
     ]
    }
   ],
   "source": [
    "print(105 == ord('r'))"
   ]
  },
  {
   "cell_type": "code",
   "execution_count": 120,
   "id": "4851f665",
   "metadata": {},
   "outputs": [
    {
     "name": "stdout",
     "output_type": "stream",
     "text": [
      "True\n"
     ]
    }
   ],
   "source": [
    "print(ord('z')+10 == 132)"
   ]
  },
  {
   "cell_type": "code",
   "execution_count": 126,
   "id": "b053c021",
   "metadata": {},
   "outputs": [
    {
     "name": "stdout",
     "output_type": "stream",
     "text": [
      "False\n"
     ]
    }
   ],
   "source": [
    "print((100//2+44)+40 == 132)"
   ]
  },
  {
   "cell_type": "code",
   "execution_count": 163,
   "id": "acf94736",
   "metadata": {},
   "outputs": [
    {
     "name": "stdout",
     "output_type": "stream",
     "text": [
      "True\n",
      "True\n"
     ]
    }
   ],
   "source": [
    "# Logical operators \n",
    "# and \n",
    "True and True\n",
    "True and False\n",
    "False and True\n",
    "False and False \n",
    "\n",
    "# or\n",
    "False or False\n",
    "print(True or False)\n",
    "print(True or True)"
   ]
  },
  {
   "cell_type": "code",
   "execution_count": 155,
   "id": "e8b4d7b8",
   "metadata": {},
   "outputs": [
    {
     "name": "stdout",
     "output_type": "stream",
     "text": [
      "0\n"
     ]
    }
   ],
   "source": [
    "# If you add values to this there is a small deviation\n",
    "a = 10 # -----> true\n",
    "b = 0 # ------> false\n",
    "print(a and b)"
   ]
  },
  {
   "cell_type": "code",
   "execution_count": null,
   "id": "234ded27",
   "metadata": {},
   "outputs": [],
   "source": [
    "# A and B ---> result will be A if  A is False other than that it is  B\n",
    "# A or B ---> result will be A if A is True else B"
   ]
  },
  {
   "cell_type": "code",
   "execution_count": 157,
   "id": "dcec4be9",
   "metadata": {},
   "outputs": [
    {
     "name": "stdout",
     "output_type": "stream",
     "text": [
      "55\n"
     ]
    }
   ],
   "source": [
    "# If you add values to this there is a small deviation\n",
    "a = 55 # -----> false\n",
    "b = 'str' # ------> true\n",
    "print(a or b)"
   ]
  },
  {
   "cell_type": "code",
   "execution_count": 173,
   "id": "f3ad37ec",
   "metadata": {},
   "outputs": [
    {
     "name": "stdout",
     "output_type": "stream",
     "text": [
      "0\n"
     ]
    }
   ],
   "source": [
    "print(0 and 20)"
   ]
  },
  {
   "cell_type": "code",
   "execution_count": 159,
   "id": "e8618751",
   "metadata": {},
   "outputs": [
    {
     "name": "stdout",
     "output_type": "stream",
     "text": [
      "0\n"
     ]
    }
   ],
   "source": [
    "print(0 and 40)"
   ]
  },
  {
   "cell_type": "code",
   "execution_count": 177,
   "id": "981c6455",
   "metadata": {},
   "outputs": [
    {
     "name": "stdout",
     "output_type": "stream",
     "text": [
      "9\n"
     ]
    }
   ],
   "source": [
    "print(0+0j or 9)"
   ]
  },
  {
   "cell_type": "code",
   "execution_count": 162,
   "id": "63231873",
   "metadata": {},
   "outputs": [
    {
     "name": "stdout",
     "output_type": "stream",
     "text": [
      "False\n"
     ]
    }
   ],
   "source": [
    "print((10>20) and (20>40))\n",
    "\n",
    "# False and False"
   ]
  },
  {
   "cell_type": "code",
   "execution_count": 171,
   "id": "fd2118c9",
   "metadata": {},
   "outputs": [
    {
     "name": "stdout",
     "output_type": "stream",
     "text": [
      "True\n"
     ]
    }
   ],
   "source": [
    "print(('A' == chr(97)) or (90 != ord('z')))"
   ]
  },
  {
   "cell_type": "code",
   "execution_count": 168,
   "id": "b19c1a9d",
   "metadata": {},
   "outputs": [
    {
     "data": {
      "text/plain": [
       "122"
      ]
     },
     "execution_count": 168,
     "metadata": {},
     "output_type": "execute_result"
    }
   ],
   "source": [
    "ord('z')"
   ]
  },
  {
   "cell_type": "code",
   "execution_count": 169,
   "id": "079aec26",
   "metadata": {},
   "outputs": [
    {
     "data": {
      "text/plain": [
       "True"
      ]
     },
     "execution_count": 169,
     "metadata": {},
     "output_type": "execute_result"
    }
   ],
   "source": [
    "90 != 122"
   ]
  },
  {
   "cell_type": "markdown",
   "id": "0186f3e5",
   "metadata": {},
   "source": [
    "# Bitwise operations"
   ]
  },
  {
   "cell_type": "code",
   "execution_count": 170,
   "id": "96bd0723",
   "metadata": {},
   "outputs": [
    {
     "data": {
      "text/plain": [
       "True"
      ]
     },
     "execution_count": 170,
     "metadata": {},
     "output_type": "execute_result"
    }
   ],
   "source": [
    "(False) or (True)"
   ]
  },
  {
   "cell_type": "code",
   "execution_count": null,
   "id": "a0361a26",
   "metadata": {},
   "outputs": [],
   "source": []
  }
 ],
 "metadata": {
  "kernelspec": {
   "display_name": "Python 3 (ipykernel)",
   "language": "python",
   "name": "python3"
  },
  "language_info": {
   "codemirror_mode": {
    "name": "ipython",
    "version": 3
   },
   "file_extension": ".py",
   "mimetype": "text/x-python",
   "name": "python",
   "nbconvert_exporter": "python",
   "pygments_lexer": "ipython3",
   "version": "3.9.12"
  }
 },
 "nbformat": 4,
 "nbformat_minor": 5
}
