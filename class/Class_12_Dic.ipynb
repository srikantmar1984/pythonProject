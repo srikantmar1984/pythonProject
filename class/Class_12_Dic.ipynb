{
 "cells": [
  {
   "cell_type": "markdown",
   "id": "4951d33c",
   "metadata": {},
   "source": [
    "# Tuple Packing and unpacking\n",
    "\n",
    "- No of variables on the left hand side should be equal to no of values on the right hand side"
   ]
  },
  {
   "cell_type": "code",
   "execution_count": 2,
   "id": "f6af4981",
   "metadata": {},
   "outputs": [
    {
     "name": "stdout",
     "output_type": "stream",
     "text": [
      "(10, 20, 30, 40, 50) <class 'tuple'>\n"
     ]
    }
   ],
   "source": [
    "# Tuple packing - Assigning multiple vales to a single variable\n",
    "\n",
    "a = 10,20,30,40,50\n",
    "print(a,type(a))"
   ]
  },
  {
   "cell_type": "code",
   "execution_count": 6,
   "id": "d2783de7",
   "metadata": {},
   "outputs": [
    {
     "name": "stdout",
     "output_type": "stream",
     "text": [
      "10.4 <class 'float'>\n",
      "20 <class 'int'>\n",
      "30 <class 'int'>\n",
      "40 <class 'int'>\n",
      "50 <class 'int'>\n",
      "[10.4, 20, 30, 40, 50]\n"
     ]
    }
   ],
   "source": [
    "# Tuple unpackig - assigning each value to one single variable \n",
    "\n",
    "a,b,c,d,e = (10.4,20,30,40,50)\n",
    "\n",
    "\n",
    "print(a,type(a))\n",
    "print(b,type(b))\n",
    "print(c,type(c))\n",
    "print(d,type(d))\n",
    "print(e,type(e))\n",
    "\n",
    "list_1 = [a,b,c,d,e]\n",
    "print(list_1)"
   ]
  },
  {
   "cell_type": "code",
   "execution_count": 3,
   "id": "c2d1d7ea",
   "metadata": {},
   "outputs": [
    {
     "name": "stdout",
     "output_type": "stream",
     "text": [
      "(1, 2, 3)\n",
      "(1, 2, 3) <class 'tuple'>\n"
     ]
    }
   ],
   "source": [
    "a=('a','b','c')\n",
    "b=(1,2,3)\n",
    "a = b\n",
    "print(a)\n",
    "print(a,type(a))\n"
   ]
  },
  {
   "cell_type": "markdown",
   "id": "c33715da",
   "metadata": {},
   "source": [
    "### Usecase of tuple unpacking"
   ]
  },
  {
   "cell_type": "markdown",
   "id": "3dd58242",
   "metadata": {},
   "source": [
    "# Dic "
   ]
  },
  {
   "cell_type": "code",
   "execution_count": 10,
   "id": "ecdb98d6",
   "metadata": {},
   "outputs": [
    {
     "name": "stdout",
     "output_type": "stream",
     "text": [
      "Salahuddin\n",
      "29\n",
      "5600000\n"
     ]
    }
   ],
   "source": [
    "emp_data = ['Salahuddin', 29 , 5600000]\n",
    "# Extract name\n",
    "\n",
    "print(emp_data[0])\n",
    "\n",
    "# Extract age\n",
    "\n",
    "print(emp_data[1])\n",
    "\n",
    "# Extract Salary\n",
    "\n",
    "print(emp_data[2])"
   ]
  },
  {
   "cell_type": "code",
   "execution_count": 11,
   "id": "51a321dc",
   "metadata": {},
   "outputs": [
    {
     "name": "stdout",
     "output_type": "stream",
     "text": [
      "29\n",
      "Salahuddin\n",
      "5600000\n"
     ]
    }
   ],
   "source": [
    "emp_data = [29,'Salahuddin' , 5600000]\n",
    "\n",
    "# Extract name\n",
    "print(emp_data[0])\n",
    "\n",
    "# Extract age\n",
    "print(emp_data[1])\n",
    "\n",
    "# Extract Salary\n",
    "print(emp_data[2])"
   ]
  },
  {
   "cell_type": "code",
   "execution_count": 13,
   "id": "8310d9be",
   "metadata": {},
   "outputs": [
    {
     "ename": "KeyError",
     "evalue": "0",
     "output_type": "error",
     "traceback": [
      "\u001b[1;31m---------------------------------------------------------------------------\u001b[0m",
      "\u001b[1;31mKeyError\u001b[0m                                  Traceback (most recent call last)",
      "Input \u001b[1;32mIn [13]\u001b[0m, in \u001b[0;36m<cell line: 4>\u001b[1;34m()\u001b[0m\n\u001b[0;32m      1\u001b[0m emp_data \u001b[38;5;241m=\u001b[39m {\u001b[38;5;124m'\u001b[39m\u001b[38;5;124mName\u001b[39m\u001b[38;5;124m'\u001b[39m:\u001b[38;5;124m'\u001b[39m\u001b[38;5;124mSalahuddin\u001b[39m\u001b[38;5;124m'\u001b[39m,\u001b[38;5;124m'\u001b[39m\u001b[38;5;124mAge\u001b[39m\u001b[38;5;124m'\u001b[39m:\u001b[38;5;241m29\u001b[39m,\u001b[38;5;124m'\u001b[39m\u001b[38;5;124mSalary\u001b[39m\u001b[38;5;124m'\u001b[39m:\u001b[38;5;241m5600000\u001b[39m}\n\u001b[0;32m      3\u001b[0m \u001b[38;5;66;03m# Extract name\u001b[39;00m\n\u001b[1;32m----> 4\u001b[0m \u001b[38;5;28mprint\u001b[39m(\u001b[43memp_data\u001b[49m\u001b[43m[\u001b[49m\u001b[38;5;241;43m0\u001b[39;49m\u001b[43m]\u001b[49m)\n\u001b[0;32m      6\u001b[0m \u001b[38;5;66;03m# Extract age\u001b[39;00m\n\u001b[0;32m      7\u001b[0m \u001b[38;5;28mprint\u001b[39m(emp_data[\u001b[38;5;241m1\u001b[39m])\n",
      "\u001b[1;31mKeyError\u001b[0m: 0"
     ]
    }
   ],
   "source": [
    "emp_data = {'Name':'Salahuddin','Age':29,'Salary':5600000}\n",
    "\n",
    "# Extract name\n",
    "print(emp_data[0])\n",
    "\n",
    "# Extract age\n",
    "print(emp_data[1])\n",
    "\n",
    "# Extract Salary\n",
    "print(emp_data[2])"
   ]
  },
  {
   "cell_type": "code",
   "execution_count": 14,
   "id": "ac022313",
   "metadata": {},
   "outputs": [
    {
     "name": "stdout",
     "output_type": "stream",
     "text": [
      "Salahuddin\n",
      "29\n",
      "5600000\n"
     ]
    }
   ],
   "source": [
    "emp_data = {'Name':'Salahuddin','Age':29,'Salary':5600000}\n",
    "\n",
    "# Extract name\n",
    "print(emp_data['Name'])\n",
    "\n",
    "# Extract age\n",
    "print(emp_data['Age'])\n",
    "\n",
    "# Extract Salary\n",
    "print(emp_data['Salary'])"
   ]
  },
  {
   "cell_type": "code",
   "execution_count": 15,
   "id": "2cc2e63e",
   "metadata": {},
   "outputs": [
    {
     "name": "stdout",
     "output_type": "stream",
     "text": [
      "Salahuddin\n",
      "29\n",
      "5600000\n"
     ]
    }
   ],
   "source": [
    "emp_data = {'Age':29,'Salary':5600000,'Name':'Salahuddin'}\n",
    "\n",
    "# Extract name\n",
    "print(emp_data['Name'])\n",
    "\n",
    "# Extract age\n",
    "print(emp_data['Age'])\n",
    "\n",
    "# Extract Salary\n",
    "print(emp_data['Salary'])"
   ]
  },
  {
   "cell_type": "code",
   "execution_count": 25,
   "id": "d744349f",
   "metadata": {},
   "outputs": [
    {
     "data": {
      "text/plain": [
       "'Salary'"
      ]
     },
     "execution_count": 25,
     "metadata": {},
     "output_type": "execute_result"
    }
   ],
   "source": [
    "list(emp_data.keys())[1]"
   ]
  },
  {
   "cell_type": "markdown",
   "id": "f7799a40",
   "metadata": {},
   "source": [
    "# Properties of dictionary \n",
    "- It is a collection of value and pair\n",
    "- a key, value is called an item\n",
    "- key and value are seperated by (:)\n",
    "- Key cannot be duplicated where as value can be duplicated \n",
    "- key has to be immutable data type\n",
    "- value can be anything (mutable / immutable)\n",
    "- It is not a seq data type, Hence no Indexing, Slicing, Contatination, Repetition\n",
    "- Membership op are only applicable on keys \n",
    "- Idetity op is possible\n",
    "- It is mutable- The value will be updated"
   ]
  },
  {
   "cell_type": "markdown",
   "id": "05e6ce25",
   "metadata": {},
   "source": [
    "# How to create a dic"
   ]
  },
  {
   "cell_type": "code",
   "execution_count": 42,
   "id": "f0c57432",
   "metadata": {},
   "outputs": [
    {
     "name": "stdout",
     "output_type": "stream",
     "text": [
      "{'emp_1': {'Age': 29, 'Salary': 5600000, 'Name': 'Salahuddin'}, 'emp_2': {'Age': 39, 'Salary': 6600000, 'Name': 'Alan'}, 'emp_3': {'Age': 40, 'Salary': 7600000, 'Name': 'Abhijeet'}} <class 'dict'>\n"
     ]
    }
   ],
   "source": [
    "# If we already know the values\n",
    "\n",
    "emp_data = {'emp_1':{'Age':29,'Salary':5600000,'Name':'Salahuddin'},\n",
    "           'emp_2':{'Age':39,'Salary':6600000,'Name':'Alan'},\n",
    "           'emp_3':{'Age':40,'Salary':7600000,'Name':'Abhijeet'}}\n",
    "\n",
    "print(emp_data , type(emp_data))"
   ]
  },
  {
   "cell_type": "code",
   "execution_count": 43,
   "id": "26912c46",
   "metadata": {},
   "outputs": [
    {
     "data": {
      "text/plain": [
       "dict_keys(['emp_1', 'emp_2', 'emp_3'])"
      ]
     },
     "execution_count": 43,
     "metadata": {},
     "output_type": "execute_result"
    }
   ],
   "source": [
    "emp_data = {'emp_1':{'Age':29,'Salary':5600000,'Name':'Salahuddin'},\n",
    "           'emp_2':{'Age':39,'Salary':6600000,'Name':'Alan'},\n",
    "           'emp_3':{'Age':40,'Salary':7600000,'Name':'Abhijeet'}}\n",
    "\n",
    "emp_data.keys()"
   ]
  },
  {
   "cell_type": "code",
   "execution_count": 44,
   "id": "4566fdda",
   "metadata": {},
   "outputs": [
    {
     "data": {
      "text/plain": [
       "dict_values([{'Age': 29, 'Salary': 5600000, 'Name': 'Salahuddin'}, {'Age': 39, 'Salary': 6600000, 'Name': 'Alan'}, {'Age': 40, 'Salary': 7600000, 'Name': 'Abhijeet'}])"
      ]
     },
     "execution_count": 44,
     "metadata": {},
     "output_type": "execute_result"
    }
   ],
   "source": [
    "emp_data = {'emp_1':{'Age':29,'Salary':5600000,'Name':'Salahuddin'},\n",
    "           'emp_2':{'Age':39,'Salary':6600000,'Name':'Alan'},\n",
    "           'emp_3':{'Age':40,'Salary':7600000,'Name':'Abhijeet'}}\n",
    "\n",
    "emp_data.values()"
   ]
  },
  {
   "cell_type": "code",
   "execution_count": 46,
   "id": "77256326",
   "metadata": {},
   "outputs": [
    {
     "name": "stdout",
     "output_type": "stream",
     "text": [
      "enter the dic  : {'age':70}\n",
      "{'age': 70} <class 'dict'>\n"
     ]
    }
   ],
   "source": [
    "# Taking user input\n",
    "\n",
    "data = eval(input(\"enter the dic  : \"))\n",
    "print(data , type(data))"
   ]
  },
  {
   "cell_type": "code",
   "execution_count": 53,
   "id": "ca7af324",
   "metadata": {},
   "outputs": [
    {
     "ename": "TypeError",
     "evalue": "cannot convert dictionary update sequence element #0 to a sequence",
     "output_type": "error",
     "traceback": [
      "\u001b[1;31m---------------------------------------------------------------------------\u001b[0m",
      "\u001b[1;31mTypeError\u001b[0m                                 Traceback (most recent call last)",
      "Input \u001b[1;32mIn [53]\u001b[0m, in \u001b[0;36m<cell line: 3>\u001b[1;34m()\u001b[0m\n\u001b[0;32m      1\u001b[0m a \u001b[38;5;241m=\u001b[39m [\u001b[38;5;241m1\u001b[39m,\u001b[38;5;241m2\u001b[39m,\u001b[38;5;241m2\u001b[39m,\u001b[38;5;241m34\u001b[39m,\u001b[38;5;241m4\u001b[39m]\n\u001b[1;32m----> 3\u001b[0m \u001b[38;5;28mprint\u001b[39m(\u001b[38;5;28;43mdict\u001b[39;49m\u001b[43m(\u001b[49m\u001b[43ma\u001b[49m\u001b[43m)\u001b[49m)\n",
      "\u001b[1;31mTypeError\u001b[0m: cannot convert dictionary update sequence element #0 to a sequence"
     ]
    }
   ],
   "source": [
    "a = [1,2,2,34,4]\n",
    "\n",
    "print(dict(a))"
   ]
  },
  {
   "cell_type": "code",
   "execution_count": 51,
   "id": "bbe6ca8d",
   "metadata": {},
   "outputs": [
    {
     "name": "stdout",
     "output_type": "stream",
     "text": [
      "{'a': 1, 'b': 2, 'c': 3, 'd': 3}\n"
     ]
    }
   ],
   "source": [
    "# Type casting\n",
    "\n",
    "a = [['a',1],['b',2],['c',3],['d',3]]\n",
    "print(dict(a))"
   ]
  },
  {
   "cell_type": "code",
   "execution_count": 57,
   "id": "ba45ea45",
   "metadata": {},
   "outputs": [
    {
     "name": "stdout",
     "output_type": "stream",
     "text": [
      "{'a': 1, 'b': 2, 'c': 3, 'd': 3}\n"
     ]
    }
   ],
   "source": [
    "\n",
    "a = [('a',1),('b',2),('c',3),('d',3)]\n",
    "print(dict(a))"
   ]
  },
  {
   "cell_type": "code",
   "execution_count": 71,
   "id": "36a0fb97",
   "metadata": {},
   "outputs": [
    {
     "name": "stdout",
     "output_type": "stream",
     "text": [
      "{(4, 5, 6, 7): [1, 2, 43], 'b': 2, 'c': 3, 'd': 3}\n"
     ]
    }
   ],
   "source": [
    "\n",
    "adhar = (4,5,6,7)\n",
    "money = [1,2,43]\n",
    "\n",
    "a = [(adhar,money),('b',2),('c',3),('d',3)]\n",
    "print(dict(a))"
   ]
  },
  {
   "cell_type": "markdown",
   "id": "a2ca7178",
   "metadata": {},
   "source": [
    "# 4th Method \n",
    "- Zip function\n",
    "\n",
    "- syntax ---> zip(iter1 , iter2)"
   ]
  },
  {
   "cell_type": "code",
   "execution_count": 76,
   "id": "92344601",
   "metadata": {},
   "outputs": [
    {
     "data": {
      "text/plain": [
       "{'a': 1, 'b': 2, 'c': 3, 'd': 4}"
      ]
     },
     "execution_count": 76,
     "metadata": {},
     "output_type": "execute_result"
    }
   ],
   "source": [
    "a = [1,2,3,4]\n",
    "b = ['a','b','c','d']\n",
    "\n",
    "dict(list(zip(b , a)))"
   ]
  },
  {
   "cell_type": "code",
   "execution_count": 77,
   "id": "e6bf3b51",
   "metadata": {},
   "outputs": [
    {
     "data": {
      "text/plain": [
       "{'a': 1, 'b': 2, 'c': 3, 'd': 4}"
      ]
     },
     "execution_count": 77,
     "metadata": {},
     "output_type": "execute_result"
    }
   ],
   "source": [
    "a = [1,2,3,4]\n",
    "b = ['a','b','c','d']\n",
    "\n",
    "dict(tuple(zip(b , a)))"
   ]
  },
  {
   "cell_type": "code",
   "execution_count": 80,
   "id": "97471a1b",
   "metadata": {},
   "outputs": [
    {
     "data": {
      "text/plain": [
       "{'a': 1, 'b': 2, 'c': 3, 'd': 4}"
      ]
     },
     "execution_count": 80,
     "metadata": {},
     "output_type": "execute_result"
    }
   ],
   "source": [
    "a = [1,2,3,4]\n",
    "b = ['a','b','c','d']\n",
    "\n",
    "dict(zip(b , a))"
   ]
  },
  {
   "cell_type": "code",
   "execution_count": 81,
   "id": "abcb46f2",
   "metadata": {},
   "outputs": [
    {
     "data": {
      "text/plain": [
       "{'a': 1, 'b': 2}"
      ]
     },
     "execution_count": 81,
     "metadata": {},
     "output_type": "execute_result"
    }
   ],
   "source": [
    "a = [1,2,3,4]\n",
    "b = ['a','b']\n",
    "\n",
    "dict(zip(b , a))"
   ]
  },
  {
   "cell_type": "code",
   "execution_count": 88,
   "id": "73885f99",
   "metadata": {},
   "outputs": [
    {
     "data": {
      "text/plain": [
       "{0: 'a', 1: 'b', 2: 'c', 3: 'd'}"
      ]
     },
     "execution_count": 88,
     "metadata": {},
     "output_type": "execute_result"
    }
   ],
   "source": [
    "# Enumerate\n",
    "\n",
    "a = ['a','b','c','d']\n",
    "dict(list(enumerate(a)))"
   ]
  },
  {
   "cell_type": "code",
   "execution_count": 90,
   "id": "da192766",
   "metadata": {},
   "outputs": [
    {
     "data": {
      "text/plain": [
       "((0, 'a'), (1, 'b'), (2, 'c'), (3, 'd'))"
      ]
     },
     "execution_count": 90,
     "metadata": {},
     "output_type": "execute_result"
    }
   ],
   "source": [
    "\n",
    "a = ('a','b','c','d')\n",
    "tuple(enumerate(a))"
   ]
  },
  {
   "cell_type": "code",
   "execution_count": null,
   "id": "f224baa2",
   "metadata": {},
   "outputs": [],
   "source": []
  },
  {
   "cell_type": "code",
   "execution_count": 96,
   "id": "0c565ee2",
   "metadata": {},
   "outputs": [
    {
     "data": {
      "text/plain": [
       "[(1, 'a'), (2, 'b'), (3, 'c'), (4, 'd')]"
      ]
     },
     "execution_count": 96,
     "metadata": {},
     "output_type": "execute_result"
    }
   ],
   "source": [
    "a = [1,2,3,4]\n",
    "b = ['a','b','c','d']\n",
    "\n",
    "list(zip(a,b))"
   ]
  },
  {
   "cell_type": "code",
   "execution_count": 98,
   "id": "18690055",
   "metadata": {},
   "outputs": [
    {
     "data": {
      "text/plain": [
       "{1: 'a', 2: 'b', 3: 'c', 4: 'd'}"
      ]
     },
     "execution_count": 98,
     "metadata": {},
     "output_type": "execute_result"
    }
   ],
   "source": [
    "a = [1,2,3,4]\n",
    "b = ['a','b','c','d']\n",
    "\n",
    "dict(zip(a,b))"
   ]
  },
  {
   "cell_type": "code",
   "execution_count": null,
   "id": "2e0eb764",
   "metadata": {},
   "outputs": [],
   "source": [
    "# "
   ]
  },
  {
   "cell_type": "code",
   "execution_count": 107,
   "id": "665b00e3",
   "metadata": {},
   "outputs": [
    {
     "data": {
      "text/plain": [
       "{1: 's', 2: 't', 3: 'r', 4: 'i'}"
      ]
     },
     "execution_count": 107,
     "metadata": {},
     "output_type": "execute_result"
    }
   ],
   "source": [
    "a = [1,2,3,4]\n",
    "b = 'stri'\n",
    "\n",
    "dict(zip(a,b))"
   ]
  },
  {
   "cell_type": "markdown",
   "id": "4e02dde6",
   "metadata": {},
   "source": [
    "# Key cannot be duplicate"
   ]
  },
  {
   "cell_type": "code",
   "execution_count": 112,
   "id": "eafcb382",
   "metadata": {},
   "outputs": [
    {
     "data": {
      "text/plain": [
       "{'emp_1': {'Age': 29, 'Salary': 5600000, 'Name': 'Salahuddin'},\n",
       " 'emp_2': {'Age': 39, 'Salary': None, 'Name': 'Alan'},\n",
       " 'emp_3': {'Age': 40, 'Salary': 7600000, 'Name': 'apurva'}}"
      ]
     },
     "execution_count": 112,
     "metadata": {},
     "output_type": "execute_result"
    }
   ],
   "source": [
    "emp_data = {'emp_1':{'Age':29,'Salary':5600000,'Name':'Salahuddin'},\n",
    "           'emp_2':{'Age':39,'Salary':None,'Name':'Alan'},\n",
    "           'emp_3':{'Age':39,'Salary':9000000,'Name':'apurva'},\n",
    "           'emp_3':{'Age':40,'Salary':7600000,'Name':'apurva'}}\n",
    "\n",
    "emp_data"
   ]
  },
  {
   "cell_type": "markdown",
   "id": "d7fec5a9",
   "metadata": {},
   "source": [
    "# Value can be duplicated"
   ]
  },
  {
   "cell_type": "code",
   "execution_count": null,
   "id": "19038cb5",
   "metadata": {},
   "outputs": [],
   "source": [
    "emp_data = {'emp_1':{'Age':29,'Salary':5600000,'Name':'Salahuddin'},\n",
    "           'emp_2':{'Age':39,'Salary':None,'Name':'Alan'},\n",
    "           'emp_3':{'Age':39,'Salary':9000000,'Name':'apurva'},\n",
    "           'emp_4':{'Age':40,'Salary':7600000,'Name':'apurva'}}\n",
    "\n",
    "emp_data"
   ]
  },
  {
   "cell_type": "markdown",
   "id": "8ff1b136",
   "metadata": {},
   "source": [
    "# Key\n",
    "\n",
    "- int\n",
    "- string\n",
    "- float\n",
    "- None\n",
    "- Bool\n",
    "- complex\n",
    "- tuple\n",
    "\n",
    "Value can be anything\n"
   ]
  },
  {
   "cell_type": "code",
   "execution_count": 115,
   "id": "7b1cbb76",
   "metadata": {},
   "outputs": [
    {
     "ename": "TypeError",
     "evalue": "unhashable type: 'set'",
     "output_type": "error",
     "traceback": [
      "\u001b[1;31m---------------------------------------------------------------------------\u001b[0m",
      "\u001b[1;31mTypeError\u001b[0m                                 Traceback (most recent call last)",
      "Input \u001b[1;32mIn [115]\u001b[0m, in \u001b[0;36m<cell line: 1>\u001b[1;34m()\u001b[0m\n\u001b[1;32m----> 1\u001b[0m emp_data \u001b[38;5;241m=\u001b[39m {\u001b[38;5;124m'\u001b[39m\u001b[38;5;124memp_1\u001b[39m\u001b[38;5;124m'\u001b[39m:{\u001b[38;5;124m'\u001b[39m\u001b[38;5;124mAge\u001b[39m\u001b[38;5;124m'\u001b[39m:\u001b[38;5;241m29\u001b[39m,\u001b[38;5;124m'\u001b[39m\u001b[38;5;124mSalary\u001b[39m\u001b[38;5;124m'\u001b[39m:\u001b[38;5;241m5600000\u001b[39m,\u001b[38;5;124m'\u001b[39m\u001b[38;5;124mName\u001b[39m\u001b[38;5;124m'\u001b[39m:\u001b[38;5;124m'\u001b[39m\u001b[38;5;124mSalahuddin\u001b[39m\u001b[38;5;124m'\u001b[39m},\n\u001b[0;32m      2\u001b[0m            \u001b[38;5;124m'\u001b[39m\u001b[38;5;124memp_2\u001b[39m\u001b[38;5;124m'\u001b[39m:{\u001b[38;5;124m'\u001b[39m\u001b[38;5;124mAge\u001b[39m\u001b[38;5;124m'\u001b[39m:\u001b[38;5;241m39\u001b[39m,\u001b[38;5;124m'\u001b[39m\u001b[38;5;124mSalary\u001b[39m\u001b[38;5;124m'\u001b[39m:\u001b[38;5;28;01mNone\u001b[39;00m,\u001b[38;5;124m'\u001b[39m\u001b[38;5;124mName\u001b[39m\u001b[38;5;124m'\u001b[39m:\u001b[38;5;124m'\u001b[39m\u001b[38;5;124mAlan\u001b[39m\u001b[38;5;124m'\u001b[39m},\n\u001b[0;32m      3\u001b[0m            {\u001b[38;5;241m1\u001b[39m,\u001b[38;5;241m23\u001b[39m}:{\u001b[38;5;124m'\u001b[39m\u001b[38;5;124mAge\u001b[39m\u001b[38;5;124m'\u001b[39m:\u001b[38;5;241m39\u001b[39m,\u001b[38;5;124m'\u001b[39m\u001b[38;5;124mSalary\u001b[39m\u001b[38;5;124m'\u001b[39m:\u001b[38;5;241m9000000\u001b[39m,\u001b[38;5;124m'\u001b[39m\u001b[38;5;124mName\u001b[39m\u001b[38;5;124m'\u001b[39m:\u001b[38;5;124m'\u001b[39m\u001b[38;5;124mapurva\u001b[39m\u001b[38;5;124m'\u001b[39m},\n\u001b[0;32m      4\u001b[0m            \u001b[38;5;124m'\u001b[39m\u001b[38;5;124memp_4\u001b[39m\u001b[38;5;124m'\u001b[39m:{\u001b[38;5;124m'\u001b[39m\u001b[38;5;124mAge\u001b[39m\u001b[38;5;124m'\u001b[39m:\u001b[38;5;241m40\u001b[39m,\u001b[38;5;124m'\u001b[39m\u001b[38;5;124mSalary\u001b[39m\u001b[38;5;124m'\u001b[39m:\u001b[38;5;241m7600000\u001b[39m,\u001b[38;5;124m'\u001b[39m\u001b[38;5;124mName\u001b[39m\u001b[38;5;124m'\u001b[39m:\u001b[38;5;124m'\u001b[39m\u001b[38;5;124mapurva\u001b[39m\u001b[38;5;124m'\u001b[39m}}\n\u001b[0;32m      6\u001b[0m emp_data\n",
      "\u001b[1;31mTypeError\u001b[0m: unhashable type: 'set'"
     ]
    }
   ],
   "source": [
    "emp_data = {'emp_1':{'Age':29,'Salary':5600000,'Name':'Salahuddin'},\n",
    "           'emp_2':{'Age':39,'Salary':None,'Name':'Alan'},\n",
    "           {1,23}:{'Age':39,'Salary':9000000,'Name':'apurva'},\n",
    "           'emp_4':{'Age':40,'Salary':7600000,'Name':'apurva'}}\n",
    "\n",
    "emp_data"
   ]
  },
  {
   "cell_type": "code",
   "execution_count": 116,
   "id": "2f579bb1",
   "metadata": {},
   "outputs": [
    {
     "ename": "KeyError",
     "evalue": "0",
     "output_type": "error",
     "traceback": [
      "\u001b[1;31m---------------------------------------------------------------------------\u001b[0m",
      "\u001b[1;31mKeyError\u001b[0m                                  Traceback (most recent call last)",
      "Input \u001b[1;32mIn [116]\u001b[0m, in \u001b[0;36m<cell line: 8>\u001b[1;34m()\u001b[0m\n\u001b[0;32m      1\u001b[0m \u001b[38;5;66;03m# Indexing\u001b[39;00m\n\u001b[0;32m      3\u001b[0m emp_data \u001b[38;5;241m=\u001b[39m {\u001b[38;5;124m'\u001b[39m\u001b[38;5;124memp_1\u001b[39m\u001b[38;5;124m'\u001b[39m:{\u001b[38;5;124m'\u001b[39m\u001b[38;5;124mAge\u001b[39m\u001b[38;5;124m'\u001b[39m:\u001b[38;5;241m29\u001b[39m,\u001b[38;5;124m'\u001b[39m\u001b[38;5;124mSalary\u001b[39m\u001b[38;5;124m'\u001b[39m:\u001b[38;5;241m5600000\u001b[39m,\u001b[38;5;124m'\u001b[39m\u001b[38;5;124mName\u001b[39m\u001b[38;5;124m'\u001b[39m:\u001b[38;5;124m'\u001b[39m\u001b[38;5;124mSalahuddin\u001b[39m\u001b[38;5;124m'\u001b[39m},\n\u001b[0;32m      4\u001b[0m            \u001b[38;5;124m'\u001b[39m\u001b[38;5;124memp_2\u001b[39m\u001b[38;5;124m'\u001b[39m:{\u001b[38;5;124m'\u001b[39m\u001b[38;5;124mAge\u001b[39m\u001b[38;5;124m'\u001b[39m:\u001b[38;5;241m39\u001b[39m,\u001b[38;5;124m'\u001b[39m\u001b[38;5;124mSalary\u001b[39m\u001b[38;5;124m'\u001b[39m:\u001b[38;5;28;01mNone\u001b[39;00m,\u001b[38;5;124m'\u001b[39m\u001b[38;5;124mName\u001b[39m\u001b[38;5;124m'\u001b[39m:\u001b[38;5;124m'\u001b[39m\u001b[38;5;124mAlan\u001b[39m\u001b[38;5;124m'\u001b[39m},\n\u001b[0;32m      5\u001b[0m            \u001b[38;5;124m'\u001b[39m\u001b[38;5;124memp_3\u001b[39m\u001b[38;5;124m'\u001b[39m:{\u001b[38;5;124m'\u001b[39m\u001b[38;5;124mAge\u001b[39m\u001b[38;5;124m'\u001b[39m:\u001b[38;5;241m39\u001b[39m,\u001b[38;5;124m'\u001b[39m\u001b[38;5;124mSalary\u001b[39m\u001b[38;5;124m'\u001b[39m:\u001b[38;5;241m9000000\u001b[39m,\u001b[38;5;124m'\u001b[39m\u001b[38;5;124mName\u001b[39m\u001b[38;5;124m'\u001b[39m:\u001b[38;5;124m'\u001b[39m\u001b[38;5;124mapurva\u001b[39m\u001b[38;5;124m'\u001b[39m},\n\u001b[0;32m      6\u001b[0m            \u001b[38;5;124m'\u001b[39m\u001b[38;5;124memp_4\u001b[39m\u001b[38;5;124m'\u001b[39m:{\u001b[38;5;124m'\u001b[39m\u001b[38;5;124mAge\u001b[39m\u001b[38;5;124m'\u001b[39m:\u001b[38;5;241m40\u001b[39m,\u001b[38;5;124m'\u001b[39m\u001b[38;5;124mSalary\u001b[39m\u001b[38;5;124m'\u001b[39m:\u001b[38;5;241m7600000\u001b[39m,\u001b[38;5;124m'\u001b[39m\u001b[38;5;124mName\u001b[39m\u001b[38;5;124m'\u001b[39m:\u001b[38;5;124m'\u001b[39m\u001b[38;5;124mapurva\u001b[39m\u001b[38;5;124m'\u001b[39m}}\n\u001b[1;32m----> 8\u001b[0m \u001b[43memp_data\u001b[49m\u001b[43m[\u001b[49m\u001b[38;5;241;43m0\u001b[39;49m\u001b[43m]\u001b[49m\n",
      "\u001b[1;31mKeyError\u001b[0m: 0"
     ]
    }
   ],
   "source": [
    "# Indexing\n",
    "\n",
    "emp_data = {'emp_1':{'Age':29,'Salary':5600000,'Name':'Salahuddin'},\n",
    "           'emp_2':{'Age':39,'Salary':None,'Name':'Alan'},\n",
    "           'emp_3':{'Age':39,'Salary':9000000,'Name':'apurva'},\n",
    "           'emp_4':{'Age':40,'Salary':7600000,'Name':'apurva'}}\n",
    "\n",
    "emp_data[0]"
   ]
  },
  {
   "cell_type": "code",
   "execution_count": 117,
   "id": "e26bba84",
   "metadata": {},
   "outputs": [
    {
     "ename": "TypeError",
     "evalue": "unhashable type: 'slice'",
     "output_type": "error",
     "traceback": [
      "\u001b[1;31m---------------------------------------------------------------------------\u001b[0m",
      "\u001b[1;31mTypeError\u001b[0m                                 Traceback (most recent call last)",
      "Input \u001b[1;32mIn [117]\u001b[0m, in \u001b[0;36m<cell line: 7>\u001b[1;34m()\u001b[0m\n\u001b[0;32m      1\u001b[0m \u001b[38;5;66;03m# Slicing\u001b[39;00m\n\u001b[0;32m      2\u001b[0m emp_data \u001b[38;5;241m=\u001b[39m {\u001b[38;5;124m'\u001b[39m\u001b[38;5;124memp_1\u001b[39m\u001b[38;5;124m'\u001b[39m:{\u001b[38;5;124m'\u001b[39m\u001b[38;5;124mAge\u001b[39m\u001b[38;5;124m'\u001b[39m:\u001b[38;5;241m29\u001b[39m,\u001b[38;5;124m'\u001b[39m\u001b[38;5;124mSalary\u001b[39m\u001b[38;5;124m'\u001b[39m:\u001b[38;5;241m5600000\u001b[39m,\u001b[38;5;124m'\u001b[39m\u001b[38;5;124mName\u001b[39m\u001b[38;5;124m'\u001b[39m:\u001b[38;5;124m'\u001b[39m\u001b[38;5;124mSalahuddin\u001b[39m\u001b[38;5;124m'\u001b[39m},\n\u001b[0;32m      3\u001b[0m            \u001b[38;5;124m'\u001b[39m\u001b[38;5;124memp_2\u001b[39m\u001b[38;5;124m'\u001b[39m:{\u001b[38;5;124m'\u001b[39m\u001b[38;5;124mAge\u001b[39m\u001b[38;5;124m'\u001b[39m:\u001b[38;5;241m39\u001b[39m,\u001b[38;5;124m'\u001b[39m\u001b[38;5;124mSalary\u001b[39m\u001b[38;5;124m'\u001b[39m:\u001b[38;5;28;01mNone\u001b[39;00m,\u001b[38;5;124m'\u001b[39m\u001b[38;5;124mName\u001b[39m\u001b[38;5;124m'\u001b[39m:\u001b[38;5;124m'\u001b[39m\u001b[38;5;124mAlan\u001b[39m\u001b[38;5;124m'\u001b[39m},\n\u001b[0;32m      4\u001b[0m            \u001b[38;5;124m'\u001b[39m\u001b[38;5;124memp_3\u001b[39m\u001b[38;5;124m'\u001b[39m:{\u001b[38;5;124m'\u001b[39m\u001b[38;5;124mAge\u001b[39m\u001b[38;5;124m'\u001b[39m:\u001b[38;5;241m39\u001b[39m,\u001b[38;5;124m'\u001b[39m\u001b[38;5;124mSalary\u001b[39m\u001b[38;5;124m'\u001b[39m:\u001b[38;5;241m9000000\u001b[39m,\u001b[38;5;124m'\u001b[39m\u001b[38;5;124mName\u001b[39m\u001b[38;5;124m'\u001b[39m:\u001b[38;5;124m'\u001b[39m\u001b[38;5;124mapurva\u001b[39m\u001b[38;5;124m'\u001b[39m},\n\u001b[0;32m      5\u001b[0m            \u001b[38;5;124m'\u001b[39m\u001b[38;5;124memp_4\u001b[39m\u001b[38;5;124m'\u001b[39m:{\u001b[38;5;124m'\u001b[39m\u001b[38;5;124mAge\u001b[39m\u001b[38;5;124m'\u001b[39m:\u001b[38;5;241m40\u001b[39m,\u001b[38;5;124m'\u001b[39m\u001b[38;5;124mSalary\u001b[39m\u001b[38;5;124m'\u001b[39m:\u001b[38;5;241m7600000\u001b[39m,\u001b[38;5;124m'\u001b[39m\u001b[38;5;124mName\u001b[39m\u001b[38;5;124m'\u001b[39m:\u001b[38;5;124m'\u001b[39m\u001b[38;5;124mapurva\u001b[39m\u001b[38;5;124m'\u001b[39m}}\n\u001b[1;32m----> 7\u001b[0m \u001b[43memp_data\u001b[49m\u001b[43m[\u001b[49m\u001b[38;5;241;43m0\u001b[39;49m\u001b[43m:\u001b[49m\u001b[38;5;241;43m1\u001b[39;49m\u001b[43m]\u001b[49m\n",
      "\u001b[1;31mTypeError\u001b[0m: unhashable type: 'slice'"
     ]
    }
   ],
   "source": [
    "# Slicing\n",
    "emp_data = {'emp_1':{'Age':29,'Salary':5600000,'Name':'Salahuddin'},\n",
    "           'emp_2':{'Age':39,'Salary':None,'Name':'Alan'},\n",
    "           'emp_3':{'Age':39,'Salary':9000000,'Name':'apurva'},\n",
    "           'emp_4':{'Age':40,'Salary':7600000,'Name':'apurva'}}\n",
    "\n",
    "emp_data[0:1]"
   ]
  },
  {
   "cell_type": "code",
   "execution_count": 118,
   "id": "e72b5a41",
   "metadata": {},
   "outputs": [
    {
     "ename": "TypeError",
     "evalue": "unsupported operand type(s) for +: 'dict' and 'dict'",
     "output_type": "error",
     "traceback": [
      "\u001b[1;31m---------------------------------------------------------------------------\u001b[0m",
      "\u001b[1;31mTypeError\u001b[0m                                 Traceback (most recent call last)",
      "Input \u001b[1;32mIn [118]\u001b[0m, in \u001b[0;36m<cell line: 1>\u001b[1;34m()\u001b[0m\n\u001b[1;32m----> 1\u001b[0m \u001b[43memp_data\u001b[49m\u001b[43m \u001b[49m\u001b[38;5;241;43m+\u001b[39;49m\u001b[43m \u001b[49m\u001b[43memp_data\u001b[49m\n",
      "\u001b[1;31mTypeError\u001b[0m: unsupported operand type(s) for +: 'dict' and 'dict'"
     ]
    }
   ],
   "source": [
    "# Concat\n",
    "emp_data + emp_data"
   ]
  },
  {
   "cell_type": "code",
   "execution_count": 119,
   "id": "fc46a3d2",
   "metadata": {},
   "outputs": [
    {
     "ename": "TypeError",
     "evalue": "unsupported operand type(s) for *: 'dict' and 'int'",
     "output_type": "error",
     "traceback": [
      "\u001b[1;31m---------------------------------------------------------------------------\u001b[0m",
      "\u001b[1;31mTypeError\u001b[0m                                 Traceback (most recent call last)",
      "Input \u001b[1;32mIn [119]\u001b[0m, in \u001b[0;36m<cell line: 2>\u001b[1;34m()\u001b[0m\n\u001b[0;32m      1\u001b[0m \u001b[38;5;66;03m# Repetition\u001b[39;00m\n\u001b[1;32m----> 2\u001b[0m \u001b[43memp_data\u001b[49m\u001b[43m \u001b[49m\u001b[38;5;241;43m*\u001b[39;49m\u001b[38;5;241;43m2\u001b[39;49m\n",
      "\u001b[1;31mTypeError\u001b[0m: unsupported operand type(s) for *: 'dict' and 'int'"
     ]
    }
   ],
   "source": [
    "# Repetition\n",
    "emp_data *2"
   ]
  },
  {
   "cell_type": "code",
   "execution_count": 122,
   "id": "807be129",
   "metadata": {},
   "outputs": [
    {
     "name": "stdout",
     "output_type": "stream",
     "text": [
      "False\n"
     ]
    }
   ],
   "source": [
    "# membership\n",
    "\n",
    "emp_data = {'emp_1':{'Age':29,'Salary':5600000,'Name':'Salahuddin'},\n",
    "           'emp_2':{'Age':39,'Salary':None,'Name':'Alan'},\n",
    "           'emp_3':{'Age':39,'Salary':9000000,'Name':'apurva'},\n",
    "           'emp_4':{'Age':40,'Salary':7600000,'Name':'apurva'}}\n",
    "\n",
    "print('Age' in emp_data)"
   ]
  },
  {
   "cell_type": "code",
   "execution_count": 123,
   "id": "605663fa",
   "metadata": {},
   "outputs": [
    {
     "name": "stdout",
     "output_type": "stream",
     "text": [
      "True\n"
     ]
    }
   ],
   "source": [
    "# membership\n",
    "\n",
    "emp_data = {'emp_1':{'Age':29,'Salary':5600000,'Name':'Salahuddin'},\n",
    "           'emp_2':{'Age':39,'Salary':None,'Name':'Alan'},\n",
    "           'emp_3':{'Age':39,'Salary':9000000,'Name':'apurva'},\n",
    "           'emp_4':{'Age':40,'Salary':7600000,'Name':'apurva'}}\n",
    "\n",
    "print('Age' in emp_data['emp_1'])"
   ]
  },
  {
   "cell_type": "code",
   "execution_count": 125,
   "id": "e9b80773",
   "metadata": {},
   "outputs": [
    {
     "data": {
      "text/plain": [
       "'Salahuddin'"
      ]
     },
     "execution_count": 125,
     "metadata": {},
     "output_type": "execute_result"
    }
   ],
   "source": [
    "# Extract my name form the dic\n",
    "\n",
    "\n",
    "emp_data = {'emp_1':{'Age':29,'Salary':5600000,'Name':'Salahuddin'},\n",
    "           'emp_2':{'Age':39,'Salary':None,'Name':'Alan'},\n",
    "           'emp_3':{'Age':39,'Salary':9000000,'Name':'apurva'},\n",
    "           'emp_4':{'Age':40,'Salary':7600000,'Name':'apurva'}}\n",
    "\n",
    "emp_data['emp_1']['Name']"
   ]
  },
  {
   "cell_type": "code",
   "execution_count": 160,
   "id": "c12f8061",
   "metadata": {},
   "outputs": [
    {
     "data": {
      "text/plain": [
       "'nhoJ'"
      ]
     },
     "execution_count": 160,
     "metadata": {},
     "output_type": "execute_result"
    }
   ],
   "source": [
    "emp_data = {'emp_1':{'Age':56,'Salary':5600000,'Name':'Salahuddin'},\n",
    "           'emp_2':{'Age':27,'Salary':60000,'Name':'John'},\n",
    "           'emp_3':{'Age':25,'Salary':9000000,'Name':'apurva'},\n",
    "           'emp_4':{'Age':40,'Salary':7600000,'Name':'apurva'}}\n",
    "\n",
    "emp_data['emp_2']['Name'][::-1]"
   ]
  },
  {
   "cell_type": "code",
   "execution_count": 161,
   "id": "91549298",
   "metadata": {},
   "outputs": [
    {
     "name": "stdout",
     "output_type": "stream",
     "text": [
      "John\n",
      "apurva\n"
     ]
    }
   ],
   "source": [
    "# Extract the name of the employees whose age is less than 30\n",
    "# Keys\n",
    "# Values \n",
    "# Items\n",
    "\n",
    "for i in emp_data.keys():\n",
    "    if emp_data[i]['Age']< 30:\n",
    "        print(emp_data[i]['Name'])\n"
   ]
  },
  {
   "cell_type": "markdown",
   "id": "295e0985",
   "metadata": {},
   "source": [
    "# Dic Methods"
   ]
  },
  {
   "cell_type": "code",
   "execution_count": null,
   "id": "c7ccddcf",
   "metadata": {},
   "outputs": [],
   "source": []
  },
  {
   "cell_type": "code",
   "execution_count": 165,
   "id": "593ab2fd",
   "metadata": {},
   "outputs": [
    {
     "data": {
      "text/plain": [
       "{'Age': 56, 'Salary': 5600000, 'Name': 'Salahuddin'}"
      ]
     },
     "execution_count": 165,
     "metadata": {},
     "output_type": "execute_result"
    }
   ],
   "source": [
    "emp_data = {'emp_1':{'Age':56,'Salary':5600000,'Name':'Salahuddin'},\n",
    "           'emp_2':{'Age':'27','Salary':60000,'Name':'John'},\n",
    "           'emp_3':{'Age':25,'Salary':9000000,'Name':'apurva'},\n",
    "           'emp_4':{'Age':'40','Salary':7600000,'Name':'apurva'}}\n",
    "emp_data['emp_1']"
   ]
  },
  {
   "cell_type": "code",
   "execution_count": 170,
   "id": "4f0cb088",
   "metadata": {},
   "outputs": [
    {
     "name": "stdout",
     "output_type": "stream",
     "text": [
      "56\n",
      "27\n",
      "Name is John and age is 27\n",
      "25\n",
      "Name is apurva and age is 25\n",
      "40\n"
     ]
    }
   ],
   "source": [
    "for n_list in emp_data:\n",
    "    print(emp_data[n_list]['Age'])\n",
    "    if int(emp_data[n_list]['Age']) < 30:\n",
    "        print(f\"Name is {emp_data[n_list]['Name']} and age is {emp_data[n_list]['Age']}\")\n"
   ]
  },
  {
   "cell_type": "code",
   "execution_count": null,
   "id": "5ad56246",
   "metadata": {},
   "outputs": [],
   "source": []
  },
  {
   "cell_type": "code",
   "execution_count": null,
   "id": "cc26d4e3",
   "metadata": {},
   "outputs": [],
   "source": []
  }
 ],
 "metadata": {
  "kernelspec": {
   "display_name": "Python 3 (ipykernel)",
   "language": "python",
   "name": "python3"
  },
  "language_info": {
   "codemirror_mode": {
    "name": "ipython",
    "version": 3
   },
   "file_extension": ".py",
   "mimetype": "text/x-python",
   "name": "python",
   "nbconvert_exporter": "python",
   "pygments_lexer": "ipython3",
   "version": "3.9.12"
  }
 },
 "nbformat": 4,
 "nbformat_minor": 5
}
