{
 "cells": [
  {
   "cell_type": "markdown",
   "id": "b4e731e9",
   "metadata": {},
   "source": [
    "# Break\n",
    "\n",
    "* The break keywork is used to break out of the loop"
   ]
  },
  {
   "cell_type": "code",
   "execution_count": 1,
   "id": "05126e04",
   "metadata": {},
   "outputs": [
    {
     "name": "stdout",
     "output_type": "stream",
     "text": [
      "1\n",
      "2\n",
      "3\n",
      "4\n",
      "5\n",
      "6\n",
      "7\n",
      "8\n"
     ]
    }
   ],
   "source": [
    "a = [1,2,3,4,5,6,7,8]\n",
    "\n",
    "for i in a:\n",
    "    print(i)"
   ]
  },
  {
   "cell_type": "code",
   "execution_count": 2,
   "id": "622113f7",
   "metadata": {},
   "outputs": [
    {
     "name": "stdout",
     "output_type": "stream",
     "text": [
      "1\n",
      "2\n",
      "3\n",
      "4\n",
      "stat\n"
     ]
    }
   ],
   "source": [
    "a = [1,2,3,4,5,6,7,8]\n",
    "\n",
    "for i in a:\n",
    "    if i ==5:\n",
    "        break\n",
    "    print(i)\n",
    "    \n",
    "print('stat')"
   ]
  },
  {
   "cell_type": "code",
   "execution_count": 3,
   "id": "6b3949fe",
   "metadata": {},
   "outputs": [
    {
     "name": "stdout",
     "output_type": "stream",
     "text": [
      "0\n",
      "1\n",
      "2\n",
      "3\n",
      "4\n",
      "5\n",
      "6\n",
      "7\n",
      "8\n"
     ]
    }
   ],
   "source": [
    "i = 0\n",
    "while i <9:\n",
    "    print(i)\n",
    "    i+=1"
   ]
  },
  {
   "cell_type": "code",
   "execution_count": 6,
   "id": "39865507",
   "metadata": {},
   "outputs": [
    {
     "name": "stdout",
     "output_type": "stream",
     "text": [
      "0\n",
      "1\n",
      "2\n",
      "3\n",
      "4\n"
     ]
    }
   ],
   "source": [
    "i = 0\n",
    "while i <9:\n",
    "    if i == 5:\n",
    "        break\n",
    "    print(i)\n",
    "    i+=1"
   ]
  },
  {
   "cell_type": "markdown",
   "id": "854c004d",
   "metadata": {},
   "source": [
    "# Continue statement\n",
    "\n",
    "- The continue keyword is used to end the current iteration and execute the next one"
   ]
  },
  {
   "cell_type": "code",
   "execution_count": 8,
   "id": "68ebc6aa",
   "metadata": {},
   "outputs": [
    {
     "name": "stdout",
     "output_type": "stream",
     "text": [
      "python\n",
      "learnbay\n"
     ]
    }
   ],
   "source": [
    "a = ['python','learnbay','zoom','googlepay','phonepay']\n",
    "\n",
    "for i in a:\n",
    "    if i == 'zoom':\n",
    "        break\n",
    "    print(i)"
   ]
  },
  {
   "cell_type": "code",
   "execution_count": 9,
   "id": "ee83cfb2",
   "metadata": {},
   "outputs": [
    {
     "name": "stdout",
     "output_type": "stream",
     "text": [
      "1\n",
      "2\n",
      "3\n",
      "4\n",
      "6\n",
      "7\n",
      "8\n",
      "stat\n"
     ]
    }
   ],
   "source": [
    "a = [1,2,3,4,5,6,7,8]\n",
    "\n",
    "for i in a:\n",
    "    if i ==5:\n",
    "        continue\n",
    "    print(i)\n",
    "    \n",
    "print('stat')"
   ]
  },
  {
   "cell_type": "code",
   "execution_count": 10,
   "id": "50d9f8d3",
   "metadata": {},
   "outputs": [
    {
     "name": "stdout",
     "output_type": "stream",
     "text": [
      "python\n",
      "learnbay\n",
      "googlepay\n",
      "phonepay\n"
     ]
    }
   ],
   "source": [
    "a = ['python','learnbay','zoom','googlepay','phonepay']\n",
    "\n",
    "for i in a:\n",
    "    if i == 'zoom':\n",
    "        continue\n",
    "    print(i)"
   ]
  },
  {
   "cell_type": "code",
   "execution_count": 11,
   "id": "12fb5d41",
   "metadata": {},
   "outputs": [
    {
     "name": "stdout",
     "output_type": "stream",
     "text": [
      "a\n",
      "b\n",
      "d\n",
      "e\n"
     ]
    }
   ],
   "source": [
    "a = ['a','b','c','d','e']\n",
    "\n",
    "for i in a:\n",
    "    if i == 'c':\n",
    "        continue\n",
    "    print(i)"
   ]
  },
  {
   "cell_type": "code",
   "execution_count": null,
   "id": "d3480a38",
   "metadata": {},
   "outputs": [],
   "source": [
    "a = [1,2,3,4,5,6,7,8]\n",
    "\n",
    "for i in a:\n",
    "    if i == 4:\n",
    "        pass\n",
    "    print(i)"
   ]
  },
  {
   "cell_type": "markdown",
   "id": "cceaa758",
   "metadata": {},
   "source": [
    "# pass"
   ]
  },
  {
   "cell_type": "code",
   "execution_count": 12,
   "id": "57021c07",
   "metadata": {},
   "outputs": [
    {
     "name": "stdout",
     "output_type": "stream",
     "text": [
      "1\n",
      "2\n",
      "3\n",
      "4\n",
      "5\n",
      "6\n",
      "7\n",
      "8\n"
     ]
    }
   ],
   "source": [
    "a = [1,2,3,4,5,6,7,8]\n",
    "\n",
    "for i in a:\n",
    "    if i == 4:\n",
    "        pass\n",
    "    print(i)"
   ]
  },
  {
   "cell_type": "code",
   "execution_count": null,
   "id": "8f33d394",
   "metadata": {},
   "outputs": [],
   "source": [
    "a = ['a','b','c','d','e']\n",
    "\n",
    "for i in a:\n",
    "    if i == 'a':\n",
    "        print('code1')\n",
    "    if i == 'b':\n",
    "        print('code2')\n",
    "    if i == 'c':\n",
    "        print('hello life')\n",
    "        continue\n",
    "        print('hello world')\n",
    "    if i == 'd':\n",
    "        print('code3')\n",
    "    print(i)"
   ]
  },
  {
   "cell_type": "code",
   "execution_count": 5,
   "id": "89c587ea",
   "metadata": {},
   "outputs": [
    {
     "name": "stdout",
     "output_type": "stream",
     "text": [
      "code1\n",
      "code2\n",
      "code3\n",
      "code4\n"
     ]
    }
   ],
   "source": [
    "a = ['a','b','c','d','e']\n",
    "\n",
    "for i in a:\n",
    "    if i == 'a':\n",
    "        print('code1')\n",
    "    if i == 'b':\n",
    "        print('code2')\n",
    "    if i == 'c':\n",
    "        pass\n",
    "    if i == 'd':\n",
    "        print('code3')\n",
    "    if i == 'e':\n",
    "        print('code4')"
   ]
  },
  {
   "cell_type": "code",
   "execution_count": 35,
   "id": "441b5970",
   "metadata": {},
   "outputs": [
    {
     "name": "stdout",
     "output_type": "stream",
     "text": [
      "code a\n",
      "hello life\n",
      "loop ended\n"
     ]
    }
   ],
   "source": [
    "a = ['a','b','c','d','e']\n",
    "\n",
    "\n",
    "for i in a:\n",
    "    if i == 'a':\n",
    "        print('code a')\n",
    "    if i == 'b':\n",
    "        continue\n",
    "        print('code b')\n",
    "    if i == 'c':\n",
    "        print('hello life')\n",
    "        break\n",
    "        print('hello world')\n",
    "    if i == 'd':\n",
    "        pass\n",
    "        print('code d')\n",
    "    if i == 'e':\n",
    "        print('code e')\n",
    "        \n",
    "print('loop ended')"
   ]
  },
  {
   "cell_type": "code",
   "execution_count": 30,
   "id": "11f22a7d",
   "metadata": {},
   "outputs": [
    {
     "name": "stdout",
     "output_type": "stream",
     "text": [
      "world\n"
     ]
    }
   ],
   "source": [
    "a = 1\n",
    "\n",
    "if a == 10:\n",
    "    print('hello')\n",
    "    \n",
    "else:\n",
    "    print('world')"
   ]
  },
  {
   "cell_type": "code",
   "execution_count": 32,
   "id": "f06ec2e7",
   "metadata": {},
   "outputs": [
    {
     "name": "stdout",
     "output_type": "stream",
     "text": [
      "['ArithmeticError', 'AssertionError', 'AttributeError', 'BaseException', 'BlockingIOError', 'BrokenPipeError', 'BufferError', 'BytesWarning', 'ChildProcessError', 'ConnectionAbortedError', 'ConnectionError', 'ConnectionRefusedError', 'ConnectionResetError', 'DeprecationWarning', 'EOFError', 'Ellipsis', 'EnvironmentError', 'Exception', 'False', 'FileExistsError', 'FileNotFoundError', 'FloatingPointError', 'FutureWarning', 'GeneratorExit', 'IOError', 'ImportError', 'ImportWarning', 'IndentationError', 'IndexError', 'InterruptedError', 'IsADirectoryError', 'KeyError', 'KeyboardInterrupt', 'LookupError', 'MemoryError', 'ModuleNotFoundError', 'NameError', 'None', 'NotADirectoryError', 'NotImplemented', 'NotImplementedError', 'OSError', 'OverflowError', 'PendingDeprecationWarning', 'PermissionError', 'ProcessLookupError', 'RecursionError', 'ReferenceError', 'ResourceWarning', 'RuntimeError', 'RuntimeWarning', 'StopAsyncIteration', 'StopIteration', 'SyntaxError', 'SyntaxWarning', 'SystemError', 'SystemExit', 'TabError', 'TimeoutError', 'True', 'TypeError', 'UnboundLocalError', 'UnicodeDecodeError', 'UnicodeEncodeError', 'UnicodeError', 'UnicodeTranslateError', 'UnicodeWarning', 'UserWarning', 'ValueError', 'Warning', 'WindowsError', 'ZeroDivisionError', '__IPYTHON__', '__build_class__', '__debug__', '__doc__', '__import__', '__loader__', '__name__', '__package__', '__spec__', 'abs', 'all', 'any', 'ascii', 'bin', 'bool', 'breakpoint', 'bytearray', 'bytes', 'callable', 'chr', 'classmethod', 'compile', 'complex', 'copyright', 'credits', 'delattr', 'dict', 'dir', 'display', 'divmod', 'enumerate', 'eval', 'exec', 'execfile', 'filter', 'float', 'format', 'frozenset', 'get_ipython', 'getattr', 'globals', 'hasattr', 'hash', 'help', 'hex', 'id', 'input', 'int', 'isinstance', 'issubclass', 'iter', 'len', 'license', 'list', 'locals', 'map', 'max', 'memoryview', 'min', 'next', 'object', 'oct', 'open', 'ord', 'pow', 'print', 'property', 'range', 'repr', 'reversed', 'round', 'runfile', 'set', 'setattr', 'slice', 'sorted', 'staticmethod', 'str', 'sum', 'super', 'tuple', 'type', 'vars', 'zip']\n"
     ]
    }
   ],
   "source": [
    "print(dir(__builtins__))"
   ]
  },
  {
   "cell_type": "code",
   "execution_count": 34,
   "id": "59203667",
   "metadata": {},
   "outputs": [
    {
     "name": "stdout",
     "output_type": "stream",
     "text": [
      "['False', 'None', 'True', '__peg_parser__', 'and', 'as', 'assert', 'async', 'await', 'break', 'class', 'continue', 'def', 'del', 'elif', 'else', 'except', 'finally', 'for', 'from', 'global', 'if', 'import', 'in', 'is', 'lambda', 'nonlocal', 'not', 'or', 'pass', 'raise', 'return', 'try', 'while', 'with', 'yield']\n"
     ]
    }
   ],
   "source": [
    "import keyword\n",
    "print(keyword.kwlist)"
   ]
  },
  {
   "cell_type": "markdown",
   "id": "fe035417",
   "metadata": {},
   "source": [
    "# Functions"
   ]
  },
  {
   "cell_type": "code",
   "execution_count": 37,
   "id": "4be8bc8f",
   "metadata": {},
   "outputs": [
    {
     "name": "stdout",
     "output_type": "stream",
     "text": [
      "no\n",
      "30\n",
      "no\n"
     ]
    }
   ],
   "source": [
    "# Task 1\n",
    "str_1 = 'abc'\n",
    "\n",
    "if str_1 == str_1[::-1]:\n",
    "    print('yes')\n",
    "else:\n",
    "    print('no')\n",
    "\n",
    "\n",
    "# Task2\n",
    "num1 = 10\n",
    "num2 =20\n",
    "print(num1 + num2)\n",
    "\n",
    "\n",
    "# task 3\n",
    "\n",
    "str_1 = 'xyz'\n",
    "\n",
    "if str_1 == str_1[::-1]:\n",
    "    print('yes')\n",
    "else:\n",
    "    print('no')\n"
   ]
  },
  {
   "cell_type": "code",
   "execution_count": null,
   "id": "4ff54e40",
   "metadata": {},
   "outputs": [],
   "source": [
    "# best practices\n",
    "\n",
    "- code should be written in such a manner so that it is understanding\n",
    "- code should be written in minimal line"
   ]
  },
  {
   "cell_type": "markdown",
   "id": "9c27d2c6",
   "metadata": {},
   "source": [
    "# Function DRY ( Do not repeat)\n",
    "\n",
    "- Function defination - we define the code that we want\n",
    "- Function call - we execute this code\n",
    "\n",
    "# Syntax\n",
    "def function_name(parameters):\n",
    "    stat1\n",
    "    stat2\n",
    "    stat3\n",
    "    return stat4\n",
    "\n",
    "\n",
    "# Things that are optional \n",
    "- parameters\n",
    "- return\n",
    "\n",
    "\n",
    "\n",
    "# Funtion call\n",
    "- function_name(arguments)\n",
    "\n",
    "# Note : If parameters are there then the arg will also be there"
   ]
  },
  {
   "cell_type": "code",
   "execution_count": 41,
   "id": "751e9d9f",
   "metadata": {},
   "outputs": [],
   "source": [
    "# function defination\n",
    "def sum_1():\n",
    "    print('stat')\n",
    "    print(10+20)"
   ]
  },
  {
   "cell_type": "code",
   "execution_count": 42,
   "id": "7131b0e7",
   "metadata": {},
   "outputs": [
    {
     "name": "stdout",
     "output_type": "stream",
     "text": [
      "stat\n",
      "30\n"
     ]
    }
   ],
   "source": [
    "# Function call\n",
    "sum_1()"
   ]
  },
  {
   "cell_type": "code",
   "execution_count": 43,
   "id": "2354f23f",
   "metadata": {},
   "outputs": [
    {
     "name": "stdout",
     "output_type": "stream",
     "text": [
      "stat\n",
      "30\n",
      "stat\n",
      "30\n",
      "stat\n",
      "30\n",
      "stat\n",
      "30\n"
     ]
    }
   ],
   "source": [
    "sum_1()\n",
    "sum_1()\n",
    "sum_1()\n",
    "sum_1()"
   ]
  },
  {
   "cell_type": "code",
   "execution_count": 44,
   "id": "28569038",
   "metadata": {},
   "outputs": [],
   "source": [
    "def sum_1(a,b):\n",
    "    print(a+b)"
   ]
  },
  {
   "cell_type": "code",
   "execution_count": 49,
   "id": "9d545ec9",
   "metadata": {},
   "outputs": [
    {
     "name": "stdout",
     "output_type": "stream",
     "text": [
      "70\n",
      "80\n"
     ]
    }
   ],
   "source": [
    "sum_1(50 , 20)\n",
    "sum_1(60,20)"
   ]
  },
  {
   "cell_type": "code",
   "execution_count": 45,
   "id": "2763f6ca",
   "metadata": {},
   "outputs": [
    {
     "ename": "TypeError",
     "evalue": "range expected at least 1 argument, got 0",
     "output_type": "error",
     "traceback": [
      "\u001b[1;31m---------------------------------------------------------------------------\u001b[0m",
      "\u001b[1;31mTypeError\u001b[0m                                 Traceback (most recent call last)",
      "Input \u001b[1;32mIn [45]\u001b[0m, in \u001b[0;36m<cell line: 1>\u001b[1;34m()\u001b[0m\n\u001b[1;32m----> 1\u001b[0m \u001b[38;5;28;43mrange\u001b[39;49m\u001b[43m(\u001b[49m\u001b[43m)\u001b[49m\n",
      "\u001b[1;31mTypeError\u001b[0m: range expected at least 1 argument, got 0"
     ]
    }
   ],
   "source": [
    "range()"
   ]
  },
  {
   "cell_type": "code",
   "execution_count": 60,
   "id": "c4a8edcd",
   "metadata": {},
   "outputs": [],
   "source": [
    "# Write a function which will tell if the string is palindrom or no\n",
    "\n",
    "def palindrom(a):\n",
    "    '''Please pass only string values'''\n",
    "    if a == a[::-1]:\n",
    "        print('palindrom')\n",
    "    else:\n",
    "        print('no')"
   ]
  },
  {
   "cell_type": "code",
   "execution_count": 61,
   "id": "fac79224",
   "metadata": {},
   "outputs": [
    {
     "name": "stdout",
     "output_type": "stream",
     "text": [
      "palindrom\n",
      "no\n",
      "palindrom\n"
     ]
    },
    {
     "ename": "TypeError",
     "evalue": "'int' object is not subscriptable",
     "output_type": "error",
     "traceback": [
      "\u001b[1;31m---------------------------------------------------------------------------\u001b[0m",
      "\u001b[1;31mTypeError\u001b[0m                                 Traceback (most recent call last)",
      "Input \u001b[1;32mIn [61]\u001b[0m, in \u001b[0;36m<cell line: 4>\u001b[1;34m()\u001b[0m\n\u001b[0;32m      2\u001b[0m palindrom(\u001b[38;5;124m'\u001b[39m\u001b[38;5;124mMaam\u001b[39m\u001b[38;5;124m'\u001b[39m)\n\u001b[0;32m      3\u001b[0m palindrom(\u001b[38;5;124m'\u001b[39m\u001b[38;5;124mrotor\u001b[39m\u001b[38;5;124m'\u001b[39m)\n\u001b[1;32m----> 4\u001b[0m \u001b[43mpalindrom\u001b[49m\u001b[43m(\u001b[49m\u001b[38;5;241;43m55\u001b[39;49m\u001b[43m)\u001b[49m\n",
      "Input \u001b[1;32mIn [60]\u001b[0m, in \u001b[0;36mpalindrom\u001b[1;34m(a)\u001b[0m\n\u001b[0;32m      3\u001b[0m \u001b[38;5;28;01mdef\u001b[39;00m \u001b[38;5;21mpalindrom\u001b[39m(a):\n\u001b[0;32m      4\u001b[0m     \u001b[38;5;124;03m'''Please pass only string values'''\u001b[39;00m\n\u001b[1;32m----> 5\u001b[0m     \u001b[38;5;28;01mif\u001b[39;00m a \u001b[38;5;241m==\u001b[39m \u001b[43ma\u001b[49m\u001b[43m[\u001b[49m\u001b[43m:\u001b[49m\u001b[43m:\u001b[49m\u001b[38;5;241;43m-\u001b[39;49m\u001b[38;5;241;43m1\u001b[39;49m\u001b[43m]\u001b[49m:\n\u001b[0;32m      6\u001b[0m         \u001b[38;5;28mprint\u001b[39m(\u001b[38;5;124m'\u001b[39m\u001b[38;5;124mpalindrom\u001b[39m\u001b[38;5;124m'\u001b[39m)\n\u001b[0;32m      7\u001b[0m     \u001b[38;5;28;01melse\u001b[39;00m:\n",
      "\u001b[1;31mTypeError\u001b[0m: 'int' object is not subscriptable"
     ]
    }
   ],
   "source": [
    "palindrom('LEVEL')\n",
    "palindrom('Maam')\n",
    "palindrom('rotor')\n",
    "palindrom(55)"
   ]
  },
  {
   "cell_type": "code",
   "execution_count": 62,
   "id": "6eec4f14",
   "metadata": {},
   "outputs": [],
   "source": [
    "# Write a function which will tell if the string is palindrom or no\n",
    "\n",
    "def even(a):\n",
    "    if a%2 == 0:\n",
    "        print('even')\n",
    "    else:\n",
    "        print('odd')"
   ]
  },
  {
   "cell_type": "code",
   "execution_count": 64,
   "id": "218a2cf6",
   "metadata": {},
   "outputs": [
    {
     "name": "stdout",
     "output_type": "stream",
     "text": [
      "even\n"
     ]
    }
   ],
   "source": [
    "even(88)"
   ]
  },
  {
   "cell_type": "code",
   "execution_count": 65,
   "id": "742b8ad3",
   "metadata": {},
   "outputs": [
    {
     "name": "stdout",
     "output_type": "stream",
     "text": [
      "no\n",
      "30\n",
      "no\n"
     ]
    }
   ],
   "source": [
    "# Task 1\n",
    "str_1 = 'abc'\n",
    "palindrom(str_1)\n",
    "\n",
    "# Task2\n",
    "num1 = 10\n",
    "num2 =20\n",
    "print(num1 + num2)\n",
    "\n",
    "\n",
    "# task 3\n",
    "\n",
    "str_2 = 'xyz'\n",
    "palindrom(str_2)\n"
   ]
  },
  {
   "cell_type": "markdown",
   "id": "ad7675b8",
   "metadata": {},
   "source": [
    "# Types of arguments\n",
    "\n",
    "3 types of arguments\n",
    "\n",
    "\n",
    "1. Positional arguments:\n",
    "    * order is imp\n",
    "    * num of args should match with the number of parameters"
   ]
  },
  {
   "cell_type": "code",
   "execution_count": 68,
   "id": "be28a2dd",
   "metadata": {},
   "outputs": [
    {
     "name": "stdout",
     "output_type": "stream",
     "text": [
      "python\n",
      "zero\n",
      "15\n"
     ]
    }
   ],
   "source": [
    "def emp_info(emp_name , emp_salary , emp_age):\n",
    "    print(emp_name)\n",
    "    print(emp_salary)\n",
    "    print(emp_age)\n",
    "    \n",
    "emp_info('python','zero',15)"
   ]
  },
  {
   "cell_type": "code",
   "execution_count": 69,
   "id": "dbbb66e8",
   "metadata": {},
   "outputs": [
    {
     "ename": "TypeError",
     "evalue": "emp_info() missing 1 required positional argument: 'emp_age'",
     "output_type": "error",
     "traceback": [
      "\u001b[1;31m---------------------------------------------------------------------------\u001b[0m",
      "\u001b[1;31mTypeError\u001b[0m                                 Traceback (most recent call last)",
      "Input \u001b[1;32mIn [69]\u001b[0m, in \u001b[0;36m<cell line: 6>\u001b[1;34m()\u001b[0m\n\u001b[0;32m      3\u001b[0m     \u001b[38;5;28mprint\u001b[39m(emp_salary)\n\u001b[0;32m      4\u001b[0m     \u001b[38;5;28mprint\u001b[39m(emp_age)\n\u001b[1;32m----> 6\u001b[0m \u001b[43memp_info\u001b[49m\u001b[43m(\u001b[49m\u001b[38;5;124;43m'\u001b[39;49m\u001b[38;5;124;43mpython\u001b[39;49m\u001b[38;5;124;43m'\u001b[39;49m\u001b[43m,\u001b[49m\u001b[38;5;124;43m'\u001b[39;49m\u001b[38;5;124;43mzero\u001b[39;49m\u001b[38;5;124;43m'\u001b[39;49m\u001b[43m)\u001b[49m\n",
      "\u001b[1;31mTypeError\u001b[0m: emp_info() missing 1 required positional argument: 'emp_age'"
     ]
    }
   ],
   "source": [
    "def emp_info(emp_name , emp_salary , emp_age):\n",
    "    print(emp_name)\n",
    "    print(emp_salary)\n",
    "    print(emp_age)\n",
    "    \n",
    "emp_info('python','zero')"
   ]
  },
  {
   "cell_type": "code",
   "execution_count": 70,
   "id": "2dfa6dc9",
   "metadata": {},
   "outputs": [
    {
     "name": "stdout",
     "output_type": "stream",
     "text": [
      "zero\n",
      "15\n",
      "python\n"
     ]
    }
   ],
   "source": [
    "def emp_info(emp_name , emp_salary , emp_age):\n",
    "    print(emp_name)\n",
    "    print(emp_salary)\n",
    "    print(emp_age)\n",
    "    \n",
    "emp_info('zero',15,'python')"
   ]
  },
  {
   "cell_type": "markdown",
   "id": "1ff8d1da",
   "metadata": {},
   "source": [
    "# 2. Default arg\n",
    "\n"
   ]
  },
  {
   "cell_type": "code",
   "execution_count": 72,
   "id": "9470fd7c",
   "metadata": {},
   "outputs": [
    {
     "name": "stdout",
     "output_type": "stream",
     "text": [
      "python\n",
      "zero\n",
      "15\n",
      "Goa\n"
     ]
    }
   ],
   "source": [
    "def emp_info(emp_name , emp_salary , emp_age , emp_location = 'Goa'):\n",
    "    print(emp_name)\n",
    "    print(emp_salary)\n",
    "    print(emp_age)\n",
    "    print(emp_location)\n",
    "    \n",
    "emp_info('python','zero',15)"
   ]
  },
  {
   "cell_type": "code",
   "execution_count": 73,
   "id": "67539684",
   "metadata": {},
   "outputs": [
    {
     "name": "stdout",
     "output_type": "stream",
     "text": [
      "python\n",
      "zero\n",
      "15\n",
      "Bangalore\n"
     ]
    }
   ],
   "source": [
    "def emp_info(emp_name , emp_salary , emp_age , emp_location = 'Goa'):\n",
    "    print(emp_name)\n",
    "    print(emp_salary)\n",
    "    print(emp_age)\n",
    "    print(emp_location)\n",
    "    \n",
    "emp_info('python','zero',15, emp_location = 'Bangalore')"
   ]
  },
  {
   "cell_type": "code",
   "execution_count": 74,
   "id": "aec3f4bc",
   "metadata": {},
   "outputs": [
    {
     "name": "stdout",
     "output_type": "stream",
     "text": [
      "python\n",
      "zero\n",
      "15\n",
      "bangalore\n"
     ]
    }
   ],
   "source": [
    "def emp_info(emp_name , emp_salary , emp_age , emp_location = 'Goa'):\n",
    "    print(emp_name)\n",
    "    print(emp_salary)\n",
    "    print(emp_age)\n",
    "    print(emp_location)\n",
    "    \n",
    "emp_info('python','zero',15,'bangalore')"
   ]
  },
  {
   "cell_type": "code",
   "execution_count": 77,
   "id": "6350ef01",
   "metadata": {},
   "outputs": [
    {
     "ename": "TypeError",
     "evalue": "emp_info() missing 1 required positional argument: 'emp_age'",
     "output_type": "error",
     "traceback": [
      "\u001b[1;31m---------------------------------------------------------------------------\u001b[0m",
      "\u001b[1;31mTypeError\u001b[0m                                 Traceback (most recent call last)",
      "Input \u001b[1;32mIn [77]\u001b[0m, in \u001b[0;36m<cell line: 1>\u001b[1;34m()\u001b[0m\n\u001b[1;32m----> 1\u001b[0m \u001b[43memp_info\u001b[49m\u001b[43m(\u001b[49m\u001b[38;5;124;43m'\u001b[39;49m\u001b[38;5;124;43mpython\u001b[39;49m\u001b[38;5;124;43m'\u001b[39;49m\u001b[43m,\u001b[49m\u001b[38;5;124;43m'\u001b[39;49m\u001b[38;5;124;43mzero\u001b[39;49m\u001b[38;5;124;43m'\u001b[39;49m\u001b[43m)\u001b[49m\n",
      "\u001b[1;31mTypeError\u001b[0m: emp_info() missing 1 required positional argument: 'emp_age'"
     ]
    }
   ],
   "source": [
    "    \n",
    "emp_info('python','zero')"
   ]
  },
  {
   "cell_type": "code",
   "execution_count": 79,
   "id": "e92956d6",
   "metadata": {},
   "outputs": [],
   "source": [
    "def emp_info(emp_name , emp_salary , emp_age , emp_location = 'Goa', emp_pin = 56666):\n",
    "    print(emp_name)\n",
    "    print(emp_salary)\n",
    "    print(emp_age)\n",
    "    print(emp_location)\n",
    "    print(emp_pin)\n",
    "    "
   ]
  },
  {
   "cell_type": "code",
   "execution_count": 80,
   "id": "fb21b231",
   "metadata": {},
   "outputs": [
    {
     "name": "stdout",
     "output_type": "stream",
     "text": [
      "learnbay\n",
      "55555\n",
      "40\n",
      "Goa\n",
      "56666\n"
     ]
    }
   ],
   "source": [
    "emp_info(emp_salary=55555,emp_age = 40,emp_name='learnbay')\n"
   ]
  },
  {
   "cell_type": "code",
   "execution_count": 81,
   "id": "d037c3e0",
   "metadata": {},
   "outputs": [
    {
     "name": "stdout",
     "output_type": "stream",
     "text": [
      "55555\n",
      "40\n",
      "learnbay\n",
      "Goa\n",
      "56666\n"
     ]
    }
   ],
   "source": [
    "emp_info(55555, 40,'learnbay')\n"
   ]
  },
  {
   "cell_type": "code",
   "execution_count": 97,
   "id": "8cfd994b",
   "metadata": {},
   "outputs": [
    {
     "name": "stdout",
     "output_type": "stream",
     "text": [
      "p\n",
      "yy\n",
      "ttt\n",
      "hhhh\n",
      "ooooo\n",
      "nnnnnn\n"
     ]
    }
   ],
   "source": [
    "a = 'python'\n",
    "\n",
    "for i,j in enumerate(a,1):\n",
    "    print(j*i)"
   ]
  },
  {
   "cell_type": "code",
   "execution_count": 100,
   "id": "08b97761",
   "metadata": {},
   "outputs": [
    {
     "data": {
      "text/plain": [
       "[(1, 'p'), (2, 'y'), (3, 't'), (4, 'h'), (5, 'o'), (6, 'n')]"
      ]
     },
     "execution_count": 100,
     "metadata": {},
     "output_type": "execute_result"
    }
   ],
   "source": [
    "list(enumerate(a,1))"
   ]
  },
  {
   "cell_type": "code",
   "execution_count": 92,
   "id": "9f3d0676",
   "metadata": {},
   "outputs": [
    {
     "name": "stdout",
     "output_type": "stream",
     "text": [
      "1\n"
     ]
    }
   ],
   "source": [
    "a,b = (1, 'p')\n",
    "print(a)"
   ]
  },
  {
   "cell_type": "markdown",
   "id": "8069356e",
   "metadata": {},
   "source": [
    "# Function- return , a function without a name(lambda) , map, reduce , filter"
   ]
  },
  {
   "cell_type": "code",
   "execution_count": null,
   "id": "83125587",
   "metadata": {},
   "outputs": [],
   "source": []
  },
  {
   "cell_type": "code",
   "execution_count": null,
   "id": "2cc1da94",
   "metadata": {},
   "outputs": [],
   "source": []
  },
  {
   "cell_type": "code",
   "execution_count": null,
   "id": "18ca88f5",
   "metadata": {},
   "outputs": [],
   "source": []
  },
  {
   "cell_type": "code",
   "execution_count": null,
   "id": "5f47f7d6",
   "metadata": {},
   "outputs": [],
   "source": []
  }
 ],
 "metadata": {
  "kernelspec": {
   "display_name": "Python 3 (ipykernel)",
   "language": "python",
   "name": "python3"
  },
  "language_info": {
   "codemirror_mode": {
    "name": "ipython",
    "version": 3
   },
   "file_extension": ".py",
   "mimetype": "text/x-python",
   "name": "python",
   "nbconvert_exporter": "python",
   "pygments_lexer": "ipython3",
   "version": "3.9.12"
  }
 },
 "nbformat": 4,
 "nbformat_minor": 5
}
