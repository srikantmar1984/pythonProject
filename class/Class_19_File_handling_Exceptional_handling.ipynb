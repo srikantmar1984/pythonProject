{
 "cells": [
  {
   "cell_type": "markdown",
   "id": "c2d8e4fd",
   "metadata": {},
   "source": [
    "# read and write - 'r+'\n",
    "\n",
    "* if the file exists then it will open the file in read mode and places the cusor at the begining\n",
    "* if the file does not exist it will throw an error\n",
    "* you are to write and read from the file"
   ]
  },
  {
   "cell_type": "code",
   "execution_count": 1,
   "id": "1147f497",
   "metadata": {},
   "outputs": [
    {
     "ename": "FileNotFoundError",
     "evalue": "[Errno 2] No such file or directory: 'read_write_mode.txt'",
     "output_type": "error",
     "traceback": [
      "\u001b[1;31m---------------------------------------------------------------------------\u001b[0m",
      "\u001b[1;31mFileNotFoundError\u001b[0m                         Traceback (most recent call last)",
      "Input \u001b[1;32mIn [1]\u001b[0m, in \u001b[0;36m<cell line: 2>\u001b[1;34m()\u001b[0m\n\u001b[0;32m      1\u001b[0m \u001b[38;5;66;03m# If the file is not der\u001b[39;00m\n\u001b[1;32m----> 2\u001b[0m f \u001b[38;5;241m=\u001b[39m \u001b[38;5;28;43mopen\u001b[39;49m\u001b[43m(\u001b[49m\u001b[38;5;124;43m'\u001b[39;49m\u001b[38;5;124;43mread_write_mode.txt\u001b[39;49m\u001b[38;5;124;43m'\u001b[39;49m\u001b[43m \u001b[49m\u001b[43m,\u001b[49m\u001b[43m \u001b[49m\u001b[38;5;124;43m'\u001b[39;49m\u001b[38;5;124;43mr+\u001b[39;49m\u001b[38;5;124;43m'\u001b[39;49m\u001b[43m)\u001b[49m\n",
      "\u001b[1;31mFileNotFoundError\u001b[0m: [Errno 2] No such file or directory: 'read_write_mode.txt'"
     ]
    }
   ],
   "source": [
    "# If the file is not der\n",
    "f = open('read_write_mode.txt' , 'r+')"
   ]
  },
  {
   "cell_type": "code",
   "execution_count": 6,
   "id": "20769141",
   "metadata": {},
   "outputs": [
    {
     "name": "stdout",
     "output_type": "stream",
     "text": [
      "0\n",
      "sfdsdfsdfds\n",
      "fs\n",
      "d\n",
      "fs\n",
      "df\n",
      "dsfsdfs\n",
      "0\n"
     ]
    }
   ],
   "source": [
    "# If the file is not der\n",
    "f = open('read_write_mode.txt' , 'r+')\n",
    "\n",
    "print(f.tell())\n",
    "print(f.read())\n",
    "print(f.seek(0))\n",
    "f.write('Hello world')\n",
    "\n",
    "\n",
    "f.close()"
   ]
  },
  {
   "cell_type": "code",
   "execution_count": 8,
   "id": "c6c6eafb",
   "metadata": {},
   "outputs": [
    {
     "name": "stdout",
     "output_type": "stream",
     "text": [
      "0\n",
      "user_name : existing@mail\n",
      "password : pass\n",
      "13\n"
     ]
    }
   ],
   "source": [
    "# If the file is not der\n",
    "f = open('read_write_mode.txt' , 'r+')\n",
    "\n",
    "print(f.tell())\n",
    "print(f.read())\n",
    "print(f.seek(13))\n",
    "f.write('python@gmail.com')\n",
    "\n",
    "f.close()"
   ]
  },
  {
   "cell_type": "code",
   "execution_count": null,
   "id": "3508e4a8",
   "metadata": {},
   "outputs": [],
   "source": [
    "# Append and read mode - 'a+'\n",
    "\n",
    "* If the file does not exist - It will create a new file \n",
    "* If the file exist it will open the file and places the cursor at the end\n",
    "* You are allowed to write into the file and also allowed to read from it\n",
    "* append will always write the data at the last so f.seek() will not work"
   ]
  },
  {
   "cell_type": "code",
   "execution_count": 9,
   "id": "a3027594",
   "metadata": {},
   "outputs": [
    {
     "data": {
      "text/plain": [
       "0"
      ]
     },
     "execution_count": 9,
     "metadata": {},
     "output_type": "execute_result"
    }
   ],
   "source": [
    "# if the file is not present\n",
    "\n",
    "f = open('append_read.py' , 'a+')\n",
    "f.tell()"
   ]
  },
  {
   "cell_type": "code",
   "execution_count": 13,
   "id": "16889081",
   "metadata": {},
   "outputs": [
    {
     "name": "stdout",
     "output_type": "stream",
     "text": [
      "67\n",
      "2\n"
     ]
    }
   ],
   "source": [
    "# if the file is not present\n",
    "\n",
    "f = open('append_read.py' , 'a+')\n",
    "print(f.tell())\n",
    "print(f.seek(2))\n",
    "f.write('something')\n",
    "\n",
    "f.flush()\n",
    "f.write('\\nhello world')\n",
    "f.flush()"
   ]
  },
  {
   "cell_type": "code",
   "execution_count": 17,
   "id": "e1777dcb",
   "metadata": {},
   "outputs": [
    {
     "name": "stdout",
     "output_type": "stream",
     "text": [
      "116\n",
      "2\n",
      "2\n",
      "ssadas\n",
      "asdsadsadsad\n",
      "sadasdsadsad\n",
      "dsasadsadsada\n",
      "somethingsomethingsomething\n",
      "hello worldsomethingsomethingsomething\n",
      "hello worldsomething\n"
     ]
    },
    {
     "data": {
      "text/plain": [
       "12"
      ]
     },
     "execution_count": 17,
     "metadata": {},
     "output_type": "execute_result"
    }
   ],
   "source": [
    "# if the file is not present\n",
    "\n",
    "f = open('append_read.py' , 'a+')\n",
    "print(f.tell())\n",
    "print(f.seek(2))\n",
    "f.write('something')\n",
    "print(f.seek(2))\n",
    "print(f.read())\n",
    "f.flush()\n",
    "f.write('\\nhello world')\n"
   ]
  },
  {
   "cell_type": "markdown",
   "id": "01446117",
   "metadata": {},
   "source": [
    "# methods to do the operations Read Mode\n",
    "\n",
    "* read() ---> It will read the whole content\n",
    "* read(char) ---> reads the specified numbers of char from the current position \n",
    "* readline() ---> It willl read the current line from the current position\n",
    "* readlines()  ----> it will read all the lines from the current position"
   ]
  },
  {
   "cell_type": "code",
   "execution_count": 20,
   "id": "b9db4241",
   "metadata": {},
   "outputs": [
    {
     "data": {
      "text/plain": [
       "'messi plays for barcelona\\nronaldo plays for manu\\nneymar plays for paris\\nxavi plays for something'"
      ]
     },
     "execution_count": 20,
     "metadata": {},
     "output_type": "execute_result"
    }
   ],
   "source": [
    "f = open('football.txt' , 'r')\n",
    "f.read()\n"
   ]
  },
  {
   "cell_type": "code",
   "execution_count": 24,
   "id": "ee80ac32",
   "metadata": {},
   "outputs": [
    {
     "name": "stdout",
     "output_type": "stream",
     "text": [
      "messi plays\n",
      "11\n"
     ]
    }
   ],
   "source": [
    "f = open('football.txt' , 'r')\n",
    "print(f.read(11))\n",
    "print(f.tell())"
   ]
  },
  {
   "cell_type": "code",
   "execution_count": 32,
   "id": "00e49f40",
   "metadata": {},
   "outputs": [
    {
     "name": "stdout",
     "output_type": "stream",
     "text": [
      "messi plays for barcelona\n",
      "\n"
     ]
    }
   ],
   "source": [
    "f = open('football.txt' , 'r')\n",
    "print(f.readline())"
   ]
  },
  {
   "cell_type": "code",
   "execution_count": 26,
   "id": "6de2d8aa",
   "metadata": {},
   "outputs": [
    {
     "data": {
      "text/plain": [
       "['messi plays for barcelona\\n',\n",
       " 'ronaldo plays for manu\\n',\n",
       " 'neymar plays for paris\\n',\n",
       " 'xavi plays for something']"
      ]
     },
     "execution_count": 26,
     "metadata": {},
     "output_type": "execute_result"
    }
   ],
   "source": [
    "f = open('football.txt' , 'r')\n",
    "f.readlines()"
   ]
  },
  {
   "cell_type": "code",
   "execution_count": 33,
   "id": "66a5b555",
   "metadata": {},
   "outputs": [
    {
     "name": "stdout",
     "output_type": "stream",
     "text": [
      "messi plays for barcelona\n",
      "\n",
      "ronaldo plays for manu\n",
      "\n"
     ]
    }
   ],
   "source": [
    "f = open('football.txt' , 'r')\n",
    "print(f.read(26))\n",
    "#print(f.seek(26))\n",
    "print(f.readline())"
   ]
  },
  {
   "cell_type": "code",
   "execution_count": 38,
   "id": "4dbbee83",
   "metadata": {},
   "outputs": [],
   "source": [
    "f = open('poem.txt', 'r')\n",
    "\n",
    "my_str = f.read()"
   ]
  },
  {
   "cell_type": "code",
   "execution_count": 39,
   "id": "5a48afde",
   "metadata": {},
   "outputs": [
    {
     "data": {
      "text/plain": [
       "'Today is the anniversary of the publication of Robert Frosts iconic poem \"Stopping by Woods on a Snowy Evening,\" a fact that spurred the Literary Hub office into a long conversation about their favorite poems, the most iconic poems written in English, and which poems we should all have already read (or at least be reading next). Turns out, despite frequent (false) claims that poetry is dead and/or irrelevant and/or boring, there are plenty of poems that have sunk deep into our collective consciousness as cultural icons. (What makes a poem iconic? For our purposes here, its primarily a matter of cultural ubiquity, though unimpeachable excellence helps any case.) So for those of you who were not present for our epic office argument, I have listed some of them here.'"
      ]
     },
     "execution_count": 39,
     "metadata": {},
     "output_type": "execute_result"
    }
   ],
   "source": [
    "my_str"
   ]
  },
  {
   "cell_type": "code",
   "execution_count": 51,
   "id": "b8665996",
   "metadata": {},
   "outputs": [
    {
     "name": "stdout",
     "output_type": "stream",
     "text": [
      "805\n",
      "6\n",
      "130\n"
     ]
    }
   ],
   "source": [
    "f = open('poem.txt', 'r')\n",
    "# Count the number of char\n",
    "no_of_char = len(f.read())\n",
    "f.seek(0)\n",
    "# count the number of lines \n",
    "no_of_lines = len(f.readlines())\n",
    "f.seek(0)\n",
    "# count the number of words\n",
    "no_of_words = len(f.read().split())\n",
    "\n",
    "\n",
    "print(no_of_char)\n",
    "print(no_of_lines)\n",
    "print(no_of_words)"
   ]
  },
  {
   "cell_type": "code",
   "execution_count": 43,
   "id": "6dd4f7a2",
   "metadata": {},
   "outputs": [],
   "source": [
    "f = open('poem.txt', 'a')\n",
    "\n",
    "f.write('python')\n",
    "f.close()"
   ]
  },
  {
   "cell_type": "code",
   "execution_count": 46,
   "id": "4e187ac2",
   "metadata": {},
   "outputs": [
    {
     "name": "stdout",
     "output_type": "stream",
     "text": [
      "803\n"
     ]
    }
   ],
   "source": [
    "with open('poem.txt', 'a') as f:\n",
    "    f.write('learnbay')\n",
    "    print(f.tell())"
   ]
  },
  {
   "cell_type": "code",
   "execution_count": null,
   "id": "db93756a",
   "metadata": {},
   "outputs": [],
   "source": [
    "# Methods to do the operations on Write mode\n",
    "\n",
    "* write('str')\n",
    "* writelines( ['str_1','str_2'])"
   ]
  },
  {
   "cell_type": "code",
   "execution_count": 47,
   "id": "b72c7606",
   "metadata": {},
   "outputs": [
    {
     "name": "stdout",
     "output_type": "stream",
     "text": [
      "8\n"
     ]
    }
   ],
   "source": [
    "with open('f1.txt', 'w+') as f:\n",
    "    f.write('learnbay')\n",
    "    print(f.tell())"
   ]
  },
  {
   "cell_type": "code",
   "execution_count": 50,
   "id": "9f1a0f9e",
   "metadata": {},
   "outputs": [
    {
     "name": "stdout",
     "output_type": "stream",
     "text": [
      "30\n"
     ]
    }
   ],
   "source": [
    "with open('f1.txt', 'w+') as f:\n",
    "    f.writelines(['learnbay' , '\\nData science' , '\\npython'])\n",
    "    print(f.tell())"
   ]
  },
  {
   "cell_type": "code",
   "execution_count": 56,
   "id": "0596b2fa",
   "metadata": {},
   "outputs": [],
   "source": [
    "# IMAGE \n",
    "\n",
    "# JPEG\n",
    "\n",
    "# open the image in img.jpeg , copy the content and then save the image in img.png\n",
    "\n",
    "\n",
    "f = open('python.jpg', 'rb')\n",
    "myimg = f.read()\n",
    "f1 = open('my_image.png', 'wb')\n",
    "f1.write(myimg)\n",
    "f1.close()"
   ]
  },
  {
   "cell_type": "code",
   "execution_count": null,
   "id": "d4181a6f",
   "metadata": {},
   "outputs": [],
   "source": [
    "# Save that as a module, import , image converter "
   ]
  },
  {
   "cell_type": "code",
   "execution_count": 55,
   "id": "ae5b393b",
   "metadata": {},
   "outputs": [
    {
     "name": "stdout",
     "output_type": "stream",
     "text": [
      "<_io.BufferedReader name='my_str.png'>\n"
     ]
    }
   ],
   "source": [
    "f1 = open('my_str.png', 'rb')\n",
    "print(f1)"
   ]
  },
  {
   "cell_type": "markdown",
   "id": "d06fe73a",
   "metadata": {},
   "source": [
    "# Exceptional Handling"
   ]
  },
  {
   "cell_type": "code",
   "execution_count": null,
   "id": "935bf652",
   "metadata": {},
   "outputs": [],
   "source": [
    "# Types of errors \n",
    "\n",
    "1. compile time error ---> syntax, indentation\n",
    "2. run time error ---> divided by zero error, type error, name error\n",
    "3. logical error --> made by the user\n",
    "\n",
    "\n",
    "Note - > exeptional handling can handle only run time error"
   ]
  },
  {
   "cell_type": "code",
   "execution_count": 61,
   "id": "e0f2446c",
   "metadata": {},
   "outputs": [
    {
     "name": "stdout",
     "output_type": "stream",
     "text": [
      "['ArithmeticError', 'AssertionError', 'AttributeError', 'BaseException', 'BlockingIOError', 'BrokenPipeError', 'BufferError', 'BytesWarning', 'ChildProcessError', 'ConnectionAbortedError', 'ConnectionError', 'ConnectionRefusedError', 'ConnectionResetError', 'DeprecationWarning', 'EOFError', 'Ellipsis', 'EnvironmentError', 'Exception', 'False', 'FileExistsError', 'FileNotFoundError', 'FloatingPointError', 'FutureWarning', 'GeneratorExit', 'IOError', 'ImportError', 'ImportWarning', 'IndentationError', 'IndexError', 'InterruptedError', 'IsADirectoryError', 'KeyError', 'KeyboardInterrupt', 'LookupError', 'MemoryError', 'ModuleNotFoundError', 'NameError', 'None', 'NotADirectoryError', 'NotImplemented', 'NotImplementedError', 'OSError', 'OverflowError', 'PendingDeprecationWarning', 'PermissionError', 'ProcessLookupError', 'RecursionError', 'ReferenceError', 'ResourceWarning', 'RuntimeError', 'RuntimeWarning', 'StopAsyncIteration', 'StopIteration', 'SyntaxError', 'SyntaxWarning', 'SystemError', 'SystemExit', 'TabError', 'TimeoutError', 'True', 'TypeError', 'UnboundLocalError', 'UnicodeDecodeError', 'UnicodeEncodeError', 'UnicodeError', 'UnicodeTranslateError', 'UnicodeWarning', 'UserWarning', 'ValueError', 'Warning', 'WindowsError', 'ZeroDivisionError', '__IPYTHON__', '__build_class__', '__debug__', '__doc__', '__import__', '__loader__', '__name__', '__package__', '__spec__', 'abs', 'all', 'any', 'ascii', 'bin', 'bool', 'breakpoint', 'bytearray', 'bytes', 'callable', 'chr', 'classmethod', 'compile', 'complex', 'copyright', 'credits', 'delattr', 'dict', 'dir', 'display', 'divmod', 'enumerate', 'eval', 'exec', 'execfile', 'filter', 'float', 'format', 'frozenset', 'get_ipython', 'getattr', 'globals', 'hasattr', 'hash', 'help', 'hex', 'id', 'input', 'int', 'isinstance', 'issubclass', 'iter', 'len', 'license', 'list', 'locals', 'map', 'max', 'memoryview', 'min', 'next', 'object', 'oct', 'open', 'ord', 'pow', 'print', 'property', 'range', 'repr', 'reversed', 'round', 'runfile', 'set', 'setattr', 'slice', 'sorted', 'staticmethod', 'str', 'sum', 'super', 'tuple', 'type', 'vars', 'zip']\n"
     ]
    }
   ],
   "source": [
    "# list of error\n",
    "\n",
    "print(dir(__builtins__))"
   ]
  },
  {
   "cell_type": "code",
   "execution_count": 59,
   "id": "46305274",
   "metadata": {},
   "outputs": [
    {
     "ename": "SyntaxError",
     "evalue": "invalid syntax (194293838.py, line 3)",
     "output_type": "error",
     "traceback": [
      "\u001b[1;36m  Input \u001b[1;32mIn [59]\u001b[1;36m\u001b[0m\n\u001b[1;33m    except:\u001b[0m\n\u001b[1;37m    ^\u001b[0m\n\u001b[1;31mSyntaxError\u001b[0m\u001b[1;31m:\u001b[0m invalid syntax\n"
     ]
    }
   ],
   "source": [
    "try:\n",
    "    f = open('xerorz.txt'\n",
    "except:\n",
    "    print('No file Yaar')"
   ]
  },
  {
   "cell_type": "code",
   "execution_count": null,
   "id": "6a6c798e",
   "metadata": {},
   "outputs": [],
   "source": [
    "# keywords \n",
    "* try\n",
    "* except\n",
    "* else\n",
    "* finally\n",
    "* raise"
   ]
  },
  {
   "cell_type": "code",
   "execution_count": 62,
   "id": "0555377f",
   "metadata": {},
   "outputs": [
    {
     "name": "stdout",
     "output_type": "stream",
     "text": [
      "0.5\n"
     ]
    }
   ],
   "source": [
    "num1 = 10\n",
    "num2 = 20\n",
    "\n",
    "print(num1/num2)"
   ]
  },
  {
   "cell_type": "code",
   "execution_count": 70,
   "id": "a140fda8",
   "metadata": {},
   "outputs": [
    {
     "ename": "ZeroDivisionError",
     "evalue": "division by zero",
     "output_type": "error",
     "traceback": [
      "\u001b[1;31m---------------------------------------------------------------------------\u001b[0m",
      "\u001b[1;31mZeroDivisionError\u001b[0m                         Traceback (most recent call last)",
      "Input \u001b[1;32mIn [70]\u001b[0m, in \u001b[0;36m<cell line: 4>\u001b[1;34m()\u001b[0m\n\u001b[0;32m      1\u001b[0m num1 \u001b[38;5;241m=\u001b[39m \u001b[38;5;241m10\u001b[39m\n\u001b[0;32m      2\u001b[0m num2 \u001b[38;5;241m=\u001b[39m \u001b[38;5;241m0\u001b[39m\n\u001b[1;32m----> 4\u001b[0m \u001b[38;5;28mprint\u001b[39m(\u001b[43mnum1\u001b[49m\u001b[38;5;241;43m/\u001b[39;49m\u001b[43mnum2\u001b[49m)\n\u001b[0;32m      5\u001b[0m \u001b[38;5;28mprint\u001b[39m(\u001b[38;5;124m'\u001b[39m\u001b[38;5;124mnext function\u001b[39m\u001b[38;5;124m'\u001b[39m)\n",
      "\u001b[1;31mZeroDivisionError\u001b[0m: division by zero"
     ]
    }
   ],
   "source": [
    "num1 = 10\n",
    "num2 = 0\n",
    "\n",
    "print(num1/num2)\n",
    "print('next function')"
   ]
  },
  {
   "cell_type": "code",
   "execution_count": null,
   "id": "a2d66a2c",
   "metadata": {},
   "outputs": [],
   "source": [
    "# syntax\n",
    "try:\n",
    "    # production\n",
    "except:\n",
    "    # backup code"
   ]
  },
  {
   "cell_type": "code",
   "execution_count": 66,
   "id": "191d47ad",
   "metadata": {},
   "outputs": [
    {
     "name": "stdout",
     "output_type": "stream",
     "text": [
      "2.0\n"
     ]
    }
   ],
   "source": [
    "num1 = 10\n",
    "num2 = 5\n",
    "\n",
    "try:\n",
    "    print(num1/num2)\n",
    "except:\n",
    "    print('Hey check you numbers')"
   ]
  },
  {
   "cell_type": "code",
   "execution_count": 71,
   "id": "7e10f0be",
   "metadata": {},
   "outputs": [
    {
     "name": "stdout",
     "output_type": "stream",
     "text": [
      "enter the number 1 : 5\n",
      "enter 2nd value : 4\n",
      "Hey check you numbers\n",
      "next function\n"
     ]
    }
   ],
   "source": [
    "num1 = int(input('enter the number 1 : '))\n",
    "num2 = int(input('enter 2nd value : '))\n",
    "\n",
    "try:\n",
    "    print(num1/num_2)\n",
    "except:\n",
    "    print('Hey check you numbers')\n",
    "    \n",
    "print('next function')"
   ]
  },
  {
   "cell_type": "code",
   "execution_count": 67,
   "id": "257e56f3",
   "metadata": {},
   "outputs": [
    {
     "name": "stdout",
     "output_type": "stream",
     "text": [
      "Hey check you numbers\n"
     ]
    }
   ],
   "source": [
    "num1 = '10'\n",
    "num2 = '5'\n",
    "\n",
    "try:\n",
    "    print(num1/num2)\n",
    "except:\n",
    "    print('Hey check you numbers')"
   ]
  },
  {
   "cell_type": "code",
   "execution_count": 74,
   "id": "e1fafa21",
   "metadata": {},
   "outputs": [
    {
     "name": "stdout",
     "output_type": "stream",
     "text": [
      "enter the number 1 : 30\n",
      "enter 2nd value : 20\n",
      "10\n",
      "next function\n"
     ]
    }
   ],
   "source": [
    "num1 = int(input('enter the number 1 : ')) # add 2 number\n",
    "num2 = int(input('enter 2nd value : '))\n",
    "# \n",
    "try:\n",
    "    print(num1 - num2)\n",
    "except:\n",
    "    print('Hey check you numbers')\n",
    "    \n",
    "print('next function')"
   ]
  },
  {
   "cell_type": "code",
   "execution_count": 3,
   "id": "2e50463c",
   "metadata": {},
   "outputs": [
    {
     "name": "stdout",
     "output_type": "stream",
     "text": [
      "1\n",
      "2\n",
      "32\n",
      "43\n",
      "4\n",
      "next function\n"
     ]
    }
   ],
   "source": [
    "# syntax\n",
    "num1 = [1,2,32,43,4]\n",
    "num2 = [1,2,3,4]\n",
    "\n",
    "try:\n",
    "    for i in num1:\n",
    "        print(i)\n",
    "except:\n",
    "    print('Hey check you numbers')\n",
    "    \n",
    "print('next function')"
   ]
  },
  {
   "cell_type": "markdown",
   "id": "5d07790a",
   "metadata": {},
   "source": [
    "# Else"
   ]
  },
  {
   "cell_type": "code",
   "execution_count": 7,
   "id": "2af07f0a",
   "metadata": {},
   "outputs": [
    {
     "name": "stdout",
     "output_type": "stream",
     "text": [
      "5.0\n",
      "Code sucessful\n"
     ]
    }
   ],
   "source": [
    "num1 = 10\n",
    "num2 = 2\n",
    "\n",
    "try:\n",
    "    a = num1/num2\n",
    "    \n",
    "except:\n",
    "    print('Hey check you numbers')\n",
    "\n",
    "    \n",
    "else:\n",
    "    print(a)\n",
    "    print('Code sucessful')\n",
    "    \n",
    "#print('next function')"
   ]
  },
  {
   "cell_type": "code",
   "execution_count": 10,
   "id": "590571a0",
   "metadata": {},
   "outputs": [],
   "source": [
    "num1 = 10\n",
    "num2 = 2\n",
    "\n",
    "try:\n",
    "    f = open('error_1.txt' , 'r')\n",
    "    f.write('learnbay')\n",
    "    f.flush()\n",
    "    \n",
    "except:\n",
    "    print('No data found')\n",
    "\n",
    "    \n",
    "else:\n",
    "    f.close()\n",
    "    \n",
    "#print('next function')"
   ]
  },
  {
   "cell_type": "code",
   "execution_count": null,
   "id": "7387068b",
   "metadata": {},
   "outputs": [],
   "source": [
    "num1 = 10\n",
    "num2 = 2\n",
    "\n",
    "try:\n",
    "    if creditials match\n",
    "except:\n",
    "    print('get out')\n",
    "\n",
    "    \n",
    "else:\n",
    "    open email\n",
    "    \n",
    "#print('next function')"
   ]
  },
  {
   "cell_type": "markdown",
   "id": "e080fc20",
   "metadata": {},
   "source": [
    "# Finally"
   ]
  },
  {
   "cell_type": "code",
   "execution_count": null,
   "id": "75b911f1",
   "metadata": {},
   "outputs": [],
   "source": []
  },
  {
   "cell_type": "code",
   "execution_count": null,
   "id": "72044daa",
   "metadata": {},
   "outputs": [],
   "source": []
  }
 ],
 "metadata": {
  "kernelspec": {
   "display_name": "Python 3 (ipykernel)",
   "language": "python",
   "name": "python3"
  },
  "language_info": {
   "codemirror_mode": {
    "name": "ipython",
    "version": 3
   },
   "file_extension": ".py",
   "mimetype": "text/x-python",
   "name": "python",
   "nbconvert_exporter": "python",
   "pygments_lexer": "ipython3",
   "version": "3.9.12"
  }
 },
 "nbformat": 4,
 "nbformat_minor": 5
}
