{
 "cells": [
  {
   "cell_type": "markdown",
   "id": "60cc28d5",
   "metadata": {},
   "source": [
    "# list"
   ]
  },
  {
   "cell_type": "code",
   "execution_count": 3,
   "id": "b15685b3",
   "metadata": {},
   "outputs": [
    {
     "name": "stdout",
     "output_type": "stream",
     "text": [
      "1849155365504\n",
      "1849155365696\n",
      "False\n"
     ]
    }
   ],
   "source": [
    "a=[1,2,5,7,8]\n",
    "y=[2,5,7,9,8]\n",
    "\n",
    "#print(id(a))\n",
    "#print(id(y))\n",
    "print( a is y)\n",
    "\n"
   ]
  },
  {
   "cell_type": "code",
   "execution_count": 4,
   "id": "51b9fea1",
   "metadata": {},
   "outputs": [
    {
     "name": "stdout",
     "output_type": "stream",
     "text": [
      "[1, 2, 5, 7, 8, 2, 5, 7, 9, 8]\n"
     ]
    }
   ],
   "source": [
    "a=[1,2,5,7,8]\n",
    "y=[2,5,7,9,8]\n",
    "\n",
    "#concatination\n",
    "\n",
    "print( a + y)\n"
   ]
  },
  {
   "cell_type": "code",
   "execution_count": 16,
   "id": "8fcdf654",
   "metadata": {},
   "outputs": [
    {
     "name": "stdout",
     "output_type": "stream",
     "text": [
      "7\n"
     ]
    }
   ],
   "source": [
    "a=[1,2,5,[2,5,7,9,8],7,8]\n",
    "print(a[4])"
   ]
  },
  {
   "cell_type": "code",
   "execution_count": 19,
   "id": "83602cc4",
   "metadata": {},
   "outputs": [
    {
     "name": "stdout",
     "output_type": "stream",
     "text": [
      "['j', 'k', 'l']\n",
      "['l', 'p', 'q', 's']\n"
     ]
    }
   ],
   "source": [
    "a= [\"i\",\"j\",\"k\",\"l\",\"p\",\"q\",\"s\"]\n",
    "print(a[1:4])\n",
    "print(a[-4:])"
   ]
  },
  {
   "cell_type": "code",
   "execution_count": 26,
   "id": "014b569a",
   "metadata": {},
   "outputs": [
    {
     "name": "stdout",
     "output_type": "stream",
     "text": [
      "b\n"
     ]
    }
   ],
   "source": [
    "nested_list = [[1,2,3,4],[5,6,7,78],[8,9,[10,11,['a','b']]]]\n",
    "print(nested_list[-1][-1][-1][-1])"
   ]
  },
  {
   "cell_type": "code",
   "execution_count": 28,
   "id": "7de1e27c",
   "metadata": {},
   "outputs": [
    {
     "name": "stdout",
     "output_type": "stream",
     "text": [
      "j l s\n"
     ]
    }
   ],
   "source": [
    "a= [\"i\",\"j\",\"k\",\"l\",\"p\",\"q\",\"s\"]\n",
    "print(a[1],a[3],a[6])"
   ]
  },
  {
   "cell_type": "code",
   "execution_count": 53,
   "id": "ad31b19e",
   "metadata": {},
   "outputs": [
    {
     "ename": "ValueError",
     "evalue": "'b' is not in list",
     "output_type": "error",
     "traceback": [
      "\u001b[1;31m---------------------------------------------------------------------------\u001b[0m",
      "\u001b[1;31mValueError\u001b[0m                                Traceback (most recent call last)",
      "Input \u001b[1;32mIn [53]\u001b[0m, in \u001b[0;36m<cell line: 2>\u001b[1;34m()\u001b[0m\n\u001b[0;32m      1\u001b[0m nested_list \u001b[38;5;241m=\u001b[39m [[\u001b[38;5;241m1\u001b[39m,\u001b[38;5;241m2\u001b[39m,\u001b[38;5;241m3\u001b[39m,\u001b[38;5;241m4\u001b[39m],[\u001b[38;5;241m5\u001b[39m,\u001b[38;5;241m6\u001b[39m,[\u001b[38;5;124m'\u001b[39m\u001b[38;5;124ma\u001b[39m\u001b[38;5;124m'\u001b[39m,\u001b[38;5;124m'\u001b[39m\u001b[38;5;124mb\u001b[39m\u001b[38;5;124m'\u001b[39m,\u001b[38;5;124m'\u001b[39m\u001b[38;5;124mpython\u001b[39m\u001b[38;5;124m'\u001b[39m,[\u001b[38;5;124m'\u001b[39m\u001b[38;5;124mlearnbay\u001b[39m\u001b[38;5;124m'\u001b[39m,\u001b[38;5;124m'\u001b[39m\u001b[38;5;124mAlan\u001b[39m\u001b[38;5;124m'\u001b[39m,[\u001b[38;5;124m'\u001b[39m\u001b[38;5;124mmessi\u001b[39m\u001b[38;5;124m'\u001b[39m,\u001b[38;5;124m'\u001b[39m\u001b[38;5;124mronaldo\u001b[39m\u001b[38;5;124m'\u001b[39m]]],\u001b[38;5;241m78\u001b[39m],[\u001b[38;5;241m8\u001b[39m,\u001b[38;5;241m9\u001b[39m,[\u001b[38;5;241m10\u001b[39m,\u001b[38;5;241m11\u001b[39m,[\u001b[38;5;124m'\u001b[39m\u001b[38;5;124ma\u001b[39m\u001b[38;5;124m'\u001b[39m,\u001b[38;5;124m'\u001b[39m\u001b[38;5;124mb\u001b[39m\u001b[38;5;124m'\u001b[39m]]]]\n\u001b[1;32m----> 2\u001b[0m boy \u001b[38;5;241m=\u001b[39m \u001b[43mnested_list\u001b[49m\u001b[38;5;241;43m.\u001b[39;49m\u001b[43mindex\u001b[49m\u001b[43m(\u001b[49m\u001b[38;5;124;43m'\u001b[39;49m\u001b[38;5;124;43mb\u001b[39;49m\u001b[38;5;124;43m'\u001b[39;49m\u001b[43m)\u001b[49m\n\u001b[0;32m      3\u001b[0m \u001b[38;5;28mprint\u001b[39m(boy)\n",
      "\u001b[1;31mValueError\u001b[0m: 'b' is not in list"
     ]
    }
   ],
   "source": [
    "nested_list = [[1,2,3,4],[5,6,['a','b','python',['learnbay','Alan',['messi','ronaldo']]],78],[8,9,[10,11,['a','b']]]]\n",
    "boy = nested_list.index('b')\n",
    "print(boy)"
   ]
  },
  {
   "cell_type": "code",
   "execution_count": 50,
   "id": "0ee97975",
   "metadata": {},
   "outputs": [
    {
     "name": "stdout",
     "output_type": "stream",
     "text": [
      "['__add__', '__class__', '__class_getitem__', '__contains__', '__delattr__', '__delitem__', '__dir__', '__doc__', '__eq__', '__format__', '__ge__', '__getattribute__', '__getitem__', '__gt__', '__hash__', '__iadd__', '__imul__', '__init__', '__init_subclass__', '__iter__', '__le__', '__len__', '__lt__', '__mul__', '__ne__', '__new__', '__reduce__', '__reduce_ex__', '__repr__', '__reversed__', '__rmul__', '__setattr__', '__setitem__', '__sizeof__', '__str__', '__subclasshook__', 'append', 'clear', 'copy', 'count', 'extend', 'index', 'insert', 'pop', 'remove', 'reverse', 'sort']\n"
     ]
    }
   ],
   "source": [
    "print(dir(list))"
   ]
  },
  {
   "cell_type": "code",
   "execution_count": 55,
   "id": "0223ebd2",
   "metadata": {},
   "outputs": [
    {
     "name": "stdout",
     "output_type": "stream",
     "text": [
      "issem\n"
     ]
    }
   ],
   "source": [
    "nested_list = [[1,2,3,4],[5,6,['a','b','python',['learnbay','Alan',['messi','ronaldo']]],78],[8,9,[10,11,['a','b']]]]\n",
    "\n",
    "print(nested_list[-2][-2][-1][-1][-2][::-1])\n",
    "print(nested_list.copy())"
   ]
  },
  {
   "cell_type": "code",
   "execution_count": 58,
   "id": "0a44c005",
   "metadata": {},
   "outputs": [
    {
     "name": "stdout",
     "output_type": "stream",
     "text": [
      "None\n"
     ]
    }
   ],
   "source": [
    "a=[1,2,5,7,8]\n",
    "y=[2,5,7,9,8]\n",
    "\n",
    "print(a.extend([4,5,7]))"
   ]
  },
  {
   "cell_type": "code",
   "execution_count": 59,
   "id": "152b90d3",
   "metadata": {},
   "outputs": [
    {
     "data": {
      "text/plain": [
       "[1, 2, 5, 7, 8, 4, 5, 7]"
      ]
     },
     "execution_count": 59,
     "metadata": {},
     "output_type": "execute_result"
    }
   ],
   "source": [
    "a"
   ]
  },
  {
   "cell_type": "code",
   "execution_count": 60,
   "id": "1b2534a2",
   "metadata": {},
   "outputs": [
    {
     "ename": "TypeError",
     "evalue": "list.extend() takes exactly one argument (2 given)",
     "output_type": "error",
     "traceback": [
      "\u001b[1;31m---------------------------------------------------------------------------\u001b[0m",
      "\u001b[1;31mTypeError\u001b[0m                                 Traceback (most recent call last)",
      "Input \u001b[1;32mIn [60]\u001b[0m, in \u001b[0;36m<cell line: 1>\u001b[1;34m()\u001b[0m\n\u001b[1;32m----> 1\u001b[0m \u001b[38;5;28mprint\u001b[39m(\u001b[43ma\u001b[49m\u001b[38;5;241;43m.\u001b[39;49m\u001b[43mextend\u001b[49m\u001b[43m(\u001b[49m\u001b[38;5;241;43m12\u001b[39;49m\u001b[43m,\u001b[49m\u001b[38;5;241;43m14\u001b[39;49m\u001b[43m)\u001b[49m)\n",
      "\u001b[1;31mTypeError\u001b[0m: list.extend() takes exactly one argument (2 given)"
     ]
    }
   ],
   "source": [
    "print(a.extend(12,14))"
   ]
  },
  {
   "cell_type": "code",
   "execution_count": null,
   "id": "44fd3feb",
   "metadata": {},
   "outputs": [],
   "source": []
  }
 ],
 "metadata": {
  "kernelspec": {
   "display_name": "Python 3 (ipykernel)",
   "language": "python",
   "name": "python3"
  },
  "language_info": {
   "codemirror_mode": {
    "name": "ipython",
    "version": 3
   },
   "file_extension": ".py",
   "mimetype": "text/x-python",
   "name": "python",
   "nbconvert_exporter": "python",
   "pygments_lexer": "ipython3",
   "version": "3.9.12"
  }
 },
 "nbformat": 4,
 "nbformat_minor": 5
}
