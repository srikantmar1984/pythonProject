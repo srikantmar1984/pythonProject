{
 "cells": [
  {
   "cell_type": "code",
   "execution_count": 9,
   "id": "27a9373c",
   "metadata": {},
   "outputs": [
    {
     "name": "stdout",
     "output_type": "stream",
     "text": [
      "python.learnbay\n",
      "python.learnbay@gmail.com\n",
      "alan.john\n",
      "naiya.shah\n",
      "naiya.shah@gmail.com\n",
      "sagnik.123\n",
      "abhishek.hero\n"
     ]
    }
   ],
   "source": [
    "mail = ['python.learnbay@gmail.com', 'alan.john@yahoo.com', 'naiya.shah@gmail.com','sagnik.123@outlook.com',\n",
    "        'abhishek.hero@hotmail.com']\n",
    "for m in mail:\n",
    "    print(m.split('@')[0])\n",
    "    if m.endswith('@gmail.com') == True:\n",
    "        print(m)\n",
    "    \n",
    "        \n",
    "        "
   ]
  },
  {
   "cell_type": "code",
   "execution_count": null,
   "id": "59bad172",
   "metadata": {},
   "outputs": [],
   "source": []
  },
  {
   "cell_type": "code",
   "execution_count": 21,
   "id": "0e09b4ec",
   "metadata": {},
   "outputs": [
    {
     "name": "stdout",
     "output_type": "stream",
     "text": [
      "[2, 32, 6, 4, 2, 2]\n",
      "{32, 2, 4, 6}\n"
     ]
    }
   ],
   "source": [
    "a = [1,2,32,343,5,5,6,4,43,2,2,3,465,7,7,7]\n",
    "b=[]\n",
    "c={}\n",
    "for i in a:\n",
    "    if i%2 == 0:\n",
    "        b.append(i)\n",
    "        \n",
    "print(b)\n",
    "c=set(b)\n",
    "print(c)"
   ]
  },
  {
   "cell_type": "code",
   "execution_count": 23,
   "id": "ee720dfa",
   "metadata": {},
   "outputs": [
    {
     "name": "stdout",
     "output_type": "stream",
     "text": [
      "2 *1= 2\n",
      "2 *2= 4\n",
      "2 *32= 64\n",
      "2 *343= 686\n",
      "2 *5= 10\n",
      "2 *5= 10\n",
      "2 *6= 12\n",
      "2 *4= 8\n",
      "2 *43= 86\n",
      "2 *2= 4\n",
      "2 *2= 4\n",
      "2 *3= 6\n",
      "2 *465= 930\n",
      "2 *7= 14\n",
      "2 *7= 14\n",
      "2 *7= 14\n"
     ]
    }
   ],
   "source": [
    "a = [1,2,32,343,5,5,6,4,43,2,2,3,465,7,7,7]\n",
    "c=[print(f'2 *{i}= {i*2}') for i in a]"
   ]
  },
  {
   "cell_type": "code",
   "execution_count": 26,
   "id": "8fbcffa6",
   "metadata": {},
   "outputs": [
    {
     "name": "stdout",
     "output_type": "stream",
     "text": [
      "['a', 2, None, 'raju'] <class 'list'>\n"
     ]
    }
   ],
   "source": [
    "a= ['a',2,None,'raju']\n",
    "print(a,type(a))"
   ]
  },
  {
   "cell_type": "code",
   "execution_count": 27,
   "id": "8dbd9903",
   "metadata": {},
   "outputs": [
    {
     "name": "stdout",
     "output_type": "stream",
     "text": [
      "['__add__', '__class__', '__class_getitem__', '__contains__', '__delattr__', '__dir__', '__doc__', '__eq__', '__format__', '__ge__', '__getattribute__', '__getitem__', '__getnewargs__', '__gt__', '__hash__', '__init__', '__init_subclass__', '__iter__', '__le__', '__len__', '__lt__', '__mul__', '__ne__', '__new__', '__reduce__', '__reduce_ex__', '__repr__', '__rmul__', '__setattr__', '__sizeof__', '__str__', '__subclasshook__', 'count', 'index']\n"
     ]
    }
   ],
   "source": [
    "print(dir(tuple))\n"
   ]
  },
  {
   "cell_type": "code",
   "execution_count": 28,
   "id": "d162ca8c",
   "metadata": {},
   "outputs": [
    {
     "name": "stdout",
     "output_type": "stream",
     "text": [
      "['__add__', '__class__', '__class_getitem__', '__contains__', '__delattr__', '__delitem__', '__dir__', '__doc__', '__eq__', '__format__', '__ge__', '__getattribute__', '__getitem__', '__gt__', '__hash__', '__iadd__', '__imul__', '__init__', '__init_subclass__', '__iter__', '__le__', '__len__', '__lt__', '__mul__', '__ne__', '__new__', '__reduce__', '__reduce_ex__', '__repr__', '__reversed__', '__rmul__', '__setattr__', '__setitem__', '__sizeof__', '__str__', '__subclasshook__', 'append', 'clear', 'copy', 'count', 'extend', 'index', 'insert', 'pop', 'remove', 'reverse', 'sort']\n"
     ]
    }
   ],
   "source": [
    "print(dir(list))"
   ]
  },
  {
   "cell_type": "code",
   "execution_count": null,
   "id": "384cd25d",
   "metadata": {},
   "outputs": [],
   "source": []
  }
 ],
 "metadata": {
  "kernelspec": {
   "display_name": "Python 3 (ipykernel)",
   "language": "python",
   "name": "python3"
  },
  "language_info": {
   "codemirror_mode": {
    "name": "ipython",
    "version": 3
   },
   "file_extension": ".py",
   "mimetype": "text/x-python",
   "name": "python",
   "nbconvert_exporter": "python",
   "pygments_lexer": "ipython3",
   "version": "3.9.12"
  }
 },
 "nbformat": 4,
 "nbformat_minor": 5
}
