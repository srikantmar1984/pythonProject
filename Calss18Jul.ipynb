{
 "cells": [
  {
   "cell_type": "code",
   "execution_count": 1,
   "id": "1dc1be7e",
   "metadata": {},
   "outputs": [
    {
     "name": "stdout",
     "output_type": "stream",
     "text": [
      "0b11110\n"
     ]
    }
   ],
   "source": [
    "x=10\n",
    "y=20\n",
    "print(bin(x+y))"
   ]
  },
  {
   "cell_type": "code",
   "execution_count": 5,
   "id": "1acdb6b8",
   "metadata": {},
   "outputs": [
    {
     "name": "stdout",
     "output_type": "stream",
     "text": [
      "True\n"
     ]
    }
   ],
   "source": [
    "a=10.4\n",
    "b=20.6\n",
    "print(a<=b)"
   ]
  },
  {
   "cell_type": "code",
   "execution_count": 11,
   "id": "af8bbd5f",
   "metadata": {},
   "outputs": [
    {
     "ename": "TypeError",
     "evalue": "unsupported operand type(s) for |=: 'int' and 'float'",
     "output_type": "error",
     "traceback": [
      "\u001b[1;31m---------------------------------------------------------------------------\u001b[0m",
      "\u001b[1;31mTypeError\u001b[0m                                 Traceback (most recent call last)",
      "Input \u001b[1;32mIn [11]\u001b[0m, in \u001b[0;36m<cell line: 1>\u001b[1;34m()\u001b[0m\n\u001b[1;32m----> 1\u001b[0m x \u001b[38;5;241m|\u001b[39m\u001b[38;5;241m=\u001b[39m \u001b[38;5;241m10.5\u001b[39m\n\u001b[0;32m      2\u001b[0m \u001b[38;5;28mprint\u001b[39m(x)\n",
      "\u001b[1;31mTypeError\u001b[0m: unsupported operand type(s) for |=: 'int' and 'float'"
     ]
    }
   ],
   "source": [
    "\n",
    "\n",
    "\n",
    "x |= 10.5\n",
    "print(x)"
   ]
  },
  {
   "cell_type": "code",
   "execution_count": 8,
   "id": "64049646",
   "metadata": {},
   "outputs": [
    {
     "name": "stdout",
     "output_type": "stream",
     "text": [
      "2116165956944\n",
      "2116193661392\n",
      "False\n"
     ]
    }
   ],
   "source": [
    "#identity operation\n",
    "a=10.4\n",
    "b=10.4\n",
    "print(id(a))\n",
    "print(id(b))\n",
    "print(a is b)"
   ]
  },
  {
   "cell_type": "code",
   "execution_count": 9,
   "id": "96c91181",
   "metadata": {},
   "outputs": [
    {
     "name": "stdout",
     "output_type": "stream",
     "text": [
      "20.6\n"
     ]
    }
   ],
   "source": [
    "a=10.4\n",
    "b=20.6\n",
    "print(a and b)"
   ]
  },
  {
   "cell_type": "code",
   "execution_count": 14,
   "id": "0f709b5f",
   "metadata": {},
   "outputs": [
    {
     "name": "stdout",
     "output_type": "stream",
     "text": [
      "49\n"
     ]
    }
   ],
   "source": [
    "print(0 or 49)"
   ]
  },
  {
   "cell_type": "code",
   "execution_count": 15,
   "id": "903b0903",
   "metadata": {},
   "outputs": [
    {
     "name": "stdout",
     "output_type": "stream",
     "text": [
      "(10+5j) <class 'complex'>\n"
     ]
    }
   ],
   "source": [
    "a = 10+5j\n",
    "print(a, type(a))"
   ]
  },
  {
   "cell_type": "code",
   "execution_count": 16,
   "id": "b5fa27a6",
   "metadata": {},
   "outputs": [
    {
     "name": "stdout",
     "output_type": "stream",
     "text": [
      "(10+5j) <class 'complex'>\n",
      "10.0\n",
      "5.0\n"
     ]
    }
   ],
   "source": [
    "a = 10+5j\n",
    "print(a, type(a))\n",
    "print(a.real)\n",
    "print(a.imag)"
   ]
  },
  {
   "cell_type": "code",
   "execution_count": 17,
   "id": "4f5cebbd",
   "metadata": {},
   "outputs": [
    {
     "name": "stdout",
     "output_type": "stream",
     "text": [
      "<class 'float'>\n",
      "<class 'float'>\n",
      "2116165957424\n",
      "2116193663440\n",
      "2116193663760\n",
      "2116193663760\n",
      "False\n"
     ]
    }
   ],
   "source": [
    "a = 10+5j\n",
    "\n",
    "e= a.real\n",
    "f= a.imag\n",
    "\n",
    "print(type(e))\n",
    "print(type(f))\n",
    "\n",
    "print(id(e))\n",
    "print(id(f))\n",
    "print(id(a.real))\n",
    "print(id(a.imag))\n",
    "\n",
    "print(e is f)"
   ]
  },
  {
   "cell_type": "code",
   "execution_count": 18,
   "id": "4f2dc3cf",
   "metadata": {},
   "outputs": [
    {
     "name": "stdout",
     "output_type": "stream",
     "text": [
      "(13+12j)\n"
     ]
    }
   ],
   "source": [
    "a = 10+5j\n",
    "b= 3+7j\n",
    "print(a+b)"
   ]
  },
  {
   "cell_type": "code",
   "execution_count": 19,
   "id": "a2667200",
   "metadata": {},
   "outputs": [
    {
     "name": "stdout",
     "output_type": "stream",
     "text": [
      "(1.1206896551724137-0.9482758620689657j)\n"
     ]
    }
   ],
   "source": [
    "a = 10+5j\n",
    "b= 3+7j\n",
    "print(a/b)"
   ]
  },
  {
   "cell_type": "code",
   "execution_count": 20,
   "id": "cf69c092",
   "metadata": {},
   "outputs": [
    {
     "ename": "TypeError",
     "evalue": "can't mod complex numbers.",
     "output_type": "error",
     "traceback": [
      "\u001b[1;31m---------------------------------------------------------------------------\u001b[0m",
      "\u001b[1;31mTypeError\u001b[0m                                 Traceback (most recent call last)",
      "Input \u001b[1;32mIn [20]\u001b[0m, in \u001b[0;36m<cell line: 3>\u001b[1;34m()\u001b[0m\n\u001b[0;32m      1\u001b[0m a \u001b[38;5;241m=\u001b[39m \u001b[38;5;241m10\u001b[39m\u001b[38;5;241m+\u001b[39m\u001b[38;5;241m5\u001b[39mj\n\u001b[0;32m      2\u001b[0m b\u001b[38;5;241m=\u001b[39m \u001b[38;5;241m3\u001b[39m\u001b[38;5;241m+\u001b[39m\u001b[38;5;241m7\u001b[39mj\n\u001b[1;32m----> 3\u001b[0m \u001b[38;5;28mprint\u001b[39m(\u001b[43ma\u001b[49m\u001b[38;5;241;43m%\u001b[39;49m\u001b[43mb\u001b[49m)\n",
      "\u001b[1;31mTypeError\u001b[0m: can't mod complex numbers."
     ]
    }
   ],
   "source": [
    "a = 10+5j\n",
    "b= 3+7j\n",
    "print(a%b)"
   ]
  },
  {
   "cell_type": "code",
   "execution_count": null,
   "id": "716ea3b5",
   "metadata": {},
   "outputs": [],
   "source": [
    "x = 10+5j"
   ]
  },
  {
   "cell_type": "code",
   "execution_count": 21,
   "id": "4cf4598c",
   "metadata": {},
   "outputs": [
    {
     "name": "stdout",
     "output_type": "stream",
     "text": [
      "0\n"
     ]
    }
   ],
   "source": [
    "x &=5\n",
    "print(x)\n"
   ]
  },
  {
   "cell_type": "code",
   "execution_count": 22,
   "id": "1df60809",
   "metadata": {},
   "outputs": [
    {
     "data": {
      "text/plain": [
       "(6+15j)"
      ]
     },
     "execution_count": 22,
     "metadata": {},
     "output_type": "execute_result"
    }
   ],
   "source": [
    "2+8j + 4+7j"
   ]
  },
  {
   "cell_type": "code",
   "execution_count": 23,
   "id": "be6853e4",
   "metadata": {},
   "outputs": [
    {
     "ename": "NameError",
     "evalue": "name 'none' is not defined",
     "output_type": "error",
     "traceback": [
      "\u001b[1;31m---------------------------------------------------------------------------\u001b[0m",
      "\u001b[1;31mNameError\u001b[0m                                 Traceback (most recent call last)",
      "Input \u001b[1;32mIn [23]\u001b[0m, in \u001b[0;36m<cell line: 1>\u001b[1;34m()\u001b[0m\n\u001b[1;32m----> 1\u001b[0m a \u001b[38;5;241m=\u001b[39m \u001b[43mnone\u001b[49m\n\u001b[0;32m      2\u001b[0m b \u001b[38;5;241m=\u001b[39m none\n\u001b[0;32m      3\u001b[0m \u001b[38;5;28mprint\u001b[39m(a \u001b[38;5;129;01mis\u001b[39;00m b)\n",
      "\u001b[1;31mNameError\u001b[0m: name 'none' is not defined"
     ]
    }
   ],
   "source": [
    "a = none\n",
    "b = none\n",
    "print(a is b)"
   ]
  },
  {
   "cell_type": "code",
   "execution_count": 24,
   "id": "02665f5f",
   "metadata": {},
   "outputs": [
    {
     "ename": "NameError",
     "evalue": "name 'none' is not defined",
     "output_type": "error",
     "traceback": [
      "\u001b[1;31m---------------------------------------------------------------------------\u001b[0m",
      "\u001b[1;31mNameError\u001b[0m                                 Traceback (most recent call last)",
      "Input \u001b[1;32mIn [24]\u001b[0m, in \u001b[0;36m<cell line: 1>\u001b[1;34m()\u001b[0m\n\u001b[1;32m----> 1\u001b[0m a \u001b[38;5;241m=\u001b[39m \u001b[43mnone\u001b[49m\n\u001b[0;32m      2\u001b[0m b \u001b[38;5;241m=\u001b[39m none\n\u001b[0;32m      3\u001b[0m \u001b[38;5;28mprint\u001b[39m(a \u001b[38;5;241m==\u001b[39m b)\n",
      "\u001b[1;31mNameError\u001b[0m: name 'none' is not defined"
     ]
    }
   ],
   "source": [
    "a = none\n",
    "b = none\n",
    "print(a == b)"
   ]
  },
  {
   "cell_type": "code",
   "execution_count": 25,
   "id": "53bf7029",
   "metadata": {},
   "outputs": [
    {
     "name": "stdout",
     "output_type": "stream",
     "text": [
      "True\n"
     ]
    }
   ],
   "source": [
    "a = None\n",
    "b = None\n",
    "print(a is b)"
   ]
  },
  {
   "cell_type": "code",
   "execution_count": 26,
   "id": "8ed0d6f8",
   "metadata": {},
   "outputs": [
    {
     "data": {
      "text/plain": [
       "3"
      ]
     },
     "execution_count": 26,
     "metadata": {},
     "output_type": "execute_result"
    }
   ],
   "source": [
    "True+True+True"
   ]
  },
  {
   "cell_type": "code",
   "execution_count": 27,
   "id": "d3df6871",
   "metadata": {},
   "outputs": [
    {
     "ename": "TypeError",
     "evalue": "eval() arg 1 must be a string, bytes or code object",
     "output_type": "error",
     "traceback": [
      "\u001b[1;31m---------------------------------------------------------------------------\u001b[0m",
      "\u001b[1;31mTypeError\u001b[0m                                 Traceback (most recent call last)",
      "Input \u001b[1;32mIn [27]\u001b[0m, in \u001b[0;36m<cell line: 1>\u001b[1;34m()\u001b[0m\n\u001b[1;32m----> 1\u001b[0m \u001b[38;5;28;43meval\u001b[39;49m\u001b[43m(\u001b[49m\u001b[38;5;28;43;01mTrue\u001b[39;49;00m\u001b[38;5;241;43m+\u001b[39;49m\u001b[38;5;28;43;01mTrue\u001b[39;49;00m\u001b[43m)\u001b[49m\n",
      "\u001b[1;31mTypeError\u001b[0m: eval() arg 1 must be a string, bytes or code object"
     ]
    }
   ],
   "source": [
    "eval(True+True)"
   ]
  },
  {
   "cell_type": "code",
   "execution_count": 28,
   "id": "ebfc0260",
   "metadata": {},
   "outputs": [
    {
     "ename": "TypeError",
     "evalue": "eval() arg 1 must be a string, bytes or code object",
     "output_type": "error",
     "traceback": [
      "\u001b[1;31m---------------------------------------------------------------------------\u001b[0m",
      "\u001b[1;31mTypeError\u001b[0m                                 Traceback (most recent call last)",
      "Input \u001b[1;32mIn [28]\u001b[0m, in \u001b[0;36m<cell line: 1>\u001b[1;34m()\u001b[0m\n\u001b[1;32m----> 1\u001b[0m \u001b[38;5;28;43meval\u001b[39;49m\u001b[43m(\u001b[49m\u001b[38;5;28;43;01mTrue\u001b[39;49;00m\u001b[43m)\u001b[49m\n",
      "\u001b[1;31mTypeError\u001b[0m: eval() arg 1 must be a string, bytes or code object"
     ]
    }
   ],
   "source": [
    "eval(True)"
   ]
  },
  {
   "cell_type": "code",
   "execution_count": 29,
   "id": "49ebbe45",
   "metadata": {},
   "outputs": [
    {
     "ename": "TypeError",
     "evalue": "eval() arg 1 must be a string, bytes or code object",
     "output_type": "error",
     "traceback": [
      "\u001b[1;31m---------------------------------------------------------------------------\u001b[0m",
      "\u001b[1;31mTypeError\u001b[0m                                 Traceback (most recent call last)",
      "Input \u001b[1;32mIn [29]\u001b[0m, in \u001b[0;36m<cell line: 1>\u001b[1;34m()\u001b[0m\n\u001b[1;32m----> 1\u001b[0m \u001b[38;5;28;43meval\u001b[39;49m\u001b[43m(\u001b[49m\u001b[38;5;28;43mbool\u001b[39;49m\u001b[43m(\u001b[49m\u001b[38;5;241;43m3\u001b[39;49m\u001b[43m)\u001b[49m\u001b[43m)\u001b[49m\n",
      "\u001b[1;31mTypeError\u001b[0m: eval() arg 1 must be a string, bytes or code object"
     ]
    }
   ],
   "source": [
    "eval(bool(3))"
   ]
  },
  {
   "cell_type": "code",
   "execution_count": 30,
   "id": "04adc954",
   "metadata": {},
   "outputs": [
    {
     "name": "stdout",
     "output_type": "stream",
     "text": [
      "enter your first nameabhi\n",
      "enter your last namerao\n",
      "My first name is abhi and my second name is rao\n"
     ]
    }
   ],
   "source": [
    "a = input(\"enter your first name\")\n",
    "b = input(\"enter your last name\")\n",
    "\n",
    "print(\"My first name is \"+a+\" and my second name is \"+b )\n"
   ]
  },
  {
   "cell_type": "code",
   "execution_count": 34,
   "id": "4f036863",
   "metadata": {},
   "outputs": [
    {
     "name": "stdout",
     "output_type": "stream",
     "text": [
      "My first name is abhi and my second name is rao\n"
     ]
    }
   ],
   "source": [
    "print(f'My first name is {a} and my second name is {b}' )"
   ]
  },
  {
   "cell_type": "code",
   "execution_count": 38,
   "id": "586e16f8",
   "metadata": {},
   "outputs": [
    {
     "name": "stdout",
     "output_type": "stream",
     "text": [
      "Enter your user name :learbay.python@gmail.com\n",
      "Enter Your password :pyth\n",
      "Your login details are wrong\n"
     ]
    }
   ],
   "source": [
    "username = 'learbay.python@gmail.com'\n",
    "password = 'python'\n",
    "\n",
    "inp_username = input(\"Enter your user name :\")\n",
    "inp_pass = input(\"Enter Your password :\")\n",
    "\n",
    "\n",
    "if inp_username == username and inp_pass == password:\n",
    "    print(\"You successfully login\")\n",
    "else:\n",
    "    print(\"Your login details are wrong\")\n",
    "    \n",
    "\n"
   ]
  },
  {
   "cell_type": "code",
   "execution_count": 42,
   "id": "298225a7",
   "metadata": {},
   "outputs": [
    {
     "name": "stdout",
     "output_type": "stream",
     "text": [
      "Enter your user name :learbay.python@gmail.com\n",
      "Enter Your password :python\n",
      "You successfully login\n"
     ]
    }
   ],
   "source": [
    "username = 'learbay.python@gmail.com'\n",
    "password = 'python'\n",
    "\n",
    "\n",
    "if username == input(\"Enter your user name :\"):\n",
    "    if password== input(\"Enter Your password :\"):\n",
    "        print(\"You successfully login\")\n",
    "    else:\n",
    "        print(\"You enter wrong password\")\n",
    "else:\n",
    "        print(\"You enter wrong Login ID\")"
   ]
  },
  {
   "cell_type": "code",
   "execution_count": null,
   "id": "4d82f387",
   "metadata": {},
   "outputs": [],
   "source": []
  }
 ],
 "metadata": {
  "kernelspec": {
   "display_name": "Python 3 (ipykernel)",
   "language": "python",
   "name": "python3"
  },
  "language_info": {
   "codemirror_mode": {
    "name": "ipython",
    "version": 3
   },
   "file_extension": ".py",
   "mimetype": "text/x-python",
   "name": "python",
   "nbconvert_exporter": "python",
   "pygments_lexer": "ipython3",
   "version": "3.9.12"
  }
 },
 "nbformat": 4,
 "nbformat_minor": 5
}
