{
 "cells": [
  {
   "cell_type": "markdown",
   "id": "3044bf49",
   "metadata": {},
   "source": [
    "# Regex"
   ]
  },
  {
   "cell_type": "code",
   "execution_count": null,
   "id": "178e3a8b",
   "metadata": {},
   "outputs": [],
   "source": [
    "\n",
    "'''\n",
    ".       - Any Character Except New Line\n",
    "\\d      - Digit (0-9)\n",
    "\\D      - Not a Digit (0-9)\n",
    "\\w      - Word Character (a-z, A-Z, 0-9, _)\n",
    "\\W      - Not a Word Character\n",
    "\\s      - Whitespace (space, tab, newline)\n",
    "\\S      - Not Whitespace (space, tab, newline)\n",
    "\n",
    "\\b      - Word Boundary\n",
    "\\B      - Not a Word Boundary\n",
    "^       - Beginning of a String\n",
    "$       - End of a String\n",
    "\n",
    "[]      - Matches Characters in brackets\n",
    "[^ ]    - Matches Characters NOT in brackets\n",
    "|       - Either Or\n",
    "( )     - Group\n",
    "\n",
    "Quantifiers:\n",
    "*       - 0 or More\n",
    "+       - 1 or More\n",
    "?       - 0 or One\n",
    "{3}     - Exact Number\n",
    "{3,4}   - Range of Numbers (Minimum, Maximum)\n",
    "'''\n"
   ]
  },
  {
   "cell_type": "code",
   "execution_count": 4,
   "id": "463c46f7",
   "metadata": {},
   "outputs": [],
   "source": [
    "text_to_search = '''\n",
    "abcdefghijklmnopqurtuvwxyz\n",
    "ABCDEFGHIJKLMNOPQRSTUVWXYZ\\s\n",
    "321-555-4321\n",
    "1234567890\n",
    "Ha HaHa\n",
    "MetaCharacters (Need to be escaped):\n",
    ". ^ $ * + ? { } [ ] \\ | ( )\n",
    "mohammed.israr11.com\n",
    "321-555-4321\n",
    "123.555.1234\n",
    "123*555*-1234\n",
    "123.555.1234\n",
    "800-555-1234\n",
    "900-555-1234\n",
    "Mr. Schafer\n",
    "Mr Smith\n",
    "Ms Davis\n",
    "Mrs. Robinson\n",
    "Mr. T\n",
    "Mr_hello\n",
    "'''\n",
    "\n",
    "#what we want to search\n",
    "\n"
   ]
  },
  {
   "cell_type": "code",
   "execution_count": 3,
   "id": "a56b18f6",
   "metadata": {},
   "outputs": [],
   "source": [
    "import re"
   ]
  },
  {
   "cell_type": "code",
   "execution_count": 5,
   "id": "a32ce83c",
   "metadata": {},
   "outputs": [
    {
     "name": "stdout",
     "output_type": "stream",
     "text": [
      "<re.Match object; span=(0, 1), match='\\n'>\n",
      "<re.Match object; span=(27, 28), match='\\n'>\n",
      "<re.Match object; span=(54, 55), match='\\\\'>\n",
      "<re.Match object; span=(56, 57), match='\\n'>\n",
      "<re.Match object; span=(60, 61), match='-'>\n",
      "<re.Match object; span=(64, 65), match='-'>\n",
      "<re.Match object; span=(69, 70), match='\\n'>\n",
      "<re.Match object; span=(80, 81), match='\\n'>\n",
      "<re.Match object; span=(83, 84), match=' '>\n",
      "<re.Match object; span=(88, 89), match='\\n'>\n",
      "<re.Match object; span=(103, 104), match=' '>\n",
      "<re.Match object; span=(104, 105), match='('>\n",
      "<re.Match object; span=(109, 110), match=' '>\n",
      "<re.Match object; span=(112, 113), match=' '>\n",
      "<re.Match object; span=(115, 116), match=' '>\n",
      "<re.Match object; span=(123, 124), match=')'>\n",
      "<re.Match object; span=(124, 125), match=':'>\n",
      "<re.Match object; span=(125, 126), match='\\n'>\n",
      "<re.Match object; span=(126, 127), match='.'>\n",
      "<re.Match object; span=(127, 128), match=' '>\n",
      "<re.Match object; span=(128, 129), match='^'>\n",
      "<re.Match object; span=(129, 130), match=' '>\n",
      "<re.Match object; span=(130, 131), match='$'>\n",
      "<re.Match object; span=(131, 132), match=' '>\n",
      "<re.Match object; span=(132, 133), match='*'>\n",
      "<re.Match object; span=(133, 134), match=' '>\n",
      "<re.Match object; span=(134, 135), match='+'>\n",
      "<re.Match object; span=(135, 136), match=' '>\n",
      "<re.Match object; span=(136, 137), match='?'>\n",
      "<re.Match object; span=(137, 138), match=' '>\n",
      "<re.Match object; span=(138, 139), match='{'>\n",
      "<re.Match object; span=(139, 140), match=' '>\n",
      "<re.Match object; span=(140, 141), match='}'>\n",
      "<re.Match object; span=(141, 142), match=' '>\n",
      "<re.Match object; span=(142, 143), match='['>\n",
      "<re.Match object; span=(143, 144), match=' '>\n",
      "<re.Match object; span=(144, 145), match=']'>\n",
      "<re.Match object; span=(145, 146), match=' '>\n",
      "<re.Match object; span=(146, 147), match='\\\\'>\n",
      "<re.Match object; span=(147, 148), match=' '>\n",
      "<re.Match object; span=(148, 149), match='|'>\n",
      "<re.Match object; span=(149, 150), match=' '>\n",
      "<re.Match object; span=(150, 151), match='('>\n",
      "<re.Match object; span=(151, 152), match=' '>\n",
      "<re.Match object; span=(152, 153), match=')'>\n",
      "<re.Match object; span=(153, 154), match='\\n'>\n",
      "<re.Match object; span=(162, 163), match='.'>\n",
      "<re.Match object; span=(170, 171), match='.'>\n",
      "<re.Match object; span=(174, 175), match='\\n'>\n",
      "<re.Match object; span=(178, 179), match='-'>\n",
      "<re.Match object; span=(182, 183), match='-'>\n",
      "<re.Match object; span=(187, 188), match='\\n'>\n",
      "<re.Match object; span=(191, 192), match='.'>\n",
      "<re.Match object; span=(195, 196), match='.'>\n",
      "<re.Match object; span=(200, 201), match='\\n'>\n",
      "<re.Match object; span=(204, 205), match='*'>\n",
      "<re.Match object; span=(208, 209), match='*'>\n",
      "<re.Match object; span=(209, 210), match='-'>\n",
      "<re.Match object; span=(214, 215), match='\\n'>\n",
      "<re.Match object; span=(218, 219), match='.'>\n",
      "<re.Match object; span=(222, 223), match='.'>\n",
      "<re.Match object; span=(227, 228), match='\\n'>\n",
      "<re.Match object; span=(231, 232), match='-'>\n",
      "<re.Match object; span=(235, 236), match='-'>\n",
      "<re.Match object; span=(240, 241), match='\\n'>\n",
      "<re.Match object; span=(244, 245), match='-'>\n",
      "<re.Match object; span=(248, 249), match='-'>\n",
      "<re.Match object; span=(253, 254), match='\\n'>\n",
      "<re.Match object; span=(256, 257), match='.'>\n",
      "<re.Match object; span=(257, 258), match=' '>\n",
      "<re.Match object; span=(265, 266), match='\\n'>\n",
      "<re.Match object; span=(268, 269), match=' '>\n",
      "<re.Match object; span=(274, 275), match='\\n'>\n",
      "<re.Match object; span=(277, 278), match=' '>\n",
      "<re.Match object; span=(283, 284), match='\\n'>\n",
      "<re.Match object; span=(287, 288), match='.'>\n",
      "<re.Match object; span=(288, 289), match=' '>\n",
      "<re.Match object; span=(297, 298), match='\\n'>\n",
      "<re.Match object; span=(300, 301), match='.'>\n",
      "<re.Match object; span=(301, 302), match=' '>\n",
      "<re.Match object; span=(303, 304), match='\\n'>\n",
      "<re.Match object; span=(312, 313), match='\\n'>\n"
     ]
    }
   ],
   "source": [
    "pt =re.compile(r'\\W')\n",
    "\n",
    "matches = pt.finditer(text_to_search)\n",
    "for i in matches:\n",
    "    print(i)"
   ]
  },
  {
   "cell_type": "code",
   "execution_count": 10,
   "id": "d4c65e4a",
   "metadata": {},
   "outputs": [
    {
     "name": "stdout",
     "output_type": "stream",
     "text": [
      "<re.Match object; span=(27, 30), match='cat'>\n",
      "<re.Match object; span=(56, 59), match='cat'>\n"
     ]
    }
   ],
   "source": [
    "pt =re.compile(r'cat\\b')\n",
    "stts = 'This is the best games for cat who are bored. Test your cat, let him try to hunt string on the screen. '\n",
    "matches = pt.finditer(stts)\n",
    "for i in matches:\n",
    "    print(i)"
   ]
  },
  {
   "cell_type": "code",
   "execution_count": 3,
   "id": "a76f96c9",
   "metadata": {},
   "outputs": [
    {
     "name": "stdout",
     "output_type": "stream",
     "text": [
      "<re.Match object; span=(57, 69), match='321-555-4321'>\n",
      "<re.Match object; span=(175, 187), match='321-555-4321'>\n",
      "<re.Match object; span=(188, 200), match='123.555.1234'>\n",
      "<re.Match object; span=(215, 227), match='123.555.1234'>\n",
      "<re.Match object; span=(228, 240), match='800-555-1234'>\n",
      "<re.Match object; span=(241, 253), match='900-555-1234'>\n"
     ]
    }
   ],
   "source": [
    "text_to_search = '''\n",
    "abcdefghijklmnopqurtuvwxyz\n",
    "ABCDEFGHIJKLMNOPQRSTUVWXYZ\\s\n",
    "321-555-4321\n",
    "1234567890\n",
    "Ha HaHa\n",
    "MetaCharacters (Need to be escaped):\n",
    ". ^ $ * + ? { } [ ] \\ | ( )\n",
    "mohammed.israr11.com\n",
    "321-555-4321\n",
    "123.555.1234\n",
    "123*555*-1234\n",
    "123.555.1234\n",
    "800-555-1234\n",
    "900-555-1234\n",
    "Mr. Schafer\n",
    "Mr Smith\n",
    "Ms Davis\n",
    "Mrs. Robinson\n",
    "Mr. T\n",
    "Mr_hello\n",
    "'''\n",
    "\n",
    "# extract phone no from the string\n",
    "pt =re.compile('\\d\\d\\d.\\d\\d\\d.\\d\\d\\d\\d')\n",
    "\n",
    "matches = pt.finditer(text_to_search)\n",
    "for i in matches:\n",
    "    print(i)"
   ]
  },
  {
   "cell_type": "code",
   "execution_count": 46,
   "id": "2fb8839f",
   "metadata": {},
   "outputs": [
    {
     "name": "stdout",
     "output_type": "stream",
     "text": [
      "<re.Match object; span=(57, 69), match='321-555-4321'>\n",
      "<re.Match object; span=(175, 187), match='321-555-4321'>\n",
      "<re.Match object; span=(188, 200), match='123.555.1234'>\n",
      "<re.Match object; span=(215, 227), match='123.555.1234'>\n",
      "<re.Match object; span=(228, 240), match='800-555-1234'>\n",
      "<re.Match object; span=(241, 253), match='900-555-1234'>\n"
     ]
    }
   ],
   "source": [
    "pt =re.compile(r'\\d\\d\\d[.-]\\d\\d\\d.\\d\\d\\d\\d')\n",
    "\n",
    "matches = pt.finditer(text_to_search)\n",
    "for i in matches:\n",
    "    print(i)"
   ]
  },
  {
   "cell_type": "code",
   "execution_count": 36,
   "id": "4f93fc9b",
   "metadata": {},
   "outputs": [
    {
     "name": "stdout",
     "output_type": "stream",
     "text": [
      "<re.Match object; span=(228, 240), match='800-555-1234'>\n",
      "<re.Match object; span=(241, 253), match='900-555-1234'>\n"
     ]
    }
   ],
   "source": [
    "pt =re.compile(r'[89]\\d\\d[.-]\\d\\d\\d.\\d\\d\\d\\d')\n",
    "\n",
    "matches = pt.finditer(text_to_search)\n",
    "for i in matches:\n",
    "    print(i)"
   ]
  },
  {
   "cell_type": "code",
   "execution_count": 18,
   "id": "6e3df50e",
   "metadata": {},
   "outputs": [
    {
     "name": "stdout",
     "output_type": "stream",
     "text": [
      "<re.Match object; span=(1, 13), match='321-555-4321'>\n",
      "<re.Match object; span=(14, 26), match='123.555.1234'>\n",
      "<re.Match object; span=(41, 53), match='123.555.1234'>\n",
      "<re.Match object; span=(54, 66), match='800-555-1234'>\n",
      "<re.Match object; span=(67, 79), match='900-555-1234'>\n"
     ]
    }
   ],
   "source": [
    "mytext= '''\n",
    "321-555-4321\n",
    "123.555.1234\n",
    "123*555*-1234\n",
    "123.555.1234\n",
    "800-555-1234\n",
    "900-555-1234\n",
    "'''\n",
    "pt =re.compile(r'\\d\\d\\d.\\d\\d\\d.\\d\\d\\d\\d')\n",
    "\n",
    "matches = pt.finditer(mytext)\n",
    "for i in matches:\n",
    "    print(i)"
   ]
  },
  {
   "cell_type": "code",
   "execution_count": 6,
   "id": "c1a9aef5",
   "metadata": {},
   "outputs": [
    {
     "name": "stdout",
     "output_type": "stream",
     "text": [
      "<re.Match object; span=(0, 1), match='\\n'>\n",
      "<re.Match object; span=(27, 28), match='\\n'>\n",
      "<re.Match object; span=(28, 29), match='A'>\n",
      "<re.Match object; span=(29, 30), match='B'>\n",
      "<re.Match object; span=(30, 31), match='C'>\n",
      "<re.Match object; span=(31, 32), match='D'>\n",
      "<re.Match object; span=(32, 33), match='E'>\n",
      "<re.Match object; span=(33, 34), match='F'>\n",
      "<re.Match object; span=(34, 35), match='G'>\n",
      "<re.Match object; span=(35, 36), match='H'>\n",
      "<re.Match object; span=(36, 37), match='I'>\n",
      "<re.Match object; span=(37, 38), match='J'>\n",
      "<re.Match object; span=(38, 39), match='K'>\n",
      "<re.Match object; span=(39, 40), match='L'>\n",
      "<re.Match object; span=(40, 41), match='M'>\n",
      "<re.Match object; span=(41, 42), match='N'>\n",
      "<re.Match object; span=(42, 43), match='O'>\n",
      "<re.Match object; span=(43, 44), match='P'>\n",
      "<re.Match object; span=(44, 45), match='Q'>\n",
      "<re.Match object; span=(45, 46), match='R'>\n",
      "<re.Match object; span=(46, 47), match='S'>\n",
      "<re.Match object; span=(47, 48), match='T'>\n",
      "<re.Match object; span=(48, 49), match='U'>\n",
      "<re.Match object; span=(49, 50), match='V'>\n",
      "<re.Match object; span=(50, 51), match='W'>\n",
      "<re.Match object; span=(51, 52), match='X'>\n",
      "<re.Match object; span=(52, 53), match='Y'>\n",
      "<re.Match object; span=(53, 54), match='Z'>\n",
      "<re.Match object; span=(54, 55), match='\\\\'>\n",
      "<re.Match object; span=(56, 57), match='\\n'>\n",
      "<re.Match object; span=(57, 58), match='3'>\n",
      "<re.Match object; span=(58, 59), match='2'>\n",
      "<re.Match object; span=(59, 60), match='1'>\n",
      "<re.Match object; span=(60, 61), match='-'>\n",
      "<re.Match object; span=(61, 62), match='5'>\n",
      "<re.Match object; span=(62, 63), match='5'>\n",
      "<re.Match object; span=(63, 64), match='5'>\n",
      "<re.Match object; span=(64, 65), match='-'>\n",
      "<re.Match object; span=(65, 66), match='4'>\n",
      "<re.Match object; span=(66, 67), match='3'>\n",
      "<re.Match object; span=(67, 68), match='2'>\n",
      "<re.Match object; span=(68, 69), match='1'>\n",
      "<re.Match object; span=(69, 70), match='\\n'>\n",
      "<re.Match object; span=(70, 71), match='1'>\n",
      "<re.Match object; span=(71, 72), match='2'>\n",
      "<re.Match object; span=(72, 73), match='3'>\n",
      "<re.Match object; span=(73, 74), match='4'>\n",
      "<re.Match object; span=(74, 75), match='5'>\n",
      "<re.Match object; span=(75, 76), match='6'>\n",
      "<re.Match object; span=(76, 77), match='7'>\n",
      "<re.Match object; span=(77, 78), match='8'>\n",
      "<re.Match object; span=(78, 79), match='9'>\n",
      "<re.Match object; span=(79, 80), match='0'>\n",
      "<re.Match object; span=(80, 81), match='\\n'>\n",
      "<re.Match object; span=(81, 82), match='H'>\n",
      "<re.Match object; span=(83, 84), match=' '>\n",
      "<re.Match object; span=(84, 85), match='H'>\n",
      "<re.Match object; span=(86, 87), match='H'>\n",
      "<re.Match object; span=(88, 89), match='\\n'>\n",
      "<re.Match object; span=(89, 90), match='M'>\n",
      "<re.Match object; span=(93, 94), match='C'>\n",
      "<re.Match object; span=(103, 104), match=' '>\n",
      "<re.Match object; span=(104, 105), match='('>\n",
      "<re.Match object; span=(105, 106), match='N'>\n",
      "<re.Match object; span=(109, 110), match=' '>\n",
      "<re.Match object; span=(112, 113), match=' '>\n",
      "<re.Match object; span=(115, 116), match=' '>\n",
      "<re.Match object; span=(123, 124), match=')'>\n",
      "<re.Match object; span=(124, 125), match=':'>\n",
      "<re.Match object; span=(125, 126), match='\\n'>\n",
      "<re.Match object; span=(126, 127), match='.'>\n",
      "<re.Match object; span=(127, 128), match=' '>\n",
      "<re.Match object; span=(128, 129), match='^'>\n",
      "<re.Match object; span=(129, 130), match=' '>\n",
      "<re.Match object; span=(130, 131), match='$'>\n",
      "<re.Match object; span=(131, 132), match=' '>\n",
      "<re.Match object; span=(132, 133), match='*'>\n",
      "<re.Match object; span=(133, 134), match=' '>\n",
      "<re.Match object; span=(134, 135), match='+'>\n",
      "<re.Match object; span=(135, 136), match=' '>\n",
      "<re.Match object; span=(136, 137), match='?'>\n",
      "<re.Match object; span=(137, 138), match=' '>\n",
      "<re.Match object; span=(138, 139), match='{'>\n",
      "<re.Match object; span=(139, 140), match=' '>\n",
      "<re.Match object; span=(140, 141), match='}'>\n",
      "<re.Match object; span=(141, 142), match=' '>\n",
      "<re.Match object; span=(142, 143), match='['>\n",
      "<re.Match object; span=(143, 144), match=' '>\n",
      "<re.Match object; span=(144, 145), match=']'>\n",
      "<re.Match object; span=(145, 146), match=' '>\n",
      "<re.Match object; span=(146, 147), match='\\\\'>\n",
      "<re.Match object; span=(147, 148), match=' '>\n",
      "<re.Match object; span=(148, 149), match='|'>\n",
      "<re.Match object; span=(149, 150), match=' '>\n",
      "<re.Match object; span=(150, 151), match='('>\n",
      "<re.Match object; span=(151, 152), match=' '>\n",
      "<re.Match object; span=(152, 153), match=')'>\n",
      "<re.Match object; span=(153, 154), match='\\n'>\n",
      "<re.Match object; span=(162, 163), match='.'>\n",
      "<re.Match object; span=(168, 169), match='1'>\n",
      "<re.Match object; span=(169, 170), match='1'>\n",
      "<re.Match object; span=(170, 171), match='.'>\n",
      "<re.Match object; span=(174, 175), match='\\n'>\n",
      "<re.Match object; span=(175, 176), match='3'>\n",
      "<re.Match object; span=(176, 177), match='2'>\n",
      "<re.Match object; span=(177, 178), match='1'>\n",
      "<re.Match object; span=(178, 179), match='-'>\n",
      "<re.Match object; span=(179, 180), match='5'>\n",
      "<re.Match object; span=(180, 181), match='5'>\n",
      "<re.Match object; span=(181, 182), match='5'>\n",
      "<re.Match object; span=(182, 183), match='-'>\n",
      "<re.Match object; span=(183, 184), match='4'>\n",
      "<re.Match object; span=(184, 185), match='3'>\n",
      "<re.Match object; span=(185, 186), match='2'>\n",
      "<re.Match object; span=(186, 187), match='1'>\n",
      "<re.Match object; span=(187, 188), match='\\n'>\n",
      "<re.Match object; span=(188, 189), match='1'>\n",
      "<re.Match object; span=(189, 190), match='2'>\n",
      "<re.Match object; span=(190, 191), match='3'>\n",
      "<re.Match object; span=(191, 192), match='.'>\n",
      "<re.Match object; span=(192, 193), match='5'>\n",
      "<re.Match object; span=(193, 194), match='5'>\n",
      "<re.Match object; span=(194, 195), match='5'>\n",
      "<re.Match object; span=(195, 196), match='.'>\n",
      "<re.Match object; span=(196, 197), match='1'>\n",
      "<re.Match object; span=(197, 198), match='2'>\n",
      "<re.Match object; span=(198, 199), match='3'>\n",
      "<re.Match object; span=(199, 200), match='4'>\n",
      "<re.Match object; span=(200, 201), match='\\n'>\n",
      "<re.Match object; span=(201, 202), match='1'>\n",
      "<re.Match object; span=(202, 203), match='2'>\n",
      "<re.Match object; span=(203, 204), match='3'>\n",
      "<re.Match object; span=(204, 205), match='*'>\n",
      "<re.Match object; span=(205, 206), match='5'>\n",
      "<re.Match object; span=(206, 207), match='5'>\n",
      "<re.Match object; span=(207, 208), match='5'>\n",
      "<re.Match object; span=(208, 209), match='*'>\n",
      "<re.Match object; span=(209, 210), match='-'>\n",
      "<re.Match object; span=(210, 211), match='1'>\n",
      "<re.Match object; span=(211, 212), match='2'>\n",
      "<re.Match object; span=(212, 213), match='3'>\n",
      "<re.Match object; span=(213, 214), match='4'>\n",
      "<re.Match object; span=(214, 215), match='\\n'>\n",
      "<re.Match object; span=(215, 216), match='1'>\n",
      "<re.Match object; span=(216, 217), match='2'>\n",
      "<re.Match object; span=(217, 218), match='3'>\n",
      "<re.Match object; span=(218, 219), match='.'>\n",
      "<re.Match object; span=(219, 220), match='5'>\n",
      "<re.Match object; span=(220, 221), match='5'>\n",
      "<re.Match object; span=(221, 222), match='5'>\n",
      "<re.Match object; span=(222, 223), match='.'>\n",
      "<re.Match object; span=(223, 224), match='1'>\n",
      "<re.Match object; span=(224, 225), match='2'>\n",
      "<re.Match object; span=(225, 226), match='3'>\n",
      "<re.Match object; span=(226, 227), match='4'>\n",
      "<re.Match object; span=(227, 228), match='\\n'>\n",
      "<re.Match object; span=(228, 229), match='8'>\n",
      "<re.Match object; span=(229, 230), match='0'>\n",
      "<re.Match object; span=(230, 231), match='0'>\n",
      "<re.Match object; span=(231, 232), match='-'>\n",
      "<re.Match object; span=(232, 233), match='5'>\n",
      "<re.Match object; span=(233, 234), match='5'>\n",
      "<re.Match object; span=(234, 235), match='5'>\n",
      "<re.Match object; span=(235, 236), match='-'>\n",
      "<re.Match object; span=(236, 237), match='1'>\n",
      "<re.Match object; span=(237, 238), match='2'>\n",
      "<re.Match object; span=(238, 239), match='3'>\n",
      "<re.Match object; span=(239, 240), match='4'>\n",
      "<re.Match object; span=(240, 241), match='\\n'>\n",
      "<re.Match object; span=(241, 242), match='9'>\n",
      "<re.Match object; span=(242, 243), match='0'>\n",
      "<re.Match object; span=(243, 244), match='0'>\n",
      "<re.Match object; span=(244, 245), match='-'>\n",
      "<re.Match object; span=(245, 246), match='5'>\n",
      "<re.Match object; span=(246, 247), match='5'>\n",
      "<re.Match object; span=(247, 248), match='5'>\n",
      "<re.Match object; span=(248, 249), match='-'>\n",
      "<re.Match object; span=(249, 250), match='1'>\n",
      "<re.Match object; span=(250, 251), match='2'>\n",
      "<re.Match object; span=(251, 252), match='3'>\n",
      "<re.Match object; span=(252, 253), match='4'>\n",
      "<re.Match object; span=(253, 254), match='\\n'>\n",
      "<re.Match object; span=(254, 255), match='M'>\n",
      "<re.Match object; span=(256, 257), match='.'>\n",
      "<re.Match object; span=(257, 258), match=' '>\n",
      "<re.Match object; span=(258, 259), match='S'>\n",
      "<re.Match object; span=(265, 266), match='\\n'>\n",
      "<re.Match object; span=(266, 267), match='M'>\n",
      "<re.Match object; span=(268, 269), match=' '>\n",
      "<re.Match object; span=(269, 270), match='S'>\n",
      "<re.Match object; span=(274, 275), match='\\n'>\n",
      "<re.Match object; span=(275, 276), match='M'>\n",
      "<re.Match object; span=(277, 278), match=' '>\n",
      "<re.Match object; span=(278, 279), match='D'>\n",
      "<re.Match object; span=(283, 284), match='\\n'>\n",
      "<re.Match object; span=(284, 285), match='M'>\n",
      "<re.Match object; span=(287, 288), match='.'>\n",
      "<re.Match object; span=(288, 289), match=' '>\n",
      "<re.Match object; span=(289, 290), match='R'>\n",
      "<re.Match object; span=(297, 298), match='\\n'>\n",
      "<re.Match object; span=(298, 299), match='M'>\n",
      "<re.Match object; span=(300, 301), match='.'>\n",
      "<re.Match object; span=(301, 302), match=' '>\n",
      "<re.Match object; span=(302, 303), match='T'>\n",
      "<re.Match object; span=(303, 304), match='\\n'>\n",
      "<re.Match object; span=(304, 305), match='M'>\n",
      "<re.Match object; span=(306, 307), match='_'>\n",
      "<re.Match object; span=(312, 313), match='\\n'>\n"
     ]
    }
   ],
   "source": [
    "pt =re.compile(r'[^a-z]')\n",
    "\n",
    "matches = pt.finditer(text_to_search)\n",
    "for i in matches:\n",
    "    print(i)"
   ]
  },
  {
   "cell_type": "code",
   "execution_count": 8,
   "id": "189067a4",
   "metadata": {},
   "outputs": [
    {
     "name": "stdout",
     "output_type": "stream",
     "text": [
      "<re.Match object; span=(0, 2), match='\\na'>\n",
      "<re.Match object; span=(2, 4), match='bc'>\n",
      "<re.Match object; span=(4, 6), match='de'>\n",
      "<re.Match object; span=(6, 8), match='fg'>\n",
      "<re.Match object; span=(8, 10), match='hi'>\n",
      "<re.Match object; span=(10, 12), match='jk'>\n",
      "<re.Match object; span=(12, 14), match='lm'>\n",
      "<re.Match object; span=(14, 16), match='no'>\n",
      "<re.Match object; span=(16, 18), match='pq'>\n",
      "<re.Match object; span=(18, 20), match='ur'>\n",
      "<re.Match object; span=(20, 22), match='tu'>\n",
      "<re.Match object; span=(22, 24), match='vw'>\n",
      "<re.Match object; span=(24, 26), match='xy'>\n",
      "<re.Match object; span=(26, 28), match='z\\n'>\n",
      "<re.Match object; span=(28, 30), match='AB'>\n",
      "<re.Match object; span=(30, 32), match='CD'>\n",
      "<re.Match object; span=(32, 34), match='EF'>\n",
      "<re.Match object; span=(34, 36), match='GH'>\n",
      "<re.Match object; span=(36, 38), match='IJ'>\n",
      "<re.Match object; span=(38, 40), match='KL'>\n",
      "<re.Match object; span=(40, 42), match='MN'>\n",
      "<re.Match object; span=(42, 44), match='OP'>\n",
      "<re.Match object; span=(44, 46), match='QR'>\n",
      "<re.Match object; span=(46, 48), match='ST'>\n",
      "<re.Match object; span=(48, 50), match='UV'>\n",
      "<re.Match object; span=(50, 52), match='WX'>\n",
      "<re.Match object; span=(52, 54), match='YZ'>\n",
      "<re.Match object; span=(54, 56), match='\\\\s'>\n",
      "<re.Match object; span=(56, 58), match='\\n3'>\n",
      "<re.Match object; span=(58, 60), match='21'>\n",
      "<re.Match object; span=(60, 62), match='-5'>\n",
      "<re.Match object; span=(62, 64), match='55'>\n",
      "<re.Match object; span=(64, 66), match='-4'>\n",
      "<re.Match object; span=(66, 68), match='32'>\n",
      "<re.Match object; span=(68, 70), match='1\\n'>\n",
      "<re.Match object; span=(70, 72), match='12'>\n",
      "<re.Match object; span=(72, 74), match='34'>\n",
      "<re.Match object; span=(74, 76), match='56'>\n",
      "<re.Match object; span=(76, 78), match='78'>\n",
      "<re.Match object; span=(78, 80), match='90'>\n",
      "<re.Match object; span=(80, 82), match='\\nH'>\n",
      "<re.Match object; span=(83, 85), match=' H'>\n",
      "<re.Match object; span=(86, 88), match='Ha'>\n",
      "<re.Match object; span=(88, 90), match='\\nM'>\n",
      "<re.Match object; span=(90, 92), match='et'>\n",
      "<re.Match object; span=(93, 95), match='Ch'>\n",
      "<re.Match object; span=(96, 98), match='ra'>\n",
      "<re.Match object; span=(98, 100), match='ct'>\n",
      "<re.Match object; span=(100, 102), match='er'>\n",
      "<re.Match object; span=(102, 104), match='s '>\n",
      "<re.Match object; span=(104, 106), match='(N'>\n",
      "<re.Match object; span=(106, 108), match='ee'>\n",
      "<re.Match object; span=(108, 110), match='d '>\n",
      "<re.Match object; span=(110, 112), match='to'>\n",
      "<re.Match object; span=(112, 114), match=' b'>\n",
      "<re.Match object; span=(114, 116), match='e '>\n",
      "<re.Match object; span=(116, 118), match='es'>\n",
      "<re.Match object; span=(118, 120), match='ca'>\n",
      "<re.Match object; span=(120, 122), match='pe'>\n",
      "<re.Match object; span=(122, 124), match='d)'>\n",
      "<re.Match object; span=(124, 126), match=':\\n'>\n",
      "<re.Match object; span=(126, 128), match='. '>\n",
      "<re.Match object; span=(128, 130), match='^ '>\n",
      "<re.Match object; span=(130, 132), match='$ '>\n",
      "<re.Match object; span=(132, 134), match='* '>\n",
      "<re.Match object; span=(134, 136), match='+ '>\n",
      "<re.Match object; span=(136, 138), match='? '>\n",
      "<re.Match object; span=(138, 140), match='{ '>\n",
      "<re.Match object; span=(140, 142), match='} '>\n",
      "<re.Match object; span=(142, 144), match='[ '>\n",
      "<re.Match object; span=(144, 146), match='] '>\n",
      "<re.Match object; span=(146, 148), match='\\\\ '>\n",
      "<re.Match object; span=(148, 150), match='| '>\n",
      "<re.Match object; span=(150, 152), match='( '>\n",
      "<re.Match object; span=(152, 154), match=')\\n'>\n",
      "<re.Match object; span=(154, 156), match='mo'>\n",
      "<re.Match object; span=(156, 158), match='ha'>\n",
      "<re.Match object; span=(158, 160), match='mm'>\n",
      "<re.Match object; span=(160, 162), match='ed'>\n",
      "<re.Match object; span=(162, 164), match='.i'>\n",
      "<re.Match object; span=(164, 166), match='sr'>\n",
      "<re.Match object; span=(167, 169), match='r1'>\n",
      "<re.Match object; span=(169, 171), match='1.'>\n",
      "<re.Match object; span=(171, 173), match='co'>\n",
      "<re.Match object; span=(173, 175), match='m\\n'>\n",
      "<re.Match object; span=(175, 177), match='32'>\n",
      "<re.Match object; span=(177, 179), match='1-'>\n",
      "<re.Match object; span=(179, 181), match='55'>\n",
      "<re.Match object; span=(181, 183), match='5-'>\n",
      "<re.Match object; span=(183, 185), match='43'>\n",
      "<re.Match object; span=(185, 187), match='21'>\n",
      "<re.Match object; span=(187, 189), match='\\n1'>\n",
      "<re.Match object; span=(189, 191), match='23'>\n",
      "<re.Match object; span=(191, 193), match='.5'>\n",
      "<re.Match object; span=(193, 195), match='55'>\n",
      "<re.Match object; span=(195, 197), match='.1'>\n",
      "<re.Match object; span=(197, 199), match='23'>\n",
      "<re.Match object; span=(199, 201), match='4\\n'>\n",
      "<re.Match object; span=(201, 203), match='12'>\n",
      "<re.Match object; span=(203, 205), match='3*'>\n",
      "<re.Match object; span=(205, 207), match='55'>\n",
      "<re.Match object; span=(207, 209), match='5*'>\n",
      "<re.Match object; span=(209, 211), match='-1'>\n",
      "<re.Match object; span=(211, 213), match='23'>\n",
      "<re.Match object; span=(213, 215), match='4\\n'>\n",
      "<re.Match object; span=(215, 217), match='12'>\n",
      "<re.Match object; span=(217, 219), match='3.'>\n",
      "<re.Match object; span=(219, 221), match='55'>\n",
      "<re.Match object; span=(221, 223), match='5.'>\n",
      "<re.Match object; span=(223, 225), match='12'>\n",
      "<re.Match object; span=(225, 227), match='34'>\n",
      "<re.Match object; span=(227, 229), match='\\n8'>\n",
      "<re.Match object; span=(229, 231), match='00'>\n",
      "<re.Match object; span=(231, 233), match='-5'>\n",
      "<re.Match object; span=(233, 235), match='55'>\n",
      "<re.Match object; span=(235, 237), match='-1'>\n",
      "<re.Match object; span=(237, 239), match='23'>\n",
      "<re.Match object; span=(239, 241), match='4\\n'>\n",
      "<re.Match object; span=(241, 243), match='90'>\n",
      "<re.Match object; span=(243, 245), match='0-'>\n",
      "<re.Match object; span=(245, 247), match='55'>\n",
      "<re.Match object; span=(247, 249), match='5-'>\n",
      "<re.Match object; span=(249, 251), match='12'>\n",
      "<re.Match object; span=(251, 253), match='34'>\n",
      "<re.Match object; span=(253, 255), match='\\nM'>\n",
      "<re.Match object; span=(255, 257), match='r.'>\n",
      "<re.Match object; span=(257, 259), match=' S'>\n",
      "<re.Match object; span=(259, 261), match='ch'>\n",
      "<re.Match object; span=(262, 264), match='fe'>\n",
      "<re.Match object; span=(264, 266), match='r\\n'>\n",
      "<re.Match object; span=(266, 268), match='Mr'>\n",
      "<re.Match object; span=(268, 270), match=' S'>\n",
      "<re.Match object; span=(270, 272), match='mi'>\n",
      "<re.Match object; span=(272, 274), match='th'>\n",
      "<re.Match object; span=(274, 276), match='\\nM'>\n",
      "<re.Match object; span=(276, 278), match='s '>\n",
      "<re.Match object; span=(278, 280), match='Da'>\n",
      "<re.Match object; span=(280, 282), match='vi'>\n",
      "<re.Match object; span=(282, 284), match='s\\n'>\n",
      "<re.Match object; span=(284, 286), match='Mr'>\n",
      "<re.Match object; span=(286, 288), match='s.'>\n",
      "<re.Match object; span=(288, 290), match=' R'>\n",
      "<re.Match object; span=(290, 292), match='ob'>\n",
      "<re.Match object; span=(292, 294), match='in'>\n",
      "<re.Match object; span=(294, 296), match='so'>\n",
      "<re.Match object; span=(296, 298), match='n\\n'>\n",
      "<re.Match object; span=(298, 300), match='Mr'>\n",
      "<re.Match object; span=(300, 302), match='. '>\n",
      "<re.Match object; span=(302, 304), match='T\\n'>\n",
      "<re.Match object; span=(304, 306), match='Mr'>\n",
      "<re.Match object; span=(306, 308), match='_h'>\n",
      "<re.Match object; span=(308, 310), match='el'>\n",
      "<re.Match object; span=(310, 312), match='lo'>\n"
     ]
    }
   ],
   "source": [
    "pt =re.compile(r'[^a][^z]')\n",
    "\n",
    "matches = pt.finditer(text_to_search)\n",
    "for i in matches:\n",
    "    print(i)"
   ]
  },
  {
   "cell_type": "code",
   "execution_count": 10,
   "id": "4b42e219",
   "metadata": {},
   "outputs": [
    {
     "name": "stdout",
     "output_type": "stream",
     "text": [
      "<re.Match object; span=(0, 3), match='cat'>\n",
      "<re.Match object; span=(8, 11), match='fat'>\n",
      "<re.Match object; span=(12, 15), match='mat'>\n",
      "<re.Match object; span=(16, 19), match='xat'>\n"
     ]
    }
   ],
   "source": [
    "sttr ='cat bat fat mat xat'\n",
    "pt =re.compile(r'[^b]at')\n",
    "\n",
    "matches = pt.finditer(sttr)\n",
    "for i in matches:\n",
    "    print(i)"
   ]
  },
  {
   "cell_type": "code",
   "execution_count": 12,
   "id": "493efd57",
   "metadata": {},
   "outputs": [
    {
     "name": "stdout",
     "output_type": "stream",
     "text": [
      "<re.Match object; span=(8, 11), match='fat'>\n",
      "<re.Match object; span=(16, 19), match='xat'>\n"
     ]
    }
   ],
   "source": [
    "sttr ='cat bat fat mat xat'\n",
    "pt =re.compile(r'[fx]at')\n",
    "\n",
    "matches = pt.finditer(sttr)\n",
    "for i in matches:\n",
    "    print(i)"
   ]
  },
  {
   "cell_type": "code",
   "execution_count": 19,
   "id": "97032522",
   "metadata": {},
   "outputs": [
    {
     "name": "stdout",
     "output_type": "stream",
     "text": [
      "<re.Match object; span=(1, 13), match='321-555-4321'>\n",
      "<re.Match object; span=(14, 25), match='123.555.123'>\n",
      "<re.Match object; span=(26, 38), match='123*555*1234'>\n",
      "<re.Match object; span=(39, 52), match='123.555.12343'>\n",
      "<re.Match object; span=(53, 64), match='800-555-123'>\n",
      "<re.Match object; span=(65, 78), match='900-555-12345'>\n"
     ]
    }
   ],
   "source": [
    "mytext= '''\n",
    "321-555-4321\n",
    "123.555.123\n",
    "123*555*1234\n",
    "123.555.12343\n",
    "800-555-123\n",
    "900-555-12345\n",
    "'''\n",
    "pt =re.compile(r'\\d{3}.\\d{3}.\\d{3,5}')\n",
    "\n",
    "matches = pt.finditer(mytext)\n",
    "for i in matches:\n",
    "    print(i)"
   ]
  },
  {
   "cell_type": "code",
   "execution_count": 21,
   "id": "5fa62f72",
   "metadata": {},
   "outputs": [
    {
     "name": "stdout",
     "output_type": "stream",
     "text": [
      "<re.Match object; span=(254, 257), match='Mr.'>\n",
      "<re.Match object; span=(266, 269), match='Mr '>\n",
      "<re.Match object; span=(284, 287), match='Mrs'>\n",
      "<re.Match object; span=(298, 301), match='Mr.'>\n",
      "<re.Match object; span=(304, 307), match='Mr_'>\n"
     ]
    }
   ],
   "source": [
    "pt =re.compile(r'Mr.')\n",
    "\n",
    "matches = pt.finditer(text_to_search)\n",
    "for i in matches:\n",
    "    print(i)"
   ]
  },
  {
   "cell_type": "code",
   "execution_count": 22,
   "id": "14b59e91",
   "metadata": {},
   "outputs": [
    {
     "name": "stdout",
     "output_type": "stream",
     "text": [
      "<re.Match object; span=(254, 257), match='Mr.'>\n",
      "<re.Match object; span=(298, 301), match='Mr.'>\n"
     ]
    }
   ],
   "source": [
    "pt =re.compile(r'Mr\\.')\n",
    "\n",
    "matches = pt.finditer(text_to_search)\n",
    "for i in matches:\n",
    "    print(i)"
   ]
  },
  {
   "cell_type": "code",
   "execution_count": 23,
   "id": "d8d74dd5",
   "metadata": {},
   "outputs": [
    {
     "name": "stdout",
     "output_type": "stream",
     "text": [
      "<re.Match object; span=(254, 258), match='Mr. '>\n",
      "<re.Match object; span=(298, 302), match='Mr. '>\n"
     ]
    }
   ],
   "source": [
    "pt =re.compile(r'Mr\\.')\n",
    "\n",
    "matches = pt.finditer(text_to_search)\n",
    "for i in matches:\n",
    "    print(i)"
   ]
  },
  {
   "cell_type": "code",
   "execution_count": 29,
   "id": "82e31040",
   "metadata": {},
   "outputs": [
    {
     "name": "stdout",
     "output_type": "stream",
     "text": [
      "<re.Match object; span=(254, 265), match='Mr. Schafer'>\n",
      "<re.Match object; span=(298, 303), match='Mr. T'>\n"
     ]
    }
   ],
   "source": [
    "pt =re.compile(r'Mr\\.\\s[A-Z][a-z]*')\n",
    "\n",
    "matches = pt.finditer(text_to_search)\n",
    "for i in matches:\n",
    "    print(i)"
   ]
  },
  {
   "cell_type": "code",
   "execution_count": 30,
   "id": "aa6faac9",
   "metadata": {},
   "outputs": [
    {
     "name": "stdout",
     "output_type": "stream",
     "text": [
      "<re.Match object; span=(254, 265), match='Mr. Schafer'>\n"
     ]
    }
   ],
   "source": [
    "pt =re.compile(r'Mr\\.\\s[A-Z][a-z]+')\n",
    "\n",
    "matches = pt.finditer(text_to_search)\n",
    "for i in matches:\n",
    "    print(i)"
   ]
  },
  {
   "cell_type": "code",
   "execution_count": 45,
   "id": "1a5a5134",
   "metadata": {},
   "outputs": [
    {
     "name": "stdout",
     "output_type": "stream",
     "text": [
      "<re.Match object; span=(1, 12), match='Mr. Schafer'>\n",
      "<re.Match object; span=(13, 21), match='Mr Smith'>\n",
      "<re.Match object; span=(22, 30), match='Ms Davis'>\n",
      "<re.Match object; span=(31, 44), match='Mrs. Robinson'>\n"
     ]
    }
   ],
   "source": [
    "sss ='''\n",
    "Mr. Schafer\n",
    "Mr Smith\n",
    "Ms Davis\n",
    "Mrs. Robinson\n",
    "Mr. T\n",
    "Mr_hello\n",
    "'''\n",
    "pt =re.compile(r'M(r|s|rs)\\.?\\s[A-Z][a-z]+')\n",
    "\n",
    "matches = pt.finditer(sss)\n",
    "for i in matches:\n",
    "    print(i)"
   ]
  },
  {
   "cell_type": "code",
   "execution_count": 80,
   "id": "f0d9a4af",
   "metadata": {},
   "outputs": [
    {
     "name": "stdout",
     "output_type": "stream",
     "text": [
      "<re.Match object; span=(1, 12), match='Mr. Schafer'>\n",
      "<re.Match object; span=(13, 21), match='Mr Smith'>\n",
      "<re.Match object; span=(22, 30), match='Ms Davis'>\n",
      "<re.Match object; span=(31, 44), match='Mrs. Robinson'>\n",
      "<re.Match object; span=(45, 50), match='Mr. T'>\n",
      "<re.Match object; span=(51, 59), match='Mr_hello'>\n"
     ]
    }
   ],
   "source": [
    "sss ='''\n",
    "Mr. Schafer\n",
    "Mr Smith\n",
    "Ms Davis\n",
    "Mrs. Robinson\n",
    "Mr. T\n",
    "Mr_hello\n",
    "'''\n",
    "pt =re.compile(r'M(r|s|rs)(.|_)?\\s\\w+|M(r|s|rs)(.|_)?\\w+')\n",
    "\n",
    "matches = pt.finditer(sss)\n",
    "for i in matches:\n",
    "    print(i)"
   ]
  },
  {
   "cell_type": "code",
   "execution_count": 27,
   "id": "1f1ef006",
   "metadata": {},
   "outputs": [],
   "source": [
    "sss ='''\n",
    "Mr. Schafer\n",
    "Mrrr Smith\n",
    "Ms Davis\n",
    "Mrs. Robinson\n",
    "Mr. T\n",
    "Mr_hello\n",
    "'''\n",
    "# pt =re.compile(r'M(r|s|rs)(.|_)?\\s\\w+|M(r|s|rs)(.|_)?\\w+')\n",
    "#pt =re.compile(r'Mr+')\n",
    "#pt =re.compile(r'M(r|s|rs)+')\n",
    "\n",
    "\n",
    "matches = pt.finditer(sss)\n",
    "for i in matches:\n",
    "    print(i)\n"
   ]
  },
  {
   "cell_type": "code",
   "execution_count": 32,
   "id": "6d0bbd99",
   "metadata": {},
   "outputs": [
    {
     "name": "stdout",
     "output_type": "stream",
     "text": [
      "Enter Your emailsrikantb.ttl@tata.com\n",
      "srikantb.ttl@tata.com\n"
     ]
    }
   ],
   "source": [
    "import re\n",
    "\n",
    "def checkmail(mails)\n",
    "    pt=re.compile(r'[a-z,A-Z,0-9,\".\"]+[@][a-z,A-Z]+[\\.][a-z,A-Z]+')\n",
    "    matches = pt.finditer(mails)\n",
    "    for i in matches:\n",
    "        print(i)\n",
    "    \n",
    "emails = input('Enter Your email')"
   ]
  },
  {
   "cell_type": "code",
   "execution_count": null,
   "id": "913a5f48",
   "metadata": {},
   "outputs": [],
   "source": [
    "mails = '''python.learnbay@gmail.com\n",
    "learnbay@$learnbay.in\n",
    "ml_deep_stats@gmail.com\n",
    "data_science@gmail.in'''\n"
   ]
  },
  {
   "cell_type": "code",
   "execution_count": 33,
   "id": "b855e466",
   "metadata": {},
   "outputs": [
    {
     "data": {
      "text/plain": [
       "'C:\\\\Users\\\\Sanu'"
      ]
     },
     "execution_count": 33,
     "metadata": {},
     "output_type": "execute_result"
    }
   ],
   "source": [
    "pwd"
   ]
  },
  {
   "cell_type": "code",
   "execution_count": 38,
   "id": "dbf27d2b",
   "metadata": {},
   "outputs": [
    {
     "name": "stdout",
     "output_type": "stream",
     "text": [
      "4\n",
      "(2, 2)\n",
      "2\n"
     ]
    }
   ],
   "source": [
    "import numpy\n",
    "lst = [[1,2],[4,5]]\n",
    "arr = numpy.array(lst)\n",
    "print(arr.size)\n",
    "print(arr.shape)\n",
    "print(arr.ndim)"
   ]
  },
  {
   "cell_type": "code",
   "execution_count": 42,
   "id": "8bb711c7",
   "metadata": {},
   "outputs": [],
   "source": [
    "import numpy as np\n"
   ]
  },
  {
   "cell_type": "code",
   "execution_count": 45,
   "id": "77cfe1e6",
   "metadata": {},
   "outputs": [
    {
     "name": "stdout",
     "output_type": "stream",
     "text": [
      "[ 1.  4.  7. 10.]\n"
     ]
    }
   ],
   "source": [
    "a = np.linspace(1,10,4)\n",
    "print(a)"
   ]
  },
  {
   "cell_type": "code",
   "execution_count": 51,
   "id": "6acba033",
   "metadata": {},
   "outputs": [
    {
     "name": "stdout",
     "output_type": "stream",
     "text": [
      "[[[[0 0]\n",
      "   [0 0]\n",
      "   [0 0]]\n",
      "\n",
      "  [[0 0]\n",
      "   [0 0]\n",
      "   [0 0]]]\n",
      "\n",
      "\n",
      " [[[0 0]\n",
      "   [0 0]\n",
      "   [0 0]]\n",
      "\n",
      "  [[0 0]\n",
      "   [0 0]\n",
      "   [0 0]]]]\n",
      "4\n"
     ]
    }
   ],
   "source": [
    "a = np.zeros((2,2,3,2),dtype='int')\n",
    "print(a)\n",
    "print(a.ndim)"
   ]
  },
  {
   "cell_type": "code",
   "execution_count": 54,
   "id": "6c015940",
   "metadata": {
    "scrolled": true
   },
   "outputs": [
    {
     "name": "stdout",
     "output_type": "stream",
     "text": [
      "[[0 0]\n",
      " [0 0]]\n",
      "2\n"
     ]
    }
   ],
   "source": [
    "a = np.zeros_like([[1,2],[3,4]],dtype='int')\n",
    "print(a)\n",
    "print(a.ndim)"
   ]
  },
  {
   "cell_type": "code",
   "execution_count": 55,
   "id": "c0706f6f",
   "metadata": {},
   "outputs": [
    {
     "name": "stdout",
     "output_type": "stream",
     "text": [
      "[[1 1]\n",
      " [1 1]]\n",
      "2\n"
     ]
    }
   ],
   "source": [
    "a = np.ones_like([[1,2],[3,4]],dtype='int')\n",
    "print(a)\n",
    "print(a.ndim)"
   ]
  },
  {
   "cell_type": "code",
   "execution_count": 56,
   "id": "ba04ca55",
   "metadata": {},
   "outputs": [
    {
     "name": "stdout",
     "output_type": "stream",
     "text": [
      "[[[1 1 1]\n",
      "  [1 1 1]]\n",
      "\n",
      " [[1 1 1]\n",
      "  [1 1 1]]\n",
      "\n",
      " [[1 1 1]\n",
      "  [1 1 1]]]\n",
      "3\n"
     ]
    }
   ],
   "source": [
    "a = np.ones((3,2,3),dtype=int)\n",
    "print(a)\n",
    "print(a.ndim)"
   ]
  },
  {
   "cell_type": "code",
   "execution_count": 59,
   "id": "735aeda3",
   "metadata": {},
   "outputs": [
    {
     "data": {
      "text/plain": [
       "array([['1', '', ''],\n",
       "       ['', '1', ''],\n",
       "       ['', '', '1']], dtype='<U1')"
      ]
     },
     "execution_count": 59,
     "metadata": {},
     "output_type": "execute_result"
    }
   ],
   "source": [
    "np.eye(3,dtype=str)"
   ]
  },
  {
   "cell_type": "code",
   "execution_count": null,
   "id": "5004c720",
   "metadata": {},
   "outputs": [],
   "source": []
  }
 ],
 "metadata": {
  "kernelspec": {
   "display_name": "Python 3 (ipykernel)",
   "language": "python",
   "name": "python3"
  },
  "language_info": {
   "codemirror_mode": {
    "name": "ipython",
    "version": 3
   },
   "file_extension": ".py",
   "mimetype": "text/x-python",
   "name": "python",
   "nbconvert_exporter": "python",
   "pygments_lexer": "ipython3",
   "version": "3.9.12"
  }
 },
 "nbformat": 4,
 "nbformat_minor": 5
}
