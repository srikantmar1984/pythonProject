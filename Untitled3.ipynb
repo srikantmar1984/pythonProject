{
 "cells": [
  {
   "cell_type": "code",
   "execution_count": null,
   "id": "ed83d048",
   "metadata": {},
   "outputs": [],
   "source": [
    "a= 'python'\n",
    "print(a[-1:len(a):-1])"
   ]
  },
  {
   "cell_type": "code",
   "execution_count": null,
   "id": "a239be30",
   "metadata": {},
   "outputs": [],
   "source": [
    "d='2018-04-01'\n",
    "print(d[:4])\n",
    "print(d[0:4])\n",
    "print(d[5:7])\n",
    "\n",
    "print(d[:-6:1])\n",
    "print(d[-5:-3])"
   ]
  },
  {
   "cell_type": "code",
   "execution_count": null,
   "id": "2348288e",
   "metadata": {},
   "outputs": [],
   "source": [
    "d='2018-04-01'\n",
    "a=print(d[1])\n",
    "c=print(d[-2])\n",
    "print(id(a))\n",
    "print(id(c))"
   ]
  },
  {
   "cell_type": "code",
   "execution_count": null,
   "id": "f5b03665",
   "metadata": {},
   "outputs": [],
   "source": []
  }
 ],
 "metadata": {
  "kernelspec": {
   "display_name": "Python 3 (ipykernel)",
   "language": "python",
   "name": "python3"
  },
  "language_info": {
   "codemirror_mode": {
    "name": "ipython",
    "version": 3
   },
   "file_extension": ".py",
   "mimetype": "text/x-python",
   "name": "python",
   "nbconvert_exporter": "python",
   "pygments_lexer": "ipython3",
   "version": "3.9.12"
  }
 },
 "nbformat": 4,
 "nbformat_minor": 5
}
