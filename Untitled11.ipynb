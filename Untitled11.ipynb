{
 "cells": [
  {
   "cell_type": "code",
   "execution_count": 2,
   "id": "133a762d",
   "metadata": {},
   "outputs": [
    {
     "name": "stdout",
     "output_type": "stream",
     "text": [
      "{'emp1': {'age': 30, 'name': 'sanu'}, 'emp2': {'age': 32, 'name': 'salu'}}\n"
     ]
    }
   ],
   "source": [
    "emp ={'emp1':{'age':30,'name':'sanu'},'emp2':{'age':32,'name':'salu'}}\n",
    "print(emp)"
   ]
  },
  {
   "cell_type": "code",
   "execution_count": 3,
   "id": "03a40fe1",
   "metadata": {},
   "outputs": [
    {
     "name": "stdout",
     "output_type": "stream",
     "text": [
      "['__class__', '__class_getitem__', '__contains__', '__delattr__', '__delitem__', '__dir__', '__doc__', '__eq__', '__format__', '__ge__', '__getattribute__', '__getitem__', '__gt__', '__hash__', '__init__', '__init_subclass__', '__ior__', '__iter__', '__le__', '__len__', '__lt__', '__ne__', '__new__', '__or__', '__reduce__', '__reduce_ex__', '__repr__', '__reversed__', '__ror__', '__setattr__', '__setitem__', '__sizeof__', '__str__', '__subclasshook__', 'clear', 'copy', 'fromkeys', 'get', 'items', 'keys', 'pop', 'popitem', 'setdefault', 'update', 'values']\n"
     ]
    }
   ],
   "source": [
    "print(dir(dict))"
   ]
  },
  {
   "cell_type": "code",
   "execution_count": 15,
   "id": "415deac8",
   "metadata": {},
   "outputs": [
    {
     "ename": "KeyError",
     "evalue": "'age'",
     "output_type": "error",
     "traceback": [
      "\u001b[1;31m---------------------------------------------------------------------------\u001b[0m",
      "\u001b[1;31mKeyError\u001b[0m                                  Traceback (most recent call last)",
      "Input \u001b[1;32mIn [15]\u001b[0m, in \u001b[0;36m<cell line: 1>\u001b[1;34m()\u001b[0m\n\u001b[1;32m----> 1\u001b[0m \u001b[38;5;28mprint\u001b[39m(\u001b[43memp\u001b[49m\u001b[43m[\u001b[49m\u001b[38;5;124;43m'\u001b[39;49m\u001b[38;5;124;43mage\u001b[39;49m\u001b[38;5;124;43m'\u001b[39;49m\u001b[43m]\u001b[49m\u001b[38;5;241m.\u001b[39mgetitem())\n",
      "\u001b[1;31mKeyError\u001b[0m: 'age'"
     ]
    }
   ],
   "source": [
    "print(emp['age'].getitem())"
   ]
  },
  {
   "cell_type": "code",
   "execution_count": 22,
   "id": "44a01a82",
   "metadata": {},
   "outputs": [
    {
     "name": "stdout",
     "output_type": "stream",
     "text": [
      "Enter your age12\n",
      "Enter your salary230.34\n",
      "Enter your Namegsdhg\n",
      "emp_5\n",
      "{'emp_1': {'Age': 29, 'Salary': 5600000, 'Name': 'Salahuddin'}, 'emp_2': {'Age': 39, 'Salary': None, 'Name': 'Alan'}, 'emp_3': {'Age': 39, 'Salary': 9000000, 'Name': 'apurva'}, 'emp_4': {'Age': 40, 'Salary': 7600000, 'Name': 'apurva'}, 'emp_5': {'Age': 12, 'Salary': 230.34, 'Name': 'gsdhg'}}\n"
     ]
    }
   ],
   "source": [
    "emp_data = {'emp_1':{'Age':29,'Salary':5600000,'Name':'Salahuddin'},\n",
    "           'emp_2':{'Age':39,'Salary':None,'Name':'Alan'},\n",
    "           'emp_3':{'Age':39,'Salary':9000000,'Name':'apurva'},\n",
    "           'emp_4':{'Age':40,'Salary':7600000,'Name':'apurva'}}\n",
    "\n",
    "\n",
    "age= int(input('Enter your age'))\n",
    "salary= float(input('Enter your salary'))\n",
    "nam= input('Enter your Name')\n",
    "\n",
    "l = f'emp_{len(emp_data)+1}'\n",
    "print(l)\n",
    "emp_data.setdefault(l,{'Age':age,'Salary':salary,'Name':nam})\n",
    "print(emp_data)"
   ]
  },
  {
   "cell_type": "code",
   "execution_count": 3,
   "id": "642e131c",
   "metadata": {},
   "outputs": [],
   "source": [
    "\n",
    "\n",
    "def recur_fibo(n):\n",
    "    print(n)\n",
    "    if n <= 1:\n",
    "       return n\n",
    "    else:\n",
    "       return(recur_fibo(n-1) + recur_fibo(n-2))\n",
    "    \n",
    "    \n",
    "# nterms=10\n",
    "# if nterms <= 0:\n",
    "#    print(\"Plese enter a positive integer\")\n",
    "# else:\n",
    "#    print(\"Fibonacci sequence:\")\n",
    "#    for i in range(nterms):\n",
    "#        print(recur_fibo(i))\n"
   ]
  },
  {
   "cell_type": "code",
   "execution_count": 4,
   "id": "b8455551",
   "metadata": {},
   "outputs": [
    {
     "name": "stdout",
     "output_type": "stream",
     "text": [
      "10\n",
      "9\n",
      "8\n",
      "7\n",
      "6\n",
      "5\n",
      "4\n",
      "3\n",
      "2\n",
      "1\n",
      "0\n",
      "1\n",
      "2\n",
      "1\n",
      "0\n",
      "3\n",
      "2\n",
      "1\n",
      "0\n",
      "1\n",
      "4\n",
      "3\n",
      "2\n",
      "1\n",
      "0\n",
      "1\n",
      "2\n",
      "1\n",
      "0\n",
      "5\n",
      "4\n",
      "3\n",
      "2\n",
      "1\n",
      "0\n",
      "1\n",
      "2\n",
      "1\n",
      "0\n",
      "3\n",
      "2\n",
      "1\n",
      "0\n",
      "1\n",
      "6\n",
      "5\n",
      "4\n",
      "3\n",
      "2\n",
      "1\n",
      "0\n",
      "1\n",
      "2\n",
      "1\n",
      "0\n",
      "3\n",
      "2\n",
      "1\n",
      "0\n",
      "1\n",
      "4\n",
      "3\n",
      "2\n",
      "1\n",
      "0\n",
      "1\n",
      "2\n",
      "1\n",
      "0\n",
      "7\n",
      "6\n",
      "5\n",
      "4\n",
      "3\n",
      "2\n",
      "1\n",
      "0\n",
      "1\n",
      "2\n",
      "1\n",
      "0\n",
      "3\n",
      "2\n",
      "1\n",
      "0\n",
      "1\n",
      "4\n",
      "3\n",
      "2\n",
      "1\n",
      "0\n",
      "1\n",
      "2\n",
      "1\n",
      "0\n",
      "5\n",
      "4\n",
      "3\n",
      "2\n",
      "1\n",
      "0\n",
      "1\n",
      "2\n",
      "1\n",
      "0\n",
      "3\n",
      "2\n",
      "1\n",
      "0\n",
      "1\n",
      "8\n",
      "7\n",
      "6\n",
      "5\n",
      "4\n",
      "3\n",
      "2\n",
      "1\n",
      "0\n",
      "1\n",
      "2\n",
      "1\n",
      "0\n",
      "3\n",
      "2\n",
      "1\n",
      "0\n",
      "1\n",
      "4\n",
      "3\n",
      "2\n",
      "1\n",
      "0\n",
      "1\n",
      "2\n",
      "1\n",
      "0\n",
      "5\n",
      "4\n",
      "3\n",
      "2\n",
      "1\n",
      "0\n",
      "1\n",
      "2\n",
      "1\n",
      "0\n",
      "3\n",
      "2\n",
      "1\n",
      "0\n",
      "1\n",
      "6\n",
      "5\n",
      "4\n",
      "3\n",
      "2\n",
      "1\n",
      "0\n",
      "1\n",
      "2\n",
      "1\n",
      "0\n",
      "3\n",
      "2\n",
      "1\n",
      "0\n",
      "1\n",
      "4\n",
      "3\n",
      "2\n",
      "1\n",
      "0\n",
      "1\n",
      "2\n",
      "1\n",
      "0\n"
     ]
    },
    {
     "data": {
      "text/plain": [
       "55"
      ]
     },
     "execution_count": 4,
     "metadata": {},
     "output_type": "execute_result"
    }
   ],
   "source": [
    "recur_fibo(10)"
   ]
  },
  {
   "cell_type": "code",
   "execution_count": 7,
   "id": "fc1b59ce",
   "metadata": {},
   "outputs": [],
   "source": [
    "e= lambda num:'even' if num%2==0 else 'odd'"
   ]
  },
  {
   "cell_type": "code",
   "execution_count": 8,
   "id": "bf70576c",
   "metadata": {},
   "outputs": [
    {
     "data": {
      "text/plain": [
       "'even'"
      ]
     },
     "execution_count": 8,
     "metadata": {},
     "output_type": "execute_result"
    }
   ],
   "source": [
    "e(10)"
   ]
  },
  {
   "cell_type": "code",
   "execution_count": 1,
   "id": "0187f3fb",
   "metadata": {},
   "outputs": [],
   "source": [
    "\n",
    "\n",
    "def odd_even(a):\n",
    "    even = []\n",
    "    odd = []\n",
    "    for i in a:\n",
    "        if i%2 == 0:\n",
    "            even.append(i)\n",
    "        else:\n",
    "            odd.append(i)\n",
    "    return \n",
    "    print(odd)\n"
   ]
  },
  {
   "cell_type": "code",
   "execution_count": 3,
   "id": "35839630",
   "metadata": {},
   "outputs": [],
   "source": [
    "a = [1,2,3,43,4,5,6,7]\n",
    "odd_even(a)"
   ]
  },
  {
   "cell_type": "code",
   "execution_count": null,
   "id": "a1fa1254",
   "metadata": {},
   "outputs": [],
   "source": [
    "a = [1,2,3,43,4,5,6,7]\n",
    "even = []\n",
    "odd = []\n",
    "\n",
    "e = (lambda a: [even.append(i) for i in a if i%2 ==0 ])(a)\n",
    "#f = (lambda a: [odd.append(i) for i in a if i%2 !=0])(a)\n",
    "\n",
    "print(even)\n",
    "print(odd)\n"
   ]
  },
  {
   "cell_type": "code",
   "execution_count": 3,
   "id": "70067175",
   "metadata": {},
   "outputs": [
    {
     "name": "stdout",
     "output_type": "stream",
     "text": [
      "[35.6, 72.41, 104.0, 212.0]\n"
     ]
    }
   ],
   "source": [
    "tmp_c = [2,22.45,40,100]\n",
    "tmp_f=(lambda a:[((9/5)*i)+32 for i in a])(tmp_c)\n",
    "\n",
    "#((9/5)*t)+32\n",
    "\n",
    "print(tmp_f)\n",
    "    "
   ]
  },
  {
   "cell_type": "code",
   "execution_count": 13,
   "id": "243fb74a",
   "metadata": {},
   "outputs": [
    {
     "name": "stdout",
     "output_type": "stream",
     "text": [
      "[3, 5, 7, 10]\n"
     ]
    }
   ],
   "source": [
    "a=[1,2,3,5,6]\n",
    "b=[2,3,4,5]\n",
    "\n",
    "c=list(map(lambda a,b: a+b,a,b))\n",
    "print(c)\n"
   ]
  },
  {
   "cell_type": "code",
   "execution_count": 24,
   "id": "373d4858",
   "metadata": {},
   "outputs": [
    {
     "data": {
      "text/plain": [
       "['akzelxw',\n",
       " 'elum',\n",
       " 'akbar.caakaterasu',\n",
       " 'akarui.kibuno',\n",
       " 'ajsparkchick',\n",
       " 'ajmeia',\n",
       " 'ajhnstn87',\n",
       " 'ailuvzhoko4',\n",
       " 'ailuvzhoko3',\n",
       " 'ailuvzhoko2',\n",
       " 'ailuvzhoko',\n",
       " 'aillensiquioco',\n",
       " 'ahmovic_ines',\n",
       " 'ahmed_g300',\n",
       " 'ahmadjazlan',\n",
       " 'ahmad_ridho19']"
      ]
     },
     "execution_count": 24,
     "metadata": {},
     "output_type": "execute_result"
    }
   ],
   "source": [
    "lst = ['akzelxw@hotmail.com',\n",
    "'elum@gmail.com',\n",
    "'akbar.caakaterasu@gmail.com',\n",
    "'akarui.kibuno@gmail.com',\n",
    "'ajsparkchick@hotmail.com',\n",
    "'ajmeia@yahoo.com',\n",
    "'ajhnstn87@gmail.com',\n",
    "'ailuvzhoko4@hotmail.com',\n",
    "'ailuvzhoko3@hotmail.com',\n",
    "'ailuvzhoko2@hotmail.com',\n",
    "'ailuvzhoko@hotmail.com',\n",
    "'aillensiquioco@aol.com',\n",
    "'ahmovic_ines@hotmail.com',\n",
    "'ahmed_g300@yahoo.com',\n",
    "'ahmadjazlan@gmail.com',\n",
    "'ahmad_ridho19@yahoo.com']\n",
    "\n",
    "list(map(lambda lst:lst.split('@')[0],lst))"
   ]
  },
  {
   "cell_type": "code",
   "execution_count": null,
   "id": "14e2eeb8",
   "metadata": {},
   "outputs": [],
   "source": []
  }
 ],
 "metadata": {
  "kernelspec": {
   "display_name": "Python 3 (ipykernel)",
   "language": "python",
   "name": "python3"
  },
  "language_info": {
   "codemirror_mode": {
    "name": "ipython",
    "version": 3
   },
   "file_extension": ".py",
   "mimetype": "text/x-python",
   "name": "python",
   "nbconvert_exporter": "python",
   "pygments_lexer": "ipython3",
   "version": "3.9.12"
  }
 },
 "nbformat": 4,
 "nbformat_minor": 5
}
