{
 "cells": [
  {
   "cell_type": "code",
   "execution_count": null,
   "id": "26979fb0",
   "metadata": {},
   "outputs": [],
   "source": [
    "# () - paranthesis\n",
    "# ** --> expoent\n",
    "# +x , -x , ~x --> unary plus , unary minus , bitwise not\n",
    "# * , / , // , %\n",
    "# + , -\n",
    "# << , >>\n",
    "# &\n",
    "# ^\n",
    "# |\n",
    "# == , != , > , ?= , < , <=\n",
    "# not\n",
    "# and\n",
    "# or\n"
   ]
  },
  {
   "cell_type": "code",
   "execution_count": 1,
   "id": "c940f8ca",
   "metadata": {},
   "outputs": [
    {
     "name": "stdout",
     "output_type": "stream",
     "text": [
      "python\n"
     ]
    }
   ],
   "source": [
    "a=' # *   python ## **   '\n",
    "print(a.strip(' *#'))"
   ]
  },
  {
   "cell_type": "code",
   "execution_count": 2,
   "id": "92156380",
   "metadata": {},
   "outputs": [
    {
     "name": "stdout",
     "output_type": "stream",
     "text": [
      "pyt***hon\n"
     ]
    }
   ],
   "source": [
    "a='pyt***hon'\n",
    "print(a.strip('*'))"
   ]
  },
  {
   "cell_type": "code",
   "execution_count": 3,
   "id": "38de4bc5",
   "metadata": {},
   "outputs": [
    {
     "name": "stdout",
     "output_type": "stream",
     "text": [
      "['__add__', '__class__', '__contains__', '__delattr__', '__dir__', '__doc__', '__eq__', '__format__', '__ge__', '__getattribute__', '__getitem__', '__getnewargs__', '__gt__', '__hash__', '__init__', '__init_subclass__', '__iter__', '__le__', '__len__', '__lt__', '__mod__', '__mul__', '__ne__', '__new__', '__reduce__', '__reduce_ex__', '__repr__', '__rmod__', '__rmul__', '__setattr__', '__sizeof__', '__str__', '__subclasshook__', 'capitalize', 'casefold', 'center', 'count', 'encode', 'endswith', 'expandtabs', 'find', 'format', 'format_map', 'index', 'isalnum', 'isalpha', 'isascii', 'isdecimal', 'isdigit', 'isidentifier', 'islower', 'isnumeric', 'isprintable', 'isspace', 'istitle', 'isupper', 'join', 'ljust', 'lower', 'lstrip', 'maketrans', 'partition', 'removeprefix', 'removesuffix', 'replace', 'rfind', 'rindex', 'rjust', 'rpartition', 'rsplit', 'rstrip', 'split', 'splitlines', 'startswith', 'strip', 'swapcase', 'title', 'translate', 'upper', 'zfill']\n"
     ]
    }
   ],
   "source": [
    "print(dir(str))"
   ]
  },
  {
   "cell_type": "code",
   "execution_count": 4,
   "id": "feea7f9e",
   "metadata": {},
   "outputs": [
    {
     "name": "stdout",
     "output_type": "stream",
     "text": [
      "python\n"
     ]
    }
   ],
   "source": [
    "a='pyt***hon'\n",
    "print(a.replace('*',''))"
   ]
  },
  {
   "cell_type": "code",
   "execution_count": 8,
   "id": "1d6a9601",
   "metadata": {},
   "outputs": [
    {
     "name": "stdout",
     "output_type": "stream",
     "text": [
      "python\n"
     ]
    }
   ],
   "source": [
    "a='   python    '\n",
    "print(a.strip()) # trim"
   ]
  },
  {
   "cell_type": "code",
   "execution_count": 10,
   "id": "bc9bd135",
   "metadata": {},
   "outputs": [
    {
     "name": "stdout",
     "output_type": "stream",
     "text": [
      "   pyhton \n"
     ]
    }
   ],
   "source": [
    "a= '   pyhton *****'\n",
    "print(a.rstrip('*'))"
   ]
  },
  {
   "cell_type": "code",
   "execution_count": 11,
   "id": "3950879c",
   "metadata": {},
   "outputs": [
    {
     "name": "stdout",
     "output_type": "stream",
     "text": [
      "pyhton******\n"
     ]
    }
   ],
   "source": [
    "a= '*****pyhton******'\n",
    "print(a.lstrip('*'))"
   ]
  },
  {
   "cell_type": "code",
   "execution_count": 16,
   "id": "e8b4e758",
   "metadata": {},
   "outputs": [
    {
     "data": {
      "text/plain": [
       "'                 tree is green'"
      ]
     },
     "execution_count": 16,
     "metadata": {},
     "output_type": "execute_result"
    }
   ],
   "source": [
    "mm = \"tree is green\"\n",
    "mm.rjust(30)"
   ]
  },
  {
   "cell_type": "code",
   "execution_count": 15,
   "id": "b00bf91f",
   "metadata": {},
   "outputs": [
    {
     "data": {
      "text/plain": [
       "'i am student'"
      ]
     },
     "execution_count": 15,
     "metadata": {},
     "output_type": "execute_result"
    }
   ],
   "source": [
    "a = ['i','am','student']\n",
    "\" \".join(a)"
   ]
  },
  {
   "cell_type": "code",
   "execution_count": 17,
   "id": "947ed05c",
   "metadata": {},
   "outputs": [
    {
     "data": {
      "text/plain": [
       "'python is coding language*****'"
      ]
     },
     "execution_count": 17,
     "metadata": {},
     "output_type": "execute_result"
    }
   ],
   "source": [
    "txt = 'python is coding language'\n",
    "txt.ljust(len(txt)+5,'*')"
   ]
  },
  {
   "cell_type": "code",
   "execution_count": null,
   "id": "691ad286",
   "metadata": {},
   "outputs": [],
   "source": []
  }
 ],
 "metadata": {
  "kernelspec": {
   "display_name": "Python 3 (ipykernel)",
   "language": "python",
   "name": "python3"
  },
  "language_info": {
   "codemirror_mode": {
    "name": "ipython",
    "version": 3
   },
   "file_extension": ".py",
   "mimetype": "text/x-python",
   "name": "python",
   "nbconvert_exporter": "python",
   "pygments_lexer": "ipython3",
   "version": "3.9.12"
  }
 },
 "nbformat": 4,
 "nbformat_minor": 5
}
