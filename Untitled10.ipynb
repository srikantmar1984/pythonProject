{
 "cells": [
  {
   "cell_type": "code",
   "execution_count": 2,
   "id": "3b2c2372",
   "metadata": {},
   "outputs": [
    {
     "name": "stdout",
     "output_type": "stream",
     "text": [
      "10 30 59 80\n"
     ]
    }
   ],
   "source": [
    "a = (10,30,59,80)\n",
    "b=a[0]\n",
    "c=a[1]\n",
    "d=a[2]\n",
    "e=a[3]\n",
    "print(b,c,d,e)"
   ]
  },
  {
   "cell_type": "code",
   "execution_count": 4,
   "id": "50206eef",
   "metadata": {},
   "outputs": [
    {
     "name": "stdout",
     "output_type": "stream",
     "text": [
      "(1, 2, 3)\n",
      "(1, 2, 3) <class 'tuple'>\n"
     ]
    }
   ],
   "source": [
    "a=('a','b','c')\n",
    "b=(1,2,3)\n",
    "a = b\n",
    "print(a)\n",
    "print(a,type(a))"
   ]
  },
  {
   "cell_type": "code",
   "execution_count": 6,
   "id": "830786f8",
   "metadata": {},
   "outputs": [
    {
     "ename": "ValueError",
     "evalue": "too many values to unpack (expected 4)",
     "output_type": "error",
     "traceback": [
      "\u001b[1;31m---------------------------------------------------------------------------\u001b[0m",
      "\u001b[1;31mValueError\u001b[0m                                Traceback (most recent call last)",
      "Input \u001b[1;32mIn [6]\u001b[0m, in \u001b[0;36m<cell line: 1>\u001b[1;34m()\u001b[0m\n\u001b[1;32m----> 1\u001b[0m a,b,d,e\u001b[38;5;241m=\u001b[39m(\u001b[38;5;241m10\u001b[39m,\u001b[38;5;241m20\u001b[39m,\u001b[38;5;241m30\u001b[39m,\u001b[38;5;241m40\u001b[39m,\u001b[38;5;241m50\u001b[39m)\n\u001b[0;32m      2\u001b[0m \u001b[38;5;28mprint\u001b[39m(b,d,e)\n",
      "\u001b[1;31mValueError\u001b[0m: too many values to unpack (expected 4)"
     ]
    }
   ],
   "source": [
    "a,b,d,e=(10,20,30,40,50)\n",
    "print(b,d,e)"
   ]
  },
  {
   "cell_type": "code",
   "execution_count": 29,
   "id": "77ff5dad",
   "metadata": {},
   "outputs": [
    {
     "name": "stdout",
     "output_type": "stream",
     "text": [
      "[{1: 'a', 2: 'b', 3: 'c', 5: 'b'}, {1: 'f', 2: 'l', 3: 'h', 5: 'g'}]\n"
     ]
    }
   ],
   "source": [
    "a=[1,2,3,5]\n",
    "b=[['a','b','c','b'],['f','l','h','g']]\n",
    "m=0\n",
    "c= [dict(zip(a,i)) for i in b]\n",
    "print(c)"
   ]
  },
  {
   "cell_type": "code",
   "execution_count": 30,
   "id": "01867a5d",
   "metadata": {},
   "outputs": [
    {
     "ename": "SyntaxError",
     "evalue": "invalid syntax (1928448207.py, line 8)",
     "output_type": "error",
     "traceback": [
      "\u001b[1;36m  Input \u001b[1;32mIn [30]\u001b[1;36m\u001b[0m\n\u001b[1;33m    print('Name is {emp_data[n_list]['Name']} and age is {emp_data[n_list]['Age']}')\u001b[0m\n\u001b[1;37m                                      ^\u001b[0m\n\u001b[1;31mSyntaxError\u001b[0m\u001b[1;31m:\u001b[0m invalid syntax\n"
     ]
    }
   ],
   "source": [
    "emp_data = {'emp_1':{'Age':56,'Salary':5600000,'Name':'Salahuddin'},\n",
    "           'emp_2':{'Age':27,'Salary':60000,'Name':'John'},\n",
    "           'emp_3':{'Age':25,'Salary':9000000,'Name':'apurva'},\n",
    "           'emp_4':{'Age':40,'Salary':7600000,'Name':'apurva'}}\n",
    "for n_list in emp_data:\n",
    "    print(emp_data[n_list]['Age'])\n",
    "    if int(emp_data[n_list]['Age']) < 30:\n",
    "        print(f\"Name is {emp_data[n_list]['Name']} and age is {emp_data[n_list]['Age']}\"\")"
   ]
  },
  {
   "cell_type": "code",
   "execution_count": null,
   "id": "8367a1e4",
   "metadata": {},
   "outputs": [],
   "source": []
  }
 ],
 "metadata": {
  "kernelspec": {
   "display_name": "Python 3 (ipykernel)",
   "language": "python",
   "name": "python3"
  },
  "language_info": {
   "codemirror_mode": {
    "name": "ipython",
    "version": 3
   },
   "file_extension": ".py",
   "mimetype": "text/x-python",
   "name": "python",
   "nbconvert_exporter": "python",
   "pygments_lexer": "ipython3",
   "version": "3.9.12"
  }
 },
 "nbformat": 4,
 "nbformat_minor": 5
}
