{
 "cells": [
  {
   "cell_type": "code",
   "execution_count": 2,
   "id": "4ce58c11",
   "metadata": {},
   "outputs": [
    {
     "name": "stdout",
     "output_type": "stream",
     "text": [
      "1380906450864\n",
      "1380862895792\n",
      "1380862895792\n"
     ]
    }
   ],
   "source": [
    "a='Pyhton'\n",
    "b='python'\n",
    "c ='python'\n",
    "\n",
    "print(id(a))\n",
    "print(id(b))\n",
    "print(id(c))"
   ]
  },
  {
   "cell_type": "code",
   "execution_count": 17,
   "id": "ef8f4905",
   "metadata": {},
   "outputs": [
    {
     "name": "stdout",
     "output_type": "stream",
     "text": [
      "-1\n",
      "-1\n",
      "0\n",
      "-1\n",
      "-1\n",
      "-1\n",
      "-1\n",
      "-1\n",
      "-1\n",
      "-1\n",
      "-1\n",
      "0\n",
      "-1\n",
      "-1\n",
      "0\n",
      "-1\n",
      "-1\n",
      "-1\n",
      "-1\n",
      "-1\n",
      "-1\n",
      "-1\n",
      "-1\n",
      "-1\n",
      "-1\n",
      "-1\n",
      "0\n",
      "-1\n",
      "-1\n",
      "-1\n",
      "-1\n",
      "-1\n",
      "-1\n",
      "-1\n",
      "-1\n",
      "-1\n",
      "-1\n",
      "-1\n",
      "-1\n",
      "-1\n",
      "0\n",
      "-1\n",
      "-1\n",
      "-1\n",
      "-1\n",
      "-1\n",
      "0\n",
      "-1\n",
      "-1\n",
      "-1\n",
      "-1\n",
      "-1\n",
      "-1\n",
      "-1\n",
      "-1\n",
      "-1\n",
      "-1\n",
      "-1\n",
      "-1\n",
      "-1\n",
      "-1\n",
      "-1\n",
      "-1\n",
      "-1\n",
      "0\n",
      "-1\n",
      "-1\n",
      "7\n"
     ]
    }
   ],
   "source": [
    "my_str = \"Although 8 that way may not be obvious at first unless you're Dutch\"\n",
    "\n",
    "#Write the code to get the total count of 't' in above string. Use find() and index() method.\n",
    "counter=0\n",
    "for i in my_str:\n",
    "    if i.find('t') ==0:\n",
    "        counter=counter+1\n",
    "print(counter)"
   ]
  },
  {
   "cell_type": "code",
   "execution_count": 19,
   "id": "66103caf",
   "metadata": {},
   "outputs": [
    {
     "data": {
      "text/plain": [
       "'C:\\\\Users\\\\Sanu'"
      ]
     },
     "execution_count": 19,
     "metadata": {},
     "output_type": "execute_result"
    }
   ],
   "source": [
    "pwd"
   ]
  },
  {
   "cell_type": "code",
   "execution_count": 28,
   "id": "4f6b7841",
   "metadata": {},
   "outputs": [
    {
     "name": "stdout",
     "output_type": "stream",
     "text": [
      "795\n",
      "0\n"
     ]
    }
   ],
   "source": [
    "f=open('my_File.txt','a+')\n",
    "print(f.tell())\n",
    "print(f.seek(0))\n",
    "f.write('something')\n",
    "f.flush()\n",
    "f.close()"
   ]
  },
  {
   "cell_type": "code",
   "execution_count": null,
   "id": "9da16aad",
   "metadata": {},
   "outputs": [],
   "source": [
    "f=open('my_File.txt','a+')\n",
    "print(f.tell())\n",
    "print(f.seek(2))\n",
    "f.write('something')\n",
    "print(f.read())\n",
    "f.close()"
   ]
  },
  {
   "cell_type": "code",
   "execution_count": 5,
   "id": "f1de02d8",
   "metadata": {},
   "outputs": [
    {
     "data": {
      "text/plain": [
       "'Messi plays'"
      ]
     },
     "execution_count": 5,
     "metadata": {},
     "output_type": "execute_result"
    }
   ],
   "source": [
    "f=open('football.txt','r')\n",
    "f.read(11)\n",
    "\n"
   ]
  },
  {
   "cell_type": "code",
   "execution_count": 4,
   "id": "30fae251",
   "metadata": {},
   "outputs": [
    {
     "data": {
      "text/plain": [
       "26"
      ]
     },
     "execution_count": 4,
     "metadata": {},
     "output_type": "execute_result"
    }
   ],
   "source": [
    "f=open('football.txt','r')\n",
    "len(f.readline())\n"
   ]
  },
  {
   "cell_type": "code",
   "execution_count": 3,
   "id": "ea50fce0",
   "metadata": {},
   "outputs": [
    {
     "data": {
      "text/plain": [
       "['Messi plays for barcelona\\n', 'Ronaldo plays manu']"
      ]
     },
     "execution_count": 3,
     "metadata": {},
     "output_type": "execute_result"
    }
   ],
   "source": [
    "f=open('football.txt','r')\n",
    "f.readlines()"
   ]
  },
  {
   "cell_type": "code",
   "execution_count": 25,
   "id": "0cc58ca6",
   "metadata": {},
   "outputs": [
    {
     "name": "stdout",
     "output_type": "stream",
     "text": [
      "777\n",
      "3\n",
      "130\n"
     ]
    }
   ],
   "source": [
    "f=open('my_file.txt','r')\n",
    "#count the number of char\n",
    "myStr = f.read()\n",
    "print(len(myStr))\n",
    "\n",
    "#count the number of lines\n",
    "f.seek(0)\n",
    "print(len(f.readlines()))\n",
    "\n",
    "#count the number of words\n",
    "f.seek(0)\n",
    "mylist = myStr.split(' ')\n",
    "print(len(mylist))"
   ]
  },
  {
   "cell_type": "code",
   "execution_count": 29,
   "id": "196a958c",
   "metadata": {},
   "outputs": [
    {
     "name": "stdout",
     "output_type": "stream",
     "text": [
      "6\n"
     ]
    }
   ],
   "source": [
    "with open('my_file.txt','w+') as f:\n",
    "    f.write('python')\n",
    "    print(f.tell())\n"
   ]
  },
  {
   "cell_type": "code",
   "execution_count": 33,
   "id": "b19bc87b",
   "metadata": {},
   "outputs": [
    {
     "name": "stdout",
     "output_type": "stream",
     "text": [
      "25\n"
     ]
    }
   ],
   "source": [
    "with open('my_file.txt','w+') as f:\n",
    "    f.writelines(['python','\\nsrikant','\\nlearnbay'])\n",
    "    print(f.tell())"
   ]
  },
  {
   "cell_type": "code",
   "execution_count": 35,
   "id": "63948fe0",
   "metadata": {},
   "outputs": [],
   "source": [
    "f= open('python.jpg','rb')\n",
    "myimg  = f.read()\n",
    "f1 = open('my_str.png','wb')\n",
    "f1.write(myimg)\n",
    "f1.close()"
   ]
  },
  {
   "cell_type": "code",
   "execution_count": 3,
   "id": "7aff95cd",
   "metadata": {},
   "outputs": [],
   "source": [
    "def image_convert(inputfile,outputfile):\n",
    "    f= open(shrfile,'rb')\n",
    "    myimg  = f.read()\n",
    "    f1 = open(outputfile,'wb')\n",
    "    f1.write(myimg)\n",
    "    f1.close()"
   ]
  },
  {
   "cell_type": "code",
   "execution_count": 8,
   "id": "7b4176a1",
   "metadata": {},
   "outputs": [
    {
     "name": "stdout",
     "output_type": "stream",
     "text": [
      "['In', 'Out', '_', '__', '___', '__builtin__', '__builtins__', '__doc__', '__loader__', '__name__', '__package__', '__spec__', '_dh', '_i', '_i1', '_i2', '_i3', '_i4', '_i5', '_i6', '_i7', '_i8', '_ih', '_ii', '_iii', '_oh', 'exit', 'get_ipython', 'image_convert', 'quit']\n",
      "\n"
     ]
    },
    {
     "ename": "ModuleNotFoundError",
     "evalue": "No module named 'my_module'",
     "output_type": "error",
     "traceback": [
      "\u001b[1;31m---------------------------------------------------------------------------\u001b[0m",
      "\u001b[1;31mModuleNotFoundError\u001b[0m                       Traceback (most recent call last)",
      "Input \u001b[1;32mIn [8]\u001b[0m, in \u001b[0;36m<cell line: 2>\u001b[1;34m()\u001b[0m\n\u001b[0;32m      1\u001b[0m \u001b[38;5;28mprint\u001b[39m(\u001b[38;5;28mdir\u001b[39m(),end \u001b[38;5;241m=\u001b[39m\u001b[38;5;124m'\u001b[39m\u001b[38;5;130;01m\\n\u001b[39;00m\u001b[38;5;130;01m\\n\u001b[39;00m\u001b[38;5;124m'\u001b[39m)\n\u001b[1;32m----> 2\u001b[0m \u001b[38;5;28;01mimport\u001b[39;00m \u001b[38;5;21;01mmy_module\u001b[39;00m\n\u001b[0;32m      4\u001b[0m \u001b[38;5;28mprint\u001b[39m(\u001b[38;5;28mdir\u001b[39m())\n",
      "\u001b[1;31mModuleNotFoundError\u001b[0m: No module named 'my_module'"
     ]
    }
   ],
   "source": [
    "print(dir(),end ='\\n\\n')\n",
    "import my_module\n",
    "\n",
    "print(dir())"
   ]
  },
  {
   "cell_type": "code",
   "execution_count": 7,
   "id": "ff3bca06",
   "metadata": {},
   "outputs": [
    {
     "ename": "NameError",
     "evalue": "name 'my_module' is not defined",
     "output_type": "error",
     "traceback": [
      "\u001b[1;31m---------------------------------------------------------------------------\u001b[0m",
      "\u001b[1;31mNameError\u001b[0m                                 Traceback (most recent call last)",
      "Input \u001b[1;32mIn [7]\u001b[0m, in \u001b[0;36m<cell line: 1>\u001b[1;34m()\u001b[0m\n\u001b[1;32m----> 1\u001b[0m \u001b[43mmy_module\u001b[49m\u001b[38;5;241m.\u001b[39mimgconvert(\u001b[38;5;124m'\u001b[39m\u001b[38;5;124mpython.jpg\u001b[39m\u001b[38;5;124m'\u001b[39m,\u001b[38;5;124m'\u001b[39m\u001b[38;5;124mmyimage.png\u001b[39m\u001b[38;5;124m'\u001b[39m)\n",
      "\u001b[1;31mNameError\u001b[0m: name 'my_module' is not defined"
     ]
    }
   ],
   "source": [
    "my_module.imgconvert('python.jpg','myimage.png')"
   ]
  },
  {
   "cell_type": "code",
   "execution_count": 11,
   "id": "fbb036ea",
   "metadata": {},
   "outputs": [
    {
     "name": "stdout",
     "output_type": "stream",
     "text": [
      "['In', 'Out', '_', '__', '___', '__builtin__', '__builtins__', '__doc__', '__loader__', '__name__', '__package__', '__spec__', '_dh', '_i', '_i1', '_i10', '_i11', '_i2', '_i3', '_i4', '_i5', '_i6', '_i7', '_i8', '_i9', '_ih', '_ii', '_iii', '_oh', 'exit', 'get_ipython', 'image_convert', 'img_convert', 'quit']\n"
     ]
    }
   ],
   "source": [
    "print(dir())"
   ]
  },
  {
   "cell_type": "code",
   "execution_count": 8,
   "id": "b3ac49cc",
   "metadata": {},
   "outputs": [
    {
     "name": "stdout",
     "output_type": "stream",
     "text": [
      "5.0\n",
      "Success\n"
     ]
    },
    {
     "ename": "NameError",
     "evalue": "name 'c' is not defined",
     "output_type": "error",
     "traceback": [
      "\u001b[1;31m---------------------------------------------------------------------------\u001b[0m",
      "\u001b[1;31mNameError\u001b[0m                                 Traceback (most recent call last)",
      "Input \u001b[1;32mIn [8]\u001b[0m, in \u001b[0;36m<cell line: 3>\u001b[1;34m()\u001b[0m\n\u001b[0;32m      8\u001b[0m     \u001b[38;5;28mprint\u001b[39m(e)\n\u001b[0;32m      9\u001b[0m \u001b[38;5;28;01melse\u001b[39;00m:\n\u001b[1;32m---> 10\u001b[0m     \u001b[38;5;28mprint\u001b[39m(a\u001b[38;5;241m/\u001b[39m\u001b[43mc\u001b[49m)\n\u001b[0;32m     11\u001b[0m \u001b[38;5;28;01mfinally\u001b[39;00m:\n\u001b[0;32m     12\u001b[0m     \u001b[38;5;28mprint\u001b[39m(\u001b[38;5;124m'\u001b[39m\u001b[38;5;124mSuccess\u001b[39m\u001b[38;5;124m'\u001b[39m)\n",
      "\u001b[1;31mNameError\u001b[0m: name 'c' is not defined"
     ]
    }
   ],
   "source": [
    "a=10\n",
    "b=2\n",
    "try:\n",
    "    print(a/b)\n",
    "except ZeroDivisionError as e:\n",
    "    print(e)\n",
    "except NameError as e:\n",
    "    print(e)\n",
    "else:\n",
    "    print(a/c)\n",
    "finally:\n",
    "    print('Success')\n",
    "    "
   ]
  },
  {
   "cell_type": "code",
   "execution_count": 1,
   "id": "bc9ba8bf",
   "metadata": {},
   "outputs": [
    {
     "name": "stdout",
     "output_type": "stream",
     "text": [
      "enter any number5\n",
      "enter any number0\n"
     ]
    }
   ],
   "source": [
    "f=open('mylog.txt','a+')\n",
    "f.tell()\n",
    "# num1=0\n",
    "# num2=0\n",
    "try:\n",
    "    num1=eval(input('enter any number'))\n",
    "    num2=eval(input('enter any number'))\n",
    "    num = num1/num2\n",
    "except Exception as e:\n",
    "    f.seek(0)\n",
    "    f.write(f'\\n {num1}/{num2}='+str(e))\n",
    "else:\n",
    "    print(num)\n",
    "finally:\n",
    "    f.close()"
   ]
  },
  {
   "cell_type": "code",
   "execution_count": 7,
   "id": "04cd2586",
   "metadata": {},
   "outputs": [
    {
     "name": "stdout",
     "output_type": "stream",
     "text": [
      "5\n"
     ]
    }
   ],
   "source": [
    "l = len('27127')\n",
    "print(l)"
   ]
  },
  {
   "cell_type": "code",
   "execution_count": 1,
   "id": "0eeadaf7",
   "metadata": {},
   "outputs": [
    {
     "name": "stdout",
     "output_type": "stream",
     "text": [
      "Success\n"
     ]
    },
    {
     "ename": "amt_error",
     "evalue": "My decleared ZeroDivisionError",
     "output_type": "error",
     "traceback": [
      "\u001b[1;31m---------------------------------------------------------------------------\u001b[0m",
      "\u001b[1;31mZeroDivisionError\u001b[0m                         Traceback (most recent call last)",
      "Input \u001b[1;32mIn [1]\u001b[0m, in \u001b[0;36m<cell line: 8>\u001b[1;34m()\u001b[0m\n\u001b[0;32m      8\u001b[0m \u001b[38;5;28;01mtry\u001b[39;00m:\n\u001b[1;32m----> 9\u001b[0m     c \u001b[38;5;241m=\u001b[39m\u001b[43ma\u001b[49m\u001b[38;5;241;43m/\u001b[39;49m\u001b[43mb\u001b[49m\n\u001b[0;32m     10\u001b[0m \u001b[38;5;28;01mexcept\u001b[39;00m \u001b[38;5;167;01mZeroDivisionError\u001b[39;00m \u001b[38;5;28;01mas\u001b[39;00m e:\n",
      "\u001b[1;31mZeroDivisionError\u001b[0m: division by zero",
      "\nDuring handling of the above exception, another exception occurred:\n",
      "\u001b[1;31mamt_error\u001b[0m                                 Traceback (most recent call last)",
      "Input \u001b[1;32mIn [1]\u001b[0m, in \u001b[0;36m<cell line: 8>\u001b[1;34m()\u001b[0m\n\u001b[0;32m      9\u001b[0m     c \u001b[38;5;241m=\u001b[39ma\u001b[38;5;241m/\u001b[39mb\n\u001b[0;32m     10\u001b[0m \u001b[38;5;28;01mexcept\u001b[39;00m \u001b[38;5;167;01mZeroDivisionError\u001b[39;00m \u001b[38;5;28;01mas\u001b[39;00m e:\n\u001b[1;32m---> 11\u001b[0m     \u001b[38;5;28;01mraise\u001b[39;00m amt_error(\u001b[38;5;124m'\u001b[39m\u001b[38;5;124mMy decleared ZeroDivisionError\u001b[39m\u001b[38;5;124m'\u001b[39m)\n\u001b[0;32m     12\u001b[0m \u001b[38;5;28;01mexcept\u001b[39;00m \u001b[38;5;167;01mNameError\u001b[39;00m \u001b[38;5;28;01mas\u001b[39;00m e:\n\u001b[0;32m     13\u001b[0m     \u001b[38;5;28;01mraise\u001b[39;00m amt_error(\u001b[38;5;124m'\u001b[39m\u001b[38;5;124mMy decleared NameError\u001b[39m\u001b[38;5;124m'\u001b[39m)\n",
      "\u001b[1;31mamt_error\u001b[0m: My decleared ZeroDivisionError"
     ]
    }
   ],
   "source": [
    "class amt_error(Exception):\n",
    "    def __init__(self,msg):\n",
    "        self.msg = msg\n",
    "\n",
    "\n",
    "a=10\n",
    "b=0\n",
    "try:\n",
    "    c =a/b\n",
    "except ZeroDivisionError as e:\n",
    "    raise amt_error('My decleared ZeroDivisionError')\n",
    "except NameError as e:\n",
    "    raise amt_error('My decleared NameError')\n",
    "else:\n",
    "    print(c)\n",
    "finally:\n",
    "    print('Success')"
   ]
  },
  {
   "cell_type": "code",
   "execution_count": 12,
   "id": "63121df6",
   "metadata": {},
   "outputs": [
    {
     "name": "stdout",
     "output_type": "stream",
     "text": [
      "Enter the amount for send40000\n",
      "CODE FOR SENDING THE AMOUNT EXECUTED\n"
     ]
    }
   ],
   "source": [
    "# Build me an gpay app\n",
    "'''\n",
    "which takes as amt from the user\n",
    "* if amt entered is less than 50k ('CODE FOR SENDING THE AMOUNT EXECUTED')\n",
    "* If the amt is between 50k- 60k it has to ask me the PAN number\n",
    "* If the PAN num's len is 10 ('Give me 2 minutes We will verifify and deposit the amount')\n",
    "* If the len PAN num is not 10 (please enter correct pan number)\n",
    "'''\n",
    "class gpay_msg(Exception):\n",
    "    def __init__(self,msg):\n",
    "        self.msg = msg\n",
    "def get_pan():\n",
    "    pan = eval(input('Enter your PAN No'))\n",
    "    len_pan = len(str(pan))\n",
    "    if len_pan != 10:\n",
    "        print('please enter correct pan number') \n",
    "        get_pan()\n",
    "    else:\n",
    "        print('Give me 2 minutes We will verifify and deposit the amount') \n",
    "try:\n",
    "    amt = eval(input('Enter the amount for send'))\n",
    "    if amt< 50000:\n",
    "        print('CODE FOR SENDING THE AMOUNT EXECUTED')\n",
    "    elif amt< 60000:\n",
    "        get_pan()\n",
    "    else:\n",
    "        raise gpay_msg('OVER LIMIT')\n",
    "except Exception as e:\n",
    "    raise gpay_msg(e)\n"
   ]
  },
  {
   "cell_type": "code",
   "execution_count": 19,
   "id": "f23a722c",
   "metadata": {},
   "outputs": [
    {
     "name": "stdout",
     "output_type": "stream",
     "text": [
      "['__builtins__', '__cached__', '__doc__', '__file__', '__loader__', '__name__', '__package__', '__spec__']\n"
     ]
    }
   ],
   "source": [
    "import my_module as mm\n",
    "print(dir(mm))"
   ]
  },
  {
   "cell_type": "code",
   "execution_count": 14,
   "id": "d3390348",
   "metadata": {},
   "outputs": [
    {
     "ename": "AttributeError",
     "evalue": "module 'my_module' has no attribute 'gpay'",
     "output_type": "error",
     "traceback": [
      "\u001b[1;31m---------------------------------------------------------------------------\u001b[0m",
      "\u001b[1;31mAttributeError\u001b[0m                            Traceback (most recent call last)",
      "Input \u001b[1;32mIn [14]\u001b[0m, in \u001b[0;36m<cell line: 1>\u001b[1;34m()\u001b[0m\n\u001b[1;32m----> 1\u001b[0m \u001b[43mmm\u001b[49m\u001b[38;5;241;43m.\u001b[39;49m\u001b[43mgpay\u001b[49m()\n",
      "\u001b[1;31mAttributeError\u001b[0m: module 'my_module' has no attribute 'gpay'"
     ]
    }
   ],
   "source": [
    "\n"
   ]
  },
  {
   "cell_type": "code",
   "execution_count": null,
   "id": "aa379aff",
   "metadata": {},
   "outputs": [],
   "source": []
  }
 ],
 "metadata": {
  "kernelspec": {
   "display_name": "Python 3 (ipykernel)",
   "language": "python",
   "name": "python3"
  },
  "language_info": {
   "codemirror_mode": {
    "name": "ipython",
    "version": 3
   },
   "file_extension": ".py",
   "mimetype": "text/x-python",
   "name": "python",
   "nbconvert_exporter": "python",
   "pygments_lexer": "ipython3",
   "version": "3.9.12"
  }
 },
 "nbformat": 4,
 "nbformat_minor": 5
}
