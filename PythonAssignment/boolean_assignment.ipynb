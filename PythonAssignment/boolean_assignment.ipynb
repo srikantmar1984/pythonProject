{
 "cells": [
  {
   "cell_type": "markdown",
   "id": "2fe72642",
   "metadata": {},
   "source": [
    "# Boolean Assignment"
   ]
  },
  {
   "cell_type": "code",
   "execution_count": 1,
   "id": "063aa560",
   "metadata": {},
   "outputs": [
    {
     "name": "stdout",
     "output_type": "stream",
     "text": [
      "True <class 'bool'> 140718608799848\n"
     ]
    }
   ],
   "source": [
    "#Declare a boolean value and store it in a variable.\n",
    "#Check the type and print the id of the same.\n",
    "\n",
    "a = True\n",
    "print(a, type(a),id(a))"
   ]
  },
  {
   "cell_type": "code",
   "execution_count": 13,
   "id": "fb260153",
   "metadata": {},
   "outputs": [
    {
     "name": "stdout",
     "output_type": "stream",
     "text": [
      "140718698190952\n",
      "140718698190952\n",
      "True\n"
     ]
    }
   ],
   "source": [
    "\n",
    "#Take one boolean value between 0 - 256.\n",
    "#Assign it to two different variables.\n",
    "#Check the id of both the variables. It should come the same. Check why?\n",
    "\n",
    "\n",
    "a= True\n",
    "b= a\n",
    "c= a\n",
    "print(id(a))\n",
    "print(id(b))\n",
    "\n",
    "print(id(c)==id(b))\n",
    "#both the valiable refer to same variable means same memory location"
   ]
  },
  {
   "cell_type": "code",
   "execution_count": 1,
   "id": "d5fb70ac",
   "metadata": {},
   "outputs": [
    {
     "name": "stdout",
     "output_type": "stream",
     "text": [
      "1\n",
      "1\n",
      "0\n"
     ]
    },
    {
     "ename": "ZeroDivisionError",
     "evalue": "division by zero",
     "output_type": "error",
     "traceback": [
      "\u001b[1;31m---------------------------------------------------------------------------\u001b[0m",
      "\u001b[1;31mZeroDivisionError\u001b[0m                         Traceback (most recent call last)",
      "Input \u001b[1;32mIn [1]\u001b[0m, in \u001b[0;36m<cell line: 21>\u001b[1;34m()\u001b[0m\n\u001b[0;32m     18\u001b[0m \u001b[38;5;28mprint\u001b[39m(a\u001b[38;5;241m*\u001b[39mb)\n\u001b[0;32m     20\u001b[0m \u001b[38;5;66;03m#Find value after dividing first value with second value\u001b[39;00m\n\u001b[1;32m---> 21\u001b[0m \u001b[38;5;28mprint\u001b[39m(\u001b[43ma\u001b[49m\u001b[38;5;241;43m/\u001b[39;49m\u001b[43mb\u001b[49m)\n\u001b[0;32m     23\u001b[0m \u001b[38;5;66;03m#Find the remainder after dividing first value with second value\u001b[39;00m\n\u001b[0;32m     24\u001b[0m \u001b[38;5;28mprint\u001b[39m(a\u001b[38;5;241m%\u001b[39mb)\n",
      "\u001b[1;31mZeroDivisionError\u001b[0m: division by zero"
     ]
    }
   ],
   "source": [
    "\"\"\"\n",
    "Arithmetic Operations on boolean data\n",
    "Take two different boolean values.\n",
    "Store them in two different variables.\n",
    "\"\"\"\n",
    "\n",
    "a= True\n",
    "b= False\n",
    "#Do below operations on them:-\n",
    "\n",
    "#Find sum of both values\n",
    "print(a+b)\n",
    "\n",
    "#Find difference between them\n",
    "print(a-b)\n",
    "\n",
    "#Find the product of both.\n",
    "print(a*b)\n",
    "\n",
    "#Find value after dividing first value with second value\n",
    "print(a/b)\n",
    "\n",
    "#Find the remainder after dividing first value with second value\n",
    "print(a%b)\n",
    "\n",
    "#Find the quotient after dividing first value with second value\n",
    "print(a*b)\n",
    "\n",
    "#Find the result of first value to the power of second value.\n",
    "print(b**a)\n"
   ]
  },
  {
   "cell_type": "code",
   "execution_count": 19,
   "id": "c0394dca",
   "metadata": {},
   "outputs": [
    {
     "name": "stdout",
     "output_type": "stream",
     "text": [
      "False\n",
      "False\n",
      "True\n",
      "True\n",
      "<class 'bool'> <class 'bool'>\n"
     ]
    }
   ],
   "source": [
    "\"\"\"\n",
    "Comparison Operators on boolean values\n",
    "Take two different boolean values.\n",
    "Store them in two different variables.\n",
    "\n",
    "\"\"\"\n",
    "\n",
    "a1 = True\n",
    "a2 = True\n",
    "\n",
    "#Do below operations on them:-\n",
    "#Compare these two values with below operator:-\n",
    "\n",
    "#Greater than, '>'\n",
    "print(a1 > a2)\n",
    "#less than, '<'\n",
    "print(a1 < a2)\n",
    "\n",
    "#Greater than or equal to, '>='\n",
    "print(a1 >= a2)\n",
    "\n",
    "#Less than or equal to, '<='\n",
    "print(a1 <= a2)\n",
    "\n",
    "#Observe their output(return type should be boolean)\n",
    "print(type(a1), type(a2))"
   ]
  },
  {
   "cell_type": "code",
   "execution_count": 21,
   "id": "e0e6ee7b",
   "metadata": {},
   "outputs": [
    {
     "name": "stdout",
     "output_type": "stream",
     "text": [
      "True False\n",
      "<class 'bool'>\n",
      "<class 'bool'>\n"
     ]
    }
   ],
   "source": [
    "\"\"\"\n",
    "Equality Operator\n",
    "Take two different boolean values.\n",
    "Store them in two different variables.\n",
    "Equate them using equality operators (==, !=)\n",
    "Observe the output(return type should be boolean)\n",
    "\"\"\"\n",
    "\n",
    "b1= True\n",
    "b2= True\n",
    "r1= b1== b2\n",
    "r2 = b1!= b2\n",
    "print(r1,r2)\n",
    "print(type(r1))\n",
    "print(type(r2))"
   ]
  },
  {
   "cell_type": "code",
   "execution_count": 22,
   "id": "371b4eb6",
   "metadata": {},
   "outputs": [
    {
     "name": "stdout",
     "output_type": "stream",
     "text": [
      "True\n",
      "False\n",
      "False\n",
      "False\n",
      "True\n",
      "True\n",
      "True\n",
      "False\n",
      "False\n",
      "True\n"
     ]
    }
   ],
   "source": [
    "\"\"\"\n",
    "Logical operators\n",
    "Observe the output of below code\n",
    "Cross check the output manually\n",
    "\"\"\"\n",
    "\n",
    "print(True and True)\n",
    "\n",
    "print(False and True)\n",
    "\n",
    "print(True and False)\n",
    "\n",
    "print(False and False)\n",
    "\n",
    "print(True or True)\n",
    "\n",
    "print(False or True)\n",
    "\n",
    "print(True or False)\n",
    "\n",
    "print(False or False)\n",
    "\n",
    "print(not True)\n",
    "\n",
    "print(not False)"
   ]
  },
  {
   "cell_type": "code",
   "execution_count": 32,
   "id": "7b08c6d3",
   "metadata": {},
   "outputs": [
    {
     "name": "stdout",
     "output_type": "stream",
     "text": [
      "True\n",
      "True\n",
      "True\n",
      "-2\n",
      "4\n",
      "0\n"
     ]
    }
   ],
   "source": [
    "\"\"\"\n",
    "Bitwise Operators\n",
    "Do below operations on the values provided below:-\n",
    "Bitwise and(&) --------------> True, True -------> Output is True\n",
    "Bitwise or(|) --------------> True, False -------> Output is True\n",
    "Bitwise(^) --------------> True, False -------> Output is True\n",
    "Bitwise negation(~) ---------> True -------> Output is -2\n",
    "Bitwise left shift ---------> True,2 -------> Output is 4\n",
    "Bitwise right shift ---------> True,2 -------> Output is 0\n",
    "Cross check the output manually\n",
    "\"\"\"\n",
    "\n",
    "print( True & True)\n",
    "print( True | False)\n",
    "print( True ^ False)\n",
    "print( ~True )\n",
    "print(True<<2)\n",
    "print(True>>2)"
   ]
  },
  {
   "cell_type": "code",
   "execution_count": 33,
   "id": "88d7bc19",
   "metadata": {},
   "outputs": [
    {
     "name": "stdout",
     "output_type": "stream",
     "text": [
      "True\n",
      "False\n",
      "True\n",
      "False\n"
     ]
    }
   ],
   "source": [
    "\"\"\"\n",
    "What is the output of expression inside the print statement. Cross\n",
    "check before running the program.\n",
    "a = True\n",
    "b = True\n",
    "\n",
    "print(a is b) #True or False?\n",
    "print(a is not b) #True or False?\n",
    "a = False\n",
    "b = False\n",
    "print(a is b) #True or False?\n",
    "print(a is not b) #True or False?\n",
    "\"\"\"\n",
    "a = True\n",
    "b = True\n",
    "print(a is b)\n",
    "print(a is not b) \n",
    "\n",
    "a = False\n",
    "b = False\n",
    "print(a is b)\n",
    "print(a is not b) "
   ]
  },
  {
   "cell_type": "code",
   "execution_count": 34,
   "id": "c44b5f85",
   "metadata": {},
   "outputs": [
    {
     "name": "stdout",
     "output_type": "stream",
     "text": [
      "True\n",
      "True\n",
      "True\n",
      "True\n",
      "True\n"
     ]
    }
   ],
   "source": [
    "\"\"\"\n",
    "Membership operation\n",
    "in, not in are two membership operators and it returns boolean value\n",
    "print(True in [10,10.20,10+20j,'Python', True])\n",
    "print(False in (10,10.20,10+20j,'Python', False))\n",
    "print(True in {1,2,3, True})\n",
    "print(True in {True:100, False:200, True:300})\n",
    "print(False in {True:100, False:200, True:300})\n",
    "\"\"\"\n",
    "\n",
    "print(True in [10,10.20,10+20j,'Python', True])\n",
    "print(False in (10,10.20,10+20j,'Python', False))\n",
    "print(True in {1,2,3, True})\n",
    "print(True in {True:100, False:200, True:300})\n",
    "print(False in {True:100, False:200, True:300})"
   ]
  },
  {
   "cell_type": "code",
   "execution_count": null,
   "id": "a7e90278",
   "metadata": {},
   "outputs": [],
   "source": []
  }
 ],
 "metadata": {
  "kernelspec": {
   "display_name": "Python 3 (ipykernel)",
   "language": "python",
   "name": "python3"
  },
  "language_info": {
   "codemirror_mode": {
    "name": "ipython",
    "version": 3
   },
   "file_extension": ".py",
   "mimetype": "text/x-python",
   "name": "python",
   "nbconvert_exporter": "python",
   "pygments_lexer": "ipython3",
   "version": "3.9.12"
  }
 },
 "nbformat": 4,
 "nbformat_minor": 5
}
