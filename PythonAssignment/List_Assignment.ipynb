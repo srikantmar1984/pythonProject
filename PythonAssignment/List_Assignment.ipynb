{
 "cells": [
  {
   "cell_type": "code",
   "execution_count": 3,
   "metadata": {
    "id": "gtlAv2oq9yzd"
   },
   "outputs": [
    {
     "name": "stdout",
     "output_type": "stream",
     "text": [
      "Output:  100\n"
     ]
    }
   ],
   "source": [
    "#Write a Python program to find the sum of all elements in a list using loop.\n",
    "#Input:- [10,20,30,40]\n",
    "#Output:- 100\n",
    "\n",
    "my_sum=0\n",
    "my_list = [10,20,30,40]\n",
    "for s in my_list:\n",
    "    my_sum += s\n",
    "    \n",
    "print('Output: ', my_sum)\n"
   ]
  },
  {
   "cell_type": "code",
   "execution_count": 6,
   "metadata": {
    "id": "gTbA8psa93Y_"
   },
   "outputs": [
    {
     "name": "stdout",
     "output_type": "stream",
     "text": [
      "Output:  240000\n"
     ]
    }
   ],
   "source": [
    "#Write a Python program to find the multiplication of all elements in a list using loop.\n",
    "#Input:- [10,20,30,40]\n",
    "#Output:- 240000\n",
    "\n",
    "\n",
    "my_mult=1\n",
    "my_list1 = [10,20,30,40]\n",
    "for k in my_list1:\n",
    "    my_mult *= k\n",
    "    \n",
    "print('Output: ', my_mult)"
   ]
  },
  {
   "cell_type": "code",
   "execution_count": 9,
   "metadata": {
    "id": "XBCrEtLN94Lj"
   },
   "outputs": [
    {
     "name": "stdout",
     "output_type": "stream",
     "text": [
      "Largest No:  2321\n"
     ]
    }
   ],
   "source": [
    "#Write a Python program to find the largest number from a list using loop.\n",
    "#Input:- [10,100,2321, 1,200,2]\n",
    "#Output:- 2321\n",
    "\n",
    "\n",
    "my_list2 = [10,100,2321, 1,200,2]\n",
    "large=my_list2[0]\n",
    "for k in my_list2:\n",
    "    if large <= k:\n",
    "       large = k\n",
    "    else:\n",
    "        pass\n",
    "  \n",
    "print('Largest No: ', large)\n"
   ]
  },
  {
   "cell_type": "code",
   "execution_count": 10,
   "metadata": {
    "id": "l3paUtbH94Vw"
   },
   "outputs": [
    {
     "name": "stdout",
     "output_type": "stream",
     "text": [
      "smallest No:  1\n"
     ]
    }
   ],
   "source": [
    "#Write a Python program to find the smallest number from a list using loop.\n",
    "#Input:- [10,100,2321, 1,200,2]\n",
    "#Output:- 1\n",
    "\n",
    "my_list2 = [10,100,2321, 1,200,2]\n",
    "small=my_list2[0]\n",
    "for k in my_list2:\n",
    "    if small >= k:\n",
    "       small = k\n",
    "    else:\n",
    "        pass\n",
    "  \n",
    "print('smallest No: ', small)\n"
   ]
  },
  {
   "cell_type": "code",
   "execution_count": 19,
   "metadata": {
    "id": "JTVgy5VD94cE"
   },
   "outputs": [
    {
     "name": "stdout",
     "output_type": "stream",
     "text": [
      "ab  do not have adequet length\n",
      "abc  is not a palindrom\n",
      "aba  is a palindrom\n",
      "xyz  is not a palindrom\n",
      "1991  is a palindrom\n"
     ]
    }
   ],
   "source": [
    "#Write a Python program to count the number of strings having length more than 2 and are palindrome in a list using loop.\n",
    "#Input:- ['ab', 'abc', 'aba', 'xyz', '1991']\n",
    "#Output:- 2\n",
    "\n",
    "mylist = ['ab', 'abc', 'aba', 'xyz', '1991']\n",
    "for l in mylist:\n",
    "    if len(l) <= 2:\n",
    "        print(l, ' do not have adequet length')\n",
    "    else:\n",
    "        ln = len(l)\n",
    "        pal= True\n",
    "        for k in range(0,(ln//2)):\n",
    "            if l[k] != l[ln -k -1]:\n",
    "                pal= False\n",
    "                break\n",
    "        if pal== True:\n",
    "            print(l, ' is a palindrom')\n",
    "        else:\n",
    "            print(l, ' is not a palindrom')\n",
    "\n"
   ]
  },
  {
   "cell_type": "code",
   "execution_count": 22,
   "metadata": {
    "id": "xs-ZGJbJ94gr"
   },
   "outputs": [
    {
     "name": "stdout",
     "output_type": "stream",
     "text": [
      "[1, 2, 9, 10, 65, 80, 100, 298, 483, 9213, 49876]\n"
     ]
    }
   ],
   "source": [
    "#Write a Python program to sort a list in ascending order using loop.\n",
    "#Input:- [100,10,1,298,65,483,49876,2,80,9,9213]\n",
    "#Output:- [1,2,9,10,65,80,100,298,483,9213,49876]\n",
    "\n",
    "def mySort(mylist,itr_req):\n",
    "    if itr_req == 0:\n",
    "        itr_req = 1\n",
    "        tmp =0\n",
    "        for j in range(0,len(mylist)-1):\n",
    "\n",
    "            if mylist[j] > mylist[j+1]:\n",
    "                tmp = mylist[j]\n",
    "                mylist[j] = mylist[j+1]\n",
    "                mylist[j+1] = tmp\n",
    "                itr_req = 0\n",
    "                \n",
    "        if itr_req == 0:\n",
    "            #print(mylist)\n",
    "            mySort(mylist,itr_req)\n",
    "        \n",
    "        else:\n",
    "            print(mylist)   \n",
    "\n",
    "my_list2 = [100,10,1,298,65,483,49876,2,80,9,9213]\n",
    "mySort(my_list2,0)\n",
    "\n"
   ]
  },
  {
   "cell_type": "code",
   "execution_count": 28,
   "metadata": {
    "id": "VhKQJizZ94kg"
   },
   "outputs": [
    {
     "name": "stdout",
     "output_type": "stream",
     "text": [
      "[(9, 1), (2, 3), (5, 4), (5, 5), (7, 6), (5, 9)]\n"
     ]
    }
   ],
   "source": [
    "#Write a Python program to get a sorted list in increasing order of last element in each tuple in a given list using loop.\n",
    "#Input:- [(5,4),(9,1),(2,3),(5,9),(7,6),(5,5)]\n",
    "#output:- [(9,1),(2,3),(5,4),(5,5),(7,6),(5,9)]\n",
    "\n",
    "def mySort2(mylist,itr_req):\n",
    "    if itr_req == 0:\n",
    "        itr_req = 1\n",
    "        tmp =0\n",
    "        for j in range(0,len(mylist)-1):\n",
    "#             var1 = list(mylist[j])\n",
    "#             var2 = list(mylist[j+1])\n",
    "            #print(var1[1] , var2[1])\n",
    "            if mylist[j][1] > mylist[j+1][1]:\n",
    "                tmp = mylist[j]\n",
    "                mylist[j]= mylist[j+1]\n",
    "                mylist[j+1] = tmp\n",
    "                itr_req = 0\n",
    "                \n",
    "        if itr_req == 0:\n",
    "            #print(mylist)\n",
    "            mySort2(mylist,itr_req)\n",
    "        \n",
    "        else:\n",
    "            print(mylist)   \n",
    "\n",
    "my_list2 = [(5,4),(9,1),(2,3),(5,9),(7,6),(5,5)]\n",
    "mySort2(my_list2,0)"
   ]
  },
  {
   "cell_type": "code",
   "execution_count": 29,
   "metadata": {
    "id": "YJrCLYp694n_"
   },
   "outputs": [
    {
     "name": "stdout",
     "output_type": "stream",
     "text": [
      "[10, 1, 11, 29, 876, 768, 92]\n"
     ]
    }
   ],
   "source": [
    "#Write a Python program to remove fuplicate element from a list using loop.\n",
    "#Input:- [10,1,11,1,29,876,768,10,11,1,92,29,876]\n",
    "#Output:- [10,1,11,29,876,768,92]\n",
    "\n",
    "mydlist = [10,1,11,1,29,876,768,10,11,1,92,29,876]\n",
    "myopt =[]\n",
    "for l in mydlist:\n",
    "    \n",
    "    if l not in myopt:\n",
    "        myopt.append(l)\n",
    "        \n",
    "print(myopt)\n",
    "    \n"
   ]
  },
  {
   "cell_type": "code",
   "execution_count": 30,
   "metadata": {
    "id": "koYe4YCu94rh"
   },
   "outputs": [
    {
     "name": "stdout",
     "output_type": "stream",
     "text": [
      "Empty\n",
      "Not Empty\n"
     ]
    }
   ],
   "source": [
    "#Write a Python program to check a list is empty or not?\n",
    "#Input:- []\n",
    "#Output:- List is empty\n",
    "myinp1 =[]\n",
    "if len(myinp1) == 0:\n",
    "    print('Empty')\n",
    "else:\n",
    "    print('Not Empty')\n",
    "#Input:- [10,20,30]\n",
    "#Output:- List is not empty\n",
    "myinp2 =[10,20,30]\n",
    "if len(myinp2) == 0:\n",
    "    print('Empty')\n",
    "else:\n",
    "    print('Not Empty')\n",
    "\n",
    "\n"
   ]
  },
  {
   "cell_type": "code",
   "execution_count": 35,
   "metadata": {
    "id": "CpBh31WO94yi"
   },
   "outputs": [
    {
     "name": "stdout",
     "output_type": "stream",
     "text": [
      "['much', 'wood', 'would', 'woodchuck', 'chuck', 'could']\n"
     ]
    }
   ],
   "source": [
    "#Write a Python program to find the list of words that are longer than or equal to 4 from a given string.\n",
    "#Input:- 'How much wood would a woodchuck chuck if a woodchuck could chuck wood'\n",
    "#Output:- ['much', 'wood', 'would', 'woodchuck', 'chuck', 'could']\n",
    "#Note:- Duplicate should be avoided.\n",
    "\n",
    "strInput = 'How much wood would a woodchuck chuck if a woodchuck could chuck wood'\n",
    "myinpList = strInput.split()\n",
    "myoutList = []\n",
    "for l in myinpList:\n",
    "    if len(l)>= 4 and l not in myoutList:\n",
    "        myoutList.append(l)\n",
    "print(myoutList)"
   ]
  },
  {
   "cell_type": "code",
   "execution_count": 33,
   "metadata": {
    "id": "mES1WANa94u5"
   },
   "outputs": [
    {
     "name": "stdout",
     "output_type": "stream",
     "text": [
      "[10, 10.2, (10+20j), 'Python', [10, 20], (10, 20)]\n"
     ]
    }
   ],
   "source": [
    "#Write a Python program to copy a list using loop.\n",
    "#inp_lst = [10,10.20,10+20j, 'Python', [10,20], (10,20)]\n",
    "#out_lst = [10,10.20,10+20j, 'Python', [10,20], (10,20)]\n",
    "\n",
    "myinpList = [10,10.20,10+20j, 'Python', [10,20], (10,20)]\n",
    "myoutList = []\n",
    "for l in myinpList:\n",
    "    myoutList.append(l)\n",
    "print(myoutList)\n"
   ]
  },
  {
   "cell_type": "code",
   "execution_count": 39,
   "metadata": {
    "id": "YVfj0fgZ9416"
   },
   "outputs": [
    {
     "name": "stdout",
     "output_type": "stream",
     "text": [
      "True\n"
     ]
    }
   ],
   "source": [
    "#Write a Python program which takes two list as input and returns True if they have at least 3 common elements.\n",
    "#inp_lst1 = [10,20,'Python', 10.20, 10+20j, [10,20,30], (10,20,30)]\n",
    "#inp_lst2 = [(10,20,30),1,20+3j,100.2, 10+20j, [10,20,30],'Python']\n",
    "#Output:- True\n",
    "cnt=0\n",
    "inp_lst1 = [10,20,'Python', 10.20, 10+20j, [10,20,30], (10,20,30)]\n",
    "inp_lst2 = [(10,20,30),1,20+3j,100.2, 10+20j, [10,20,30],'Python']\n",
    "for lst in inp_lst1:\n",
    "    if lst in inp_lst2:\n",
    "        cnt += 1\n",
    "        \n",
    "if cnt >=3:\n",
    "    print(True)\n",
    "else:\n",
    "    print(False)"
   ]
  },
  {
   "cell_type": "code",
   "execution_count": 60,
   "metadata": {
    "id": "7vwc3pjR945O"
   },
   "outputs": [
    {
     "name": "stdout",
     "output_type": "stream",
     "text": [
      "[[0, 0, 0, 0], [0, 1, 2, 3], [0, 2, 4, 6], [0, 3, 6, 9]]\n"
     ]
    }
   ],
   "source": [
    "#Write a Python program to create a 4X4 2D matrix with below elements using loop and list comprehension both.\n",
    "#Output:- [[0,0,0,0],[0,1,2,3],[0,2,4,6],[0,3,6,9]]\n",
    "input = [0,0,0,0,0,1,2,3,0,2,4,6,0,3,6,9]\n",
    "output = []\n",
    "\n",
    "for i in range(0,4):\n",
    "    \n",
    "    output.insert(i,input[i*4:i*4+4:1])\n",
    "    \n",
    "   \n",
    "print(output)"
   ]
  },
  {
   "cell_type": "code",
   "execution_count": 99,
   "metadata": {
    "id": "Pxafor84948b"
   },
   "outputs": [
    {
     "name": "stdout",
     "output_type": "stream",
     "text": [
      "[[[0, 0, 0, 0, 0, 0], [5, 0, 0, 0, 0, 0], [3, 0, 0, 0, 0, 0], [0, 0, 0, 0, 0, 0]], [[0, 0, 0, 0, 0, 0], [1, 1, 1, 1, 1, 1], [2, 2, 2, 2, 2, 2], [3, 3, 3, 3, 3, 3]], [[0, 0, 0, 0, 0, 0], [2, 2, 2, 2, 2, 2], [4, 4, 4, 4, 4, 4], [6, 6, 6, 6, 6, 6]]]\n"
     ]
    }
   ],
   "source": [
    "#Write a Python program to create a 3X4X6 3D matrix wiith below elements using loop\n",
    "#Output:- \n",
    "# [\n",
    "#     [[0,0,0,0,0,0],[0,0,0,0,0,0],[0,0,0,0,0,0],[0,0,0,0,0,0]],\n",
    "#     [[0,0,0,0,0,0],[1,1,1,1,1,1],[2,2,2,2,2,2],[3,3,3,3,3,3]],\n",
    "#     [[0,0,0,0,0,0],[2,2,2,2,2,2],[4,4,4,4,4,4],[6,6,6,6,6,6]]\n",
    "# ]\n",
    "from copy import deepcopy\n",
    "input = [0,0,0,0,0,0,5,0,0,0,0,0,3,0,0,0,0,0,0,0,0,0,0,0,0,0,0,0,0,0,1,1,1,1,1,1,2,2,2,2,2,2,3,3,3,3,3,3,0,0,0,0,0,0,2,2,2,2,2,2,4,4,4,4,4,4,6,6,6,6,6,6]\n",
    "Finaloutput = []\n",
    "output = []\n",
    "tmp =[]\n",
    "k=0\n",
    "for i in range(0,3):\n",
    "    \n",
    "    for j in range(0,4):\n",
    "        tmp.append(input[k:k+6:1])\n",
    "        \n",
    "        k+=6\n",
    "    \n",
    "    output =deepcopy(tmp)\n",
    "    tmp.clear()\n",
    "    Finaloutput.append(output)\n",
    "print(Finaloutput)\n"
   ]
  },
  {
   "cell_type": "code",
   "execution_count": 10,
   "metadata": {
    "id": "lYNv8gk794_p"
   },
   "outputs": [
    {
     "data": {
      "text/plain": [
       "[21, 87, 45, 33, 1]"
      ]
     },
     "execution_count": 10,
     "metadata": {},
     "output_type": "execute_result"
    }
   ],
   "source": [
    "#Write a Python program which takes a list of numbers as input and prints a new list after removing even numbers from it.\n",
    "#Input:- [10,21,22,98,87,45,33,1,2,100]\n",
    "#Output:- [21,87,45,33,1]\n",
    "\n",
    "# inputUser = [10,21,22,98,87,45,33,1,2,100]\n",
    "# for i in inputUser:\n",
    "#     print(i)\n",
    "#     if i%2 == 0:\n",
    "#        inputUser.remove(i)\n",
    "# print(inputUser)\n",
    "\n",
    "lst = [10,21,22,98,87,45,33,1,2,100]\n",
    "out_list = filter(lambda x: True if x%2 != 0 else False , lst)\n",
    "\n",
    "list(out_list)\n",
    "\n"
   ]
  },
  {
   "cell_type": "code",
   "execution_count": 100,
   "metadata": {
    "id": "3BaCb-rB95B7"
   },
   "outputs": [
    {
     "name": "stdout",
     "output_type": "stream",
     "text": [
      "['__add__', '__class__', '__class_getitem__', '__contains__', '__delattr__', '__delitem__', '__dir__', '__doc__', '__eq__', '__format__', '__ge__', '__getattribute__', '__getitem__', '__gt__', '__hash__', '__iadd__', '__imul__', '__init__', '__init_subclass__', '__iter__', '__le__', '__len__', '__lt__', '__mul__', '__ne__', '__new__', '__reduce__', '__reduce_ex__', '__repr__', '__reversed__', '__rmul__', '__setattr__', '__setitem__', '__sizeof__', '__str__', '__subclasshook__', 'append', 'clear', 'copy', 'count', 'extend', 'index', 'insert', 'pop', 'remove', 'reverse', 'sort']\n"
     ]
    }
   ],
   "source": [
    "print(dir(list))"
   ]
  },
  {
   "cell_type": "code",
   "execution_count": null,
   "metadata": {},
   "outputs": [],
   "source": []
  }
 ],
 "metadata": {
  "colab": {
   "name": "List_Assignment.ipynb",
   "provenance": []
  },
  "kernelspec": {
   "display_name": "Python 3 (ipykernel)",
   "language": "python",
   "name": "python3"
  },
  "language_info": {
   "codemirror_mode": {
    "name": "ipython",
    "version": 3
   },
   "file_extension": ".py",
   "mimetype": "text/x-python",
   "name": "python",
   "nbconvert_exporter": "python",
   "pygments_lexer": "ipython3",
   "version": "3.9.12"
  }
 },
 "nbformat": 4,
 "nbformat_minor": 1
}
