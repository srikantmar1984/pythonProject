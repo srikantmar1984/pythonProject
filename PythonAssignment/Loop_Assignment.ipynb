{
 "cells": [
  {
   "cell_type": "code",
   "execution_count": 8,
   "id": "31bff6c8",
   "metadata": {},
   "outputs": [
    {
     "name": "stdout",
     "output_type": "stream",
     "text": [
      "Enter any number between 0 to 9 = 1\n",
      "one\n"
     ]
    }
   ],
   "source": [
    "# W. A P. which takes one number from 0 to 9 from the user and prints\n",
    "# it in the word. And if the word is not from 0 to 9 then\n",
    "# it should print that number is outside of the range and program should\n",
    "# exit.\n",
    "# For exapmple:-\n",
    "# input = 1\n",
    "# output = one\n",
    "\n",
    "my_inp = eval(input('Enter any number between 0 to 9 = '))\n",
    "my_list = ['zero','one','two','three','four','five','six','seven','eight','nine']\n",
    "if (0 < my_inp and my_inp < 9):\n",
    "    print(my_list[my_inp])\n",
    "else:\n",
    "    print('number is outside of the range')\n"
   ]
  },
  {
   "cell_type": "code",
   "execution_count": 4,
   "id": "a12fed9e",
   "metadata": {},
   "outputs": [
    {
     "name": "stdout",
     "output_type": "stream",
     "text": [
      "To add enter 1 \n",
      "to subtract enter 2\n",
      "To multiply enter 3\n",
      "To divide enter 4\n",
      "To divide and find quotient enter 5\n",
      "To divide and find remainder enter 6\n",
      "To divide and find num1 to the power of num2 enter 7\n",
      "To Come out of the program enter 8\n",
      "****************************\n",
      "Enter operation code = 0\n",
      "Enter First number  = 4\n",
      "Enter Second number  = 5\n",
      "Enter operation code = 8\n",
      "Exit\n"
     ]
    }
   ],
   "source": [
    "#  W. A P. to implement calculator but the operation to be done and two\n",
    "# numbers will be taken as input from user:-\n",
    "# Operation console should show below:-\n",
    "#  Please select any one operation from below:-\n",
    "#  * To add enter 1\n",
    "#  * to subtract enter 2\n",
    "#  * To multiply enter 3\n",
    "#  * To divide enter 4\n",
    "#  * To divide and find quotient enter 5\n",
    "#  * To divide and find remainder enter 6\n",
    "#  * To divide and find num1 to the power of num2 enter 7\n",
    "#  * To Come out of the program enter 8\n",
    "    \n",
    "        \n",
    "print('''To add enter 1 \n",
    "to subtract enter 2\n",
    "To multiply enter 3\n",
    "To divide enter 4\n",
    "To divide and find quotient enter 5\n",
    "To divide and find remainder enter 6\n",
    "To divide and find num1 to the power of num2 enter 7\n",
    "To Come out of the program enter 8''')\n",
    "print ('****************************')\n",
    "my_inp1 =0\n",
    "my_inp2 =0\n",
    "myopt = 0\n",
    "while myopt <8:\n",
    "    if myopt == 1:\n",
    "        print( my_inp1+my_inp2)\n",
    "    elif myopt == 2:\n",
    "        print( my_inp1-my_inp2)\n",
    "    elif myopt == 3:\n",
    "        print( my_inp1*my_inp2)\n",
    "    elif myopt == 4:\n",
    "        print( my_inp1/my_inp2)\n",
    "    elif myopt == 5:\n",
    "        print( my_inp1//my_inp2)\n",
    "    elif myopt == 6:\n",
    "        print(my_inp1%my_inp2)\n",
    "    elif myopt == 7:\n",
    "        print(my_inp2**my_inp1)\n",
    "    else:\n",
    "        pass\n",
    "    myopt = eval(input('Enter operation code = '))\n",
    "    if myopt < 8:\n",
    "        my_inp1 = eval(input('Enter First number  = '))\n",
    "        my_inp2 = eval(input('Enter Second number  = '))\n",
    "    else:\n",
    "        print(\"Exit\")\n",
    "   \n"
   ]
  },
  {
   "cell_type": "code",
   "execution_count": 3,
   "id": "25b22579",
   "metadata": {},
   "outputs": [
    {
     "name": "stdout",
     "output_type": "stream",
     "text": [
      "Enter any year = 1971\n",
      "its not a Leap Year\n"
     ]
    }
   ],
   "source": [
    "#  W A P to check whether a year entered by user is an leap year or not?\n",
    "# Check with below input:-\n",
    "#  leap year:- 2012, 1968, 2004, 1200, 1600,2400\n",
    "#  Non-lear year:- 1971, 2006, 1700,1800,1900\n",
    "\n",
    "inp_year = eval(input('Enter any year = '))\n",
    "if inp_year%4 == 0:\n",
    "    print(\"its a Leap Year\")\n",
    "else:\n",
    "    print(\"its not a Leap Year\")"
   ]
  },
  {
   "cell_type": "code",
   "execution_count": 5,
   "id": "7204cfd1",
   "metadata": {},
   "outputs": [
    {
     "name": "stdout",
     "output_type": "stream",
     "text": [
      "Enter any number = 20\n",
      "its a even number\n"
     ]
    }
   ],
   "source": [
    "# W A P which takes one number from the user and checks whether it is\n",
    "# an even or odd number?, If it even then prints number is\n",
    "# even number else prints that number is odd number.\n",
    "\n",
    "inp_number = eval(input('Enter any number = '))\n",
    "if inp_number%2 == 0:\n",
    "    print(\"its a even number\")\n",
    "else:\n",
    "    print(\"its a odd number\")\n"
   ]
  },
  {
   "cell_type": "code",
   "execution_count": 16,
   "id": "14490e1c",
   "metadata": {},
   "outputs": [
    {
     "name": "stdout",
     "output_type": "stream",
     "text": [
      "Enter First number  = 34\n",
      "Enter Second number  = 43\n",
      "34 is smaller than 43\n",
      "*** Using Ternary opertor *****\n",
      "34 is smaller than 43\n"
     ]
    }
   ],
   "source": [
    "# W A P which takes two numbers from the user and prints below output:-\n",
    "#  1. num1 is greater than num2 if num1 is greater than num2\n",
    "#  2. num1 is smaller than num2 if num1 is smaller than num2\n",
    "#  3. num1 is equal to num2 if num1 and num2 are equal\n",
    "\n",
    "my_inp1 = eval(input('Enter First number  = '))\n",
    "my_inp2 = eval(input('Enter Second number  = '))\n",
    "\n",
    "if my_inp1>my_inp2:\n",
    "    print(f'{my_inp1} is greater than {my_inp2}')\n",
    "elif my_inp1<my_inp2:\n",
    "    print(f'{my_inp1} is smaller than {my_inp2}')\n",
    "else:\n",
    "    print(f'{my_inp1} is equal to {my_inp2}')\n",
    "    \n",
    "print(\"*** Using Ternary opertor *****\")\n",
    "print(f'{my_inp1} is greater than {my_inp2}' if my_inp1>my_inp2  else f'{my_inp1} is smaller than {my_inp2}' if my_inp1<my_inp2  else f'{my_inp1} is equal to {my_inp2}')\n",
    "\n",
    "\n"
   ]
  },
  {
   "cell_type": "code",
   "execution_count": 20,
   "id": "57d1dfca",
   "metadata": {},
   "outputs": [
    {
     "name": "stdout",
     "output_type": "stream",
     "text": [
      "Enter First number  = 90\n",
      "Enter Second number  = 90\n",
      "Enter Third number  = 90\n",
      "90 is equal to 90 and 90\n",
      "*** Using Ternary opertor *****\n",
      "90 is equal to 90 and 90\n"
     ]
    }
   ],
   "source": [
    "#  W A P which takes three numbers from the user and prints below\n",
    "# output:-\n",
    "#  1. num1 is greater than num2 and num3 if num1 is greater than num2\n",
    "# and num3\n",
    "#  2. num2 is greater than num1 and num3 if num2 is greater than num1\n",
    "# and num3\n",
    "#  3. num3 is greater than num1 and num2 if num3 is greater than num1\n",
    "# and num2\n",
    "\n",
    "num1 = eval(input('Enter First number  = '))\n",
    "num2 = eval(input('Enter Second number  = '))\n",
    "num3 = eval(input('Enter Third number  = '))\n",
    "\n",
    "if num1> num2 and num1>num3 :\n",
    "    print(f'{num1} is greater than {num2} and {num3} ')\n",
    "elif num2> num1 and num2>num3:\n",
    "    print(f'{num2} is greater than {num1} and {num3}')\n",
    "elif num3> num2 and num3>num1:\n",
    "    print(f'{num3} is greater than {num1} and {num2}')\n",
    "else:\n",
    "    print(f'{num1} is equal to {num2} and {num3}')\n",
    "    \n",
    "print(\"*** Using Ternary opertor *****\")\n",
    "print(f'{num1} is greater than {num2} and {num3}' if num1>num2 and num1>num3  else f'{num2} is greater than {num1} and {num3}' if num2>num3 and num2>num1 else f'{num3} is greater than {num1} and {num2}' if num3>num2 and num3>num1  else f'{num1} is equal to {num2} and {num3}')\n"
   ]
  },
  {
   "cell_type": "code",
   "execution_count": 33,
   "id": "b0e359a1",
   "metadata": {},
   "outputs": [
    {
     "name": "stdout",
     "output_type": "stream",
     "text": [
      "55\n"
     ]
    }
   ],
   "source": [
    "# Write a Python program to find the length of the my_str using loop:-\n",
    "# Input:- 'Write a Python program to find the length of the my_str'\n",
    "# Output:- 55\n",
    "my_str = 'Write a Python program to find the length of the my_str'\n",
    "cnt =0\n",
    "\n",
    "for i in my_str:\n",
    "    cnt+=1\n",
    "    \n",
    "print(cnt)"
   ]
  },
  {
   "cell_type": "code",
   "execution_count": 37,
   "id": "a4a4b92c",
   "metadata": {},
   "outputs": [
    {
     "name": "stdout",
     "output_type": "stream",
     "text": [
      "9\n"
     ]
    }
   ],
   "source": [
    "# Write a Python program to find the total number of times letter 'p'\n",
    "# is appeared in the below string using loop:-\n",
    "# Input:- 'peter piper picked a peck of pickled peppers.\\n'\n",
    "# Output:- 9\n",
    "\n",
    "input = 'peter piper picked a peck of pickled peppers.\\n'\n",
    "cnt =0\n",
    "for i in input:\n",
    "    if i == 'p':\n",
    "        cnt+=1\n",
    "print(cnt)"
   ]
  },
  {
   "cell_type": "code",
   "execution_count": 38,
   "id": "a1d906b3",
   "metadata": {},
   "outputs": [
    {
     "name": "stdout",
     "output_type": "stream",
     "text": [
      "0\n",
      "6\n",
      "8\n",
      "12\n",
      "21\n",
      "29\n",
      "37\n",
      "39\n",
      "40\n"
     ]
    }
   ],
   "source": [
    "# Write a Python Program, to print all the indexes of all occurences of\n",
    "# letter 'p' appeared in the string using loop:-\n",
    "# Input:- 'peter piper picked a peck of pickled peppers.'\n",
    "# Output:-\n",
    "# 0\n",
    "# 6\n",
    "# 8\n",
    "# 12\n",
    "# 21\n",
    "# 29\n",
    "# 37\n",
    "# 39\n",
    "# 40\n",
    "\n",
    "input = 'peter piper picked a peck of pickled peppers.'\n",
    "cnt =0\n",
    "for i in input:\n",
    "    if i == 'p':\n",
    "        print(cnt)\n",
    "    cnt+=1\n",
    "    "
   ]
  },
  {
   "cell_type": "code",
   "execution_count": 41,
   "id": "eb0b3b03",
   "metadata": {},
   "outputs": [
    {
     "data": {
      "text/plain": [
       "['peter', 'piper', 'picked', 'a', 'peck', 'of', 'pickled', 'peppers.']"
      ]
     },
     "execution_count": 41,
     "metadata": {},
     "output_type": "execute_result"
    }
   ],
   "source": [
    "# Write a python program to find below output using loop:-\n",
    "# Input:- 'peter piper picked a peck of pickled peppers.'\n",
    "# Output:- ['peter', 'piper', 'picked', 'a', 'peck', 'of', 'pickled',\n",
    "# 'peppers']\n",
    "\n",
    "input = 'peter piper picked a peck of pickled peppers.'\n",
    "lst =input.split()\n",
    "lst"
   ]
  },
  {
   "cell_type": "code",
   "execution_count": 44,
   "id": "dc89a19c",
   "metadata": {},
   "outputs": [
    {
     "name": "stdout",
     "output_type": "stream",
     "text": [
      "peppers. pickled of peck a picked piper peter \n"
     ]
    }
   ],
   "source": [
    "# . Write a python program to find below output using loop:-\n",
    "# Input:- 'peter piper picked a peck of pickled peppers.'\n",
    "# Output:- 'peppers pickled of peck a picked piper peter'\n",
    "\n",
    "input = 'peter piper picked a peck of pickled peppers.'\n",
    "lst =input.split()\n",
    "output=\"\"\n",
    "for i in lst[::-1]:\n",
    "    output += i+' '\n",
    "\n",
    "print(output)"
   ]
  },
  {
   "cell_type": "code",
   "execution_count": 45,
   "id": "4499a500",
   "metadata": {},
   "outputs": [
    {
     "name": "stdout",
     "output_type": "stream",
     "text": [
      ".sreppep delkcip fo kcep a dekcip repip retep\n"
     ]
    }
   ],
   "source": [
    "# Write a python program to find below output using loop:-\n",
    "# Input:- 'peter piper picked a peck of pickled peppers.'\n",
    "# Output:- '.sreppep delkcip fo kcep a dekcip repip retep'\n",
    "\n",
    "input = 'peter piper picked a peck of pickled peppers.'\n",
    "print(input[::-1])"
   ]
  },
  {
   "cell_type": "code",
   "execution_count": 46,
   "id": "bd1e1819",
   "metadata": {},
   "outputs": [
    {
     "name": "stdout",
     "output_type": "stream",
     "text": [
      ".sreppep delkcip fo kcep a dekcip repip retep \n"
     ]
    }
   ],
   "source": [
    "# Write a python program to find below output using loop:-\n",
    "# Input:- 'peter piper picked a peck of pickled peppers.'\n",
    "# Output:- 'retep repip dekcip a kcep fo delkcip sreppep'\n",
    "\n",
    "input = 'peter piper picked a peck of pickled peppers.'\n",
    "lst =input.split()\n",
    "output=\"\"\n",
    "for i in lst[::-1]:\n",
    "    output += i[::-1]+' '\n",
    "print(output)"
   ]
  },
  {
   "cell_type": "code",
   "execution_count": 50,
   "id": "9453ace3",
   "metadata": {},
   "outputs": [
    {
     "name": "stdout",
     "output_type": "stream",
     "text": [
      "Peter Piper Picked A Peck Of Pickled Peppers. \n"
     ]
    }
   ],
   "source": [
    "#  Write a python program to find below output using loop:-\n",
    "# Input:- 'peter piper picked a peck of pickled peppers.'\n",
    "# Output:- 'Peter Piper Picked A Peck Of Pickled Peppers'\n",
    "\n",
    "input = 'peter piper picked a peck of pickled peppers.'\n",
    "lst =input.split()\n",
    "output=\"\"\n",
    "for i in lst[::1]:\n",
    "    output += i.title()+' '\n",
    "print(output)\n"
   ]
  },
  {
   "cell_type": "code",
   "execution_count": 52,
   "id": "af32975e",
   "metadata": {},
   "outputs": [
    {
     "name": "stdout",
     "output_type": "stream",
     "text": [
      "Peter piper picked a peck of pickled peppers.\n"
     ]
    }
   ],
   "source": [
    "# Write a python program to find below output using loop:-\n",
    "# Input:- 'Peter Piper Picked A Peck Of Pickled Peppers.'\n",
    "# Output:- 'Peter piper picked a peck of pickled peppers'\n",
    "\n",
    "input = 'peter piper picked a peck of pickled peppers.'\n",
    "lst =input.split()\n",
    "output=lst[0].title()\n",
    "for i in lst[1::1]:\n",
    "    output += ' '+i.lower()\n",
    "print(output)"
   ]
  },
  {
   "cell_type": "code",
   "execution_count": 7,
   "id": "0dd98ad7",
   "metadata": {},
   "outputs": [
    {
     "name": "stdout",
     "output_type": "stream",
     "text": [
      "29\n"
     ]
    }
   ],
   "source": [
    "# Write a python program to implement index method using loop. If\n",
    "# sub_str is found in my_str then it will print the index\n",
    "# of first occurrence of first character of matching string in my_str:-\n",
    "# Input:- my_str = 'Peter Piper Picked A Peck Of Pickled Peppers.',\n",
    "# sub_str = 'Pickl'\n",
    "# Output:- 29\n",
    "\n",
    "my_str = 'peter piper picked a peck of pickled peppers.'\n",
    "sub_str = 'pickl'\n",
    "my_lst = my_str.split()\n",
    "pos=1\n",
    "indx=0\n",
    "for i in my_lst:\n",
    "    if i.startswith(sub_str)== True:\n",
    "       print(indx)\n",
    "    indx += len(i)+1  \n",
    "    pos+=1\n",
    "\n"
   ]
  },
  {
   "cell_type": "code",
   "execution_count": 13,
   "id": "375c21e9",
   "metadata": {},
   "outputs": [
    {
     "name": "stdout",
     "output_type": "stream",
     "text": [
      "Peter Piper Picked A Pack Of Pickled Peppers. \n"
     ]
    }
   ],
   "source": [
    "#  Write a python program to implement replace method using loop. If\n",
    "# sub_str is found in my_str then it will replace the first\n",
    "# occurrence of sub_str with new_str else it will will print sub_str not\n",
    "# found:-\n",
    "# Input:- my_str = 'Peter Piper Picked A Peck Of Pickled Peppers.',\n",
    "# sub_str = 'Peck', new_str = 'Pack'\n",
    "# Output:- 'Peter Piper Picked A Pack Of Pickled Peppers.'\n",
    "\n",
    "my_str = 'Peter Piper Picked A Peck Of Pickled Peppers.'\n",
    "sub_str = 'Peck'\n",
    "new_str = 'Pack'\n",
    "my_lst = my_str.split(' ')\n",
    "output=''\n",
    "for i in my_lst:\n",
    "    if i == sub_str:\n",
    "        output += new_str\n",
    "    else:\n",
    "        output += i\n",
    "    output += ' '\n",
    "print(output)"
   ]
  },
  {
   "cell_type": "code",
   "execution_count": 19,
   "id": "50b44fea",
   "metadata": {},
   "outputs": [
    {
     "name": "stdout",
     "output_type": "stream",
     "text": [
      "********************Peck*********************\n"
     ]
    }
   ],
   "source": [
    "# Write a python program to find below output (implements rjust and\n",
    "# ljust) using loop:-\n",
    "# Input:- 'Peter Piper Picked A Peck Of Pickled Peppers.', sub_str =\n",
    "# 'Peck',\n",
    "# Output:- '*********************Peck********************'\n",
    "\n",
    "my_str ='Peter Piper Picked A Peck Of Pickled Peppers.'\n",
    "sub_str = 'Peck'\n",
    "\n",
    "print((sub_str.rjust(len(my_str) - my_str.index(sub_str),'*')).ljust(len(my_str),'*'))"
   ]
  },
  {
   "cell_type": "code",
   "execution_count": 26,
   "id": "72837cbd",
   "metadata": {},
   "outputs": [
    {
     "data": {
      "text/plain": [
       "['This', 'is', 'Python class']"
      ]
     },
     "execution_count": 26,
     "metadata": {},
     "output_type": "execute_result"
    }
   ],
   "source": [
    "# Write a python program to find below output using loop:-\n",
    "# Input:- 'This is Python class', sep = ' is',\n",
    "# Output:- ['This', 'is', 'Python class']\n",
    "\n",
    "my_str ='This is Python class'\n",
    "sep = 'is'\n",
    "\n",
    "lst = my_str.split(' '+sep+' ')\n",
    "lst.insert(1,sep)\n",
    "lst"
   ]
  },
  {
   "cell_type": "code",
   "execution_count": null,
   "id": "155c60b7",
   "metadata": {},
   "outputs": [],
   "source": []
  }
 ],
 "metadata": {
  "kernelspec": {
   "display_name": "Python 3 (ipykernel)",
   "language": "python",
   "name": "python3"
  },
  "language_info": {
   "codemirror_mode": {
    "name": "ipython",
    "version": 3
   },
   "file_extension": ".py",
   "mimetype": "text/x-python",
   "name": "python",
   "nbconvert_exporter": "python",
   "pygments_lexer": "ipython3",
   "version": "3.9.12"
  }
 },
 "nbformat": 4,
 "nbformat_minor": 5
}
